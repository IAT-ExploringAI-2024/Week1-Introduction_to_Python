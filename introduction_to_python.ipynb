{
  "cells": [
    {
      "cell_type": "markdown",
      "metadata": {
        "id": "view-in-github",
        "colab_type": "text"
      },
      "source": [
        "<a href=\"https://colab.research.google.com/github/2EZ4RTZzz/Week1-Introduction_to_Python/blob/yuyaowang/introduction_to_python.ipynb\" target=\"_parent\"><img src=\"https://colab.research.google.com/assets/colab-badge.svg\" alt=\"Open In Colab\"/></a>"
      ]
    },
    {
      "cell_type": "markdown",
      "metadata": {
        "id": "3RLWbzicyOkq"
      },
      "source": [
        "# PYTHON INTRODUCTION"
      ]
    },
    {
      "cell_type": "markdown",
      "metadata": {
        "id": "KW4zlFXUyOku"
      },
      "source": [
        "#                                                      Table Of Content\n",
        "1.introdution\n",
        "\n",
        "     1.1 What is Python\n",
        "     \n",
        "2.Data types\n",
        "\n",
        "     2.1 variables\n",
        "     2.2 Numbers\n",
        "     2.3 Strings\n",
        "     2.4 Lists\n",
        "     2.5 Dictionaries\n",
        "     2.6 Tuples\n",
        "     2.7 Sets\n",
        "   \n",
        "3.Comparison operators\n",
        "\n",
        "4.If-Else statement\n",
        "\n",
        "5.For Loop and While loop\n",
        "\n",
        "6.Functions\n",
        "\n",
        "7.Lambda functions\n",
        "\n",
        "     7.1 Map()\n",
        "     7.2 Filter()\n",
        "   \n",
        "8.File I/O\n",
        "\n",
        "9.Pandas liberary introduction\n",
        "\n",
        "10.Series\n",
        "\n",
        "     10.1 From ndarray\n",
        "     10.2 From dict\n",
        "     10.3 From scalar value\n",
        "     10.4 Series is ndarray-like\n",
        "     10.5 Series is dict-like\n",
        "     10.6 Vectorized operations and label alignment with series\n",
        "   \n",
        "11.Data frames\n",
        "\n",
        "     11.1 From dict of series or dicts\n",
        "     11.2 from dict of ndarrays/lists\n",
        "     11.3 from a list of dicts\n",
        "     11.4 from a list of tuples\n",
        "     11.5 Alternate constructors\n",
        "     11.6 Column selection, addition, deletion\n",
        "     11.7 Indexing/ selection\n",
        "     11.8 Data alignment\n",
        "     11.9 transposing"
      ]
    },
    {
      "cell_type": "markdown",
      "metadata": {
        "id": "_s8vd6dxyOkw"
      },
      "source": [
        "# 1. Introduction\n"
      ]
    },
    {
      "cell_type": "markdown",
      "metadata": {
        "id": "v2VMxdlcyOkw"
      },
      "source": [
        "## 1.1 What is python"
      ]
    },
    {
      "cell_type": "markdown",
      "metadata": {
        "id": "8Exauf5MyOkx"
      },
      "source": [
        "Guido Van Rossum developed the Python language in the late 1980s. In contrast to other popular languages such as C, C++, Java, and C#, Python strives to provide a simple but powerful syntax.It is open source general purpose language with great interactive environment.It provides all the three types of programming features Object Oriented, Procedural and Functional.It is used by many of the most highly productive professional programmers.Moreover, Python can also become a common language for production of web based analytics product. A few of the places that use Python extensively are Google, the New York Stock Exchange, Industrial Light,Magic etc.\n",
        "#### Important features of Python:\n",
        " -  Built-in high level data types: strings, lists, dictionaries, etc.\n",
        " -  The usual control structures: if, if-else, if-elif-else, while, plus a powerful collection iterator (for).\n",
        " -  Multiple levels of organizational structure: functions, classes, modules, and  packages. These assist in organizing code. An excellent and large example is the Python standard library.\n",
        " - Compile on the fly to byte code -- Source code is compiled to byte code without a separate compile step. Source code modules can also be \"pre-compiled\" to byte code files.\n",
        " - Object-oriented -- Python provides a consistent way to use objects: everything is an object. And, in Python it is easy to implement new object types (called classes in object-oriented programming).\n",
        " - Extensions in C and C++ -- Extension modules and extension types can be written by hand. There are also tools that help with this, for example, SWIG, sip, Pyrex"
      ]
    },
    {
      "cell_type": "markdown",
      "metadata": {
        "id": "NaPiQDs3yOky"
      },
      "source": [
        "# 2. Data types"
      ]
    },
    {
      "cell_type": "markdown",
      "metadata": {
        "id": "5-uDSw6jyOky"
      },
      "source": [
        "There are various data types in Python. Some of the important types are listed below."
      ]
    },
    {
      "cell_type": "markdown",
      "metadata": {
        "id": "2sUB9HS2yOky"
      },
      "source": [
        "## 2.1 Variables"
      ]
    },
    {
      "cell_type": "markdown",
      "metadata": {
        "id": "8F8pyh4XyOkz"
      },
      "source": [
        " - Python variables do not need explicit declaration to reserve memory space.\n",
        " - The declaration happens automatically when you assign a value to a variable.\n",
        " - The equal sign = is used to assign values to variables.\n",
        "  \n",
        "  Some examples are given as follows:"
      ]
    },
    {
      "cell_type": "code",
      "execution_count": null,
      "metadata": {
        "id": "E8eBm4tQyOkz",
        "outputId": "add6bfb5-777f-4d5b-e1fe-2cf73d1d4bf3",
        "colab": {
          "base_uri": "https://localhost:8080/"
        }
      },
      "outputs": [
        {
          "output_type": "stream",
          "name": "stdout",
          "text": [
            "200.5555\n",
            "120\n",
            "rtz\n"
          ]
        }
      ],
      "source": [
        "area = 200.55550  #float type variable\n",
        "Distance = 120 #integer type variabe\n",
        "name = 'rtz' #string type variable\n",
        "\n",
        "#print all values\n",
        "print (area)\n",
        "print(Distance)\n",
        "print(name)"
      ]
    },
    {
      "cell_type": "markdown",
      "metadata": {
        "id": "zpsVx_N_yOk2"
      },
      "source": [
        "## 2.2 Numbers"
      ]
    },
    {
      "cell_type": "markdown",
      "metadata": {
        "id": "dZuFsFyVyOk2"
      },
      "source": [
        " - This data type store numeric values\n",
        " - Numbers are immutable data types (Immutable data types means values cannot be changed after it is created)\n",
        "\n",
        "  Some examples are given as follows:"
      ]
    },
    {
      "cell_type": "code",
      "execution_count": null,
      "metadata": {
        "id": "wWSaGwfzyOk2",
        "outputId": "90ae5138-4029-4b13-fc7d-ab0e7ee0e6d6"
      },
      "outputs": [
        {
          "data": {
            "text/plain": [
              "5"
            ]
          },
          "execution_count": 6,
          "metadata": {},
          "output_type": "execute_result"
        }
      ],
      "source": [
        "5 #integer"
      ]
    },
    {
      "cell_type": "code",
      "execution_count": null,
      "metadata": {
        "id": "f_JTKqeFyOk2",
        "outputId": "5397f535-54b3-4cc8-80a3-1113fb981025"
      },
      "outputs": [
        {
          "data": {
            "text/plain": [
              "20"
            ]
          },
          "execution_count": 7,
          "metadata": {},
          "output_type": "execute_result"
        }
      ],
      "source": [
        "10+10 #integer"
      ]
    },
    {
      "cell_type": "code",
      "execution_count": null,
      "metadata": {
        "id": "8bx_9PUsyOk2",
        "outputId": "6e773513-f214-40f0-9b4a-c002727a9bdf"
      },
      "outputs": [
        {
          "data": {
            "text/plain": [
              "11.0"
            ]
          },
          "execution_count": 8,
          "metadata": {},
          "output_type": "execute_result"
        }
      ],
      "source": [
        "5.5+5.5 #float"
      ]
    },
    {
      "cell_type": "code",
      "execution_count": null,
      "metadata": {
        "id": "A2LEGhsVyOk3",
        "outputId": "0fe9f68b-83a1-476d-c315-1f22aa17466d",
        "colab": {
          "base_uri": "https://localhost:8080/"
        }
      },
      "outputs": [
        {
          "output_type": "execute_result",
          "data": {
            "text/plain": [
              "625"
            ]
          },
          "metadata": {},
          "execution_count": 1
        }
      ],
      "source": [
        "5**4 #exponent"
      ]
    },
    {
      "cell_type": "markdown",
      "metadata": {
        "id": "6v9gnHCcyOk3"
      },
      "source": [
        "## 2.3 Strings"
      ]
    },
    {
      "cell_type": "markdown",
      "metadata": {
        "id": "vGl89d8HyOk3"
      },
      "source": [
        " - Strings in Python are identified as a contiguous set of characters represented in the quotation marks.\n",
        " - Python allows either pair of single or double quotes.\n",
        " - Strings are immutable.\n",
        " - Python doesn't support Char data type.It will beas string of length one in python."
      ]
    },
    {
      "cell_type": "code",
      "execution_count": null,
      "metadata": {
        "id": "8wLxfAHfyOk3",
        "outputId": "62a1abfa-3558-42dd-86e5-0a195e9d3a6d",
        "colab": {
          "base_uri": "https://localhost:8080/"
        }
      },
      "outputs": [
        {
          "output_type": "stream",
          "name": "stdout",
          "text": [
            "rtz IAT481\n"
          ]
        }
      ],
      "source": [
        "Course=\"IAT481\"\n",
        "name='rtz'\n",
        "print(name, Course)"
      ]
    },
    {
      "cell_type": "markdown",
      "metadata": {
        "id": "eqef1cE5yOk5"
      },
      "source": [
        "### Access values in strings"
      ]
    },
    {
      "cell_type": "markdown",
      "metadata": {
        "id": "32M-NFv5yOk5"
      },
      "source": [
        " - we can access a specific character or range of characters from strings.\n",
        " - Subsets of strings can be taken using the slice operator [] and [:] with indexes starting from 0.\n",
        "\n",
        " Some examples are listed below:"
      ]
    },
    {
      "cell_type": "code",
      "execution_count": null,
      "metadata": {
        "scrolled": true,
        "id": "Dj9IGB6FyOk5",
        "outputId": "b239fbb1-7436-44ff-a5fe-869166fbb78d",
        "colab": {
          "base_uri": "https://localhost:8080/"
        }
      },
      "outputs": [
        {
          "output_type": "stream",
          "name": "stdout",
          "text": [
            "stringVariable[0]: H\n",
            "stringVariable[0:7]: Hello W\n"
          ]
        }
      ],
      "source": [
        "stringVariable = 'Hello World'\n",
        "\n",
        "print(\"stringVariable[0]:\", stringVariable[0])\n",
        "print(\"stringVariable[0:7]:\", stringVariable[0:7])"
      ]
    },
    {
      "cell_type": "markdown",
      "metadata": {
        "id": "kY4lddAsyOk8"
      },
      "source": [
        "### Updating string"
      ]
    },
    {
      "cell_type": "markdown",
      "metadata": {
        "id": "MiuqdFMdyOk8"
      },
      "source": [
        " - Value of string can be changed or updated by assigning a new value to it.\n",
        " - New value must have same data type as previous value.\n",
        " - For this purpose '+' operator is used as follows:"
      ]
    },
    {
      "cell_type": "code",
      "execution_count": null,
      "metadata": {
        "id": "iH-oj2WnyOk8",
        "outputId": "839745fa-706d-4ef2-b4f3-5711fdc11266",
        "colab": {
          "base_uri": "https://localhost:8080/"
        }
      },
      "outputs": [
        {
          "output_type": "stream",
          "name": "stdout",
          "text": [
            "updated string: Hello W Python\n"
          ]
        }
      ],
      "source": [
        "stringVariable =\"Hello World \"\n",
        "# :3  from h to l\n",
        "stringVariable = stringVariable[:7]+\" Python\"\n",
        "\n",
        "\n",
        "print (\"updated string:\",stringVariable)"
      ]
    },
    {
      "cell_type": "markdown",
      "metadata": {
        "id": "aCwtHYHJyOlK"
      },
      "source": [
        "### Delete string"
      ]
    },
    {
      "cell_type": "markdown",
      "metadata": {
        "id": "qsK---xLyOlK"
      },
      "source": [
        " - we can delete the value of string by just deleteing its object.\n",
        " - 'del' keyword is used for this purpose\n",
        "\n",
        "  It would be cleared by using following example:"
      ]
    },
    {
      "cell_type": "code",
      "execution_count": null,
      "metadata": {
        "id": "c-nfHs95yOlL",
        "colab": {
          "base_uri": "https://localhost:8080/",
          "height": 253
        },
        "outputId": "b07c3bf8-d9ed-4c01-e32c-7862ab64f41c"
      },
      "outputs": [
        {
          "output_type": "stream",
          "name": "stdout",
          "text": [
            "Hello World \n"
          ]
        },
        {
          "output_type": "error",
          "ename": "NameError",
          "evalue": "name 'stringVariable' is not defined",
          "traceback": [
            "\u001b[0;31m---------------------------------------------------------------------------\u001b[0m",
            "\u001b[0;31mNameError\u001b[0m                                 Traceback (most recent call last)",
            "\u001b[0;32m<ipython-input-3-ff0a0fe5cf6c>\u001b[0m in \u001b[0;36m<cell line: 4>\u001b[0;34m()\u001b[0m\n\u001b[1;32m      2\u001b[0m \u001b[0mprint\u001b[0m \u001b[0;34m(\u001b[0m\u001b[0mstringVariable\u001b[0m\u001b[0;34m)\u001b[0m\u001b[0;34m\u001b[0m\u001b[0;34m\u001b[0m\u001b[0m\n\u001b[1;32m      3\u001b[0m \u001b[0;32mdel\u001b[0m \u001b[0mstringVariable\u001b[0m\u001b[0;34m\u001b[0m\u001b[0;34m\u001b[0m\u001b[0m\n\u001b[0;32m----> 4\u001b[0;31m \u001b[0mprint\u001b[0m \u001b[0;34m(\u001b[0m\u001b[0mstringVariable\u001b[0m\u001b[0;34m)\u001b[0m\u001b[0;34m\u001b[0m\u001b[0;34m\u001b[0m\u001b[0m\n\u001b[0m\u001b[1;32m      5\u001b[0m \u001b[0;31m#cause this variable is deleted\u001b[0m\u001b[0;34m\u001b[0m\u001b[0;34m\u001b[0m\u001b[0m\n",
            "\u001b[0;31mNameError\u001b[0m: name 'stringVariable' is not defined"
          ]
        }
      ],
      "source": [
        "stringVariable =\"Hello World \"\n",
        "print (stringVariable)\n",
        "del stringVariable\n",
        "print (stringVariable)\n",
        "#cause this variable is deleted"
      ]
    },
    {
      "cell_type": "markdown",
      "metadata": {
        "id": "--zQSMqnyOlM"
      },
      "source": [
        "### String special operators"
      ]
    },
    {
      "cell_type": "markdown",
      "metadata": {
        "id": "JTw5LIEDyOlM"
      },
      "source": [
        " - some special operators are used in Python to perform different opertions.\n",
        "   These are given below:"
      ]
    },
    {
      "cell_type": "markdown",
      "metadata": {
        "id": "ZDWY9NWayOlM"
      },
      "source": [
        "#### String Concatenation"
      ]
    },
    {
      "cell_type": "markdown",
      "metadata": {
        "id": "HmXTQtg_yOlM"
      },
      "source": [
        " - To concatenate the strings we used '+' operator.\n",
        "\n",
        "    Following are the examples of concatenation:"
      ]
    },
    {
      "cell_type": "code",
      "execution_count": null,
      "metadata": {
        "id": "WAXp8WX0yOlM",
        "outputId": "adda123d-29f5-4c1a-bb96-74cce38e9c05",
        "colab": {
          "base_uri": "https://localhost:8080/"
        }
      },
      "outputs": [
        {
          "output_type": "stream",
          "name": "stdout",
          "text": [
            "machinelearningIAT481\n"
          ]
        }
      ],
      "source": [
        "stringvalue1=\"machine\"\n",
        "stringvalue2=\"learning\"\n",
        "a=\"IAT481\"\n",
        "print(stringvalue1+stringvalue2+a)"
      ]
    },
    {
      "cell_type": "markdown",
      "metadata": {
        "id": "AE6msJFZyOlN"
      },
      "source": [
        "#### Repitition"
      ]
    },
    {
      "cell_type": "markdown",
      "metadata": {
        "id": "rjLNa7_zyOlN"
      },
      "source": [
        " - '*' symbol is used for repitition.\n"
      ]
    },
    {
      "cell_type": "code",
      "execution_count": null,
      "metadata": {
        "id": "t_TsnG11yOlN",
        "outputId": "78e2be72-d2c6-43f7-a9fc-5ce12abdb472",
        "colab": {
          "base_uri": "https://localhost:8080/"
        }
      },
      "outputs": [
        {
          "output_type": "stream",
          "name": "stdout",
          "text": [
            "Assignment123Assignment123\n"
          ]
        }
      ],
      "source": [
        "stringvalue=\"Assignment123\"\n",
        "print(stringvalue*2)"
      ]
    },
    {
      "cell_type": "markdown",
      "metadata": {
        "id": "ed-Q8jjgyOlO"
      },
      "source": [
        "#### Use of [] symbol"
      ]
    },
    {
      "cell_type": "markdown",
      "metadata": {
        "id": "EEBLbGELyOlO"
      },
      "source": [
        " - '[]'symbol give the character of string at given index."
      ]
    },
    {
      "cell_type": "code",
      "execution_count": null,
      "metadata": {
        "id": "QBhDsT2DyOlO",
        "outputId": "a35f767b-9f06-483d-b32e-2e9a178ffc61",
        "colab": {
          "base_uri": "https://localhost:8080/"
        }
      },
      "outputs": [
        {
          "output_type": "stream",
          "name": "stdout",
          "text": [
            "Machine Learning print [1] letter\n",
            "a\n"
          ]
        }
      ],
      "source": [
        "Stringvalue=\"Machine Learning print [1] letter\"\n",
        "# 0 stead for M  , 1 stead of a\n",
        "print(Stringvalue)\n",
        "print(Stringvalue[1])"
      ]
    },
    {
      "cell_type": "markdown",
      "metadata": {
        "id": "bRaaJ78ryOlP"
      },
      "source": [
        "#### Use of [:] symbol"
      ]
    },
    {
      "cell_type": "markdown",
      "metadata": {
        "id": "6RSaZEKWyOlP"
      },
      "source": [
        " - [:] is used to get substring from string."
      ]
    },
    {
      "cell_type": "code",
      "execution_count": null,
      "metadata": {
        "id": "PizhfzMPyOlP",
        "colab": {
          "base_uri": "https://localhost:8080/"
        },
        "outputId": "8d7902df-b0df-4d55-8bb0-89a1f1fe0937"
      },
      "outputs": [
        {
          "output_type": "stream",
          "name": "stdout",
          "text": [
            "el\n"
          ]
        }
      ],
      "source": [
        "stringvalue=\"HelloRTZ\"\n",
        "print(stringvalue [1:3])"
      ]
    },
    {
      "cell_type": "markdown",
      "metadata": {
        "id": "ZCie1YcEyOlP"
      },
      "source": [
        "#### use of 'in'"
      ]
    },
    {
      "cell_type": "markdown",
      "metadata": {
        "id": "SRMzod_jyOlP"
      },
      "source": [
        " - 'in' is used to check the existance of character in string.\n",
        " - It returns TRUE if given character exist in string,otherwise FALSE."
      ]
    },
    {
      "cell_type": "code",
      "execution_count": null,
      "metadata": {
        "id": "KZNyAeykyOlP",
        "outputId": "05d68313-95a1-4732-d36e-be0437a385c0",
        "colab": {
          "base_uri": "https://localhost:8080/"
        }
      },
      "outputs": [
        {
          "output_type": "stream",
          "name": "stdout",
          "text": [
            "True\n",
            "what about X? the answer is:  False\n"
          ]
        }
      ],
      "source": [
        "Stringvalue=\"Hello\"\n",
        "print('H' in Stringvalue)\n",
        "print(\"what about X? the answer is: \" , 'X' in Stringvalue)"
      ]
    },
    {
      "cell_type": "markdown",
      "metadata": {
        "id": "HVyoI3btyOlQ"
      },
      "source": [
        "#### Use of \"not in\""
      ]
    },
    {
      "cell_type": "markdown",
      "metadata": {
        "id": "ie9L4KLsyOlQ"
      },
      "source": [
        " - 'not in' returns true if given character is not in string,otherwise false."
      ]
    },
    {
      "cell_type": "code",
      "execution_count": null,
      "metadata": {
        "id": "dWQS-Q2VyOlQ",
        "outputId": "2a20eb29-78aa-43c4-f54e-ab559b41ce4e",
        "colab": {
          "base_uri": "https://localhost:8080/"
        }
      },
      "outputs": [
        {
          "output_type": "stream",
          "name": "stdout",
          "text": [
            "True\n"
          ]
        }
      ],
      "source": [
        "Stringvalue=\"Hello\"\n",
        "print('G' not in Stringvalue)"
      ]
    },
    {
      "cell_type": "markdown",
      "metadata": {
        "id": "kFeZvcbuyOlR"
      },
      "source": [
        "### String formatting operator"
      ]
    },
    {
      "cell_type": "markdown",
      "metadata": {
        "id": "9qUmlcGGyOlR"
      },
      "source": [
        " - Python uses C-style string formatting to create new, formatted strings.\n",
        " - The \"%\" operator is used to format in print statement.\n",
        "\n",
        "See following examples:"
      ]
    },
    {
      "cell_type": "code",
      "execution_count": null,
      "metadata": {
        "id": "zJWusS3QyOlR",
        "outputId": "15abe240-1d75-4844-e119-65b72e41fdba",
        "colab": {
          "base_uri": "https://localhost:8080/"
        }
      },
      "outputs": [
        {
          "output_type": "stream",
          "name": "stdout",
          "text": [
            "My name is john and weight is 21 years old!\n"
          ]
        }
      ],
      "source": [
        "print(\"My name is %s and weight is %d years old!\" % (\"john\", 21))\n"
      ]
    },
    {
      "cell_type": "markdown",
      "metadata": {
        "id": "cUZC1emnyOlS"
      },
      "source": [
        "## 2.4 Lists"
      ]
    },
    {
      "cell_type": "markdown",
      "metadata": {
        "id": "td4qbX-wyOlS"
      },
      "source": [
        " - Multiple types of data can be stored in a list.\n",
        " - A list contains items separated by commas and enclosed within square brackets [].\n",
        " - Individual elements of a list can be changed\n",
        " - list indices start with 0 just like arrays.\n",
        "\n"
      ]
    },
    {
      "cell_type": "code",
      "execution_count": null,
      "metadata": {
        "id": "1aorf0TnyOlS",
        "outputId": "8e5eb2d9-8404-4aed-c8b6-5f4720e03e9f",
        "colab": {
          "base_uri": "https://localhost:8080/"
        }
      },
      "outputs": [
        {
          "output_type": "stream",
          "name": "stdout",
          "text": [
            "['RTZ', 2000]\n"
          ]
        }
      ],
      "source": [
        "list1 = [ 'RTZ', 2000 ]\n",
        "\n",
        "print (list1) # Prints complete list\n",
        "\n"
      ]
    },
    {
      "cell_type": "markdown",
      "metadata": {
        "id": "qg3VSu0-yOlT"
      },
      "source": [
        "### Accessing values in list"
      ]
    },
    {
      "cell_type": "markdown",
      "metadata": {
        "id": "ba1xEH-EyOlU"
      },
      "source": [
        " - Square brackets are used to access the values of a list\n",
        " - We can access specific values or range of values from a list"
      ]
    },
    {
      "cell_type": "code",
      "execution_count": null,
      "metadata": {
        "id": "ZqFEZAgMyOlU",
        "outputId": "34fda0fe-75ae-4ef8-9d7c-04af70f4f82d",
        "colab": {
          "base_uri": "https://localhost:8080/"
        }
      },
      "outputs": [
        {
          "output_type": "stream",
          "name": "stdout",
          "text": [
            "list1[3]:  1235\n",
            "list2[1:5]:  [2, 3, 4, 5]\n"
          ]
        }
      ],
      "source": [
        "list1 = [ 'Physics' , 'Chemistry' , 1857, 1235]\n",
        "list2 = [1,2,3,4,5,6,7]\n",
        "\n",
        "print(\"list1[3]: \", list1[3])\n",
        "print(\"list2[1:5]: \", list2[1:5])"
      ]
    },
    {
      "cell_type": "markdown",
      "metadata": {
        "id": "Lof40-tKyOlU"
      },
      "source": [
        "### Updating list"
      ]
    },
    {
      "cell_type": "markdown",
      "metadata": {
        "id": "tWr_3OKlyOlU"
      },
      "source": [
        " - Value of string can be changed or updated by assigning a new value to it.\n",
        " - we can update single or multiple elements of a list by giving slice on left hand of the assignment operator.\n",
        " - we can also update list by using append() function."
      ]
    },
    {
      "cell_type": "code",
      "execution_count": null,
      "metadata": {
        "id": "Mhd3MxO7yOlU",
        "colab": {
          "base_uri": "https://localhost:8080/"
        },
        "outputId": "91d86da8-c52f-4b8f-fec5-948fa48f8011"
      },
      "outputs": [
        {
          "output_type": "stream",
          "name": "stdout",
          "text": [
            "['dell', 'samsung', 'Apple']\n",
            "['dell', 'samsung', 'Apple', 'acer']\n"
          ]
        }
      ],
      "source": [
        "list1=[\"dell\",\"Hp\",\"Apple\"]\n",
        "list1[1]=\"samsung\"\n",
        "print(list1)\n",
        "\n",
        "list1.append('acer')\n",
        "print(list1)"
      ]
    },
    {
      "cell_type": "markdown",
      "metadata": {
        "id": "QnQXtbcvyOlV"
      },
      "source": [
        "### Delete List Element"
      ]
    },
    {
      "cell_type": "markdown",
      "metadata": {
        "id": "ljz5hJNsyOlV"
      },
      "source": [
        "- we can delete the element of list by using del keyword or remove()function.\n",
        "- 'del' keyword is used when you know the position or index of element to be deleted.\n",
        "- remove() function can be used when you don't know the postion of element to be removed.\n",
        "\n",
        "  It would be cleared by using following example:"
      ]
    },
    {
      "cell_type": "code",
      "execution_count": null,
      "metadata": {
        "id": "Ird_FwvGyOlV",
        "outputId": "6c9dbdb8-8033-4f07-cc1c-5a7cc3c6f572",
        "colab": {
          "base_uri": "https://localhost:8080/"
        }
      },
      "outputs": [
        {
          "output_type": "stream",
          "name": "stdout",
          "text": [
            "['dell', 'Hp', 'Apple']\n",
            "After deleting the value \n",
            "['dell', 'Apple']\n"
          ]
        }
      ],
      "source": [
        "list1=[\"dell\",\"Hp\",\"Apple\"]\n",
        "print (list1) # Prints complete list\n",
        "del list1[1]\n",
        "print(\"After deleting the value \")\n",
        "print (list1)"
      ]
    },
    {
      "cell_type": "code",
      "execution_count": null,
      "metadata": {
        "id": "r1XKQfqByOlW",
        "colab": {
          "base_uri": "https://localhost:8080/"
        },
        "outputId": "75206bd2-77cc-45fb-a713-968a850c71cb"
      },
      "outputs": [
        {
          "output_type": "stream",
          "name": "stdout",
          "text": [
            "['dell', 'Hp', 'Apple']\n",
            "After deleting the value \n",
            "['dell', 'Apple']\n",
            "deleted\n"
          ]
        }
      ],
      "source": [
        "list1=[\"dell\",\"Hp\",\"Apple\"]\n",
        "print (list1) # Prints complete list\n",
        "\n",
        "list1.remove('Hp')\n",
        "print(\"After deleting the value \")\n",
        "print (list1)\n",
        "print(\"deleted\")"
      ]
    },
    {
      "cell_type": "markdown",
      "metadata": {
        "id": "ieu1AEWuyOlW"
      },
      "source": [
        "## 2.5 Dictionaries"
      ]
    },
    {
      "cell_type": "markdown",
      "metadata": {
        "id": "ZIgIiR-LyOlW"
      },
      "source": [
        " - Dictionary is an unordered set of key: value pairs, with the requirement that the keys are unique (within one dictionary).\n",
        " - Each key is seperated by colon(:) from its value.\n",
        " - Each item is seperated with comma(,).\n",
        " - A pair of braces creates an empty dictionary: {}.\n",
        " - Python's dictionaries are kind of hash-table type.\n",
        " - A dictionary key can be almost any Python type, but are usually numbers or strings. Values, on the other hand, can be any       arbitrary Python object.\n",
        " - Dictionaries are enclosed by curly braces ({ }) and values can be assigned and accessed using square braces ([])\n",
        " - Dictionaries have no concept of order among elements. It is incorrect to say that the elements are \"out of order\"; they are simply unordered"
      ]
    },
    {
      "cell_type": "markdown",
      "metadata": {
        "id": "GiRscnkeyOlX"
      },
      "source": [
        "## Accessing value in dictionary"
      ]
    },
    {
      "cell_type": "markdown",
      "metadata": {
        "id": "QjNY2bGNyOlY"
      },
      "source": [
        "- Square brackets [] along with the key are used to access its value.\n",
        "\n"
      ]
    },
    {
      "cell_type": "code",
      "execution_count": null,
      "metadata": {
        "id": "Ltum738yyOlY",
        "colab": {
          "base_uri": "https://localhost:8080/"
        },
        "outputId": "fcbb673d-cc78-4a81-c78f-9afcae772921"
      },
      "outputs": [
        {
          "output_type": "stream",
          "name": "stdout",
          "text": [
            "rtz\n",
            "SIAT\n"
          ]
        }
      ],
      "source": [
        "dict1 = {'Name':\"rtz\" , \"Department\" : \"SIAT\", \"Batch\":2024}\n",
        "print(dict1['Name'])\n",
        "print(dict1['Department'])"
      ]
    },
    {
      "cell_type": "markdown",
      "metadata": {
        "id": "1bRngBK_yOlZ"
      },
      "source": [
        "### Updating Dictionary"
      ]
    },
    {
      "cell_type": "markdown",
      "metadata": {
        "id": "2TUfYqiOyOlZ"
      },
      "source": [
        "- we can update values in dictionary\n",
        "- we can also add new values in dictionary\n",
        "\n",
        "Some examples are given below:"
      ]
    },
    {
      "cell_type": "code",
      "execution_count": null,
      "metadata": {
        "id": "U621T8fWyOlZ",
        "outputId": "578586d3-762d-42bc-b028-6b191985e1fa",
        "colab": {
          "base_uri": "https://localhost:8080/"
        }
      },
      "outputs": [
        {
          "output_type": "stream",
          "name": "stdout",
          "text": [
            "{'Name': 'rtz', 'Department': 'SIAT', 'Batch': 2023}\n",
            "replace batch stored value from 2023 to 2024\n",
            "{'Name': 'rtz', 'Department': 'SIAT', 'Batch': '2024'}\n"
          ]
        }
      ],
      "source": [
        "dict1 = {'Name':\"rtz\" , \"Department\" : \"SIAT\", \"Batch\":2023}\n",
        "print(dict1)\n",
        "dict1['Batch']=\"2024\"\n",
        "print(\"replace batch stored value from 2023 to 2024\")\n",
        "print(dict1)\n"
      ]
    },
    {
      "cell_type": "markdown",
      "metadata": {
        "id": "4KbjWOYtyOla"
      },
      "source": [
        "### Delete Dictionary element"
      ]
    },
    {
      "cell_type": "markdown",
      "metadata": {
        "id": "iABNAFIQyOla"
      },
      "source": [
        "- we can delete elements of dictionary as well as complete content of dictionary.\n",
        "- To delete single element del keyword is used.\n",
        "- clear() function  is used to remove complete dictionary.\n",
        "\n",
        " Some examples are as follows:"
      ]
    },
    {
      "cell_type": "code",
      "execution_count": null,
      "metadata": {
        "id": "vtfiXDeOyOla",
        "colab": {
          "base_uri": "https://localhost:8080/"
        },
        "outputId": "24d21ea0-4a86-4c24-8d7c-982d3a271070"
      },
      "outputs": [
        {
          "output_type": "stream",
          "name": "stdout",
          "text": [
            "{'Name': 'rtz', 'Department': 'SIAT', 'Batch': 2023}\n",
            "deleted Department\n",
            "{'Name': 'rtz', 'Batch': 2023}\n"
          ]
        }
      ],
      "source": [
        "dict1 = {'Name':\"rtz\" , \"Department\" : \"SIAT\", \"Batch\":2023}\n",
        "print(dict1)\n",
        "\n",
        "del dict1['Department']\n",
        "print(\"deleted Department\")\n",
        "print(dict1)"
      ]
    },
    {
      "cell_type": "markdown",
      "source": [],
      "metadata": {
        "id": "3ZBE6BcyL-ru"
      }
    },
    {
      "cell_type": "code",
      "execution_count": null,
      "metadata": {
        "id": "1GP2uAamyOla",
        "outputId": "d39d4caf-d2c2-499e-b41a-9b5493a916a7",
        "colab": {
          "base_uri": "https://localhost:8080/"
        }
      },
      "outputs": [
        {
          "output_type": "stream",
          "name": "stdout",
          "text": [
            "{}\n",
            ".clear() is equals .destory()\n"
          ]
        }
      ],
      "source": [
        "dict1 = {'Name':\"Sara\" , \"Department\" : \"SIAT\", \"Batch\":2023}\n",
        "dict1.clear()\n",
        "print(dict1)\n",
        "print(\".clear() is equals .destory()\")"
      ]
    },
    {
      "cell_type": "markdown",
      "metadata": {
        "id": "y9Uo3ISAyOlb"
      },
      "source": [
        "## 2.6 Tuples"
      ]
    },
    {
      "cell_type": "markdown",
      "metadata": {
        "id": "4iDmCoWQyOlb"
      },
      "source": [
        " - A tuple is another sequence data type that is similar to the list.\n",
        " - A tuple consists of a number of values separated by commas. Unlike lists, however, tuples are enclosed within parenthesis.\n",
        " - The main difference between lists and tuples are − Lists are enclosed in brackets ( [ ] ) and their elements and size can be  changed, while tuples are enclosed in parentheses ( ( ) ) and cannot be updated. Tuples can be thought of as read-only lists.   \n",
        " - It can also have multiple data type values.\n",
        "\n",
        "  For example:"
      ]
    },
    {
      "cell_type": "markdown",
      "metadata": {
        "id": "zFrOCg-EyOld"
      },
      "source": [
        "### Accessing values in Tuples"
      ]
    },
    {
      "cell_type": "markdown",
      "metadata": {
        "id": "TznWXoYqyOle"
      },
      "source": [
        "- Square brackets [] along with the index are used to access its value.\n"
      ]
    },
    {
      "cell_type": "code",
      "execution_count": null,
      "metadata": {
        "id": "Wz7DRYL0yOle",
        "colab": {
          "base_uri": "https://localhost:8080/"
        },
        "outputId": "14154051-1af1-47f1-8289-f2a5a1dda467"
      },
      "outputs": [
        {
          "output_type": "stream",
          "name": "stdout",
          "text": [
            "('simon', 'sara', '20', 'saira40')\n",
            "('sara', '20')\n"
          ]
        }
      ],
      "source": [
        "tuple1 = ( 'simon','sara' , '20', 'saira40')\n",
        "\n",
        "print (tuple1)\n",
        "print(tuple1[1:3])"
      ]
    },
    {
      "cell_type": "markdown",
      "metadata": {
        "id": "KG5EF_CpyOle"
      },
      "source": [
        "### Updating Tuples"
      ]
    },
    {
      "cell_type": "markdown",
      "metadata": {
        "id": "lBQXz4rTyOle"
      },
      "source": [
        "- Tuples are immutable means we cannot change the value of tuple.\n",
        "- It is read only.\n",
        "- we are able to take portions of tuples to make a new tuple."
      ]
    },
    {
      "cell_type": "code",
      "execution_count": null,
      "metadata": {
        "id": "D0VuCX12yOle",
        "colab": {
          "base_uri": "https://localhost:8080/"
        },
        "outputId": "77af6ca6-ad99-459b-c43b-dafe04d2223b"
      },
      "outputs": [
        {
          "output_type": "stream",
          "name": "stdout",
          "text": [
            "('sun', 'mon', 'tue', 'wed', 'thur', 'fri', 'sat')\n",
            "(1, 2, 3, 4, 5, 6, 7)\n",
            "('sun', 'mon', 'tue', 'wed', 'thur', 'fri', 'sat', 1, 2, 3, 4, 5, 6, 7)\n",
            "it combaines two lists together to store into a new list called tuple3\n"
          ]
        }
      ],
      "source": [
        "tuple1=('sun','mon','tue','wed','thur','fri' , 'sat')\n",
        "tuple2=(1,2,3,4,5,6,7)\n",
        "print(tuple1)\n",
        "print(tuple2)\n",
        "tuple3=(tuple1+tuple2)\n",
        "print(tuple3)\n",
        "print(\"it combaines two lists together to store into a new list called tuple3\")"
      ]
    },
    {
      "cell_type": "markdown",
      "metadata": {
        "id": "G_5HMEUsyOlf"
      },
      "source": [
        "### Delete tuple elements"
      ]
    },
    {
      "cell_type": "markdown",
      "metadata": {
        "id": "2OuPrsgmyOlf"
      },
      "source": [
        "- we cannot delete single elements of tuple because they cannot be updated.\n",
        "- To delete entire elements del keyword is used.\n",
        "\n",
        " Some examples are as follows:"
      ]
    },
    {
      "cell_type": "code",
      "execution_count": null,
      "metadata": {
        "id": "m3HmoQn0yOlf",
        "colab": {
          "base_uri": "https://localhost:8080/",
          "height": 271
        },
        "outputId": "29c5f0e2-ef5f-45f7-ebc8-027f784e89f5"
      },
      "outputs": [
        {
          "output_type": "stream",
          "name": "stdout",
          "text": [
            "('sun', 'mon', 'tue', 'wed', 'thur', 'fri', 'sat')\n",
            "(1, 2, 3, 4, 5, 6, 7)\n",
            "it will pop out error if the system trying to output tuple1 , cause tuple1 is already deleted from the system\n"
          ]
        },
        {
          "output_type": "error",
          "ename": "NameError",
          "evalue": "name 'tuple1' is not defined",
          "traceback": [
            "\u001b[0;31m---------------------------------------------------------------------------\u001b[0m",
            "\u001b[0;31mNameError\u001b[0m                                 Traceback (most recent call last)",
            "\u001b[0;32m<ipython-input-27-ca35d0494536>\u001b[0m in \u001b[0;36m<cell line: 8>\u001b[0;34m()\u001b[0m\n\u001b[1;32m      6\u001b[0m \u001b[0;34m\u001b[0m\u001b[0m\n\u001b[1;32m      7\u001b[0m \u001b[0mprint\u001b[0m\u001b[0;34m(\u001b[0m\u001b[0;34m\"it will pop out error if the system trying to output tuple1 , cause tuple1 is already deleted from the system\"\u001b[0m\u001b[0;34m)\u001b[0m\u001b[0;34m\u001b[0m\u001b[0;34m\u001b[0m\u001b[0m\n\u001b[0;32m----> 8\u001b[0;31m \u001b[0mprint\u001b[0m\u001b[0;34m(\u001b[0m\u001b[0mtuple1\u001b[0m\u001b[0;34m)\u001b[0m\u001b[0;34m\u001b[0m\u001b[0;34m\u001b[0m\u001b[0m\n\u001b[0m",
            "\u001b[0;31mNameError\u001b[0m: name 'tuple1' is not defined"
          ]
        }
      ],
      "source": [
        "tuple1=('sun','mon','tue','wed','thur','fri' , 'sat')\n",
        "tuple2=(1,2,3,4,5,6,7)\n",
        "print(tuple1)\n",
        "print(tuple2)\n",
        "del(tuple1)\n",
        "\n",
        "print(\"it will pop out error if the system trying to output tuple1 , cause tuple1 is already deleted from the system\")\n",
        "print(tuple1)"
      ]
    },
    {
      "cell_type": "markdown",
      "metadata": {
        "id": "UtlBviifyOlf"
      },
      "source": [
        "# 2.7 Sets"
      ]
    },
    {
      "cell_type": "markdown",
      "metadata": {
        "id": "CGfmVIIQyOlf"
      },
      "source": [
        " - A set is an unordered collection in which each value occurs at most once.\n",
        " - You can use curly braces to give an expression whose value is a set.\n",
        " - Python prints sets using curly braces.\n",
        " - Every value in a set is immutable but the set itself is immutable we can add o remove items from it.\n",
        " - Sets can be used to perform mathematical operations like union,intersection,etc\n",
        " - Empty set will be written as {}.\n",
        " - We can also make a set from a list using set() function.\n",
        " - Data type can be found using type() function.\n",
        " - add() is used to add single value, update() is used for adding multiple values.\n",
        " - update() function can take tuple,string,list or other set as argument.\n",
        " - discard() and remove() are used to delete specific item from list.\n",
        " - discard() will not raise an error if item doesn't exist.\n",
        " - remove() will raise an error if item doesn't exist in set.\n",
        " - The cardinality of a set S is the number of elements in the set.\n",
        " - In Python, the cardinality of a set is obtained using the function len(·)."
      ]
    },
    {
      "cell_type": "code",
      "execution_count": null,
      "metadata": {
        "id": "tSGADHvTyOlf",
        "outputId": "965a4285-a287-4aa9-becf-44f5d9d1bc96",
        "colab": {
          "base_uri": "https://localhost:8080/",
          "height": 397
        }
      },
      "outputs": [
        {
          "output_type": "stream",
          "name": "stdout",
          "text": [
            "remember A set is an unordered collection in which each value occurs at most once.!!!!!!!!!!!!!!!!!!!!!!!!\n",
            "<class 'list'>\n",
            "<class 'set'>\n",
            "{1, 2, 3}\n",
            "{1, 'Hello'}\n",
            "{1, 'D', 'Hello'}\n",
            "{1, 2, 3, 4, 5, 'Hello', 'D'}\n",
            "remember A set is an unordered collection in which each value occurs at most once.!!!!!!!!!!!!!!!!!!!!!!!!\n",
            "discard 'g' wont crush the program , but remove will\n"
          ]
        },
        {
          "output_type": "error",
          "ename": "KeyError",
          "evalue": "'G'",
          "traceback": [
            "\u001b[0;31m---------------------------------------------------------------------------\u001b[0m",
            "\u001b[0;31mKeyError\u001b[0m                                  Traceback (most recent call last)",
            "\u001b[0;32m<ipython-input-31-9faccc98bd7b>\u001b[0m in \u001b[0;36m<cell line: 33>\u001b[0;34m()\u001b[0m\n\u001b[1;32m     31\u001b[0m \u001b[0mmy_set\u001b[0m\u001b[0;34m.\u001b[0m\u001b[0mdiscard\u001b[0m\u001b[0;34m(\u001b[0m\u001b[0;34m'G'\u001b[0m\u001b[0;34m)\u001b[0m \u001b[0;31m#it will not raise an error\u001b[0m\u001b[0;34m\u001b[0m\u001b[0;34m\u001b[0m\u001b[0m\n\u001b[1;32m     32\u001b[0m \u001b[0mprint\u001b[0m\u001b[0;34m(\u001b[0m\u001b[0;34m\"discard 'g' wont crush the program , but remove will\"\u001b[0m\u001b[0;34m)\u001b[0m\u001b[0;34m\u001b[0m\u001b[0;34m\u001b[0m\u001b[0m\n\u001b[0;32m---> 33\u001b[0;31m \u001b[0mmy_set\u001b[0m\u001b[0;34m.\u001b[0m\u001b[0mremove\u001b[0m\u001b[0;34m(\u001b[0m\u001b[0;34m'G'\u001b[0m\u001b[0;34m)\u001b[0m \u001b[0;31m#it will raise an error\u001b[0m\u001b[0;34m\u001b[0m\u001b[0;34m\u001b[0m\u001b[0m\n\u001b[0m\u001b[1;32m     34\u001b[0m \u001b[0mprint\u001b[0m\u001b[0;34m(\u001b[0m\u001b[0;34m\"cause there's no G in the sets\"\u001b[0m\u001b[0;34m)\u001b[0m\u001b[0;34m\u001b[0m\u001b[0;34m\u001b[0m\u001b[0m\n",
            "\u001b[0;31mKeyError\u001b[0m: 'G'"
          ]
        }
      ],
      "source": [
        "print(\"remember A set is an unordered collection in which each value occurs at most once.!!!!!!!!!!!!!!!!!!!!!!!!\")\n",
        "\n",
        "#list\n",
        "\n",
        "list1=[1,2,3,4,5]\n",
        "\n",
        "print(type(list1))\n",
        "\n",
        "my_set=set(list1)\n",
        "\n",
        "print(type(my_set))\n",
        "\n",
        "#set of integers\n",
        "my_set={1,2,3}\n",
        "print(my_set)\n",
        "\n",
        "#set of mixed data types\n",
        "my_set={1, \"Hello\"}\n",
        "print(my_set)\n",
        "\n",
        "#adding a single value\n",
        "my_set.add(\"D\")\n",
        "print(my_set)\n",
        "\n",
        "#adding multiple values\n",
        "my_set.update(list1)\n",
        "print(my_set)\n",
        "\n",
        "print(\"remember A set is an unordered collection in which each value occurs at most once.!!!!!!!!!!!!!!!!!!!!!!!!\")\n",
        "\n",
        "my_set.discard('G') #it will not raise an error\n",
        "print(\"discard 'g' wont crush the program , but remove will\")\n",
        "my_set.remove('G') #it will raise an error\n",
        "print(\"cause there's no G in the sets\")\n"
      ]
    },
    {
      "cell_type": "markdown",
      "source": [],
      "metadata": {
        "id": "gIZDQgBWPGnn"
      }
    },
    {
      "cell_type": "markdown",
      "metadata": {
        "id": "lJROmF7CyOlh"
      },
      "source": [
        "# 3.Comparison Operators"
      ]
    },
    {
      "cell_type": "markdown",
      "metadata": {
        "id": "l5lnkl1ZyOlh"
      },
      "source": [
        " - Comparison operators are used to compare values and return TRUE/FALSE according to the situation.\n",
        " - Python defines the following comparison operators:"
      ]
    },
    {
      "cell_type": "markdown",
      "metadata": {
        "id": "MA2F-JQ0yOli"
      },
      "source": [
        "### Less than operator  (<)"
      ]
    },
    {
      "cell_type": "code",
      "execution_count": null,
      "metadata": {
        "id": "i1P_4GR6yOli",
        "colab": {
          "base_uri": "https://localhost:8080/"
        },
        "outputId": "55c97511-e411-4991-e577-ccf48b97e0d8"
      },
      "outputs": [
        {
          "output_type": "execute_result",
          "data": {
            "text/plain": [
              "True"
            ]
          },
          "metadata": {},
          "execution_count": 32
        }
      ],
      "source": [
        "10<1715"
      ]
    },
    {
      "cell_type": "markdown",
      "metadata": {
        "id": "FYt5MhnvyOli"
      },
      "source": [
        "### Less than equal to operator (<=)"
      ]
    },
    {
      "cell_type": "code",
      "execution_count": null,
      "metadata": {
        "id": "WwttsZ6xyOli",
        "colab": {
          "base_uri": "https://localhost:8080/"
        },
        "outputId": "0f5b7b59-24af-4127-c981-04e9e78857ef"
      },
      "outputs": [
        {
          "output_type": "execute_result",
          "data": {
            "text/plain": [
              "False"
            ]
          },
          "metadata": {},
          "execution_count": 33
        }
      ],
      "source": [
        "15<=10\n",
        "print(\"false , cause is smaller\")"
      ]
    },
    {
      "cell_type": "markdown",
      "metadata": {
        "id": "YnjQrPuJyOli"
      },
      "source": [
        "### Equal to operatoe (==)"
      ]
    },
    {
      "cell_type": "code",
      "execution_count": null,
      "metadata": {
        "id": "Zls3VKhNyOlj",
        "colab": {
          "base_uri": "https://localhost:8080/"
        },
        "outputId": "f1081f85-db81-4465-c343-535d157d7748"
      },
      "outputs": [
        {
          "output_type": "execute_result",
          "data": {
            "text/plain": [
              "True"
            ]
          },
          "metadata": {},
          "execution_count": 38
        }
      ],
      "source": [
        "16==16"
      ]
    },
    {
      "cell_type": "code",
      "execution_count": null,
      "metadata": {
        "id": "mbzpqO44yOlj",
        "colab": {
          "base_uri": "https://localhost:8080/",
          "height": 145
        },
        "outputId": "f01b0a23-9da7-4169-c824-6e51f884d9d3"
      },
      "outputs": [
        {
          "output_type": "error",
          "ename": "SyntaxError",
          "evalue": "invalid syntax (<ipython-input-37-98735dc7ffc6>, line 7)",
          "traceback": [
            "\u001b[0;36m  File \u001b[0;32m\"<ipython-input-37-98735dc7ffc6>\"\u001b[0;36m, line \u001b[0;32m7\u001b[0m\n\u001b[0;31m    \"john\" === \"John\"\u001b[0m\n\u001b[0m             ^\u001b[0m\n\u001b[0;31mSyntaxError\u001b[0m\u001b[0;31m:\u001b[0m invalid syntax\n"
          ]
        }
      ],
      "source": [
        "\"Sara\"==\"sara\"\n",
        "print(\"it should be 100% match , upper/lower case matters\")\n",
        "\"Sara\" ==\"Sara\"\n",
        "\n",
        "\n",
        "print(\"there's no === in python\")\n",
        "\"john\" === \"John\"\n",
        "\n"
      ]
    },
    {
      "cell_type": "code",
      "execution_count": null,
      "metadata": {
        "id": "eQpj0Gz3yOlj",
        "colab": {
          "base_uri": "https://localhost:8080/"
        },
        "outputId": "fd345575-b3c0-42cc-c419-c4d6d03c406c"
      },
      "outputs": [
        {
          "output_type": "execute_result",
          "data": {
            "text/plain": [
              "True"
            ]
          },
          "metadata": {},
          "execution_count": 38
        }
      ],
      "source": [
        "\"ALI\"==\"ALI\""
      ]
    },
    {
      "cell_type": "markdown",
      "metadata": {
        "id": "ujIEI1kvyOlk"
      },
      "source": [
        "### Not equal to operator (!=)"
      ]
    },
    {
      "cell_type": "code",
      "execution_count": null,
      "metadata": {
        "id": "4WqW1oKJyOlk",
        "outputId": "daac7339-d3c7-420c-c0d2-4ca61ac4414e",
        "colab": {
          "base_uri": "https://localhost:8080/",
          "height": 145
        }
      },
      "outputs": [
        {
          "output_type": "error",
          "ename": "SyntaxError",
          "evalue": "invalid syntax (<ipython-input-39-8e380954a931>, line 3)",
          "traceback": [
            "\u001b[0;36m  File \u001b[0;32m\"<ipython-input-39-8e380954a931>\"\u001b[0;36m, line \u001b[0;32m3\u001b[0m\n\u001b[0;31m    not code turn true to false , false to true\u001b[0m\n\u001b[0m             ^\u001b[0m\n\u001b[0;31mSyntaxError\u001b[0m\u001b[0;31m:\u001b[0m invalid syntax\n"
          ]
        }
      ],
      "source": [
        "3!=5\n",
        "\n",
        "not code turn true to false , false to true"
      ]
    },
    {
      "cell_type": "markdown",
      "metadata": {
        "id": "eXrhRobeyOlk"
      },
      "source": [
        "### OR Operator"
      ]
    },
    {
      "cell_type": "code",
      "execution_count": null,
      "metadata": {
        "id": "rMaG0t_4yOll",
        "colab": {
          "base_uri": "https://localhost:8080/"
        },
        "outputId": "e344b215-3bad-44f1-9317-f0dc49ac72bd"
      },
      "outputs": [
        {
          "output_type": "execute_result",
          "data": {
            "text/plain": [
              "True"
            ]
          },
          "metadata": {},
          "execution_count": 40
        }
      ],
      "source": [
        "(10==10)or(10<17)"
      ]
    },
    {
      "cell_type": "markdown",
      "metadata": {
        "id": "iwG7TeMXyOll"
      },
      "source": [
        "### And operator"
      ]
    },
    {
      "cell_type": "code",
      "execution_count": null,
      "metadata": {
        "id": "8YryjblByOll",
        "colab": {
          "base_uri": "https://localhost:8080/"
        },
        "outputId": "d8cd399c-a2cf-472d-8f2b-c171b4d8cf8b"
      },
      "outputs": [
        {
          "output_type": "execute_result",
          "data": {
            "text/plain": [
              "True"
            ]
          },
          "metadata": {},
          "execution_count": 41
        }
      ],
      "source": [
        "(10==10)and (10<17)"
      ]
    },
    {
      "cell_type": "markdown",
      "metadata": {
        "id": "8a_cI4Z8yOll"
      },
      "source": [
        "# 4.If else statement"
      ]
    },
    {
      "cell_type": "markdown",
      "metadata": {
        "id": "R9qEq9jhyOll"
      },
      "source": [
        " - The if–else is used to make choices in Python code.\n",
        " - This is a compound statement.\n",
        " - The syntax is:\n",
        " - if c o n d i t i o n\n",
        "          action −1\n",
        "  else :\n",
        "          action −2\n",
        " - The indentation is required"
      ]
    },
    {
      "cell_type": "code",
      "execution_count": null,
      "metadata": {
        "scrolled": true,
        "id": "WBSEtB9ayOll",
        "outputId": "35d6d6c0-a04d-45b6-cb77-2046803170d6",
        "colab": {
          "base_uri": "https://localhost:8080/"
        }
      },
      "outputs": [
        {
          "output_type": "stream",
          "name": "stdout",
          "text": [
            " sunday is wonderful\n",
            "cause 3>0 so goes first statement\n"
          ]
        }
      ],
      "source": [
        "x = 3\n",
        "if x > 0:\n",
        "    print(\" sunday is wonderful\")\n",
        "else :\n",
        "    print(\" Monday is Good \")\n",
        "\n",
        "print(\"cause 3>0 so goes first statement\")"
      ]
    },
    {
      "cell_type": "code",
      "source": [
        "if 25 % 2:\n",
        "  print(25%2)\n",
        "  print(\"the answer is 1\")\n",
        "  print(\"Even\")\n",
        "else:\n",
        "  print(\"Odd\")\n"
      ],
      "metadata": {
        "colab": {
          "base_uri": "https://localhost:8080/"
        },
        "id": "vNZbNRhIQKYn",
        "outputId": "0594811a-a993-440d-cc05-c255c54798ad"
      },
      "execution_count": null,
      "outputs": [
        {
          "output_type": "stream",
          "name": "stdout",
          "text": [
            "1\n",
            "the answer is 1\n",
            "Even\n"
          ]
        }
      ]
    },
    {
      "cell_type": "markdown",
      "metadata": {
        "id": "tX-ELcXpyOlm"
      },
      "source": [
        "# 5.For and while loop"
      ]
    },
    {
      "cell_type": "markdown",
      "metadata": {
        "id": "vHrWxmv9yOlm"
      },
      "source": [
        "- Python has for and while loop for iteration,used when we want to perfrom a specific task repeatedly."
      ]
    },
    {
      "cell_type": "markdown",
      "metadata": {
        "id": "7Cclh2veyOlm"
      },
      "source": [
        "### For loop"
      ]
    },
    {
      "cell_type": "markdown",
      "metadata": {
        "id": "T91L9EFHyOlm"
      },
      "source": [
        "- The for statement is used to iterate over the elements of a sequence.\n",
        "- It's traditionally used when you have a piece of code which you want to repeat n number of time.\n",
        "- The syntax of a for loop is:\n",
        "\n",
        "    for item in list :\n",
        "      a c t i o n\n",
        "- As usual, the action consists of one or more statements, all at the same indentation level. These statements are also known as the body of the loop. The item is a variable name, and list is a list.\n",
        "- Execution of the for loop works by setting the variable successively to each item in the list, and then executing the body each time.\n",
        "\n",
        "  Here is a simple example:"
      ]
    },
    {
      "cell_type": "code",
      "execution_count": null,
      "metadata": {
        "id": "Kpsb7A2YyOlm",
        "outputId": "89e0183e-6bba-430c-f4d0-7a2c5a35a9c3",
        "colab": {
          "base_uri": "https://localhost:8080/"
        }
      },
      "outputs": [
        {
          "output_type": "stream",
          "name": "stdout",
          "text": [
            "2\n",
            "5\n",
            "6\n",
            "0\n",
            "11\n",
            "15\n"
          ]
        }
      ],
      "source": [
        "for i in [2 , 5 , 6 , 0 , 11 , 15]:\n",
        "    print(i)\n"
      ]
    },
    {
      "cell_type": "code",
      "execution_count": null,
      "metadata": {
        "id": "Q4ZzlHcjyOlr",
        "outputId": "db5623e7-aa6d-4ffb-d01b-c0786ce7ec4c",
        "colab": {
          "base_uri": "https://localhost:8080/"
        }
      },
      "outputs": [
        {
          "output_type": "stream",
          "name": "stdout",
          "text": [
            "1\n",
            "2\n",
            "3\n",
            "4\n",
            "5\n",
            "6\n",
            "7\n",
            "8\n",
            "9\n"
          ]
        }
      ],
      "source": [
        "for counter in range(1, 10):\n",
        "    print (counter)"
      ]
    },
    {
      "cell_type": "code",
      "execution_count": null,
      "metadata": {
        "id": "DdTgxLwbyOls",
        "outputId": "07efb855-b0b1-49b6-e906-30764edee114",
        "colab": {
          "base_uri": "https://localhost:8080/"
        }
      },
      "outputs": [
        {
          "output_type": "stream",
          "name": "stdout",
          "text": [
            "J\n",
            "o\n",
            "h\n",
            "n\n"
          ]
        }
      ],
      "source": [
        "word = \"John\"\n",
        "for letter in word:\n",
        "    print (letter)"
      ]
    },
    {
      "cell_type": "markdown",
      "metadata": {
        "id": "xRVaJ8yhyOlt"
      },
      "source": [
        "### While loop"
      ]
    },
    {
      "cell_type": "code",
      "source": [
        "a=0\n",
        "while a < 10:\n",
        "  a=a+1\n",
        "  print(a)\n",
        "\n",
        "print(\"before the a increase to 10 , it will automatic print all numbers \")\n"
      ],
      "metadata": {
        "colab": {
          "base_uri": "https://localhost:8080/"
        },
        "id": "WfmtJZKWQsmx",
        "outputId": "d9eb3688-3a15-4100-bb88-7d20f784e5cf"
      },
      "execution_count": null,
      "outputs": [
        {
          "output_type": "stream",
          "name": "stdout",
          "text": [
            "1\n",
            "2\n",
            "3\n",
            "4\n",
            "5\n",
            "6\n",
            "7\n",
            "8\n",
            "9\n",
            "10\n",
            "before the a increase to 10 , it will automatic print all numbers \n"
          ]
        }
      ]
    },
    {
      "cell_type": "markdown",
      "metadata": {
        "id": "L1MwXDpdyOlv"
      },
      "source": [
        "# 6.Functions"
      ]
    },
    {
      "cell_type": "markdown",
      "metadata": {
        "id": "65xX9WZ9yOlv"
      },
      "source": [
        " - You use functions in programming to bundle a set of instructions that you want to use repeatedly or that, because of their  complexity, are better self-contained in a sub-program and called when needed.                                 \n",
        " - Function is a piece of code written to carry out a specified task.\n",
        " - There are three types of functions in Python:\n",
        " - Built-in functions, such as help() to ask for help, min() to get the minimum value, print() to print an object.\n",
        " - User-Defined Functions (UDFs), which are functions that users create to help them out.\n",
        " - Anonymous functions, which are also called lambda functions because they are not declared with the standard def keyword.\n",
        " - The syntax is:\n",
        "\n",
        "   def functionname(parameters)\n",
        "    \n",
        "   \"function_docstring\"\n",
        "   \n",
        "   function_suite\n",
        "   \n",
        "   return [expression]\n"
      ]
    },
    {
      "cell_type": "code",
      "execution_count": null,
      "metadata": {
        "id": "6H6ReP86yOlw",
        "colab": {
          "base_uri": "https://localhost:8080/"
        },
        "outputId": "03631434-d23e-40bd-a1ef-baaae6016c8f"
      },
      "outputs": [
        {
          "output_type": "stream",
          "name": "stdout",
          "text": [
            "john\n",
            "create an method = function xd\n"
          ]
        }
      ],
      "source": [
        "def my_function(name):\n",
        "  #This prints a passed string into this function\n",
        "    print(name)\n",
        "    return;\n",
        "\n",
        "#Now you can call my_function\n",
        "my_function(\"john\")\n",
        "\n",
        "print(\"create an method = function xd\")\n",
        "\n"
      ]
    },
    {
      "cell_type": "markdown",
      "metadata": {
        "id": "oZC9oo-jyOlw"
      },
      "source": [
        "# 7.Lambda Functions"
      ]
    },
    {
      "cell_type": "markdown",
      "metadata": {
        "id": "MknoTpf-yOlw"
      },
      "source": [
        " - The creation of anonymous functions at runtime,using a construct called \"lambda\"\n",
        " - A lambda function is a small anonymous function.\n",
        " - A lambda function can take any number of arguments, but can only have one expression.\n",
        " - Lambda function does not include return statement,it always contains an expression which is returned.\n",
        " - You might want to use lambdas when you don’t want to use a function twice in a program.\n",
        "\n",
        "   some examples are given:"
      ]
    },
    {
      "cell_type": "code",
      "source": [
        "#Normal Function\n",
        "def f (x):\n",
        "  return x**2\n",
        "print (f(8))"
      ],
      "metadata": {
        "colab": {
          "base_uri": "https://localhost:8080/"
        },
        "id": "c-GXl-L-RdIC",
        "outputId": "e19b2430-d928-4a5e-b78e-0e536c101520"
      },
      "execution_count": null,
      "outputs": [
        {
          "output_type": "stream",
          "name": "stdout",
          "text": [
            "64\n"
          ]
        }
      ]
    },
    {
      "cell_type": "code",
      "source": [
        "print(\"lambda can avoid the def , directly use it\")\n",
        "times3 = lambda var:var*3\n",
        "times3(10)\n",
        "\n",
        "#lamba expressions : another way to write a function in line"
      ],
      "metadata": {
        "colab": {
          "base_uri": "https://localhost:8080/"
        },
        "id": "pBOo5NroR3fG",
        "outputId": "93af570d-d44d-4fed-d70a-041a60416ace"
      },
      "execution_count": null,
      "outputs": [
        {
          "output_type": "stream",
          "name": "stdout",
          "text": [
            "lambda can avoid the def , directly use it\n"
          ]
        },
        {
          "output_type": "execute_result",
          "data": {
            "text/plain": [
              "30"
            ]
          },
          "metadata": {},
          "execution_count": 50
        }
      ]
    },
    {
      "cell_type": "code",
      "execution_count": null,
      "metadata": {
        "id": "KPDPCAjpyOlw",
        "colab": {
          "base_uri": "https://localhost:8080/"
        },
        "outputId": "165eb9af-39ed-4b31-bd34-1a5babc83b87"
      },
      "outputs": [
        {
          "output_type": "stream",
          "name": "stdout",
          "text": [
            "8\n",
            "pass 3 into x , pass 5 into y thus,3+5=8\n"
          ]
        }
      ],
      "source": [
        "add = lambda x, y: x + y\n",
        "\n",
        "print(add(3, 5))\n",
        "\n",
        "print(\"pass 3 into x , pass 5 into y thus,3+5=8\")"
      ]
    },
    {
      "cell_type": "markdown",
      "metadata": {
        "id": "WVp38V0nyOlx"
      },
      "source": [
        "## 7.1 Map()"
      ]
    },
    {
      "cell_type": "markdown",
      "metadata": {
        "id": "Z0LFGyJKyOlx"
      },
      "source": [
        " - Map() function is used with two arguments.Just like: r=map(func,seq)\n",
        " - The first argument func is function name and the second is a sequence(list etc)\n",
        " - Map functions expects a function object and any number of iterables like list, dictionary, etc.\n",
        " - It executes the function_object for each element in the sequence and returns a list of the elements modified by the function  object.\n",
        "\n",
        "   Example:\n",
        "\n"
      ]
    },
    {
      "cell_type": "code",
      "execution_count": null,
      "metadata": {
        "id": "5H7aW8b1yOlx",
        "outputId": "5e51a15d-7214-4d05-e9bc-33468a5b18fe",
        "colab": {
          "base_uri": "https://localhost:8080/"
        }
      },
      "outputs": [
        {
          "output_type": "stream",
          "name": "stdout",
          "text": [
            "separate words from the sentence \n",
            "['It', 'is', 'raining', 'cats', 'and', 'dogs']\n",
            "<map object at 0x7f36b4f19420>\n"
          ]
        },
        {
          "output_type": "execute_result",
          "data": {
            "text/plain": [
              "[2, 2, 7, 4, 3, 4]"
            ]
          },
          "metadata": {},
          "execution_count": 53
        }
      ],
      "source": [
        "sentence = \"It is raining cats and dogs\"\n",
        "words = sentence.split()\n",
        "print(\"separate words from the sentence \")\n",
        "print(words)\n",
        "\n",
        "\n",
        "lengths= map(lambda word :len(word), words)\n",
        "\n",
        "print(lengths)\n",
        "\n",
        "list (lengths)\n",
        "\n",
        "\n"
      ]
    },
    {
      "cell_type": "markdown",
      "metadata": {
        "id": "oQ458z36yOly"
      },
      "source": [
        "## 7.2 Filter()"
      ]
    },
    {
      "cell_type": "markdown",
      "metadata": {
        "id": "DklokG5fyOly"
      },
      "source": [
        " - The filter() method filters the given iterable with the help of a function that tests each element in the iterable to be true or not.\n",
        " - The syntax of filter() method is:\n",
        "      filter(function, iterable)\n",
        " - The filter() method takes two parameters:\n",
        "\n",
        "      1)function - function that tests if elements of an iterable returns true or false If None, the function defaults to Identity function - which returns false if any elements are false\n",
        "      \n",
        "      2)iterable - iterable which is to be filtered, could be sets, lists, tuples, or containers of any iterators\n",
        " - The filter() method returns an iterator that passed the function check for each element in the iterable."
      ]
    },
    {
      "cell_type": "code",
      "execution_count": null,
      "metadata": {
        "id": "zEv6KZ6SyOly",
        "colab": {
          "base_uri": "https://localhost:8080/"
        },
        "outputId": "bcc729a4-0975-4723-b9c7-2ebb1b957160"
      },
      "outputs": [
        {
          "output_type": "stream",
          "name": "stdout",
          "text": [
            "a\n",
            "e\n",
            "i\n",
            "o\n"
          ]
        }
      ],
      "source": [
        "# list of alphabets\n",
        "alphabets = ['a', 'b', 'd', 'e', 'i', 'j', 'o']\n",
        "\n",
        "# function that filters vowels\n",
        "def filterVowels(alphabet):\n",
        "    vowels = ['a', 'e', 'i', 'o', 'u']\n",
        "\n",
        "    if(alphabet in vowels):\n",
        "        return True\n",
        "    else:\n",
        "        return False\n",
        "\n",
        "for i in filter(filterVowels, alphabets):\n",
        "     print(i)\n",
        "\n",
        "print(\"no other letters cause is not store into the vowels\")\n"
      ]
    },
    {
      "cell_type": "code",
      "execution_count": null,
      "metadata": {
        "id": "BqRYKFNbyOly",
        "colab": {
          "base_uri": "https://localhost:8080/"
        },
        "outputId": "7519dc4d-8674-4e75-aa2a-4ba4b9e80b13"
      },
      "outputs": [
        {
          "output_type": "stream",
          "name": "stdout",
          "text": [
            "The filtered elements are:\n",
            "cause false and 0 are belonds to none\n",
            "1\n",
            "a\n",
            "True\n",
            "0\n",
            "in python , falsy value are: 0 , empty space , false , empty list , any kind of 'empty' thing belonds to NONE\n"
          ]
        }
      ],
      "source": [
        "# random list\n",
        "randomList = [1, 'a', 0, False, True, '0']\n",
        "\n",
        "filteredList = filter(None, randomList)\n",
        "\n",
        "print('The filtered elements are:')\n",
        "print(\"cause false and 0 are belonds to none\")\n",
        "for element in filteredList:\n",
        "    print(element)\n",
        "\n",
        "print(\"in python , falsy value are: 0 , empty space , false , empty list , any kind of 'empty' thing belonds to NONE\")"
      ]
    },
    {
      "cell_type": "code",
      "execution_count": null,
      "metadata": {
        "id": "SxEi_36LyOly",
        "colab": {
          "base_uri": "https://localhost:8080/"
        },
        "outputId": "771f211c-d7c9-4d7e-9281-48086799ce59"
      },
      "outputs": [
        {
          "output_type": "stream",
          "name": "stdout",
          "text": [
            "18\n",
            "24\n",
            "32\n",
            "only display the value whos <18， but it goes true , so thats why 18 is here\n"
          ]
        }
      ],
      "source": [
        "ages = [5, 12, 17, 18, 24, 32]\n",
        "\n",
        "def myFunc(x):\n",
        "  if x < 18:\n",
        "    return False\n",
        "  else:\n",
        "    return True\n",
        "\n",
        "adults = filter(myFunc, ages)\n",
        "\n",
        "for x in adults:\n",
        "  print(x)\n",
        "\n",
        "print(\"only display the value whos <18， but it goes true , so thats why 18 is here\")\n"
      ]
    },
    {
      "cell_type": "markdown",
      "metadata": {
        "id": "ZPuRsXogyOly"
      },
      "source": [
        "# 8.File I/O"
      ]
    },
    {
      "cell_type": "markdown",
      "metadata": {
        "id": "x0jKuKHqyOly"
      },
      "source": [
        "\n",
        "\n",
        "```\n",
        "# 此内容为代码格式\n",
        "```\n",
        "\n",
        " - In this section we will cover basic I/O functions."
      ]
    },
    {
      "cell_type": "markdown",
      "metadata": {
        "id": "5RPtaY-_yOly"
      },
      "source": [
        "## Reading input from keyboard"
      ]
    },
    {
      "cell_type": "markdown",
      "metadata": {
        "id": "8SDiWf1hyOlz"
      },
      "source": [
        " -  There are two functions in Python that you can use to read data from the user:raw_input and input\n",
        " -  You can store the results from them into a variable\n",
        " -  If the input function is called, the program flow will be stopped until the user has given an input and has ended the input  with the return key. The text of the optional parameter, i.e. the prompt, will be printed on the screen.\n",
        "\n",
        " Let's have a look at the following example:"
      ]
    },
    {
      "cell_type": "code",
      "execution_count": null,
      "metadata": {
        "id": "njG09b1ayOlz",
        "colab": {
          "base_uri": "https://localhost:8080/"
        },
        "outputId": "56da5c82-22d9-43d5-8ebb-f4ac1b09333b"
      },
      "outputs": [
        {
          "output_type": "stream",
          "name": "stdout",
          "text": [
            "What's your name? john\n",
            "Nice to meet you john!\n"
          ]
        }
      ],
      "source": [
        "# name = raw_input(\"What's your name? \")\n",
        "# print(\"Nice to meet you \" + name + \"!\")\n",
        "\n",
        "\n",
        "name = input(\"What's your name? \")\n",
        "print(\"Nice to meet you \" + name + \"!\")"
      ]
    },
    {
      "cell_type": "code",
      "execution_count": null,
      "metadata": {
        "id": "DCsRozsVyOlz"
      },
      "outputs": [],
      "source": [
        "age = raw_input(\"What's your age? \")\n",
        "print(\"your age is \" + age + \"!\")"
      ]
    },
    {
      "cell_type": "code",
      "execution_count": null,
      "metadata": {
        "scrolled": true,
        "id": "xOk3tlxnyOlz"
      },
      "outputs": [],
      "source": [
        "string=raw_input(\"enter your university....\")\n",
        "print(string)"
      ]
    },
    {
      "cell_type": "markdown",
      "metadata": {
        "id": "zRkWgckHyOlz"
      },
      "source": [
        "## I/O From or to text file"
      ]
    },
    {
      "cell_type": "markdown",
      "metadata": {
        "id": "oxmeYQrDyOlz"
      },
      "source": [
        " - In this scenario, we will read and write to a text file.\n",
        " - we can open files in different modes."
      ]
    },
    {
      "cell_type": "markdown",
      "metadata": {
        "id": "MzGL-uTvyOlz"
      },
      "source": [
        "## Read only mode"
      ]
    },
    {
      "cell_type": "markdown",
      "metadata": {
        "id": "keQohLS-yOlz"
      },
      "source": [
        " - r opens a file in read only mode.\n",
        " - The file pointer is placed at the beginning of the file.\n",
        " - This is the default mode."
      ]
    },
    {
      "cell_type": "code",
      "execution_count": null,
      "metadata": {
        "id": "yHg4cgB0yOl0",
        "colab": {
          "base_uri": "https://localhost:8080/",
          "height": 253
        },
        "outputId": "74025fa3-6996-4bd6-e65f-2e2b10b772b5"
      },
      "outputs": [
        {
          "output_type": "error",
          "ename": "FileNotFoundError",
          "evalue": "[Errno 2] No such file or directory: 'hello.txt'",
          "traceback": [
            "\u001b[0;31m---------------------------------------------------------------------------\u001b[0m",
            "\u001b[0;31mFileNotFoundError\u001b[0m                         Traceback (most recent call last)",
            "\u001b[0;32m<ipython-input-67-7f34f081dc58>\u001b[0m in \u001b[0;36m<cell line: 1>\u001b[0;34m()\u001b[0m\n\u001b[0;32m----> 1\u001b[0;31m \u001b[0mfile\u001b[0m \u001b[0;34m=\u001b[0m \u001b[0mopen\u001b[0m\u001b[0;34m(\u001b[0m\u001b[0;34m\"hello.txt\"\u001b[0m\u001b[0;34m,\u001b[0m \u001b[0;34m\"r\"\u001b[0m\u001b[0;34m)\u001b[0m\u001b[0;34m\u001b[0m\u001b[0;34m\u001b[0m\u001b[0m\n\u001b[0m\u001b[1;32m      2\u001b[0m \u001b[0mstr\u001b[0m\u001b[0;34m=\u001b[0m\u001b[0mfile\u001b[0m\u001b[0;34m.\u001b[0m\u001b[0mread\u001b[0m\u001b[0;34m(\u001b[0m\u001b[0;34m)\u001b[0m\u001b[0;34m;\u001b[0m\u001b[0;34m\u001b[0m\u001b[0;34m\u001b[0m\u001b[0m\n\u001b[1;32m      3\u001b[0m \u001b[0mprint\u001b[0m\u001b[0;34m(\u001b[0m\u001b[0mstr\u001b[0m\u001b[0;34m)\u001b[0m\u001b[0;34m\u001b[0m\u001b[0;34m\u001b[0m\u001b[0m\n\u001b[1;32m      4\u001b[0m \u001b[0mfile\u001b[0m\u001b[0;34m.\u001b[0m\u001b[0mclose\u001b[0m\u001b[0;34m(\u001b[0m\u001b[0;34m)\u001b[0m\u001b[0;34m\u001b[0m\u001b[0;34m\u001b[0m\u001b[0m\n\u001b[1;32m      5\u001b[0m \u001b[0;34m\u001b[0m\u001b[0m\n",
            "\u001b[0;31mFileNotFoundError\u001b[0m: [Errno 2] No such file or directory: 'hello.txt'"
          ]
        }
      ],
      "source": [
        "file = open(\"hello.txt\", \"r\")\n",
        "str=file.read();\n",
        "print(str)\n",
        "file.close()\n",
        "\n",
        "print(\"thats read file, there's no hello.txt file so thats why it cause the error , use try catch avoid the crush\")"
      ]
    },
    {
      "cell_type": "markdown",
      "metadata": {
        "id": "aaldi51jyOl0"
      },
      "source": [
        "## Read and write mode"
      ]
    },
    {
      "cell_type": "markdown",
      "metadata": {
        "id": "cY4AUvQlyOl0"
      },
      "source": [
        " - r+ opens a file in read and write mode.\n",
        " - The file pointer placed at the beginning of the file"
      ]
    },
    {
      "cell_type": "code",
      "execution_count": null,
      "metadata": {
        "id": "ajwMxemAyOl0",
        "colab": {
          "base_uri": "https://localhost:8080/",
          "height": 145
        },
        "outputId": "81aa0826-f0d1-4521-980a-47be18032c95"
      },
      "outputs": [
        {
          "output_type": "error",
          "ename": "SyntaxError",
          "evalue": "Missing parentheses in call to 'print'. Did you mean print(...)? (<ipython-input-68-2e830d38780a>, line 4)",
          "traceback": [
            "\u001b[0;36m  File \u001b[0;32m\"<ipython-input-68-2e830d38780a>\"\u001b[0;36m, line \u001b[0;32m4\u001b[0m\n\u001b[0;31m    print \"Read String is : \", str\u001b[0m\n\u001b[0m    ^\u001b[0m\n\u001b[0;31mSyntaxError\u001b[0m\u001b[0;31m:\u001b[0m Missing parentheses in call to 'print'. Did you mean print(...)?\n"
          ]
        }
      ],
      "source": [
        "# Open a file\n",
        "file = open(\"hello.txt\", \"r+\")\n",
        "str = file.read(10);\n",
        "print \"Read String is : \", str\n",
        "# Close opend\n",
        "\n",
        "print(\"same issue\")"
      ]
    },
    {
      "cell_type": "markdown",
      "metadata": {
        "id": "XE1AyUsRyOl0"
      },
      "source": [
        "## Write mode only"
      ]
    },
    {
      "cell_type": "markdown",
      "metadata": {
        "id": "MkuBNVJGyOl0"
      },
      "source": [
        " - w opens a file in write mode only.\n",
        " - Overwrites the file if the file exists. If the file does not exist, creates a new file for writing"
      ]
    },
    {
      "cell_type": "code",
      "execution_count": null,
      "metadata": {
        "id": "KGRhdassyOl0",
        "colab": {
          "base_uri": "https://localhost:8080/"
        },
        "outputId": "336df732-024f-4436-e191-5b7202b8470c"
      },
      "outputs": [
        {
          "output_type": "stream",
          "name": "stdout",
          "text": [
            "This is the write command It allows us to write in a particular file\n"
          ]
        }
      ],
      "source": [
        "file = open('write.txt','w')\n",
        "file.write(\"This is the write command\")\n",
        "file.write(\" It allows us to write in a particular file\")\n",
        "file = open('write.txt','r')\n",
        "str=file.read()\n",
        "print(str)\n",
        "file.close()\n"
      ]
    },
    {
      "cell_type": "markdown",
      "metadata": {
        "id": "UNmsy8MwyOl0"
      },
      "source": [
        "## Append mode"
      ]
    },
    {
      "cell_type": "markdown",
      "metadata": {
        "id": "A9Trygn4yOl1"
      },
      "source": [
        " - a opens a file in append mode.\n",
        " - The file pointer is at the end of the file if the file exists.\n",
        " - That is, the file is in the append mode. If the file does not exist, it creates a new file for writing.\n"
      ]
    },
    {
      "cell_type": "code",
      "execution_count": null,
      "metadata": {
        "id": "d6E4BHyTyOl1"
      },
      "outputs": [],
      "source": [
        "file = open('write.txt','a')\n",
        "file.write(\"This will add this line\")\n",
        "file = open('write.txt','r')\n",
        "str=file.read()\n",
        "print(str)\n",
        "file.close()"
      ]
    },
    {
      "cell_type": "markdown",
      "metadata": {
        "id": "aTFsMWYhyOl1"
      },
      "source": [
        "## Append and read mode"
      ]
    },
    {
      "cell_type": "markdown",
      "metadata": {
        "id": "ngY7ZsNVyOl1"
      },
      "source": [
        " - a+ opens a file in append and read mode.\n",
        " - The file pointer is at the end of the file if the file exists. The file opens in the append mode. If the file does not exist,    it creates a  new file for reading and writing."
      ]
    },
    {
      "cell_type": "code",
      "execution_count": null,
      "metadata": {
        "id": "DprDg-hKyOl1",
        "colab": {
          "base_uri": "https://localhost:8080/"
        },
        "outputId": "448c2efb-0ab5-4fc2-f722-7a92795b8649"
      },
      "outputs": [
        {
          "output_type": "stream",
          "name": "stdout",
          "text": [
            "MSCS From comsats universityMSCS From comsats university\n",
            "means if there's no file name as hello.txt , then it willl create one\n"
          ]
        }
      ],
      "source": [
        "file = open('hello.txt','a+')\n",
        "file.write(\"MSCS From comsats university\")\n",
        "file.close()\n",
        "file = open('hello.txt','r')\n",
        "str=file.read()\n",
        "print(str)\n",
        "file.close()\n",
        "\n",
        "print(\"means if there's no file name as hello.txt , then it willl create one\")\n"
      ]
    },
    {
      "cell_type": "markdown",
      "metadata": {
        "id": "l3Y11euJyOl1"
      },
      "source": [
        "## File Position"
      ]
    },
    {
      "cell_type": "markdown",
      "metadata": {
        "id": "3PeRgKfOyOl1"
      },
      "source": [
        " - tells() method tells the current position within the file.\n",
        " - seek() method changes the current file method.\n",
        " - Following is the syntax for seek() method:    fileObject.seek(offset[, whence])"
      ]
    },
    {
      "cell_type": "code",
      "execution_count": null,
      "metadata": {
        "scrolled": true,
        "id": "ONseEgUhyOl2",
        "colab": {
          "base_uri": "https://localhost:8080/"
        },
        "outputId": "c95830b8-7feb-4b39-efeb-6dc3c212d98e"
      },
      "outputs": [
        {
          "output_type": "stream",
          "name": "stdout",
          "text": [
            "read string is : MSCS From comsats un\n",
            "current file position is : 20\n",
            "MSCS F\n",
            "r\n",
            "seek 8 move to the o , if i read(1) it will display m\n",
            "m\n",
            "again read string is-:  comsats \n"
          ]
        }
      ],
      "source": [
        "f = open('hello.txt',\"r+\")\n",
        "str=f.read(20);\n",
        "print(\"read string is :\",str)\n",
        "\n",
        "position=f.tell();\n",
        "print(\"current file position is :\",position)\n",
        "\n",
        "position=f.seek(0);\n",
        "str=f.read(6);\n",
        "print(str)\n",
        "\n",
        "position=f.seek(6);\n",
        "str=f.read(1);\n",
        "print(str);\n",
        "\n",
        "position=f.seek(8);\n",
        "print(\"seek 8 move to the o , if i read(1) it will display m\")\n",
        "str=f.read(1)\n",
        "print(str);\n",
        "\n",
        "\n",
        "str=f.read(9);\n",
        "print(\"again read string is-:\",str)\n",
        "f.close()"
      ]
    },
    {
      "cell_type": "markdown",
      "metadata": {
        "id": "Tc7pA461yOl2"
      },
      "source": [
        "# 9.Pandas Introduction"
      ]
    },
    {
      "cell_type": "markdown",
      "metadata": {
        "id": "-Ua5TNpkyOl2"
      },
      "source": [
        "Pandas is an open-source Python Library providing high-performance data manipulation and analysis tool using its powerful data structures. The name Pandas is derived from the word Panel Data – an Econometrics from Multidimensional data. In 2008, developer Wes McKinney started developing pandas when in need of high performance, flexible tool for analysis of data.\n",
        "\n",
        "Prior to Pandas, Python was majorly used for data munging and preparation. It had very less contribution towards data analysis. Pandas solved this problem. Using Pandas, we can accomplish five typical steps in the processing and analysis of data, regardless of the origin of data — load, prepare, manipulate, model, and analyze.\n",
        "\n",
        "Python with Pandas is used in a wide range of fields including academic and commercial domains including finance, economics, Statistics, analytics, etc.\n",
        "\n",
        "#### Key Features of Pandas\n",
        "\n",
        "-  Fast and efficient DataFrame object with default and customized indexing.\n",
        "-  Tools for loading data into in-memory data objects from different file formats.\n",
        "-  Data alignment and integrated handling of missing data.\n",
        "-  Reshaping and pivoting of date sets.\n",
        "- Label-based slicing, indexing and subsetting of large data sets.\n",
        "- Columns from a data structure can be deleted or inserted.\n",
        "- Group by data for aggregation and transformations.\n",
        "- High performance merging and joining of data.\n",
        "- Time Series functionality.\n",
        "\n",
        "Pandas deals with the following three data structures:\n",
        "- Series\n",
        "- DataFrame\n",
        "- Panel\n",
        "\n",
        "These data structures are built on top of Numpy array, which means they are fast.\n"
      ]
    },
    {
      "cell_type": "markdown",
      "metadata": {
        "id": "7UhOYctbyOl2"
      },
      "source": [
        "# 10.Series"
      ]
    },
    {
      "cell_type": "markdown",
      "metadata": {
        "id": "F2ejGx40yOl3"
      },
      "source": [
        "- The Series is a one-dimensional array that can store various data types, including mix data types.\n",
        "- The row labels in a Series are called the index.\n",
        "- Any list, tuple and dictionary can be converted in to Series using ‘series’ method\n",
        "- Basic method to create a series: s = pd.Series(data, index = index)\n",
        "- Series is size immutable."
      ]
    },
    {
      "cell_type": "code",
      "execution_count": null,
      "metadata": {
        "id": "zfjalz43yOl3",
        "outputId": "30d303b0-95d5-4b26-8dd6-9b3e60911154",
        "colab": {
          "base_uri": "https://localhost:8080/"
        }
      },
      "outputs": [
        {
          "output_type": "execute_result",
          "data": {
            "text/plain": [
              "0                0\n",
              "1             JOHN\n",
              "2                2\n",
              "3                3\n",
              "4    Happy Eating!\n",
              "5         HAHAHAHA\n",
              "dtype: object"
            ]
          },
          "metadata": {},
          "execution_count": 86
        }
      ],
      "source": [
        "import pandas as pd\n",
        "s = pd.Series([0, 'JOHN', 2, 3, 'Happy Eating!','HAHAHAHA'])\n",
        "s\n"
      ]
    },
    {
      "cell_type": "markdown",
      "metadata": {
        "id": "dI6uBvULyOl3"
      },
      "source": [
        "## 10.1 Series creation from ndarray"
      ]
    },
    {
      "cell_type": "markdown",
      "metadata": {
        "id": "01S-Ny2HyOl3"
      },
      "source": [
        "- Index must be of same length as data. If no index is passed, it will automatically be [0, ..., len(data) - 1]"
      ]
    },
    {
      "cell_type": "code",
      "execution_count": null,
      "metadata": {
        "id": "cBjhyRc8yOl3",
        "outputId": "24476984-a22c-4657-90ee-09984bf90b6d",
        "colab": {
          "base_uri": "https://localhost:8080/"
        }
      },
      "outputs": [
        {
          "output_type": "stream",
          "name": "stdout",
          "text": [
            "<class 'pandas.core.series.Series'>\n",
            "Series([], dtype: float64)\n"
          ]
        },
        {
          "output_type": "stream",
          "name": "stderr",
          "text": [
            "<ipython-input-88-520620f5411b>:1: FutureWarning: The default dtype for empty Series will be 'object' instead of 'float64' in a future version. Specify a dtype explicitly to silence this warning.\n",
            "  first_series = pd.Series([])\n"
          ]
        }
      ],
      "source": [
        "first_series = pd.Series([])\n",
        "print(type(first_series))\n",
        "print(first_series)"
      ]
    },
    {
      "cell_type": "code",
      "execution_count": null,
      "metadata": {
        "id": "R3ZkJ1GmyOl3",
        "outputId": "9921b2d0-75d9-4f28-8846-f2f45f8b37d8",
        "colab": {
          "base_uri": "https://localhost:8080/"
        }
      },
      "outputs": [
        {
          "output_type": "stream",
          "name": "stdout",
          "text": [
            "a   -0.458168\n",
            "b   -2.119118\n",
            "c    2.307760\n",
            "d    0.763029\n",
            "e    0.793688\n",
            "dtype: float64\n",
            "--------------------------------------------------\n",
            "Index(['a', 'b', 'c', 'd', 'e'], dtype='object')\n"
          ]
        }
      ],
      "source": [
        "import numpy as np\n",
        "s = pd.Series(np.random.randn(5), index=['a', 'b', 'c', 'd', 'e'])\n",
        "print(s)\n",
        "print('-'*50)\n",
        "print(s.index)"
      ]
    },
    {
      "cell_type": "markdown",
      "metadata": {
        "id": "eMXtyavDyOl4"
      },
      "source": [
        "## 10.2 Series creation from dict"
      ]
    },
    {
      "cell_type": "markdown",
      "metadata": {
        "id": "hjoIsJ2IyOl4"
      },
      "source": [
        "- If Data is a dictionary, if index is passed the values in data corresponding to the labels in the index will be pulled out, otherwise an index will be constructed from the sorted keys of the dict."
      ]
    },
    {
      "cell_type": "code",
      "execution_count": null,
      "metadata": {
        "id": "4xrcGFoTyOl4",
        "outputId": "ac30a1e8-3fd1-4387-c066-03c7e91a023e"
      },
      "outputs": [
        {
          "data": {
            "text/plain": [
              "a    100.0\n",
              "b    200.0\n",
              "c    300.0\n",
              "dtype: float64"
            ]
          },
          "execution_count": 4,
          "metadata": {},
          "output_type": "execute_result"
        }
      ],
      "source": [
        "d = {'a': 100., 'b': 200., 'c': 300.}\n",
        "pd.Series(d)"
      ]
    },
    {
      "cell_type": "code",
      "execution_count": null,
      "metadata": {
        "id": "NkCxdZA_yOl4",
        "outputId": "8e4192bb-a8e5-4d8a-f7f1-9a51a362875b",
        "colab": {
          "base_uri": "https://localhost:8080/"
        }
      },
      "outputs": [
        {
          "output_type": "execute_result",
          "data": {
            "text/plain": [
              "abc    1\n",
              "def    2\n",
              "xyz    3\n",
              "rtz    6\n",
              "dtype: int64"
            ]
          },
          "metadata": {},
          "execution_count": 90
        }
      ],
      "source": [
        "data = {'abc': 1, 'def': 2, 'xyz': 3 , 'rtz': 6}\n",
        "pd.Series(data)"
      ]
    },
    {
      "cell_type": "markdown",
      "metadata": {
        "id": "H2MRRj99yOl4"
      },
      "source": [
        "## 10.3 Series creation from a scalar value"
      ]
    },
    {
      "cell_type": "markdown",
      "metadata": {
        "id": "KsGGOv8WyOl4"
      },
      "source": [
        "- Index must be provided. The value will be repeated to match the length of the index"
      ]
    },
    {
      "cell_type": "code",
      "execution_count": null,
      "metadata": {
        "id": "b6Nk_rYGyOl4",
        "outputId": "46a0c040-58c9-4cb2-d4fa-3a326d937a96",
        "colab": {
          "base_uri": "https://localhost:8080/"
        }
      },
      "outputs": [
        {
          "output_type": "execute_result",
          "data": {
            "text/plain": [
              "a    3\n",
              "b    3\n",
              "c    3\n",
              "e    3\n",
              "dtype: int64"
            ]
          },
          "metadata": {},
          "execution_count": 92
        }
      ],
      "source": [
        "pd.Series(3, index = ['a', 'b', 'c','e'])"
      ]
    },
    {
      "cell_type": "code",
      "execution_count": null,
      "metadata": {
        "id": "e6o_vTGqyOl5",
        "outputId": "9ac5a541-6008-4fed-fef7-c4e59f92ea70",
        "colab": {
          "base_uri": "https://localhost:8080/"
        }
      },
      "outputs": [
        {
          "output_type": "execute_result",
          "data": {
            "text/plain": [
              "a    3\n",
              "b    3\n",
              "c    3\n",
              "d    3\n",
              "dtype: int64"
            ]
          },
          "metadata": {},
          "execution_count": 95
        }
      ],
      "source": [
        " x = pd.Series(3, index=['a', 'b', 'c', 'd'])\n",
        "x\n",
        "\n",
        "#correct as well"
      ]
    },
    {
      "cell_type": "markdown",
      "metadata": {
        "id": "0friS_53yOl5"
      },
      "source": [
        "## 10.4 Series is ndarray-like"
      ]
    },
    {
      "cell_type": "markdown",
      "metadata": {
        "id": "Brz5h-cpyOl5"
      },
      "source": [
        "- Series acts similar to a numpy array, and is valid arguments to most numpy functions.\n",
        "- Slicing also slices the index\n",
        "- Short Intro, back to this later\n"
      ]
    },
    {
      "cell_type": "code",
      "execution_count": null,
      "metadata": {
        "id": "IqC55bSIyOl5",
        "outputId": "eca97af2-a13b-4d60-b3e6-313e61c26cb9",
        "colab": {
          "base_uri": "https://localhost:8080/"
        }
      },
      "outputs": [
        {
          "output_type": "stream",
          "name": "stdout",
          "text": [
            "a   -0.195757\n",
            "b   -1.566318\n",
            "c    0.057954\n",
            "d   -0.372150\n",
            "dtype: float64\n"
          ]
        }
      ],
      "source": [
        "s = pd.Series(np.random.randn(4), index=['a', 'b', 'c', 'd'])\n",
        "print(s)"
      ]
    },
    {
      "cell_type": "code",
      "execution_count": null,
      "metadata": {
        "id": "nSsIdb_YyOl5",
        "outputId": "fad859c8-39ca-4184-e95f-9ffad981e7da",
        "colab": {
          "base_uri": "https://localhost:8080/"
        }
      },
      "outputs": [
        {
          "output_type": "stream",
          "name": "stdout",
          "text": [
            "c   -1.926152\n",
            "b    0.239047\n",
            "e   -0.257779\n",
            "dtype: float64\n"
          ]
        }
      ],
      "source": [
        "# s = pd.Series(np.random.randn(5), index=['a', 'b', 'c', 'd', 'e'])\n",
        "# print(s.iloc([2,1,4]))\n",
        "\n",
        "\n",
        "s = pd.Series(np.random.randn(5), index=['a', 'b', 'c', 'd', 'e'])\n",
        "print(s.iloc[[2, 1, 4]])"
      ]
    },
    {
      "cell_type": "code",
      "execution_count": null,
      "metadata": {
        "id": "53e1vgcQyOl6",
        "outputId": "96ad0a67-8462-4023-8112-5e67b0909d2b",
        "colab": {
          "base_uri": "https://localhost:8080/"
        }
      },
      "outputs": [
        {
          "output_type": "stream",
          "name": "stdout",
          "text": [
            "a    1.042828\n",
            "b   -2.143889\n",
            "c    0.168888\n",
            "dtype: float64\n",
            "top 3\n"
          ]
        }
      ],
      "source": [
        "s = pd.Series(np.random.randn(5), index=['a', 'b', 'c', 'd', 'e'])\n",
        "print(s[:3])\n",
        "print(\"top 3\")"
      ]
    },
    {
      "cell_type": "code",
      "execution_count": null,
      "metadata": {
        "id": "TqGKKQbqyOl6",
        "outputId": "1a283b81-6e07-4423-e97e-6b58ea670053",
        "colab": {
          "base_uri": "https://localhost:8080/"
        }
      },
      "outputs": [
        {
          "output_type": "stream",
          "name": "stdout",
          "text": [
            "d   -1.664937\n",
            "c    2.040257\n",
            "b    0.421934\n",
            "a    0.460823\n",
            "dtype: float64\n",
            "3 stand for d,2for c,1for b , 0 for a\n"
          ]
        }
      ],
      "source": [
        "s = pd.Series(np.random.randn(5), index=['a', 'b', 'c', 'd', 'e'])\n",
        "print(s[[3,2,1,0]])\n",
        "\n",
        "print(\"3 stand for d,2for c,1for b , 0 for a\")"
      ]
    },
    {
      "cell_type": "code",
      "execution_count": null,
      "metadata": {
        "id": "3wxQHxy6yOl6",
        "outputId": "dec078e2-9467-442b-eaad-8a078a9f489c",
        "colab": {
          "base_uri": "https://localhost:8080/"
        }
      },
      "outputs": [
        {
          "output_type": "execute_result",
          "data": {
            "text/plain": [
              "a    2.829362\n",
              "b    1.053136\n",
              "c    3.707476\n",
              "d    2.872793\n",
              "e    0.365597\n",
              "f    2.520204\n",
              "dtype: float64"
            ]
          },
          "metadata": {},
          "execution_count": 106
        }
      ],
      "source": [
        "s = pd.Series(np.random.randn(6), index=['a', 'b', 'c', 'd', 'e','f'])\n",
        "np.exp(s)"
      ]
    },
    {
      "cell_type": "code",
      "execution_count": null,
      "metadata": {
        "id": "5iUQfdUhyOl6",
        "outputId": "4d458c6f-2c9a-49ce-9508-b43843385e7a",
        "colab": {
          "base_uri": "https://localhost:8080/"
        }
      },
      "outputs": [
        {
          "output_type": "stream",
          "name": "stdout",
          "text": [
            "get b value only\n"
          ]
        }
      ],
      "source": [
        "s = pd.Series(np.random.randn(5), index=['a', 'b', 'c', 'd', 'e'])\n",
        "s['b']\n",
        "print(\"get b value only\")"
      ]
    },
    {
      "cell_type": "code",
      "execution_count": null,
      "metadata": {
        "id": "UDDwezMayOl6",
        "outputId": "3990f305-fc9a-4018-b2d0-aa0d63ac1d0b",
        "colab": {
          "base_uri": "https://localhost:8080/"
        }
      },
      "outputs": [
        {
          "output_type": "stream",
          "name": "stdout",
          "text": [
            "set b value to 12\n"
          ]
        }
      ],
      "source": [
        "s = pd.Series(np.random.randn(5), index=['a', 'b', 'c', 'd', 'e'])\n",
        "s['b']=12.\n",
        "s\n",
        "\n",
        "print(\"set b value to 12\")"
      ]
    },
    {
      "cell_type": "code",
      "execution_count": null,
      "metadata": {
        "id": "k_XnicdVyOl7",
        "outputId": "502ccae4-b0dd-44ef-f6b7-8f07a0fb0676"
      },
      "outputs": [
        {
          "data": {
            "text/plain": [
              "True"
            ]
          },
          "execution_count": 14,
          "metadata": {},
          "output_type": "execute_result"
        }
      ],
      "source": [
        "s = pd.Series(np.random.randn(5), index=['a', 'b', 'c', 'd', 'e'])\n",
        "'e' in s"
      ]
    },
    {
      "cell_type": "code",
      "execution_count": null,
      "metadata": {
        "id": "uMCSf_Y2yOl7",
        "outputId": "12f102a2-5b74-4940-aa61-006908e93e65",
        "colab": {
          "base_uri": "https://localhost:8080/"
        }
      },
      "outputs": [
        {
          "output_type": "stream",
          "name": "stdout",
          "text": [
            "f not in the index\n"
          ]
        }
      ],
      "source": [
        "s = pd.Series(np.random.randn(5), index=['a', 'b', 'c', 'd', 'e'])\n",
        "'f' in s\n",
        "\n",
        "print(\"f not in the index\")"
      ]
    },
    {
      "cell_type": "markdown",
      "metadata": {
        "id": "FFBYK173yOl7"
      },
      "source": [
        "## 10.5 Series is dict-like"
      ]
    },
    {
      "cell_type": "markdown",
      "metadata": {
        "id": "D63HP5uryOl7"
      },
      "source": [
        "- A Series is like a xed-size dict in that you can get and set values by index label\n"
      ]
    },
    {
      "cell_type": "code",
      "execution_count": null,
      "metadata": {
        "id": "vaoksIR6yOl7",
        "outputId": "d046e62b-b309-4110-ad22-bb54ee42187b",
        "colab": {
          "base_uri": "https://localhost:8080/"
        }
      },
      "outputs": [
        {
          "output_type": "stream",
          "name": "stdout",
          "text": [
            "L stand for long integer\n"
          ]
        }
      ],
      "source": [
        "s = pd.Series([1, 2, 3, 4])\n",
        "s.to_dict()\n",
        "\n",
        "print(\"L stand for long integer\")"
      ]
    },
    {
      "cell_type": "markdown",
      "metadata": {
        "id": "180ETyUjyOl8"
      },
      "source": [
        "## 10.6 Vectorized operations and label alignment with Series"
      ]
    },
    {
      "cell_type": "markdown",
      "metadata": {
        "id": "KCB-XKkvyOl8"
      },
      "source": [
        "- When doing data analysis,as with the row NumPy arrays looping through series value by value is usually not necessary.\n",
        "- Series can also be passed into most NumPy method expecting an ndarray.\n",
        "- NumPy and Pandas generalize arithmetic operations so that we can easily and quickly perform the same operation on many array elements. For example:"
      ]
    },
    {
      "cell_type": "code",
      "execution_count": null,
      "metadata": {
        "id": "yb9MTS7uyOl8",
        "colab": {
          "base_uri": "https://localhost:8080/"
        },
        "outputId": "07ec314b-cd72-4dfa-de77-c391ab5870e2"
      },
      "outputs": [
        {
          "output_type": "stream",
          "name": "stdout",
          "text": [
            "all index value x2 \n"
          ]
        }
      ],
      "source": [
        "import numpy as np\n",
        "x = np.array([2, 3, 5, 7, 11, 13])\n",
        "x * 2\n",
        "print(\"all index value x2 \")"
      ]
    },
    {
      "cell_type": "code",
      "execution_count": null,
      "metadata": {
        "id": "T0XjCey7yOl8",
        "colab": {
          "base_uri": "https://localhost:8080/"
        },
        "outputId": "25396ca6-079b-4a00-f196-b66bc633ef50"
      },
      "outputs": [
        {
          "output_type": "execute_result",
          "data": {
            "text/plain": [
              "['Saima', 'Aisha', 'Faiza', 'Saira']"
            ]
          },
          "metadata": {},
          "execution_count": 113
        }
      ],
      "source": [
        "data = ['saima', 'aisha', 'faiza', 'saira']\n",
        "[s.capitalize() for s in data]"
      ]
    },
    {
      "cell_type": "markdown",
      "metadata": {
        "id": "bpxpEP8EyOl8"
      },
      "source": [
        "# 11.Data Frames"
      ]
    },
    {
      "cell_type": "markdown",
      "metadata": {
        "id": "8BXIK4ggyOl8"
      },
      "source": [
        "- A DataFrame is a two dimensional object that can have columns with potential different types. Different kind of inputs include dictionaries, lists, series, and even another DataFrame.\n",
        "- It is the most commonly used pandas object.\n",
        "- You can create a series from:\n",
        "    - Dict of 1D ndarrays, lists, dicts, or Series\n",
        "    - 2-D numpy array\n",
        "    - A list of dictionaries\n",
        "    - A Series\n",
        "    - Another Dataframe\n",
        "  \n",
        "- index/ columns is a list of the row/ column labels. If you pass an index and/ or columns, you are guarenteeing the index and /or column of the df.\n",
        "- If you do not pass anything in, the input will be constructed by \"common sense\" rules"
      ]
    },
    {
      "cell_type": "code",
      "execution_count": null,
      "metadata": {
        "id": "1J32JzcfyOl8",
        "colab": {
          "base_uri": "https://localhost:8080/"
        },
        "outputId": "d9be22be-4dcf-455d-d7ca-e74a25771a91"
      },
      "outputs": [
        {
          "output_type": "execute_result",
          "data": {
            "text/plain": [
              "DatetimeIndex(['2013-01-01', '2013-01-02', '2013-01-03', '2013-01-04',\n",
              "               '2013-01-05', '2013-01-06', '2013-01-07', '2013-01-08',\n",
              "               '2013-01-09', '2013-01-10'],\n",
              "              dtype='datetime64[ns]', freq='D')"
            ]
          },
          "metadata": {},
          "execution_count": 120
        }
      ],
      "source": [
        "dates = pd.date_range('20130101',periods=10)\n",
        "dates"
      ]
    },
    {
      "cell_type": "markdown",
      "metadata": {
        "id": "4p-RjZzryOl9"
      },
      "source": [
        "## 11.1 Dataframe creation from dict of series or dicts"
      ]
    },
    {
      "cell_type": "markdown",
      "metadata": {
        "id": "TwildvJwyOl9"
      },
      "source": [
        " - The index of the resulting DataFrame will be the union of the indices of the various Series. If there are any nested dicts, these will be converted to Series.\n",
        " - If no columns are passed, the columns will be the sorted list of dict keys."
      ]
    },
    {
      "cell_type": "code",
      "execution_count": null,
      "metadata": {
        "id": "jMeigrnSyOl9",
        "outputId": "378a969b-94d8-4fd0-e959-f1f02671e093",
        "colab": {
          "base_uri": "https://localhost:8080/"
        }
      },
      "outputs": [
        {
          "output_type": "stream",
          "name": "stdout",
          "text": [
            "   one  two\n",
            "a  1.0    0\n",
            "b  2.0    1\n",
            "c  3.0    2\n",
            "d  4.0    3\n",
            "e  NaN    4\n"
          ]
        }
      ],
      "source": [
        "# Create a dictionary of series\n",
        "d = {'one': pd.Series([1,2,3,4], index = ['a', 'b', 'c','d']),\n",
        "'two': pd.Series(list(range(5)), index = ['a','b', 'c', 'd','e'])}\n",
        "# Columns are dictionary keys, indices and values obtained from series\n",
        "df = pd.DataFrame(d)\n",
        "# Notice how it fills the column one with NaN for d\n",
        "print(df)"
      ]
    },
    {
      "cell_type": "code",
      "execution_count": null,
      "metadata": {
        "id": "TUxXLngayOl-",
        "outputId": "04ff935f-0f34-4dd3-c68b-ee1653d37391",
        "colab": {
          "base_uri": "https://localhost:8080/",
          "height": 770
        }
      },
      "outputs": [
        {
          "output_type": "execute_result",
          "data": {
            "text/plain": [
              "   col1  col2\n",
              "0     1     3\n",
              "1     2     4"
            ],
            "text/html": [
              "\n",
              "  <div id=\"df-5243a26c-3b63-4dff-a745-6988542bc7b8\" class=\"colab-df-container\">\n",
              "    <div>\n",
              "<style scoped>\n",
              "    .dataframe tbody tr th:only-of-type {\n",
              "        vertical-align: middle;\n",
              "    }\n",
              "\n",
              "    .dataframe tbody tr th {\n",
              "        vertical-align: top;\n",
              "    }\n",
              "\n",
              "    .dataframe thead th {\n",
              "        text-align: right;\n",
              "    }\n",
              "</style>\n",
              "<table border=\"1\" class=\"dataframe\">\n",
              "  <thead>\n",
              "    <tr style=\"text-align: right;\">\n",
              "      <th></th>\n",
              "      <th>col1</th>\n",
              "      <th>col2</th>\n",
              "    </tr>\n",
              "  </thead>\n",
              "  <tbody>\n",
              "    <tr>\n",
              "      <th>0</th>\n",
              "      <td>1</td>\n",
              "      <td>3</td>\n",
              "    </tr>\n",
              "    <tr>\n",
              "      <th>1</th>\n",
              "      <td>2</td>\n",
              "      <td>4</td>\n",
              "    </tr>\n",
              "  </tbody>\n",
              "</table>\n",
              "</div>\n",
              "    <div class=\"colab-df-buttons\">\n",
              "\n",
              "  <div class=\"colab-df-container\">\n",
              "    <button class=\"colab-df-convert\" onclick=\"convertToInteractive('df-5243a26c-3b63-4dff-a745-6988542bc7b8')\"\n",
              "            title=\"Convert this dataframe to an interactive table.\"\n",
              "            style=\"display:none;\">\n",
              "\n",
              "  <svg xmlns=\"http://www.w3.org/2000/svg\" height=\"24px\" viewBox=\"0 -960 960 960\">\n",
              "    <path d=\"M120-120v-720h720v720H120Zm60-500h600v-160H180v160Zm220 220h160v-160H400v160Zm0 220h160v-160H400v160ZM180-400h160v-160H180v160Zm440 0h160v-160H620v160ZM180-180h160v-160H180v160Zm440 0h160v-160H620v160Z\"/>\n",
              "  </svg>\n",
              "    </button>\n",
              "\n",
              "  <style>\n",
              "    .colab-df-container {\n",
              "      display:flex;\n",
              "      gap: 12px;\n",
              "    }\n",
              "\n",
              "    .colab-df-convert {\n",
              "      background-color: #E8F0FE;\n",
              "      border: none;\n",
              "      border-radius: 50%;\n",
              "      cursor: pointer;\n",
              "      display: none;\n",
              "      fill: #1967D2;\n",
              "      height: 32px;\n",
              "      padding: 0 0 0 0;\n",
              "      width: 32px;\n",
              "    }\n",
              "\n",
              "    .colab-df-convert:hover {\n",
              "      background-color: #E2EBFA;\n",
              "      box-shadow: 0px 1px 2px rgba(60, 64, 67, 0.3), 0px 1px 3px 1px rgba(60, 64, 67, 0.15);\n",
              "      fill: #174EA6;\n",
              "    }\n",
              "\n",
              "    .colab-df-buttons div {\n",
              "      margin-bottom: 4px;\n",
              "    }\n",
              "\n",
              "    [theme=dark] .colab-df-convert {\n",
              "      background-color: #3B4455;\n",
              "      fill: #D2E3FC;\n",
              "    }\n",
              "\n",
              "    [theme=dark] .colab-df-convert:hover {\n",
              "      background-color: #434B5C;\n",
              "      box-shadow: 0px 1px 3px 1px rgba(0, 0, 0, 0.15);\n",
              "      filter: drop-shadow(0px 1px 2px rgba(0, 0, 0, 0.3));\n",
              "      fill: #FFFFFF;\n",
              "    }\n",
              "  </style>\n",
              "\n",
              "    <script>\n",
              "      const buttonEl =\n",
              "        document.querySelector('#df-5243a26c-3b63-4dff-a745-6988542bc7b8 button.colab-df-convert');\n",
              "      buttonEl.style.display =\n",
              "        google.colab.kernel.accessAllowed ? 'block' : 'none';\n",
              "\n",
              "      async function convertToInteractive(key) {\n",
              "        const element = document.querySelector('#df-5243a26c-3b63-4dff-a745-6988542bc7b8');\n",
              "        const dataTable =\n",
              "          await google.colab.kernel.invokeFunction('convertToInteractive',\n",
              "                                                    [key], {});\n",
              "        if (!dataTable) return;\n",
              "\n",
              "        const docLinkHtml = 'Like what you see? Visit the ' +\n",
              "          '<a target=\"_blank\" href=https://colab.research.google.com/notebooks/data_table.ipynb>data table notebook</a>'\n",
              "          + ' to learn more about interactive tables.';\n",
              "        element.innerHTML = '';\n",
              "        dataTable['output_type'] = 'display_data';\n",
              "        await google.colab.output.renderOutput(dataTable, element);\n",
              "        const docLink = document.createElement('div');\n",
              "        docLink.innerHTML = docLinkHtml;\n",
              "        element.appendChild(docLink);\n",
              "      }\n",
              "    </script>\n",
              "  </div>\n",
              "\n",
              "\n",
              "<div id=\"df-ab6feadf-c53f-4dbb-ac83-7809873a25f0\">\n",
              "  <button class=\"colab-df-quickchart\" onclick=\"quickchart('df-ab6feadf-c53f-4dbb-ac83-7809873a25f0')\"\n",
              "            title=\"Suggest charts\"\n",
              "            style=\"display:none;\">\n",
              "\n",
              "<svg xmlns=\"http://www.w3.org/2000/svg\" height=\"24px\"viewBox=\"0 0 24 24\"\n",
              "     width=\"24px\">\n",
              "    <g>\n",
              "        <path d=\"M19 3H5c-1.1 0-2 .9-2 2v14c0 1.1.9 2 2 2h14c1.1 0 2-.9 2-2V5c0-1.1-.9-2-2-2zM9 17H7v-7h2v7zm4 0h-2V7h2v10zm4 0h-2v-4h2v4z\"/>\n",
              "    </g>\n",
              "</svg>\n",
              "  </button>\n",
              "\n",
              "<style>\n",
              "  .colab-df-quickchart {\n",
              "      --bg-color: #E8F0FE;\n",
              "      --fill-color: #1967D2;\n",
              "      --hover-bg-color: #E2EBFA;\n",
              "      --hover-fill-color: #174EA6;\n",
              "      --disabled-fill-color: #AAA;\n",
              "      --disabled-bg-color: #DDD;\n",
              "  }\n",
              "\n",
              "  [theme=dark] .colab-df-quickchart {\n",
              "      --bg-color: #3B4455;\n",
              "      --fill-color: #D2E3FC;\n",
              "      --hover-bg-color: #434B5C;\n",
              "      --hover-fill-color: #FFFFFF;\n",
              "      --disabled-bg-color: #3B4455;\n",
              "      --disabled-fill-color: #666;\n",
              "  }\n",
              "\n",
              "  .colab-df-quickchart {\n",
              "    background-color: var(--bg-color);\n",
              "    border: none;\n",
              "    border-radius: 50%;\n",
              "    cursor: pointer;\n",
              "    display: none;\n",
              "    fill: var(--fill-color);\n",
              "    height: 32px;\n",
              "    padding: 0;\n",
              "    width: 32px;\n",
              "  }\n",
              "\n",
              "  .colab-df-quickchart:hover {\n",
              "    background-color: var(--hover-bg-color);\n",
              "    box-shadow: 0 1px 2px rgba(60, 64, 67, 0.3), 0 1px 3px 1px rgba(60, 64, 67, 0.15);\n",
              "    fill: var(--button-hover-fill-color);\n",
              "  }\n",
              "\n",
              "  .colab-df-quickchart-complete:disabled,\n",
              "  .colab-df-quickchart-complete:disabled:hover {\n",
              "    background-color: var(--disabled-bg-color);\n",
              "    fill: var(--disabled-fill-color);\n",
              "    box-shadow: none;\n",
              "  }\n",
              "\n",
              "  .colab-df-spinner {\n",
              "    border: 2px solid var(--fill-color);\n",
              "    border-color: transparent;\n",
              "    border-bottom-color: var(--fill-color);\n",
              "    animation:\n",
              "      spin 1s steps(1) infinite;\n",
              "  }\n",
              "\n",
              "  @keyframes spin {\n",
              "    0% {\n",
              "      border-color: transparent;\n",
              "      border-bottom-color: var(--fill-color);\n",
              "      border-left-color: var(--fill-color);\n",
              "    }\n",
              "    20% {\n",
              "      border-color: transparent;\n",
              "      border-left-color: var(--fill-color);\n",
              "      border-top-color: var(--fill-color);\n",
              "    }\n",
              "    30% {\n",
              "      border-color: transparent;\n",
              "      border-left-color: var(--fill-color);\n",
              "      border-top-color: var(--fill-color);\n",
              "      border-right-color: var(--fill-color);\n",
              "    }\n",
              "    40% {\n",
              "      border-color: transparent;\n",
              "      border-right-color: var(--fill-color);\n",
              "      border-top-color: var(--fill-color);\n",
              "    }\n",
              "    60% {\n",
              "      border-color: transparent;\n",
              "      border-right-color: var(--fill-color);\n",
              "    }\n",
              "    80% {\n",
              "      border-color: transparent;\n",
              "      border-right-color: var(--fill-color);\n",
              "      border-bottom-color: var(--fill-color);\n",
              "    }\n",
              "    90% {\n",
              "      border-color: transparent;\n",
              "      border-bottom-color: var(--fill-color);\n",
              "    }\n",
              "  }\n",
              "</style>\n",
              "\n",
              "  <script>\n",
              "    async function quickchart(key) {\n",
              "      const quickchartButtonEl =\n",
              "        document.querySelector('#' + key + ' button');\n",
              "      quickchartButtonEl.disabled = true;  // To prevent multiple clicks.\n",
              "      quickchartButtonEl.classList.add('colab-df-spinner');\n",
              "      try {\n",
              "        const charts = await google.colab.kernel.invokeFunction(\n",
              "            'suggestCharts', [key], {});\n",
              "      } catch (error) {\n",
              "        console.error('Error during call to suggestCharts:', error);\n",
              "      }\n",
              "      quickchartButtonEl.classList.remove('colab-df-spinner');\n",
              "      quickchartButtonEl.classList.add('colab-df-quickchart-complete');\n",
              "    }\n",
              "    (() => {\n",
              "      let quickchartButtonEl =\n",
              "        document.querySelector('#df-ab6feadf-c53f-4dbb-ac83-7809873a25f0 button');\n",
              "      quickchartButtonEl.style.display =\n",
              "        google.colab.kernel.accessAllowed ? 'block' : 'none';\n",
              "    })();\n",
              "  </script>\n",
              "</div>\n",
              "\n",
              "  <div id=\"id_040b0c6a-f53d-4070-9cc1-3e228c54fe62\">\n",
              "    <style>\n",
              "      .colab-df-generate {\n",
              "        background-color: #E8F0FE;\n",
              "        border: none;\n",
              "        border-radius: 50%;\n",
              "        cursor: pointer;\n",
              "        display: none;\n",
              "        fill: #1967D2;\n",
              "        height: 32px;\n",
              "        padding: 0 0 0 0;\n",
              "        width: 32px;\n",
              "      }\n",
              "\n",
              "      .colab-df-generate:hover {\n",
              "        background-color: #E2EBFA;\n",
              "        box-shadow: 0px 1px 2px rgba(60, 64, 67, 0.3), 0px 1px 3px 1px rgba(60, 64, 67, 0.15);\n",
              "        fill: #174EA6;\n",
              "      }\n",
              "\n",
              "      [theme=dark] .colab-df-generate {\n",
              "        background-color: #3B4455;\n",
              "        fill: #D2E3FC;\n",
              "      }\n",
              "\n",
              "      [theme=dark] .colab-df-generate:hover {\n",
              "        background-color: #434B5C;\n",
              "        box-shadow: 0px 1px 3px 1px rgba(0, 0, 0, 0.15);\n",
              "        filter: drop-shadow(0px 1px 2px rgba(0, 0, 0, 0.3));\n",
              "        fill: #FFFFFF;\n",
              "      }\n",
              "    </style>\n",
              "    <button class=\"colab-df-generate\" onclick=\"generateWithVariable('df')\"\n",
              "            title=\"Generate code using this dataframe.\"\n",
              "            style=\"display:none;\">\n",
              "\n",
              "  <svg xmlns=\"http://www.w3.org/2000/svg\" height=\"24px\"viewBox=\"0 0 24 24\"\n",
              "       width=\"24px\">\n",
              "    <path d=\"M7,19H8.4L18.45,9,17,7.55,7,17.6ZM5,21V16.75L18.45,3.32a2,2,0,0,1,2.83,0l1.4,1.43a1.91,1.91,0,0,1,.58,1.4,1.91,1.91,0,0,1-.58,1.4L9.25,21ZM18.45,9,17,7.55Zm-12,3A5.31,5.31,0,0,0,4.9,8.1,5.31,5.31,0,0,0,1,6.5,5.31,5.31,0,0,0,4.9,4.9,5.31,5.31,0,0,0,6.5,1,5.31,5.31,0,0,0,8.1,4.9,5.31,5.31,0,0,0,12,6.5,5.46,5.46,0,0,0,6.5,12Z\"/>\n",
              "  </svg>\n",
              "    </button>\n",
              "    <script>\n",
              "      (() => {\n",
              "      const buttonEl =\n",
              "        document.querySelector('#id_040b0c6a-f53d-4070-9cc1-3e228c54fe62 button.colab-df-generate');\n",
              "      buttonEl.style.display =\n",
              "        google.colab.kernel.accessAllowed ? 'block' : 'none';\n",
              "\n",
              "      buttonEl.onclick = () => {\n",
              "        google.colab.notebook.generateWithVariable('df');\n",
              "      }\n",
              "      })();\n",
              "    </script>\n",
              "  </div>\n",
              "\n",
              "    </div>\n",
              "  </div>\n"
            ]
          },
          "metadata": {},
          "execution_count": 124
        },
        {
          "output_type": "display_data",
          "data": {
            "text/plain": [
              "<google.colab._quickchart_helpers.SectionTitle at 0x7f36b4336830>"
            ],
            "text/html": [
              "<h4 class=\"colab-quickchart-section-title\">Distributions</h4>\n",
              "<style>\n",
              "  .colab-quickchart-section-title {\n",
              "      clear: both;\n",
              "  }\n",
              "</style>"
            ]
          },
          "metadata": {}
        },
        {
          "output_type": "display_data",
          "data": {
            "text/plain": [
              "from matplotlib import pyplot as plt\n",
              "_df_0['index'].plot(kind='hist', bins=20, title='index')\n",
              "plt.gca().spines[['top', 'right',]].set_visible(False)"
            ],
            "text/html": [
              "      <div class=\"colab-quickchart-chart-with-code\" id=\"chart-80fa09e3-6b8a-4da0-a6f5-bd40ffdba18b\">\n",
              "        <img style=\"width: 180px;\" src=\"data:image/png;base64,iVBORw0KGgoAAAANSUhEUgAAAioAAAGrCAYAAADuNLxTAAAAOXRFWHRTb2Z0d2FyZQBNYXRwbG90\n",
              "bGliIHZlcnNpb24zLjcuMSwgaHR0cHM6Ly9tYXRwbG90bGliLm9yZy/bCgiHAAAACXBIWXMAAA9h\n",
              "AAAPYQGoP6dpAAAex0lEQVR4nO3dfZCV5X3/8c/KpttUBYyBQICVIIJoFIJC/YFtVSZTbARTsJlo\n",
              "idDIg9YZ2+IES9SJTy3GTqaxZjKu4tAapkksmIRqHmYMxmqCAmp8wBpAxUWD4MSRJY0iu9y/P5zs\n",
              "ZEuwLNmzey28XjNnhnP22nu/5xon+8459567rqqqKgAABTqipwcAANgfoQIAFEuoAADFEioAQLGE\n",
              "CgBQLKECABRLqAAAxRIqAECxhAoAUCyhAtTMueeemxtvvPGgv//MM8/Mdddd13UDAb1OfU8PABy6\n",
              "vve97/X0CEAv5xUVAKBYQgWombPOOivXXHNNkqSuri633XZbJk+enKOOOiqnnHJKHnnkkfa1ra2t\n",
              "WbRoUQYNGpQBAwZk8eLF+xzv1VdfzUUXXZQhQ4Zk4MCBufDCC/P6668nSX70ox/lyCOPzLp165Ik\n",
              "VVXlE5/4RKZNmxbXXoXeS6gA3Wbp0qX5t3/7t7z55puZMmVK/vIv/7L9a7fcckvuueeerF69Oq+8\n",
              "8krq6+vz2GOPtX999+7dmTJlSj784Q9n48aNefHFF1NfX5+LLrooybtRdN111+WCCy7IL37xi9x4\n",
              "4415/vnn87WvfS11dXXd/lyBriFUgG5z5ZVXZuTIkamvr8+8efPS3Nyc7du3J0mWLVuWK6+8Mied\n",
              "dFIaGhpy3XXX5Zhjjmn/3vvvvz+7du3KP/3TP+XII4/MUUcdlZtvvjkPPPBAXnnllSTJ5z73uUyY\n",
              "MCFTpkzJLbfckpUrV6Z///498VSBLuJkWqDbfPjDH27/95FHHpkk2bVrVz70oQ/llVdeyUc+8pH2\n",
              "r/fp0yeNjY3t9zdt2pTt27d3iJckaWhoSHNzc4YOHZokWbhwYSZPnpwLL7ww48aNq+GzAbqDUAGK\n",
              "MHTo0GzZsqX9fltbW7Zu3dp+f9CgQTnuuOPywgsv7PcYO3fuzOzZs3PJJZfknnvuyX/+539m2rRp\n",
              "tRwbqDFv/QBFmD17dr70pS/l+eefz+7du3PDDTfkjTfeaP/6jBkzsmfPnlx77bXZuXNnkmTHjh35\n",
              "5je/meTdk2dnz56d0aNH584770xTU1MuvvjivPjiiz3yfICuIVSAIlx11VWZMWNG/uRP/iRDhw7N\n",
              "O++8kz/8wz9s//rRRx+dNWvWpLm5Oaecckr69u2bSZMm5b/+67+SJF/84hfz9NNPt588e+GFF2bW\n",
              "rFmZOXNm3nrrrZ56WsDvqK7yd3sAQKG8ogIAFEuoAADFEioAQLGECgBQLKECABRLqAAAxRIqAECx\n",
              "DolQufXWW3t6BACgBg6JUHn55Zd7egQAoAYOiVABAA5NQgUAKJZQAQCKJVQAgGIJFQCgWEIFACiW\n",
              "UAEAiiVUAIBiCRUAoFhCBQAollABAIolVACAYtU0VK644ooMHz48dXV1+elPf7rfdXfddVdOOOGE\n",
              "HH/88Zk3b1727NlTy7EAgF6ipqFywQUX5JFHHslxxx233zUvvfRSrr322jz88MPZvHlztm/fnjvu\n",
              "uKOWYwEAvURNQ+WP//iPM3To0Pdcs2LFikyfPj2DBg1KXV1dLr300nz961/f7/rdu3enpaWlw62t\n",
              "ra2rRwcAClDf0wM0Nzd3eMVl+PDhaW5u3u/6JUuW5Prrr+/w2BlnnFGT2Yb//f01OW6SbLn5EzU7\n",
              "NgCHn1r9zurp31e97mTaxYsXZ+fOnR1uEydO7OmxAIAa6PFXVBobG/PCCy+039+yZUsaGxv3u76h\n",
              "oSENDQ0dHuvTp0/N5gMAek6Pv6Iyc+bMrFq1Kq+99lqqqsrtt9+eT3/60z09FgBQgJqGyoIFCzJ0\n",
              "6NC88sor+dM//dOMHDkySTJ37tysWrUqSTJixIhcf/31mTx5ckaOHJkBAwZkwYIFtRwLAOglavrW\n",
              "T1NT0299fOnSpR3uz5s3L/PmzavlKABAL9Tjb/0AAOyPUAEAiiVUAIBiCRUAoFhCBQAollABAIol\n",
              "VACAYgkVAKBYQgUAKJZQAQCKJVQAgGIJFQCgWEIFACiWUAEAiiVUAIBiCRUAoFhCBQAollABAIol\n",
              "VACAYgkVAKBYQgUAKJZQAQCKJVQAgGIJFQCgWEIFACiWUAEAiiVUAIBiCRUAoFhCBQAollABAIol\n",
              "VACAYgkVAKBYQgUAKJZQAQCKJVQAgGIJFQCgWEIFACiWUAEAiiVUAIBiCRUAoFhCBQAollABAIol\n",
              "VACAYgkVAKBYQgUAKJZQAQCKJVQAgGIJFQCgWEIFACiWUAEAiiVUAIBiCRUAoFhCBQAollABAIol\n",
              "VACAYgkVAKBYQgUAKJZQAQCKJVQAgGIJFQCgWEIFAChWTUNl06ZNmTRpUkaNGpUJEyZkw4YN+6zZ\n",
              "u3dvFi5cmJNOOimnnnpqzj777GzevLmWYwEAvURNQ2XBggWZP39+Nm7cmKuuuipz5szZZ82qVavy\n",
              "4x//OE899VSefvrpTJkyJZ///OdrORYA0EvULFR27NiR9evXZ9asWUmSmTNnZuvWrfu8WlJXV5fd\n",
              "u3fn7bffTlVVaWlpydChQ2s1FgDQi9TX6sBbt27N4MGDU1//7o+oq6tLY2NjmpubM3LkyPZ106ZN\n",
              "y4MPPphBgwbl6KOPzpAhQ/LQQw/t97i7d+/O7t27OzzW1tZWmycBAPSoHj+Zdv369Xn22Wfz6quv\n",
              "5uc//3mmTJmSSy+9dL/rlyxZkn79+nW4rV27thsnBgC6S81CZdiwYdm2bVtaW1uTJFVVpbm5OY2N\n",
              "jR3W3X333TnnnHPSv3//HHHEEZk9e3YefPDB/R538eLF2blzZ4fbxIkTa/U0AIAeVLNQGThwYMaP\n",
              "H5/ly5cnSVauXJmhQ4d2eNsnSUaMGJHVq1fnnXfeSZLcd999+ehHP7rf4zY0NKRv374dbn369KnV\n",
              "0wAAelDNzlFJkqampsyZMyf/+I//mL59+2bZsmVJkrlz52b69OmZPn16Lr/88vz3f/93xo4dm/e9\n",
              "730ZNGhQbr/99lqOBQD0EjUNldGjR2fNmjX7PL506dL2fzc0NOTOO++s5RgAQC/V4yfTAgDsj1AB\n",
              "AIolVACAYgkVAKBYQgUAKJZQAQCKJVQAgGIJFQCgWEIFACiWUAEAiiVUAIBiCRUAoFhCBQAollAB\n",
              "AIolVACAYgkVAKBYQgUAKJZQAQCKJVQAgGIJFQCgWEIFACiWUAEAiiVUAIBiCRUAoFhCBQAollAB\n",
              "AIolVACAYgkVAKBYQgUAKJZQAQCKJVQAgGIJFQCgWEIFACiWUAEAiiVUAIBiCRUAoFhCBQAollAB\n",
              "AIolVACAYgkVAKBYQgUAKJZQAQCKJVQAgGIJFQCgWEIFACiWUAEAiiVUAIBiCRUAoFhCBQAollAB\n",
              "AIolVACAYgkVAKBYQgUAKJZQAQCKJVQAgGIJFQCgWEIFACiWUAEAiiVUAIBiCRUAoFhCBQAollAB\n",
              "AIpV01DZtGlTJk2alFGjRmXChAnZsGHDb133zDPP5KyzzsqYMWMyZsyY3HvvvbUcCwDoJeprefAF\n",
              "CxZk/vz5mTNnTlasWJE5c+Zk3bp1Hdb86le/yvnnn5+77747Z555Ztra2vLGG2/UciwAoJeo2Ssq\n",
              "O3bsyPr16zNr1qwkycyZM7N169Zs3ry5w7p///d/zxlnnJEzzzwzSdKnT58MGDBgv8fdvXt3Wlpa\n",
              "Otza2tpq9TQAgB5Us1DZunVrBg8enPr6d1+0qaurS2NjY5qbmzuse+6559LQ0JDzzjsv48aNy8UX\n",
              "X5zXX399v8ddsmRJ+vXr1+G2du3aWj0NAKAHdTpUfvCDH3TpAK2trXnggQfS1NSUJ598MkOGDMll\n",
              "l1223/WLFy/Ozp07O9wmTpzYpTMBAGXodKjccMMNGT16dG699da0tLTsd92wYcOybdu2tLa2Jkmq\n",
              "qkpzc3MaGxs7rGtsbMzZZ5+dIUOGpK6uLrNmzcqjjz663+M2NDSkb9++HW59+vTp7NMAAHqBTofK\n",
              "j3/843zjG9/Is88+m1GjRuWv//qv89xzz+2zbuDAgRk/fnyWL1+eJFm5cmWGDh2akSNHdlj3qU99\n",
              "KuvWrWuPnu9+97sZO3bswTwXAOAQc1DnqHzsYx/LnXfeme9///u57777cuqpp+bjH/94nnnmmQ7r\n",
              "mpqa0tTUlFGjRuXmm2/OsmXLkiRz587NqlWrkrz7isrnP//5TJo0KaeeempWr16d22+//Xd8WgDA\n",
              "oeCg/jz5gQceyG233ZZnnnkml19+eS655JL86Ec/yp//+Z93+Kue0aNHZ82aNft8/9KlSzvc/8xn\n",
              "PpPPfOYzBzMKAHAI63SojBkzJh/84AdzxRVXZMaMGe3nh1xwwQW56667unxAAODw1elQWb58eU47\n",
              "7bTf+rXvfe97v/NAAAC/1ulzVB5//PEOnxz7i1/8InfeeWeXDgUAkBxEqHz1q1/NBz7wgfb7xx57\n",
              "bL761a926VAAAMlBhEpVVfs85iPsAYBa6HSoDB48OPfcc0/7/W9+85sZPHhwlw4FAJAcxMm0X/7y\n",
              "l3P++edn0aJFSZI/+IM/yHe+850uHwwAoNOhcuKJJ+a5557Lz372syTvflaKj7AHAGrhoD7wra6u\n",
              "Lv37909ra2teffXVJNnnGj4AAL+rTofKv/7rv+aKK67I+973vhxxxLunuNTV1WXHjh1dPhwAcHjr\n",
              "dKjceOONWbduXUaPHl2LeQAA2nX6r34++MEPihQAoFt0OlQ++clP5stf/nJ27NiRlpaW9hsAQFfr\n",
              "9Fs/V199dZJk4cKFqaurS1VVqaur86FvAECX63So7N27txZzAADso9Nv/STvXpjwa1/7WpLkzTff\n",
              "zLZt27p0KACA5CAvSvjZz3421113XZJ3r5580UUXdfVcAACdD5U77rgjjz76aPr27ZskOf744/P6\n",
              "6693+WAAAJ0OlYaGhrz//e/v8Fh9/UF9wC0AwHvqdKgMGDAgGzduTF1dXZJ3P6nWx+cDALVwUFdP\n",
              "vvDCC/P8889n2LBh6du3b+67775azAYAHOY6HSojR47MY489lp/97GepqsrVkwGAmul0qDQ3NydJ\n",
              "jjzyyCRx9WQAoGY6HSqnnXZa+yfSvv322/nVr36VY4891tWTAYAu1+lQ+d9/inzvvffmqaee6rKB\n",
              "AAB+7aA+mfY3zZgxI/fff39XzAIA0EGnX1H5zSslt7W15bHHHnP1ZACgJjodKv37928/R6VPnz45\n",
              "4YQT8i//8i+1mA0AOMy5ejIAUKzf+RwVAIBa6fQrKkcccUT7x+f/pqqqUldXl7a2ti4ZDACg06Fy\n",
              "ww035K233spll12WJLn99tvz/ve/P3/7t3/b1bMBAIe5TofKt771rTz++OPt92+66aacdtppufrq\n",
              "q7t0MACATp+jsmvXrg6fQrtjx47s2rWrS4cCAEgO4hWVK6+8MmPHjs2f/dmfJUm+//3v57rrruvq\n",
              "uQAAOh8qCxYsyOTJk/Pggw8mSRYuXJiTTz65ywcDAOh0qCTJsccem1NOOSVnnXVWWltb88477+T3\n",
              "fu/3uno2AOAw1+lzVFasWJEzzjgjf/VXf5Uk2bBhQz75yU929VwAAJ0PlSVLluSJJ55I//79kyRj\n",
              "x47Nyy+/3NVzAQB0PlT69OmTY489tsNj3vYBAGqh06Fy9NFHZ/v27e2fTvvDH/4wH/jAB7p8MACA\n",
              "Tp9M+8UvfjHnnntuXnzxxZx55pl56aWXcv/999diNgDgMNepUNm7d2/a2try4IMP5ic/+Umqqsqk\n",
              "SZPaz1cBAOhKnQqVI444IvPnz89TTz2Vc889t1YzAQAkOYhzVE444YRs3ry5FrMAAHTQ6XNU3njj\n",
              "jYwbNy6TJk3KUUcd1f74vffe26WDAQAccKjMnz8/d9xxR2bPnp3p06fnmGOOqeVcAAAHHirr169P\n",
              "ksyePTvjx4/PE088UbOhAACSgzhHJUmqqurqOQAA9nHAr6i89dZbeeaZZ1JVVd5+++32f//aqaee\n",
              "WpMBAYDDV6dCZfr06e33f/PfdXV1efHFF7t2MgDgsHfAobJly5YajgEAsK+DOkcFAKA7CBUAoFhC\n",
              "BQAollABAIolVACAYgkVAKBYQgUAKJZQAQCKJVQAgGLVNFQ2bdqUSZMmZdSoUZkwYUI2bNiw37VV\n",
              "VeWcc85J//79azkSANCL1DRUFixYkPnz52fjxo256qqrMmfOnP2u/ed//uccf/zxtRwHAOhlahYq\n",
              "O3bsyPr16zNr1qwkycyZM7N169Zs3rx5n7UbNmzIt7/97fz93//9/3nc3bt3p6WlpcOtra2ty+cH\n",
              "AHpezUJl69atGTx4cOrr373uYV1dXRobG9Pc3Nxh3Z49ezJv3rw0NTWlT58+/+dxlyxZkn79+nW4\n",
              "rV27tibPAQDoWT1+Mu3111+fGTNmZMyYMQe0fvHixdm5c2eH28SJE2s8JQDQE+prdeBhw4Zl27Zt\n",
              "aW1tTX19faqqSnNzcxobGzuse+ihh9Lc3JyvfOUraW1tTUtLS4YPH55169ZlwIAB+xy3oaEhDQ0N\n",
              "HR47kFdiAIDep2avqAwcODDjx4/P8uXLkyQrV67M0KFDM3LkyA7rHn744bz88svZsmVLHnnkkfTt\n",
              "2zdbtmz5rZECABxeavrWT1NTU5qamjJq1KjcfPPNWbZsWZJk7ty5WbVqVS1/NABwCKjZWz9JMnr0\n",
              "6KxZs2afx5cuXfpb1w8fPjxvvvlmLUcCAHqRHj+ZFgBgf4QKAFAsoQIAFEuoAADFEioAQLGECgBQ\n",
              "LKECABRLqAAAxRIqAECxhAoAUCyhAgAUS6gAAMUSKgBAsYQKAFAsoQIAFEuoAADFEioAQLGECgBQ\n",
              "LKECABRLqAAAxRIqAECxhAoAUCyhAgAUS6gAAMUSKgBAsYQKAFAsoQIAFEuoAADFEioAQLGECgBQ\n",
              "LKECABRLqAAAxRIqAECxhAoAUCyhAgAUS6gAAMUSKgBAsYQKAFAsoQIAFEuoAADFEioAQLGECgBQ\n",
              "LKECABRLqAAAxRIqAECxhAoAUCyhAgAUS6gAAMUSKgBAsYQKAFAsoQIAFEuoAADFEioAQLGECgBQ\n",
              "LKECABRLqAAAxRIqAECxhAoAUCyhAgAUS6gAAMUSKgBAsYQKAFCsmobKpk2bMmnSpIwaNSoTJkzI\n",
              "hg0b9lmzevXqTJw4MSeddFJOPvnkLFq0KHv37q3lWABAL1HTUFmwYEHmz5+fjRs35qqrrsqcOXP2\n",
              "WXPMMcfkG9/4Rp577rk8/vjj+clPfpK77767lmMBAL1EzUJlx44dWb9+fWbNmpUkmTlzZrZu3ZrN\n",
              "mzd3WPexj30sI0aMSJL8/u//fsaNG5ctW7bs97i7d+9OS0tLh1tbW1utngYA0INqFipbt27N4MGD\n",
              "U19fnySpq6tLY2Njmpub9/s9r732WlasWJHzzjtvv2uWLFmSfv36dbitXbu2y+cHAHpeMSfTtrS0\n",
              "ZNq0aVm0aFFOP/30/a5bvHhxdu7c2eE2ceLEbpwUAOgu9bU68LBhw7Jt27a0tramvr4+VVWlubk5\n",
              "jY2N+6zdtWtXpk6dmvPPPz8LFy58z+M2NDSkoaGhw2N9+vTp0tkBgDLU7BWVgQMHZvz48Vm+fHmS\n",
              "ZOXKlRk6dGhGjhzZYd0vf/nLTJ06NVOnTs0111xTq3EAgF6opm/9NDU1pampKaNGjcrNN9+cZcuW\n",
              "JUnmzp2bVatWJUluvfXWrF27Nvfee2/GjRuXcePG5R/+4R9qORYA0EvU7K2fJBk9enTWrFmzz+NL\n",
              "ly5t//fVV1+dq6++upZjAAC9VDEn0wIA/G9CBQAollABAIolVACAYgkVAKBYQgUAKJZQAQCKJVQA\n",
              "gGIJFQCgWEIFACiWUAEAiiVUAIBiCRUAoFhCBQAollABAIolVACAYgkVAKBYQgUAKJZQAQCKJVQA\n",
              "gGIJFQCgWEIFACiWUAEAiiVUAIBiCRUAoFhCBQAollABAIolVACAYgkVAKBYQgUAKJZQAQCKJVQA\n",
              "gGIJFQCgWEIFACiWUAEAiiVUAIBiCRUAoFhCBQAollABAIolVACAYgkVAKBYQgUAKJZQAQCKJVQA\n",
              "gGIJFQCgWEIFACiWUAEAiiVUAIBiCRUAoFhCBQAollABAIolVACAYgkVAKBYQgUAKJZQAQCKJVQA\n",
              "gGIJFQCgWEIFACiWUAEAiiVUAIBiCRUAoFg1DZVNmzZl0qRJGTVqVCZMmJANGzb81nV33XVXTjjh\n",
              "hBx//PGZN29e9uzZU8uxAIBeoqahsmDBgsyfPz8bN27MVVddlTlz5uyz5qWXXsq1116bhx9+OJs3\n",
              "b8727dtzxx131HIsAKCXqFmo7NixI+vXr8+sWbOSJDNnzszWrVuzefPmDutWrFiR6dOnZ9CgQamr\n",
              "q8ull16ar3/96/s97u7du9PS0tLh1tbWVqunAQD0oPpaHXjr1q0ZPHhw6uvf/RF1dXVpbGxMc3Nz\n",
              "Ro4c2b6uubk5xx13XPv94cOHp7m5eb/HXbJkSa6//voOj5144olZuHBhl87f1taWwWvXZuLEienT\n",
              "p0+XHjtJFi78YZcfs7dqa2vL2hruNe+yz93DPncP+7yvGTU4ZltbW/7f/7upZvt83HHH5W/+5m/e\n",
              "c03NQqVWFi9evE+UNDQ0pKGhoUt/TktLS/r165cf/OAH6du3b5cem47sdfewz93DPncP+9w9Stjn\n",
              "moXKsGHDsm3btrS2tqa+vj5VVaW5uTmNjY0d1jU2NuaFF15ov79ly5Z91vymWkQJAFCmmp2jMnDg\n",
              "wIwfPz7Lly9PkqxcuTJDhw7t8LZP8u65K6tWrcprr72Wqqpy++2359Of/nStxgIAepGa/tVPU1NT\n",
              "mpqaMmrUqNx8881ZtmxZkmTu3LlZtWpVkmTEiBG5/vrrM3ny5IwcOTIDBgzIggULajkWANBL1PQc\n",
              "ldGjR2fNmjX7PL506dIO9+fNm5d58+bVcpROa2hoyBe+8AVvM3UDe9097HP3sM/dwz53jxL2ua6q\n",
              "qqrHfjoAwHvwEfoAQLGECgBQLKECABRLqAAAxTrsQ8UVnrvHgezz6tWrM3HixJx00kk5+eSTs2jR\n",
              "ouzdu7cHpu3dDvS/6SSpqirnnHNO+vfv330DHiIOdJ+feeaZnHXWWRkzZkzGjBmTe++9t5sn7d0O\n",
              "ZJ/37t2bhQsX5qSTTsqpp56as88+e5/ryvHerrjiigwfPjx1dXX56U9/ut91PfK7sDrMnX322dWy\n",
              "Zcuqqqqq//iP/6hOP/30fda8+OKL1eDBg6tt27ZVe/furaZNm1Z95Stf6eZJe7cD2ecnnniieuGF\n",
              "F6qqqqq33nqrmjx5cvv3cOAOZK9/7Utf+lI1d+7cql+/ft0z3CHkQPb5f/7nf6qPfOQj1cMPP1xV\n",
              "VVW1trZWO3bs6M4xe70D2edvfetb1cSJE6t33nmnqqqquvHGG6u/+Iu/6M4xe72HHnqo2rp1a3Xc\n",
              "ccdVTz755G9d01O/Cw/rUNm+fXt19NFHV3v27Kmqqqr27t1bfehDH6o2bdrUYd0tt9xSLViwoP3+\n",
              "/fffX02ePLlbZ+3NDnSf/7fLL7+8+sIXvtANEx46OrPXzz77bPVHf/RH1ebNm4VKJx3oPt95553V\n",
              "hRde2BMjHhIOdJ+//e1vV2PHjq1aWlqqvXv3Vp/73Oeqv/u7v+uJkXu99wqVnvpdeFi/9fNeV3j+\n",
              "TZ29wjMdHeg+/6bXXnstK1asyHnnndddYx4SDnSv9+zZk3nz5qWpqcmVZw/Cge7zc889l4aGhpx3\n",
              "3nkZN25cLr744rz++us9MXKvdKD7PG3atJx11lkZNGhQBg8enB/+8Ie54YYbemLkQ1pP/S48rEOF\n",
              "MrW0tGTatGlZtGhRTj/99J4e55B0/fXXZ8aMGRkzZkxPj3JIa21tzQMPPJCmpqY8+eSTGTJkSC67\n",
              "7LKeHuuQs379+jz77LN59dVX8/Of/zxTpkzJpZde2tNj0UUO61D5zSs8J3nPKzy//PLL7ff/rys8\n",
              "09GB7nOS7Nq1K1OnTs3555+fhQsXdveovd6B7vVDDz2U2267LcOHD8+ZZ56ZlpaWDB8+3P/bP0Cd\n",
              "+d+Os88+O0OGDEldXV1mzZqVRx99tCdG7pUOdJ/vvvvu9pPCjzjiiMyePTsPPvhgT4x8SOup34WH\n",
              "dai4wnP3ONB9/uUvf5mpU6dm6tSpueaaa3pi1F7vQPf64Ycfzssvv5wtW7bkkUceSd++fbNly5YM\n",
              "GDCgJ8budQ50nz/1qU9l3bp1aWlpSZJ897vfzdixY7t93t7qQPd5xIgRWb16dd55550kyX333ZeP\n",
              "fvSj3T7voa7HfhfW/CyYwj3//PPVGWecUZ1wwgnVaaedVj399NNVVVXVJZdcUn3nO99pX3fHHXdU\n",
              "I0aMqEaMGFF99rOfbT+7nANzIPt80003VfX19dXYsWPbbzfddFNPjt0rHeh/07/20ksvOZn2IBzo\n",
              "Pt99993VySefXJ1yyinV1KlTq+bm5p4auVc6kH1+++23q7lz51Ynnnhidcopp1Qf//jH2/+CkAMz\n",
              "f/78asiQIVWfPn2qgQMHVscff3xVVWX8LnRRQgCgWIf1Wz8AQNmECgBQLKECABRLqAAAxRIqAECx\n",
              "hAoAUCyhAgAUS6gAAMUSKgBAsYQKAFCs/w/HcKDYfa4FiQAAAABJRU5ErkJggg==\n",
              "\">\n",
              "      </div>\n",
              "      <script type=\"text/javascript\">\n",
              "        (() => {\n",
              "          const chartElement = document.getElementById(\"chart-80fa09e3-6b8a-4da0-a6f5-bd40ffdba18b\");\n",
              "          async function getCodeForChartHandler(event) {\n",
              "            const chartCodeResponse =  await google.colab.kernel.invokeFunction(\n",
              "                'getCodeForChart', [\"chart-80fa09e3-6b8a-4da0-a6f5-bd40ffdba18b\"], {});\n",
              "            const responseJson = chartCodeResponse.data['application/json'];\n",
              "            await google.colab.notebook.addCell(responseJson.code, 'code');\n",
              "          }\n",
              "          chartElement.onclick = getCodeForChartHandler;\n",
              "        })();\n",
              "      </script>\n",
              "      <style>\n",
              "        .colab-quickchart-chart-with-code  {\n",
              "            display: block;\n",
              "            float: left;\n",
              "            border: 1px solid transparent;\n",
              "        }\n",
              "\n",
              "        .colab-quickchart-chart-with-code:hover {\n",
              "            cursor: pointer;\n",
              "            border: 1px solid #aaa;\n",
              "        }\n",
              "      </style>"
            ]
          },
          "metadata": {}
        },
        {
          "output_type": "display_data",
          "data": {
            "text/plain": [
              "from matplotlib import pyplot as plt\n",
              "_df_1['col1'].plot(kind='hist', bins=20, title='col1')\n",
              "plt.gca().spines[['top', 'right',]].set_visible(False)"
            ],
            "text/html": [
              "      <div class=\"colab-quickchart-chart-with-code\" id=\"chart-23656d91-5803-4832-b13a-0e764966eddc\">\n",
              "        <img style=\"width: 180px;\" src=\"data:image/png;base64,iVBORw0KGgoAAAANSUhEUgAAAioAAAGrCAYAAADuNLxTAAAAOXRFWHRTb2Z0d2FyZQBNYXRwbG90\n",
              "bGliIHZlcnNpb24zLjcuMSwgaHR0cHM6Ly9tYXRwbG90bGliLm9yZy/bCgiHAAAACXBIWXMAAA9h\n",
              "AAAPYQGoP6dpAAAebElEQVR4nO3df5BV9X3/8ddlN11NI2AMjARYGcAF/AGIkbFoU5XaYqpgwWaS\n",
              "Dqk08sMfU9uhMxr8MQ2JDXamaWLTsSxiTSlV2wGijInJ1EAcfwbRxCgkAkbcjUGxzejqKOgu9/uH\n",
              "E77Z4qYs2bv7WXg8Zu4M9+yHs+97RtnnnHv2nkq1Wq0GAKBAA/p6AACArggVAKBYQgUAKJZQAQCK\n",
              "JVQAgGIJFQCgWEIFACiWUAEAiiVUAIBiCRWgX9i5c2cqlUp27NjR16MAvUioAP3SSy+9lFmzZuWE\n",
              "E05IpVLJypUr+3okoAaECtAvDRgwIH/wB3+QO++8MyNGjOjrcYAaESpAr3r77bdzww03pKmpKccc\n",
              "c0xGjx6df/3Xf02SfP3rX88pp5ySgQMH5pRTTtm//f0MGzYsV111Vc4666zU1dX11vhAL6vv6wGA\n",
              "I8uCBQuybdu23HvvvRk/fnx27dqVl19+OWvXrs3VV1+db3zjGznnnHOycePGXHzxxRk0aFAuvvji\n",
              "vh4b6CPOqAC95r//+7/z7//+77n11lszYcKEVCqVfPSjH82UKVOyYsWKXHbZZZk+fXrq6ury+7//\n",
              "+7nsssuyfPnyvh4b6ENCBeg1L7zwQpJk3LhxB3yttbU1Y8aM6bRt7NixaWlp6ZXZgDIJFaDXjBo1\n",
              "Kkmybdu2A742cuTIPP/88522Pf/882lsbOyN0YBCCRWg1wwZMiSf/vSnc9VVV+W5555LkuzatStP\n",
              "PfVU5s+fn3/5l3/J9773vXR0dGTDhg25/fbbs3Dhwi73t2fPnuzZsyfVajXt7e3Zs2dP3n333d56\n",
              "OUAvECpAr7rtttvye7/3e7ngggvyoQ99KGeddVa2bNmSP/mTP8mXv/zlXHnllRk8eHD+4i/+Irfc\n",
              "cktmz57d5b6OPvroHH300WlpackVV1yRo48+OgsWLOjFVwPUWqVarVb7eggAgPfjjAoAUCyhAgAU\n",
              "S6gAAMUSKgBAsYQKAFAsoQIAFEuoAADFOixC5ZZbbunrEQCAGjgsQuXFF1/s6xEAgBo4LEIFADg8\n",
              "CRUAoFhCBQAollABAIolVACAYgkVAKBYQgUAKJZQAQCKJVQAgGIJFQCgWEIFACiWUAEAilXTULn6\n",
              "6qszatSoVCqV/PCHP+xy3e23354TTzwxY8aMyYIFC/Luu+/WciwAoJ+oaahccsklefjhh3PCCSd0\n",
              "ueaFF17IjTfemIceeig7duzIK6+8khUrVtRyLACgn6hpqHz84x/PiBEjfu2aNWvWZObMmTn++ONT\n",
              "qVRy+eWX56677upy/d69e9PW1tbp0dHR0dOjAwAFqO/rAVpaWjqdcRk1alRaWlq6XL9s2bIsXbq0\n",
              "07YzzzyzJrON+tw3a7LfJNl58x/VbN8AHHlq9TOrr39e9buLaZcsWZLXX3+902Pq1Kl9PRYAUAN9\n",
              "fkalsbExzz///P7nO3fuTGNjY5frGxoa0tDQ0GlbXV1dzeYDAPpOn59RmTNnTtavX5+XX3451Wo1\n",
              "y5cvz6c+9am+HgsAKEBNQ2XRokUZMWJEfvazn+UP//APM3bs2CTJ/Pnzs379+iTJ6NGjs3Tp0px1\n",
              "1lkZO3ZshgwZkkWLFtVyLACgn6jpWz/Nzc3vu33lypWdni9YsCALFiyo5SgAQD/U52/9AAB0RagA\n",
              "AMUSKgBAsYQKAFAsoQIAFEuoAADFEioAQLGECgBQLKECABRLqAAAxRIqAECxhAoAUCyhAgAUS6gA\n",
              "AMUSKgBAsYQKAFAsoQIAFEuoAADFEioAQLGECgBQLKECABRLqAAAxRIqAECxhAoAUCyhAgAUS6gA\n",
              "AMUSKgBAsYQKAFAsoQIAFEuoAADFEioAQLGECgBQLKECABRLqAAAxRIqAECxhAoAUCyhAgAUS6gA\n",
              "AMUSKgBAsYQKAFAsoQIAFEuoAADFEioAQLGECgBQLKECABRLqAAAxRIqAECxhAoAUCyhAgAUS6gA\n",
              "AMUSKgBAsYQKAFAsoQIAFEuoAADFEioAQLGECgBQLKECABRLqAAAxRIqAECxhAoAUCyhAgAUq6ah\n",
              "sn379kybNi1NTU0544wzsmXLlgPW7Nu3L4sXL85JJ52UiRMn5txzz82OHTtqORYA0E/UNFQWLVqU\n",
              "hQsXZtu2bbn22mszb968A9asX78+jzzySJ5++un86Ec/yvTp03PdddfVciwAoJ+oWajs3r07mzdv\n",
              "zty5c5Mkc+bMSWtr6wFnSyqVSvbu3Zs9e/akWq2mra0tI0aMqNVYAEA/Ul+rHbe2tmbYsGGpr3/v\n",
              "W1QqlTQ2NqalpSVjx47dv+6iiy7Kxo0bc/zxx+eYY47J8OHD8+CDD3a5371792bv3r2dtnV0dNTm\n",
              "RQAAfarPL6bdvHlznn322bz00kv5+c9/nunTp+fyyy/vcv2yZcsyaNCgTo9Nmzb14sQAQG+pWaiM\n",
              "HDkyu3btSnt7e5KkWq2mpaUljY2NndatWrUq5513XgYPHpwBAwbk0ksvzcaNG7vc75IlS/L66693\n",
              "ekydOrVWLwMA6EM1C5WhQ4dmypQpWb16dZJk7dq1GTFiRKe3fZJk9OjR2bBhQ955550kyX333ZdT\n",
              "Tjmly/02NDRk4MCBnR51dXW1ehkAQB+q2TUqSdLc3Jx58+blS1/6UgYOHJg77rgjSTJ//vzMnDkz\n",
              "M2fOzFVXXZUf//jHmTRpUj7wgQ/k+OOPz/Lly2s5FgDQT9Q0VMaNG5fHHnvsgO0rV67c/+eGhobc\n",
              "dttttRwDAOin+vxiWgCArggVAKBYQgUAKJZQAQCKJVQAgGIJFQCgWEIFACiWUAEAiiVUAIBiCRUA\n",
              "oFhCBQAollABAIolVACAYgkVAKBYQgUAKJZQAQCKJVQAgGIJFQCgWEIFACiWUAEAiiVUAIBiCRUA\n",
              "oFhCBQAollABAIolVACAYgkVAKBYQgUAKJZQAQCKJVQAgGIJFQCgWEIFACiWUAEAiiVUAIBiCRUA\n",
              "oFhCBQAollABAIolVACAYgkVAKBYQgUAKJZQAQCKJVQAgGIJFQCgWEIFACiWUAEAiiVUAIBiCRUA\n",
              "oFhCBQAollABAIolVACAYgkVAKBYQgUAKJZQAQCKJVQAgGIJFQCgWEIFACiWUAEAiiVUAIBiCRUA\n",
              "oFhCBQAollABAIolVACAYgkVAKBYNQ2V7du3Z9q0aWlqasoZZ5yRLVu2vO+6Z555Juecc04mTJiQ\n",
              "CRMmZN26dbUcCwDoJ+prufNFixZl4cKFmTdvXtasWZN58+bliSee6LTmrbfeyqxZs7Jq1aqcffbZ\n",
              "6ejoyC9+8YtajgUA9BM1O6Oye/fubN68OXPnzk2SzJkzJ62trdmxY0endXfeeWfOPPPMnH322UmS\n",
              "urq6DBkypMv97t27N21tbZ0eHR0dtXoZAEAfqlmotLa2ZtiwYamvf++kTaVSSWNjY1paWjqt27p1\n",
              "axoaGnLhhRdm8uTJ+bM/+7O8+uqrXe532bJlGTRoUKfHpk2bavUyAIA+1O1Q+c53vtOjA7S3t+eB\n",
              "Bx5Ic3NzfvCDH2T48OG54ooruly/ZMmSvP76650eU6dO7dGZAIAydDtUvvCFL2TcuHG55ZZb0tbW\n",
              "1uW6kSNHZteuXWlvb0+SVKvVtLS0pLGxsdO6xsbGnHvuuRk+fHgqlUrmzp2bxx9/vMv9NjQ0ZODA\n",
              "gZ0edXV13X0ZAEA/0O1QeeSRR3L33Xfn2WefTVNTU6688sps3br1gHVDhw7NlClTsnr16iTJ2rVr\n",
              "M2LEiIwdO7bTuk9+8pN54okn9kfPt771rUyaNOlQXgsAcJg5pGtUTjvttNx222359re/nfvuuy8T\n",
              "J07M+eefn2eeeabTuubm5jQ3N6epqSk333xz7rjjjiTJ/Pnzs379+iTvnVG57rrrMm3atEycODEb\n",
              "NmzI8uXLf8OXBQAcDg7p15MfeOCBfO1rX8szzzyTq666Kpdddlm+973v5Y//+I87/VbPuHHj8thj\n",
              "jx3w91euXNnp+Wc+85l85jOfOZRRAIDDWLdDZcKECfnIRz6Sq6++OrNnz95/fcgll1yS22+/vccH\n",
              "BACOXN0OldWrV+f0009/36/df//9v/FAAAC/1O1rVJ588slOnxz7P//zP7ntttt6dCgAgOQQQuXW\n",
              "W2/Nhz/84f3PjzvuuNx66609OhQAQHIIoVKtVg/Y5iPsAYBa6HaoDBs2LP/5n/+5//l//Md/ZNiw\n",
              "YT06FABAcggX0371q1/NrFmzcs011yRJPvjBD+bee+/t8cEAALodKuPHj8/WrVvz3HPPJXnvs1J8\n",
              "hD0AUAuH9IFvlUolgwcPTnt7e1566aUkOeAePgAAv6luh8rXv/71XH311fnABz6QAQPeu8SlUqlk\n",
              "9+7dPT4cAHBk63aofPGLX8wTTzyRcePG1WIeAID9uv1bPx/5yEdECgDQK7odKhdffHG++tWvZvfu\n",
              "3Wlra9v/AADoad1+6+f6669PkixevDiVSiXVajWVSsWHvgEAPa7bobJv375azAEAcIBuv/WTvHdj\n",
              "wn/7t39Lkrz22mvZtWtXjw4FAJAc4k0JP/vZz+bzn/98kvfunvynf/qnPT0XAED3Q2XFihV5/PHH\n",
              "M3DgwCTJmDFj8uqrr/b4YAAA3Q6VhoaGHH300Z221dcf0gfcAgD8Wt0OlSFDhmTbtm2pVCpJ3vuk\n",
              "Wh+fDwDUwiHdPfnTn/50fvKTn2TkyJEZOHBg7rvvvlrMBgAc4bodKmPHjs33v//9PPfcc6lWq+6e\n",
              "DADUTLdDpaWlJUny27/920ni7skAQM10O1ROP/30/Z9Iu2fPnrz11ls57rjj3D0ZAOhx3Q6V//2r\n",
              "yOvWrcvTTz/dYwMBAPzSIX0y7a+aPXt2vvnNb/bELAAAnXT7jMqv3im5o6Mj3//+9909GQCoiW6H\n",
              "yuDBg/dfo1JXV5cTTzwx//iP/1iL2QCAI5y7JwMAxfqNr1EBAKiVbp9RGTBgwP6Pz/9V1Wo1lUol\n",
              "HR0dPTIYAEC3Q+ULX/hC3n777VxxxRVJkuXLl+foo4/OX/3VX/X0bADAEa7bofKNb3wjTz755P7n\n",
              "N910U04//fRcf/31PToYAEC3r1F54403On0K7e7du/PGG2/06FAAAMkhnFH567/+60yaNCmf+MQn\n",
              "kiTf/va38/nPf76n5wIA6H6oLFq0KGeddVY2btyYJFm8eHFOPvnkHh8MAKDboZIkxx13XE499dSc\n",
              "c845aW9vzzvvvJPf+q3f6unZAIAjXLevUVmzZk3OPPPM/Pmf/3mSZMuWLbn44ot7ei4AgO6HyrJl\n",
              "y/LUU09l8ODBSZJJkyblxRdf7Om5AAC6Hyp1dXU57rjjOm3ztg8AUAvdDpVjjjkmr7zyyv5Pp/3u\n",
              "d7+bD3/4wz0+GABAty+m/bu/+7tccMEF+elPf5qzzz47L7zwQr75zW/WYjYA4AjXrVDZt29fOjo6\n",
              "snHjxjz66KOpVquZNm3a/utVAAB6UrdCZcCAAVm4cGGefvrpXHDBBbWaCQAgySFco3LiiSdmx44d\n",
              "tZgFAKCTbl+j8otf/CKTJ0/OtGnT8qEPfWj/9nXr1vXoYAAABx0qCxcuzIoVK3LppZdm5syZOfbY\n",
              "Y2s5FwDAwYfK5s2bkySXXnpppkyZkqeeeqpmQwEAJIdwjUqSVKvVnp4DAOAAB31G5e23384zzzyT\n",
              "arWaPXv27P/zL02cOLEmAwIAR65uhcrMmTP3P//VP1cqlfz0pz/t2ckAgCPeQYfKzp07azgGAMCB\n",
              "DukaFQCA3iBUAIBiCRUAoFhCBQAollABAIolVACAYgkVAKBYQgUAKJZQAQCKVdNQ2b59e6ZNm5am\n",
              "pqacccYZ2bJlS5drq9VqzjvvvAwePLiWIwEA/UhNQ2XRokVZuHBhtm3blmuvvTbz5s3rcu1XvvKV\n",
              "jBkzppbjAAD9TM1CZffu3dm8eXPmzp2bJJkzZ05aW1uzY8eOA9Zu2bIl99xzTz73uc/9n/vdu3dv\n",
              "2traOj06Ojp6fH4AoO/VLFRaW1szbNiw1Ne/d9/DSqWSxsbGtLS0dFr37rvvZsGCBWlubk5dXd3/\n",
              "ud9ly5Zl0KBBnR6bNm2qyWsAAPpWn19Mu3Tp0syePTsTJkw4qPVLlizJ66+/3ukxderUGk8JAPSF\n",
              "+lrteOTIkdm1a1fa29tTX1+farWalpaWNDY2dlr34IMPpqWlJf/0T/+U9vb2tLW1ZdSoUXniiScy\n",
              "ZMiQA/bb0NCQhoaGTtsO5kwMAND/1OyMytChQzNlypSsXr06SbJ27dqMGDEiY8eO7bTuoYceyosv\n",
              "vpidO3fm4YcfzsCBA7Nz5873jRQA4MhS07d+mpub09zcnKamptx888254447kiTz58/P+vXra/mt\n",
              "AYDDQM3e+kmScePG5bHHHjtg+8qVK993/ahRo/Laa6/VciQAoB/p84tpAQC6IlQAgGIJFQCgWEIF\n",
              "ACiWUAEAiiVUAIBiCRUAoFhCBQAollABAIolVACAYgkVAKBYQgUAKJZQAQCKJVQAgGIJFQCgWEIF\n",
              "ACiWUAEAiiVUAIBiCRUAoFhCBQAollABAIolVACAYgkVAKBYQgUAKJZQAQCKJVQAgGIJFQCgWEIF\n",
              "ACiWUAEAiiVUAIBiCRUAoFhCBQAollABAIolVACAYgkVAKBYQgUAKJZQAQCKJVQAgGIJFQCgWEIF\n",
              "ACiWUAEAiiVUAIBiCRUAoFhCBQAollABAIolVACAYgkVAKBYQgUAKJZQAQCKJVQAgGIJFQCgWEIF\n",
              "ACiWUAEAiiVUAIBiCRUAoFhCBQAollABAIolVACAYgkVAKBYQgUAKJZQAQCKJVQAgGLVNFS2b9+e\n",
              "adOmpampKWeccUa2bNlywJoNGzZk6tSpOemkk3LyySfnmmuuyb59+2o5FgDQT9Q0VBYtWpSFCxdm\n",
              "27ZtufbaazNv3rwD1hx77LG5++67s3Xr1jz55JN59NFHs2rVqlqOBQD0EzULld27d2fz5s2ZO3du\n",
              "kmTOnDlpbW3Njh07Oq077bTTMnr06CTJUUcdlcmTJ2fnzp1d7nfv3r1pa2vr9Ojo6KjVywAA+lDN\n",
              "QqW1tTXDhg1LfX19kqRSqaSxsTEtLS1d/p2XX345a9asyYUXXtjlmmXLlmXQoEGdHps2berx+QGA\n",
              "vlfMxbRtbW256KKLcs011+RjH/tYl+uWLFmS119/vdNj6tSpvTgpANBb6mu145EjR2bXrl1pb29P\n",
              "fX19qtVqWlpa0tjYeMDaN954IzNmzMisWbOyePHiX7vfhoaGNDQ0dNpWV1fXo7MDAGWo2RmVoUOH\n",
              "ZsqUKVm9enWSZO3atRkxYkTGjh3bad2bb76ZGTNmZMaMGbnhhhtqNQ4A0A/V9K2f5ubmNDc3p6mp\n",
              "KTfffHPuuOOOJMn8+fOzfv36JMktt9ySTZs2Zd26dZk8eXImT56cv/3bv63lWABAP1Gzt36SZNy4\n",
              "cXnssccO2L5y5cr9f77++utz/fXX13IMAKCfKuZiWgCA/02oAADFEioAQLGECgBQLKECABRLqAAA\n",
              "xRIqAECxhAoAUCyhAgAUS6gAAMUSKgBAsYQKAFAsoQIAFEuoAADFEioAQLGECgBQLKECABRLqAAA\n",
              "xRIqAECxhAoAUCyhAgAUS6gAAMUSKgBAsYQKAFAsoQIAFEuoAADFEioAQLGECgBQLKECABRLqAAA\n",
              "xRIqAECxhAoAUCyhAgAUS6gAAMUSKgBAsYQKAFAsoQIAFEuoAADFEioAQLGECgBQLKECABRLqAAA\n",
              "xRIqAECxhAoAUCyhAgAUS6gAAMUSKgBAsYQKAFAsoQIAFEuoAADFEioAQLGECgBQLKECABRLqAAA\n",
              "xRIqAECxhAoAUCyhAgAUS6gAAMUSKgBAsYQKAFAsoQIAFKumobJ9+/ZMmzYtTU1NOeOMM7Jly5b3\n",
              "XXf77bfnxBNPzJgxY7JgwYK8++67tRwLAOgnahoqixYtysKFC7Nt27Zce+21mTdv3gFrXnjhhdx4\n",
              "44156KGHsmPHjrzyyitZsWJFLccCAPqJmoXK7t27s3nz5sydOzdJMmfOnLS2tmbHjh2d1q1ZsyYz\n",
              "Z87M8ccfn0qlkssvvzx33XVXl/vdu3dv2traOj06Ojpq9TIAgD5UX6sdt7a2ZtiwYamvf+9bVCqV\n",
              "NDY2pqWlJWPHjt2/rqWlJSeccML+56NGjUpLS0uX+122bFmWLl3aadv48eOzePHiHp2/o6MjwzZt\n",
              "ytSpU1NXV9ej+06SxYu/2+P77K86OjqyqYbHmvc4zr3Dce4djvOBZtdgnx0dHfmd37mpZsf5hBNO\n",
              "yF/+5V/+2jU1C5VaWbJkyQFR0tDQkIaGhh79Pm1tbRk0aFC+853vZODAgT26bzpzrHuH49w7HOfe\n",
              "4Tj3jhKOc81CZeTIkdm1a1fa29tTX1+farWalpaWNDY2dlrX2NiY559/fv/znTt3HrDmV9UiSgCA\n",
              "MtXsGpWhQ4dmypQpWb16dZJk7dq1GTFiRKe3fZL3rl1Zv359Xn755VSr1Sxfvjyf+tSnajUWANCP\n",
              "1PS3fpqbm9Pc3JympqbcfPPNueOOO5Ik8+fPz/r165Mko0ePztKlS3PWWWdl7NixGTJkSBYtWlTL\n",
              "sQCAfqKm16iMGzcujz322AHbV65c2en5ggULsmDBglqO0m0NDQ35m7/5G28z9QLHunc4zr3Dce4d\n",
              "jnPvKOE4V6rVarXPvjsAwK/hI/QBgGIJFQCgWEIFACiWUAEAinXEh8rVV1+dUaNGpVKp5Ic//GGX\n",
              "69zh+TdzMMd5w4YNmTp1ak466aScfPLJueaaa7Jv377eHbSfO9j/npOkWq3mvPPOy+DBg3tltsPJ\n",
              "wR7nZ555Juecc04mTJiQCRMmZN26db035GHgYI7zvn37snjx4px00kmZOHFizj333APuKcevt2fP\n",
              "nlx88cVpamrKpEmTcv7553d5DO+7776MHz8+J554YmbPnp22traaz3fEh8oll1yShx9+uNP9hv43\n",
              "d3j+zR3McT722GNz9913Z+vWrXnyySfz6KOPZtWqVb04Zf93MMf5l77yla9kzJgxvTDV4edgjvNb\n",
              "b72VWbNm5aabbsqPf/zjPPvss/nd3/3dXpyy/zuY47x+/fo88sgjefrpp/OjH/0o06dPz3XXXdeL\n",
              "Ux4eFi5cmOeeey5PP/10Zs2alfnz5x+w5s0338xll12We+65J9u3b89HP/rRfPGLX6z5bEd8qHz8\n",
              "4x/PiBEjfu2a7t7hmQMdzHE+7bTTMnr06CTJUUcdlcmTJ2fnzp29MN3h42COc5Js2bIl99xzTz73\n",
              "uc/1wlSHn4M5znfeeWfOPPPMnH322UmSurq6DBkypDfGO2wczHGuVCrZu3dv9uzZk2q1mra2toP6\n",
              "f4D/76ijjsonPvGJVCqVJMmZZ575vv/23n///TnttNMyfvz4JMmVV17ZKz8L+91NCftCd+/wzG/u\n",
              "5Zdfzpo1a3Lffff19SiHnXfffTcLFizI7bff7q6zNbR169Y0NDTkwgsvzM9+9rNMnDgxX/7yl8VK\n",
              "D7vooouycePGHH/88TnmmGMyfPjwPPjgg309Vr92yy23ZNasWQdsf7+fhb96T79aOeLPqFCetra2\n",
              "XHTRRbnmmmvysY99rK/HOewsXbo0s2fPzoQJE/p6lMNae3t7HnjggTQ3N+cHP/hBhg8fniuuuKKv\n",
              "xzrsbN68Oc8++2xeeuml/PznP8/06dNz+eWX9/VY/daXvvSl7NixI8uWLevrUfYTKgehsbExL774\n",
              "4v7n/9cdnjl0b7zxRmbMmJFZs2Zl8eLFfT3OYenBBx/M1772tYwaNSpnn3122traMmrUqLz66qt9\n",
              "PdphpbGxMeeee26GDx+eSqWSuXPn5vHHH+/rsQ47q1at2n9R+IABA3LppZdm48aNfT1Wv/T3f//3\n",
              "WbduXe6///588IMfPODr7/ezcNiwYTU9m5IIlYPiDs+9480338yMGTMyY8aM3HDDDX09zmHroYce\n",
              "yosvvpidO3fm4YcfzsCBA7Nz505vSfSwT37yk3niiSf2/1bEt771rUyaNKmPpzr8jB49Ohs2bMg7\n",
              "77yT5L3fSjnllFP6eKr+5x/+4R9y11135b/+67+6/E3AGTNm5KmnnspPfvKTJMmtt97aOz8Lq0e4\n",
              "hQsXVocPH16tq6urDh06tDpmzJhqtVqtXnbZZdV77713/7oVK1ZUR48eXR09enT1s5/9bPWdd97p\n",
              "q5H7pYM5zjfddFO1vr6+OmnSpP2Pm266qS/H7ncO9r/nX3rhhReqgwYN6uUp+7+DPc6rVq2qnnzy\n",
              "ydVTTz21OmPGjGpLS0tfjdwvHcxx3rNnT3X+/PnV8ePHV0899dTq+eefX33++ef7cux+p7W1tZqk\n",
              "Onr06P3/9k6dOrVarVarN954Y/Wf//mf96+99957q+PGjauOGTOmOmvWrOprr71W8/nclBAAKJa3\n",
              "fgCAYgkVAKBYQgUAKJZQAQCKJVQAgGIJFQCgWEIFACiWUAEAiiVUAIBiCRUAoFj/D72ipdQ6ka/l\n",
              "AAAAAElFTkSuQmCC\n",
              "\">\n",
              "      </div>\n",
              "      <script type=\"text/javascript\">\n",
              "        (() => {\n",
              "          const chartElement = document.getElementById(\"chart-23656d91-5803-4832-b13a-0e764966eddc\");\n",
              "          async function getCodeForChartHandler(event) {\n",
              "            const chartCodeResponse =  await google.colab.kernel.invokeFunction(\n",
              "                'getCodeForChart', [\"chart-23656d91-5803-4832-b13a-0e764966eddc\"], {});\n",
              "            const responseJson = chartCodeResponse.data['application/json'];\n",
              "            await google.colab.notebook.addCell(responseJson.code, 'code');\n",
              "          }\n",
              "          chartElement.onclick = getCodeForChartHandler;\n",
              "        })();\n",
              "      </script>\n",
              "      <style>\n",
              "        .colab-quickchart-chart-with-code  {\n",
              "            display: block;\n",
              "            float: left;\n",
              "            border: 1px solid transparent;\n",
              "        }\n",
              "\n",
              "        .colab-quickchart-chart-with-code:hover {\n",
              "            cursor: pointer;\n",
              "            border: 1px solid #aaa;\n",
              "        }\n",
              "      </style>"
            ]
          },
          "metadata": {}
        },
        {
          "output_type": "display_data",
          "data": {
            "text/plain": [
              "from matplotlib import pyplot as plt\n",
              "_df_2['col2'].plot(kind='hist', bins=20, title='col2')\n",
              "plt.gca().spines[['top', 'right',]].set_visible(False)"
            ],
            "text/html": [
              "      <div class=\"colab-quickchart-chart-with-code\" id=\"chart-7b14cce7-c4e1-4593-b1ca-60a9afa50570\">\n",
              "        <img style=\"width: 180px;\" src=\"data:image/png;base64,iVBORw0KGgoAAAANSUhEUgAAAioAAAGrCAYAAADuNLxTAAAAOXRFWHRTb2Z0d2FyZQBNYXRwbG90\n",
              "bGliIHZlcnNpb24zLjcuMSwgaHR0cHM6Ly9tYXRwbG90bGliLm9yZy/bCgiHAAAACXBIWXMAAA9h\n",
              "AAAPYQGoP6dpAAAfcElEQVR4nO3df1CVZf7/8dcR2lO7CZThQMDBEEHMRdRkDGzXbHezvkmuZFu7\n",
              "VuwuPzRnbYd2NLN2sx+LuzttuTWOIC7lMtU2osaq1UwrNVYWkm2rWCImnlNh9JNjpSiH+/uHs0zn\n",
              "gyTHzn3OdeD5mDkznsPlzftcU/HsnJtzOyzLsgQAAGCgYeEeAAAAoD+ECgAAMBahAgAAjEWoAAAA\n",
              "YxEqAADAWIQKAAAwFqECAACMRagAAABjESoAAMBYhAqAiNDW1iaHw6HW1tZwjwIghAgVABFp69at\n",
              "+tGPfqT4+HjFxcUpNzdX//rXv8I9FoAgI1QARKTPPvtMCxYsUEtLiz755BPdfvvtmjt3rpqamsI9\n",
              "GoAgIlQAhNTRo0d11113KSMjQ8OHD1daWpoef/xxSdJjjz2m8ePHKyYmRuPHj+99/FR+8YtfqLCw\n",
              "UOedd56ioqL0s5/9TGPHjtX27dtD9VQAhEB0uAcAMLSUlJSopaVFzzzzjMaOHav29nYdPnxYdXV1\n",
              "WrRokTZu3Kjp06eroaFBs2fPVmxsrGbPnn3a47rdbu3bt08TJ060/0kACBmHZVlWuIcAMDR8/PHH\n",
              "io+P186dO3XJJZf4fe3KK6/UuHHj9NBDD/U+dtttt2nfvn167rnn1NbWposuukj79+9Xenq639/t\n",
              "7OzUjBkzlJWVpdra2pA8FwChwVs/AELm4MGDkqTMzMw+X/N4PBo9erTfY+np6XK73d94zI8++kgz\n",
              "ZsxQZmamHnvssaDNCsAMhAqAkBk1apQkqaWlpc/XUlJSdODAAb/HDhw4IJfL1e/xPB6PLrvsMk2e\n",
              "PFm1tbWKjubdbGCwIVQAhEx8fLxuvPFGLVy4UPv27ZMktbe3a9euXSouLtbf//53vfjii/L5fNq2\n",
              "bZvWrl2r0tLSUx5r3759ys/P19VXX62qqioNG8Z/zoDBiH+zAYTUmjVr9MMf/lBXXXWVzj33XOXn\n",
              "56u5uVlz587Vgw8+qFtvvVVxcXH6zW9+o5UrV2rOnDmnPM6KFSvk8XhUVVWlc889t/c2f/78ED8j\n",
              "AHbiZFoAAGAsXlEBAADGIlQAAICxCBUAAGAsQgUAABiLUAEAAMYiVAAAgLEIFQAAYKxBESorV64M\n",
              "9wgAAMAGgyJUDh06FO4RAACADQZFqAAAgMGJUAEAAMYiVAAAgLEIFQAAYCxCBQAAGItQAQAAxiJU\n",
              "AACAsQgVAABgLEIFAAAYi1ABAADGIlQAAICxCBUAAGAsW0Nl0aJFGjVqlBwOh/7zn//0u27t2rUa\n",
              "M2aMRo8erZKSEp04ccLOsQAAQISwNVSuu+46vfzyy0pNTe13zcGDB3X33Xdr+/btam1t1Ycffqiq\n",
              "qio7xwIAABHC1lD5wQ9+oOTk5G9cs379ehUUFCghIUEOh0Pz58/Xk08+2e/6rq4ueb1ev5vP5wv2\n",
              "6AAAwADR4R7A7Xb7veIyatQoud3uftdXVFRo+fLlfo9NnTrVltlG3bHFluNKUtuK/2fbsQEAQ49d\n",
              "P7PC/fMq4k6mXbp0qTo7O/1uubm54R4LAADYIOyvqLhcLh04cKD3fltbm1wuV7/rnU6nnE6n32NR\n",
              "UVG2zQcAAMIn7K+oFBYWqr6+XocPH5ZlWVq9erVuuOGGcI8FAAAMYGuolJWVKTk5We+9956uvPJK\n",
              "paenS5KKi4tVX18vSUpLS9Py5cuVn5+v9PR0xcfHq6yszM6xAABAhLD1rZ/KyspTPl5dXe13v6Sk\n",
              "RCUlJXaOAgAAIlDY3/oBAADoD6ECAACMRagAAABjESoAAMBYhAoAADAWoQIAAIxFqAAAAGMRKgAA\n",
              "wFiECgAAMBahAgAAjEWoAAAAYxEqAADAWIQKAAAwFqECAACMRagAAABjESoAAMBYhAoAADAWoQIA\n",
              "AIxFqAAAAGMRKgAAwFiECgAAMBahAgAAjEWoAAAAYxEqAADAWIQKAAAwFqECAACMRagAAABjESoA\n",
              "AMBYhAoAADAWoQIAAIxFqAAAAGMRKgAAwFiECgAAMBahAgAAjEWoAAAAYxEqAADAWIQKAAAwFqEC\n",
              "AACMRagAAABjESoAAMBYhAoAADAWoQIAAIxFqAAAAGMRKgAAwFiECgAAMBahAgAAjEWoAAAAYxEq\n",
              "AADAWIQKAAAwFqECAACMRagAAABjESoAAMBYhAoAADAWoQIAAIxFqAAAAGMRKgAAwFiECgAAMBah\n",
              "AgAAjEWoAAAAYxEqAADAWIQKAAAwlq2hsn//fuXl5SkjI0NTpkxRc3NznzU9PT0qLy/XuHHjlJ2d\n",
              "rcsvv1ytra12jgUAACKEraFSVlam0tJStbS0aMmSJSoqKuqzpr6+Xq+88oreeust/fe//9UVV1yh\n",
              "O++8086xAABAhLAtVDo6OtTU1KR58+ZJkgoLC+XxePq8WuJwONTV1aVjx47Jsix5vV4lJyfbNRYA\n",
              "AIgg0XYd2OPxKDExUdHRJ7+Fw+GQy+WS2+1Wenp677pZs2apoaFBCQkJGj58uJKSkvTSSy/1e9yu\n",
              "ri51dXX5Pebz+ex5EgAAIKzCfjJtU1OT9uzZo/fff18ffPCBrrjiCs2fP7/f9RUVFYqNjfW7NTY2\n",
              "hnBiAAAQKraFSkpKitrb29Xd3S1JsixLbrdbLpfLb926des0Y8YMxcXFadiwYbrlllvU0NDQ73GX\n",
              "Ll2qzs5Ov1tubq5dTwMAAISRbaEycuRITZo0SbW1tZKkuro6JScn+73tI0lpaWnatm2bjh8/Lkna\n",
              "vHmzxo8f3+9xnU6nYmJi/G5RUVF2PQ0AABBGtp2jIkmVlZUqKirSH//4R8XExKimpkaSVFxcrIKC\n",
              "AhUUFGjhwoV6++23NWHCBJ111llKSEjQ6tWr7RwLAABECFtDJTMzUzt27OjzeHV1de+fnU6n1qxZ\n",
              "Y+cYAAAgQoX9ZFoAAID+ECoAAMBYhAoAADAWoQIAAIxFqAAAAGMRKgAAwFiECgAAMBahAgAAjEWo\n",
              "AAAAYxEqAADAWIQKAAAwFqECAACMRagAAABjESoAAMBYhAoAADAWoQIAAIxFqAAAAGMRKgAAwFiE\n",
              "CgAAMBahAgAAjEWoAAAAYxEqAADAWIQKAAAwFqECAACMRagAAABjESoAAMBYhAoAADAWoQIAAIxF\n",
              "qAAAAGMRKgAAwFiECgAAMBahAgAAjEWoAAAAYxEqAADAWIQKAAAwFqECAACMRagAAABjESoAAMBY\n",
              "hAoAADAWoQIAAIxFqAAAAGMRKgAAwFiECgAAMBahAgAAjEWoAAAAYxEqAADAWIQKAAAwFqECAACM\n",
              "RagAAABjESoAAMBYhAoAADAWoQIAAIxFqAAAAGMRKgAAwFiECgAAMBahAgAAjEWoAAAAYxEqAADA\n",
              "WIQKAAAwFqECAACMRagAAABjESoAAMBYtobK/v37lZeXp4yMDE2ZMkXNzc2nXLd7925Nnz5dWVlZ\n",
              "ysrK0oYNG+wcCwAARIhoOw9eVlam0tJSFRUVaf369SoqKtLOnTv91nz11Ve69tprtW7dOk2bNk0+\n",
              "n0+ffvqpnWMBAIAIYdsrKh0dHWpqatK8efMkSYWFhfJ4PGptbfVb98QTT2jq1KmaNm2aJCkqKkrx\n",
              "8fH9Hrerq0ter9fv5vP57HoaAAAgjGwLFY/Ho8TEREVHn3zRxuFwyOVyye12+63bu3evnE6nrrnm\n",
              "GuXk5Ojmm2/WRx991O9xKyoqFBsb63drbGy062kAAIAwCjhUnn/++aAO0N3drRdeeEGVlZV68803\n",
              "lZSUpAULFvS7funSpers7PS75ebmBnUmAABghoBD5d5771VmZqZWrlwpr9fb77qUlBS1t7eru7tb\n",
              "kmRZltxut1wul986l8ulyy+/XElJSXI4HJo3b55ee+21fo/rdDoVExPjd4uKigr0aQAAgAgQcKi8\n",
              "8soreuqpp7Rnzx5lZGTo1ltv1d69e/usGzlypCZNmqTa2lpJUl1dnZKTk5Wenu637vrrr9fOnTt7\n",
              "o2fr1q2aMGHCmTwXAAAwyJzROSoTJ07UmjVr9Nxzz2nz5s3Kzs7Wj3/8Y+3evdtvXWVlpSorK5WR\n",
              "kaEVK1aopqZGklRcXKz6+npJJ19RufPOO5WXl6fs7Gxt27ZNq1ev/pZPCwAADAZn9OvJL7zwgh55\n",
              "5BHt3r1bCxcu1K9//Wu9+OKL+ulPf+r3Wz2ZmZnasWNHn79fXV3td/+mm27STTfddCajAACAQSzg\n",
              "UMnKytIFF1ygRYsWac6cOb3nh1x33XVau3Zt0AcEAABDV8ChUltbq8mTJ5/ya88+++y3HggAAOB/\n",
              "Aj5H5Y033vD75NhPPvlEa9asCepQAAAA0hmEyqpVq3T++ef33h8xYoRWrVoV1KEAAACkMwgVy7L6\n",
              "PMZH2AMAADsEHCqJiYl6+umne+//85//VGJiYlCHAgAAkM7gZNqHH35Y1157rRYvXixJ+u53v6tn\n",
              "nnkm6IMBAAAEHCpjx47V3r17tW/fPkknPyuFj7AHAAB2OKMPfHM4HIqLi1N3d7fef/99SepzDR8A\n",
              "AIBvK+BQeeyxx7Ro0SKdddZZGjbs5CkuDodDHR0dQR8OAAAMbQGHyn333aedO3cqMzPTjnkAAAB6\n",
              "BfxbPxdccAGRAgAAQiLgUJk9e7YefvhhdXR0yOv19t4AAACCLeC3fpYtWyZJKi8vl8PhkGVZcjgc\n",
              "fOgbAAAIuoBDpaenx445AAAA+gj4rR/p5IUJ//GPf0iSPv/8c7W3twd1KAAAAOkML0r4q1/9Svfc\n",
              "c4+kk1dP/vnPfx7suQAAAAIPlaqqKr322muKiYmRJI0ePVofffRR0AcDAAAIOFScTqfOOeccv8ei\n",
              "o8/oA24BAAC+UcChEh8fr5aWFjkcDkknP6mWj88HAAB2OKOrJ99444165513lJKSopiYGG3evNmO\n",
              "2QAAwBAXcKikp6fr9ddf1759+2RZFldPBgAAtgk4VNxutyTpe9/7niRx9WQAAGCbgENl8uTJvZ9I\n",
              "e+zYMX311VcaMWIEV08GAABBF3Co/N9fRd6wYYPeeuutoA0EAADwP2f0ybRfN2fOHG3ZsiUYswAA\n",
              "APgJ+BWVr18p2efz6fXXX+fqyQAAwBYBh0pcXFzvOSpRUVEaM2aM/va3v9kxGwAAGOK4ejIAADDW\n",
              "tz5HBQAAwC4Bv6IybNiw3o/P/zrLsuRwOOTz+YIyGAAAQMChcu+99+ro0aNasGCBJGn16tU655xz\n",
              "9Nvf/jbYswEAgCEu4FDZuHGj3njjjd77999/vyZPnqxly5YFdTAAAICAz1E5cuSI36fQdnR06MiR\n",
              "I0EdCgAAQDqDV1Ruv/12TZgwQVdffbUk6bnnntM999wT7LkAAAACD5WysjLl5+eroaFBklReXq6L\n",
              "L7446IMBAAAEHCqSNGLECH3/+9/X9OnT1d3drePHj+s73/lOsGcDAABDXMDnqKxfv15Tp07VL3/5\n",
              "S0lSc3OzZs+eHey5AAAAAg+ViooK7dq1S3FxcZKkCRMm6NChQ8GeCwAAIPBQiYqK0ogRI/we420f\n",
              "AABgh4BDZfjw4frwww97P5323//+t84///ygDwYAABDwybR/+tOfdNVVV+ndd9/VtGnTdPDgQW3Z\n",
              "ssWO2QAAwBAXUKj09PTI5/OpoaFBr776qizLUl5eXu/5KgAAAMEUUKgMGzZMpaWleuutt3TVVVfZ\n",
              "NRMAAICkMzhHZcyYMWptbbVjFgAAAD8Bn6Py6aefKicnR3l5eTr33HN7H9+wYUNQBwMAABhwqJSW\n",
              "lqqqqkq33HKLCgoKdN5559k5FwAAwMBDpampSZJ0yy23aNKkSdq1a5dtQwEAAEhncI6KJFmWFew5\n",
              "AAAA+hjwKypHjx7V7t27ZVmWjh071vvn/8nOzrZlQAAAMHQFFCoFBQW997/+Z4fDoXfffTe4kwEA\n",
              "gCFvwKHS1tZm4xgAAAB9ndE5KgAAAKFAqAAAAGMRKgAAwFiECgAAMBahAgAAjEWoAAAAYxEqAADA\n",
              "WIQKAAAwFqECAACMZWuo7N+/X3l5ecrIyNCUKVPU3Nzc71rLsjRjxgzFxcXZORIAAIggtoZKWVmZ\n",
              "SktL1dLSoiVLlqioqKjftQ899JBGjx5t5zgAACDC2BYqHR0dampq0rx58yRJhYWF8ng8am1t7bO2\n",
              "ublZmzZt0h133HHa43Z1dcnr9frdfD5f0OcHAADhZ1uoeDweJSYmKjr65HUPHQ6HXC6X3G6337oT\n",
              "J06opKRElZWVioqKOu1xKyoqFBsb63drbGy05TkAAIDwCvvJtMuXL9ecOXOUlZU1oPVLly5VZ2en\n",
              "3y03N9fmKQEAQDhE23XglJQUtbe3q7u7W9HR0bIsS263Wy6Xy2/dSy+9JLfbrUcffVTd3d3yer0a\n",
              "NWqUdu7cqfj4+D7HdTqdcjqdfo8N5JUYAAAQeWx7RWXkyJGaNGmSamtrJUl1dXVKTk5Wenq637rt\n",
              "27fr0KFDamtr08svv6yYmBi1tbWdMlIAAMDQYutbP5WVlaqsrFRGRoZWrFihmpoaSVJxcbHq6+vt\n",
              "/NYAAGAQsO2tH0nKzMzUjh07+jxeXV19yvWjRo3S559/budIAAAggoT9ZFoAAID+ECoAAMBYhAoA\n",
              "ADAWoQIAAIxFqAAAAGMRKgAAwFiECgAAMBahAgAAjEWoAAAAYxEqAADAWIQKAAAwFqECAACMRagA\n",
              "AABjESoAAMBYhAoAADAWoQIAAIxFqAAAAGMRKgAAwFiECgAAMBahAgAAjEWoAAAAYxEqAADAWIQK\n",
              "AAAwFqECAACMRagAAABjESoAAMBYhAoAADAWoQIAAIxFqAAAAGMRKgAAwFiECgAAMBahAgAAjEWo\n",
              "AAAAYxEqAADAWIQKAAAwFqECAACMRagAAABjESoAAMBYhAoAADAWoQIAAIxFqAAAAGMRKgAAwFiE\n",
              "CgAAMBahAgAAjEWoAAAAYxEqAADAWIQKAAAwFqECAACMRagAAABjESoAAMBYhAoAADAWoQIAAIxF\n",
              "qAAAAGMRKgAAwFiECgAAMBahAgAAjEWoAAAAYxEqAADAWIQKAAAwFqECAACMRagAAABjESoAAMBY\n",
              "tobK/v37lZeXp4yMDE2ZMkXNzc191mzbtk25ubkaN26cLr74Yi1evFg9PT12jgUAACKEraFSVlam\n",
              "0tJStbS0aMmSJSoqKuqz5rzzztNTTz2lvXv36o033tCrr76qdevW2TkWAACIELaFSkdHh5qamjRv\n",
              "3jxJUmFhoTwej1pbW/3WTZw4UWlpaZKks88+Wzk5OWpra+v3uF1dXfJ6vX43n89n19MAAABhZFuo\n",
              "eDweJSYmKjo6WpLkcDjkcrnkdrv7/TuHDx/W+vXrdc011/S7pqKiQrGxsX63xsbGoM8PAADCz5iT\n",
              "ab1er2bNmqXFixfrkksu6Xfd0qVL1dnZ6XfLzc0N4aQAACBUou06cEpKitrb29Xd3a3o6GhZliW3\n",
              "2y2Xy9Vn7ZEjRzRz5kxde+21Ki8v/8bjOp1OOZ1Ov8eioqKCOjsAADCDba+ojBw5UpMmTVJtba0k\n",
              "qa6uTsnJyUpPT/db98UXX2jmzJmaOXOm7rrrLrvGAQAAEcjWt34qKytVWVmpjIwMrVixQjU1NZKk\n",
              "4uJi1dfXS5JWrlypxsZGbdiwQTk5OcrJydEDDzxg51gAACBC2PbWjyRlZmZqx44dfR6vrq7u/fOy\n",
              "Zcu0bNkyO8cAAAARypiTaQEAAP4vQgUAABiLUAEAAMYiVAAAgLEIFQAAYCxCBQAAGItQAQAAxiJU\n",
              "AACAsQgVAABgLEIFAAAYi1ABAADGIlQAAICxCBUAAGAsQgUAABiLUAEAAMYiVAAAgLEIFQAAYCxC\n",
              "BQAAGItQAQAAxiJUAACAsQgVAABgLEIFAAAYi1ABAADGIlQAAICxCBUAAGAsQgUAABiLUAEAAMYi\n",
              "VAAAgLEIFQAAYCxCBQAAGItQAQAAxiJUAACAsQgVAABgLEIFAAAYi1ABAADGIlQAAICxCBUAAGAs\n",
              "QgUAABiLUAEAAMYiVAAAgLEIFQAAYCxCBQAAGItQAQAAxiJUAACAsQgVAABgLEIFAAAYi1ABAADG\n",
              "IlQAAICxCBUAAGAsQgUAABiLUAEAAMYiVAAAgLEIFQAAYCxCBQAAGItQAQAAxiJUAACAsQgVAABg\n",
              "LEIFAAAYi1ABAADGIlQAAICxCBUAAGAsW0Nl//79ysvLU0ZGhqZMmaLm5uZTrlu7dq3GjBmj0aNH\n",
              "q6SkRCdOnLBzLAAAECFsDZWysjKVlpaqpaVFS5YsUVFRUZ81Bw8e1N13363t27ertbVVH374oaqq\n",
              "quwcCwAARAjbQqWjo0NNTU2aN2+eJKmwsFAej0etra1+69avX6+CggIlJCTI4XBo/vz5evLJJ/s9\n",
              "bldXl7xer9/N5/PZ9TQAAEAYRdt1YI/Ho8TEREVHn/wWDodDLpdLbrdb6enpvevcbrdSU1N7748a\n",
              "NUput7vf41ZUVGj58uV+j40dO1bl5eVBnd/n8ymxsVG5ubmKiooK6rElqbz830E/ZqTy+XxqtHGv\n",
              "cRL7HBrsc2iwz33NseGYPp9Pl156v237nJqaqttuu+0b19gWKnZZunRpnyhxOp1yOp1B/T5er1ex\n",
              "sbF6/vnnFRMTE9Rjwx97HRrsc2iwz6HBPoeGCftsW6ikpKSovb1d3d3dio6OlmVZcrvdcrlcfutc\n",
              "LpcOHDjQe7+tra3Pmq+zI0oAAICZbDtHZeTIkZo0aZJqa2slSXV1dUpOTvZ720c6ee5KfX29Dh8+\n",
              "LMuytHr1at1www12jQUAACKIrb/1U1lZqcrKSmVkZGjFihWqqamRJBUXF6u+vl6SlJaWpuXLlys/\n",
              "P1/p6emKj49XWVmZnWMBAIAIYes5KpmZmdqxY0efx6urq/3ul5SUqKSkxM5RAuZ0OvWHP/yBt5lC\n",
              "gL0ODfY5NNjn0GCfQ8OEfXZYlmWF7bsDAAB8Az5CHwAAGItQAQAAxiJUAACAsQgVAABgrCEfKj/5\n",
              "yU+UnZ2tnJwcXXbZZXrzzTdPuY4rPH97A9nrbdu2KTc3V+PGjdPFF1+sxYsXq6enJwzTRq6B/jMt\n",
              "SZZlacaMGYqLiwvdgIPEQPd59+7dmj59urKyspSVlaUNGzaEeNLINpB97unpUXl5ucaNG6fs7Gxd\n",
              "fvnlfa4rh4GpqamRw+HQpk2bTvn1zZs3a+zYsRozZozmzJkjr9dr/1DWEPfZZ5/1/nnDhg1WdnZ2\n",
              "nzXvvvuulZiYaLW3t1s9PT3WrFmzrEcffTSEUw4OA9nrXbt2WQcOHLAsy7KOHj1q5efnWzU1NSGa\n",
              "cHAYyD7/z4MPPmgVFxdbsbGx9g82yAxkn7/88kvroosusrZv325ZlmV1d3dbHR0doRpxUBjIPm/c\n",
              "uNHKzc21jh8/blmWZd13333W3LlzQzXioHHw4EHr0ksvtaZOnWpt3Lixz9ePHDlijRw50nr77bct\n",
              "y7KshQsXWr/73e9sn2vIv6Ly9f+T7OzslMPh6LMm0Cs849QGstcTJ05UWlqaJOnss89WTk6O2tra\n",
              "QjTh4DCQfZak5uZmbdq0SXfccUeIJhtcBrLPTzzxhKZOnapp06ZJkqKiohQfHx+qEQeFgeyzw+FQ\n",
              "V1eXjh07Jsuy5PV6lZycHMIpI19PT4+Ki4v1yCOP9PuZKc8++6wmTpyosWPHSpJuvfXWkPwsjLiL\n",
              "Etrh5ptvVkNDgyRp69atfb4e6BWe0b/T7fXXHT58WOvXr9fmzZtDMdqgcrp9PnHihEpKSrR27Vqu\n",
              "PPstnG6f9+7dK6fTqWuuuUbvvfeesrOz9eCDDxIrATrdPs+aNUsNDQ1KSEjQ8OHDlZSUpJdeeinU\n",
              "Y0a0v/71r8rPz9fkyZP7XXOqn4Vfv6afXYb8KyqStG7dOnk8Ht1///1asmRJuMcZ1Aa6116vV7Nm\n",
              "zdLixYt1ySWXhHDCweF0+7x8+XLNmTNHWVlZYZhu8DjdPnd3d+uFF15QZWWl3nzzTSUlJWnBggVh\n",
              "mDSynW6fm5qatGfPHr3//vv64IMPdMUVV2j+/PlhmDQy7dmzR3V1dbrrrrvCPcqp2f7mUoQ5++yz\n",
              "rY8//tjvsT//+c9WWVlZ7/0tW7ZY+fn5oR5t0DnVXluWZXm9XuvSSy+17rvvvjBMNficap+nTZtm\n",
              "uVwuKzU11UpKSrIcDoeVmprK+RPfwqn2+S9/+Yt100039d7fs2ePlZSUFOrRBpVT7fPChQutBx54\n",
              "oPf+nj17rAsvvDDUo0WsVatWWQkJCVZqaqqVmppqOZ1OKz4+3lq1apXfuqefftq68sore+83NzeH\n",
              "5J/nIf2Kyueff64PPvig9/6mTZs0YsQInX/++X7ruMLztzfQvf7iiy80c+ZMzZw509y6N9hA93n7\n",
              "9u06dOiQ2tra9PLLLysmJkZtbW28JTFAA93n66+/Xjt37uz9zYitW7dqwoQJIZ01kg10n9PS0rRt\n",
              "2zYdP35c0snfTBk/fnxIZ41kCxYsUHt7u9ra2tTW1qapU6eqqqqqz6t/M2fO1K5du/TOO+9Iklat\n",
              "WhWSn4VD+hyVzs5OzZ07V0ePHtWwYcMUHx+vzZs3y+FwqLi4WAUFBSooKPC7wrMkTZ8+nSs8B2ig\n",
              "e71y5Uo1Njbqyy+/7P01zrlz52rZsmVhfgaRYaD7jG9noPvscrl05513Ki8vT8OGDVNSUpKqqqrC\n",
              "PX7EGOg+L1y4UG+//bYmTJigs846SwkJCVq9enW4xx8Ufv/73+vCCy/U/PnzNXz4cFVXV2v27Nnq\n",
              "7u7W+PHj9fjjj9s+AxclBAAAxhrSb/0AAACzESoAAMBYhAoAADAWoQIAAIxFqAAAAGMRKgAAwFiE\n",
              "CgAAMBahAgAAjEWoAAAAYxEqAADAWP8fs1rQDBWUlp4AAAAASUVORK5CYII=\n",
              "\">\n",
              "      </div>\n",
              "      <script type=\"text/javascript\">\n",
              "        (() => {\n",
              "          const chartElement = document.getElementById(\"chart-7b14cce7-c4e1-4593-b1ca-60a9afa50570\");\n",
              "          async function getCodeForChartHandler(event) {\n",
              "            const chartCodeResponse =  await google.colab.kernel.invokeFunction(\n",
              "                'getCodeForChart', [\"chart-7b14cce7-c4e1-4593-b1ca-60a9afa50570\"], {});\n",
              "            const responseJson = chartCodeResponse.data['application/json'];\n",
              "            await google.colab.notebook.addCell(responseJson.code, 'code');\n",
              "          }\n",
              "          chartElement.onclick = getCodeForChartHandler;\n",
              "        })();\n",
              "      </script>\n",
              "      <style>\n",
              "        .colab-quickchart-chart-with-code  {\n",
              "            display: block;\n",
              "            float: left;\n",
              "            border: 1px solid transparent;\n",
              "        }\n",
              "\n",
              "        .colab-quickchart-chart-with-code:hover {\n",
              "            cursor: pointer;\n",
              "            border: 1px solid #aaa;\n",
              "        }\n",
              "      </style>"
            ]
          },
          "metadata": {}
        },
        {
          "output_type": "display_data",
          "data": {
            "text/plain": [
              "<google.colab._quickchart_helpers.SectionTitle at 0x7f36b4335a20>"
            ],
            "text/html": [
              "<h4 class=\"colab-quickchart-section-title\">2-d distributions</h4>\n",
              "<style>\n",
              "  .colab-quickchart-section-title {\n",
              "      clear: both;\n",
              "  }\n",
              "</style>"
            ]
          },
          "metadata": {}
        },
        {
          "output_type": "display_data",
          "data": {
            "text/plain": [
              "from matplotlib import pyplot as plt\n",
              "_df_3.plot(kind='scatter', x='index', y='col1', s=32, alpha=.8)\n",
              "plt.gca().spines[['top', 'right',]].set_visible(False)"
            ],
            "text/html": [
              "      <div class=\"colab-quickchart-chart-with-code\" id=\"chart-241c4338-f59e-4d80-bf56-5e11945ed254\">\n",
              "        <img style=\"width: 180px;\" src=\"data:image/png;base64,iVBORw0KGgoAAAANSUhEUgAAAioAAAGkCAYAAAAfYg6GAAAAOXRFWHRTb2Z0d2FyZQBNYXRwbG90\n",
              "bGliIHZlcnNpb24zLjcuMSwgaHR0cHM6Ly9tYXRwbG90bGliLm9yZy/bCgiHAAAACXBIWXMAAA9h\n",
              "AAAPYQGoP6dpAAAcAElEQVR4nO3dfZDVdb3A8c/xrB5MnmxEUTZ2xUVFENayvaLEiE6xlYghOdbY\n",
              "wySI1b00bcVEozWmxVyrbcge1HIq8mYzKRlj6UyKMZAPqwUamI2bLoQKUhYLxB724Xf/cNrbXlld\n",
              "Ys8534XXa+bMsOd89+zH7zCct7/fb8/JZVmWBQBAgo6o9AAAAP0RKgBAsoQKAJAsoQIAJEuoAADJ\n",
              "EioAQLKECgCQLKECACTrkAiV5cuXV3oEAKAEDolQ2bx5c6VHAABK4JAIFQDg0CRUAIBkCRUAIFlC\n",
              "BQBIllABAJIlVACAZAkVACBZQgUASJZQAQCSJVQAgGQJFQBgvzo6u+Mvu4vR0dldsRmqKvaTAYAk\n",
              "7dhVjNsfaYv7Nm6PvZ3dcfSR+XjnlLFxxfSaOG54oayzlOyISkdHR1xyySVx6qmnxrRp0+Ltb397\n",
              "tLa27nftPffcE6effnpMnDgx5s2bF+3t7aUaCwB4DTt2FeO/7lgf//PolthT7IqqI3Kxp9gVtz+6\n",
              "Of7zx+vjL7uLZZ2npKd+rrrqqvjjH/8YTzzxRMydOzcWLFjwqjW7d++OK6+8Mu6+++545pln4qST\n",
              "Torrr7++lGMBAP24/ZG2aH1pV4wZXohjjzkqjilUxbHHHBVjhhei9aVdcfvDm8s6T8lCZdiwYfGu\n",
              "d70rcrlcREScc8450dbW9qp19957b5x11llx+umnR0TExz72sbjjjjv6fd5isRjt7e19bt3dlTt3\n",
              "BgCHio7O7rhv4/YYVpWPqnzfRKjKHxGFqnzcu2lbWa9ZKdvFtMuXL4+5c+e+6v4tW7ZETU1N79e1\n",
              "tbXx4osvRldX136fZ9myZTFq1Kg+t5aWlpLNDQCHi93Frtjb2R1HVe0/DwpVR8Tefd2xu7j/1+hS\n",
              "KEuofPnLX47W1tZYtmzZQT/X0qVLY+fOnX1uDQ0NgzAlABzehheq4ugj87Gvq2e/jxe7euLoo/Ix\n",
              "vFC+38Upeah89atfjZUrV8a9994bb3jDG171+Pjx42Pz5v8739XW1hYnnnhiVFXtfxMKhUKMHDmy\n",
              "zy2fz5dsfgA4XAw7Mh+NU06Ijq7u6OruGytd3T1R7OqOd04eG8OOLN/rbklDpbm5Oe6444741a9+\n",
              "FaNHj97vmsbGxvjd734XTz/9dEREfPvb347LL7+8lGMBAP34wPTaqDt+ROzYXYyX9+yLPcWueHnP\n",
              "vtixuxgTjx8RV0yvef0nGUQlO3azdevW+NSnPhUTJkyIWbNmRcQrR0MeffTR+PznPx8nnXRSXH31\n",
              "1TFixIj43ve+F5dcckl0dXXFlClT4oc//GGpxgIAXsNxwwvxzfefFbc/vDnu3bQt9u7rjuHDquK9\n",
              "k6sr8j4quSzLsrL+xBJoamqK5ubmSo8BAIeUjs5XLpwdXqgq6+mef+WdaQGA/Rp2ZL5igfJPPusH\n",
              "AEiWUAEAkiVUAIBkCRUAIFlCBQBIllABAJIlVACAZAkVACBZQgUASJZQAQCSJVQAgGQJFQAgWUIF\n",
              "AEiWUAEAkiVUAIBkCRUAIFlCBQBIllABAJIlVACAZAkVACBZQgUASJZQAQCSJVQAgGQJFQAgWUIF\n",
              "AEiWUAEAkiVUAIBkCRUAIFlCBQBIllABAJIlVACAZAkVACBZQgUASJZQAQCSJVQAgGQJFQAgWUIF\n",
              "AEiWUAEAkiVUAIBkCRUAIFlCBQBIllABAJIlVACAZAkVACBZQgUASJZQAQCSJVQAgGQJFQAgWUIF\n",
              "AEiWUAEAkiVUAIBkCRUAIFlCBQBIllABAJIlVACAZAkVACBZQgUASFZJQ2Xx4sVRW1sbuVwuNmzY\n",
              "sN81PT090dTUFGeccUZMnTo1Zs2aFa2traUcCwAYIkoaKvPnz49169ZFTU1Nv2tWrVoVv/nNb+KJ\n",
              "J56IJ598Mi688ML43Oc+V8qxAIAhoqqUTz5z5szXXZPL5aJYLEZHR0dUVVVFe3t7VFdX97u+WCxG\n",
              "sVjsc193d/dBzwoApKekoTIQc+bMiQcffDDGjh0bI0aMiHHjxsWaNWv6Xb9s2bK47rrr+tx3zjnn\n",
              "lHpMAKACKn4x7eOPPx4bN26M559/Pl544YW48MIL4+qrr+53/dKlS2Pnzp19bg0NDWWcGAAol4of\n",
              "UVmxYkVccMEFMXr06IiI+NCHPhTveMc7+l1fKBSiUCj0uS+fz5dyRACgQip+RGXChAmxevXq2Ldv\n",
              "X0RE3HPPPTFlypQKTwUApKCkobJo0aKorq6OrVu3xuzZs6Ouri4iIhYsWBCrVq2KiIiPf/zjcfLJ\n",
              "J8e0adNi6tSp8cADD8R3vvOdUo4FAAwRuSzLskoPcbCampqiubm50mMAAIOs4qd+AAD6I1QAgGQJ\n",
              "FQAgWUIFAEiWUAEAkiVUAIBkCRUAIFlCBQBIllABAJIlVACAZAkVACBZQgUASJZQAQCSJVQAgGQJ\n",
              "FQAgWUIFAEiWUAEAkiVUAIBkCRUAIFlCBQBIllABAJIlVACAZAkVACBZQgUASJZQAQCSJVQAgGQJ\n",
              "FQAgWUIFAEiWUAEAkiVUAIBkCRUAIFlCBQBIllABAJIlVACAZAkVACBZQgUASJZQAQCSJVQAgGQJ\n",
              "FQAgWUIFAEiWUAEAkiVUAIBkCRUAIFlCBQBIllABAJIlVACAZAkVACBZQgUASJZQAQCSJVQAgGQJ\n",
              "FQAgWUIFAEiWUAEAkiVUAIBkCRUAIFlCBQBIllABAJIlVACAZJU0VBYvXhy1tbWRy+Viw4YN/a77\n",
              "/e9/H+eff35MmjQpJk2aFCtXrizlWADAEFFVyiefP39+LFmyJGbMmNHvmn/84x8xd+7cWLFiRcyY\n",
              "MSO6u7vj5ZdfLuVYAMAQUdJQmTlz5uuu+fGPfxznnHNOb8zk8/kYM2ZMv+uLxWIUi8U+93V3dx/c\n",
              "oABAkip+jcpTTz0VhUIhLrrooqivr48PfvCDsWPHjn7XL1u2LEaNGtXn1tLSUsaJAYByqXiodHV1\n",
              "xf333x+33HJLrF+/PsaNGxcf/ehH+12/dOnS2LlzZ59bQ0NDGScGAMqlpKd+BmL8+PExa9asGDdu\n",
              "XEREXHHFFTF79ux+1xcKhSgUCn3uy+fzJZ0RAKiMih9Rueyyy+Kxxx6L9vb2iIj45S9/GdOmTavw\n",
              "VABACkoaKosWLYrq6urYunVrzJ49O+rq6iIiYsGCBbFq1aqIeOWIyuc+97k499xzY+rUqbF69eq4\n",
              "+eabSzkWADBE5LIsyyo9xMFqamqK5ubmSo8BAAyyip/6AQDoj1ABAJIlVACAZAkVACBZQgUASJZQ\n",
              "AQCSJVQAgGQJFQAgWUIFAEiWUAEAkiVUAIBkCRUAIFlCBQBIllABAJIlVACAZAkVACBZQgUASJZQ\n",
              "AQCSJVQAgGQJFQAgWYMSKqeeeupgPA0AQB9VA1345JNP9vvYrl27BmUYAIB/NeBQqa+vj9ra2siy\n",
              "7FWP/fWvfx3UoQAAIg4gVGpqamLdunVx0kknveqxN73pTYM6FABAxAFco3LxxRfHs88+u9/H3v3u\n",
              "dw/aQAAA/zTgIyrLly/v97Gbb755UIYBAPhXfj0ZAEjWgI+oHHvssZHL5V51f5Zlkcvl4uWXXx7U\n",
              "wQAABhwqGzZsKOEYAACvdkC/9fNP//jHP3rDpb6+Pt7whjcM+mAAAAMOlX966KGH4tJLL42xY8dG\n",
              "RMT27dvjrrvuiunTpw/6cADA4e2AQ6WpqSnuvPPOOO+88yLilXD55Cc/GY888sigDwcAHN4O+Ld+\n",
              "9u7d2xspERHnnntudHR0DOpQAAAR/0aoDB8+PO6///7erx944IE45phjBnUoAICIf+PUzze+8Y2Y\n",
              "N29e5PP5iIjo6emJlStXDvpgAAAHHCovvPBCPP7447F9+/aIiDjhhBOipaVl0AcDADjgUz/XXntt\n",
              "jBkzJqZMmRJTpkyJ4447Lq699tpSzAYAHOYO+i30c7lcdHd3D8YsAAB9HHCojBgxIh566KHer3/z\n",
              "m9/EiBEjBnUoAICIf+MalRtvvDHe8573xOmnnx4REc8880z87Gc/G/TBAAAOOFSmT58ef/jDH+Lh\n",
              "hx+OiFfeR2X06NGDPRcAwIGHSsQrn6T8rne9a7BnAQDo46AvpgUAKBWhAgAkS6gAAMkSKgBAsoQK\n",
              "AJAsoQIAJEuoAADJEioAQLKECgCQLKECACRLqAAAyRIqAECyhAoAkCyhAgAkS6gAAMkSKgBAskoa\n",
              "KosXL47a2trI5XKxYcOG11ybZVlccMEFMXr06FKOBAAMISUNlfnz58e6deuipqbmddd+/etfj1NO\n",
              "OaWU4wAAQ0xJQ2XmzJlRXV39uus2bdoUd999d3z2s58t5TgAwBBTVekBOjs7Y+HChXHbbbdFPp9/\n",
              "3fXFYjGKxWKf+7q7u0s1HgBQQRW/mPa6666LefPmxaRJkwa0ftmyZTFq1Kg+t5aWlhJPCQBUQsVD\n",
              "Zc2aNXHTTTdFbW1tzJgxI9rb26O2tjZ27Nix3/VLly6NnTt39rk1NDSUeWoAoBwqfupn7dq1vX9u\n",
              "a2uL+vr6aGtr63d9oVCIQqHQ576BnDICAIaekh5RWbRoUVRXV8fWrVtj9uzZUVdXFxERCxYsiFWr\n",
              "VpXyRwMAh4BclmVZpYc4WE1NTdHc3FzpMQCAQVbxa1QAAPojVACAZAkVACBZQgUASJZQAQCSJVQA\n",
              "gGQJFQAgWUIFAEiWUAEAkiVUAIBkCRUAIFlCBQBIllABAJIlVACAZAkVACBZQgUASJZQAQCSJVQA\n",
              "gGQJFQAgWUIFAEiWUAEAkiVUAIBkCRUAIFlCBQBIllABAJIlVACAZAkVACBZQgUASJZQAQCSJVQA\n",
              "gGQJFQAgWUIFAEiWUAEAkiVUAIBkCRUAIFlCBQBIllABAJIlVACAZAkVACBZQgUASJZQAQCSJVQA\n",
              "gGQJFQAgWUIFAEiWUAEAkiVUAIBkCRUAIFlCBQBIllABAJIlVACAZAkVACBZQgUASJZQAQCSJVQA\n",
              "gGQJFQAgWUIFAEiWUAEAkiVUAIBkCRUAIFklDZXFixdHbW1t5HK52LBhw37XrF69OhoaGuKMM86I\n",
              "yZMnx5IlS6Knp6eUYwEAQ0RJQ2X+/Pmxbt26qKmp6XfNscceGz/5yU/iqaeeit/+9rfx0EMPxYoV\n",
              "K0o5FgAwRFSV8slnzpz5umvOOuus3j8PGzYs6uvro62trd/1xWIxisVin/u6u7v/7RkBgHQldY3K\n",
              "tm3b4s4774yLLrqo3zXLli2LUaNG9bm1tLSUcUoAoFySCZX29vaYM2dOLFmyJM4+++x+1y1dujR2\n",
              "7tzZ59bQ0FDGSQGAcinpqZ+B2rVrVzQ2NsbcuXOjqanpNdcWCoUoFAp97svn86UcDwCokIofUdm9\n",
              "e3c0NjZGY2NjXHPNNZUeBwBISElDZdGiRVFdXR1bt26N2bNnR11dXURELFiwIFatWhUREcuXL4+W\n",
              "lpZYuXJl1NfXR319fXzpS18q5VgAwBCRy7Isq/QQB6upqSmam5srPQYAMMgqfuoHAKA/QgUASJZQ\n",
              "AQCSJVQAgGQJFQAgWUIFAEiWUAEAkiVUAIBkCRUAIFlCBQBIllABAJIlVACAZAkVACBZQgUASJZQ\n",
              "AQCSJVQAgGQJFQAgWUIFAEiWUAEAkiVUAIBkCRUAIFlCBQBIllABAJIlVACAZAkVACBZQgUASJZQ\n",
              "AQCSJVQAgGQJFQAgWUIFAEiWUAEAkiVUAIBkCRUAIFlCBQBIllABAJIlVACAZAkVACBZQgUASJZQ\n",
              "AQCSJVQAgGQJFQAgWUIFAEiWUAEAkiVUAIBkCRUAIFlCBQBIllABAJIlVACAZAkVACBZQgUASJZQ\n",
              "AQCSJVQAgGQJFQAgWUIFAEiWUAEAkiVUAIBkCZV+dHR2x192F6Ojs7vSowDAYauq0gOkZseuYtz+\n",
              "SFvct3F77O3sjqOPzMc7p4yNK6bXxHHDC5UeDwAOKyU9orJ48eKora2NXC4XGzZs6HfdbbfdFhMn\n",
              "ToxTTjklFi5cGJ2dnaUcq187dhXjv+5YH//z6JbYU+yKqiNysafYFbc/ujn+88fr4y+7ixWZCwAO\n",
              "VyUNlfnz58e6deuipqam3zXPPfdcXHvttbF27dpobW2N7du3x6233lrKsfp1+yNt0frSrhgzvBDH\n",
              "HnNUHFOoimOPOSrGDC9E60u74vaHN1dkLgA4XJU0VGbOnBnV1dWvuebOO++Miy++OMaOHRu5XC6u\n",
              "vvrquOOOO/pdXywWo729vc+tu/vgryPp6OyO+zZuj2FV+ajK992WqvwRUajKx72btrlmBQDKqOIX\n",
              "027ZsqXPEZfa2trYsmVLv+uXLVsWo0aN6nNraWk56Dl2F7tib2d3HFW1/y0pVB0Re/d1x+5i10H/\n",
              "LABgYCoeKgdq6dKlsXPnzj63hoaGg37e4YWqOPrIfOzr6tnv48Wunjj6qHwML7j+GADKpeKhMn78\n",
              "+Ni8+f+u/Whra4vx48f3u75QKMTIkSP73PL5/EHPMezIfDROOSE6urqjq7tvrHR190SxqzveOXls\n",
              "DDvy4H8WADAwFQ+VSy+9NFatWhXbtm2LLMvi5ptvjssvv7wis3xgem3UHT8iduwuxst79sWeYle8\n",
              "vGdf7NhdjInHj4grpvd/UTAAMPhKGiqLFi2K6urq2Lp1a8yePTvq6uoiImLBggWxatWqiIiYMGFC\n",
              "XHfddXHeeedFXV1djBkzJhYtWlTKsfp13PBCfPP9Z8UV/1ETw4dVRVdPFsOHVcUV/1ETN73/LO+j\n",
              "AgBllsuyLKv0EAerqakpmpubB/U5OzpfuXB2eKHK6R4AqBBXhvZj2JF5gQIAFVbxa1QAAPojVACA\n",
              "ZAkVACBZQgUASJZQAQCSJVQAgGQJFQAgWUIFAEiWUAEAkiVUAIBkHRKf9TNv3ryora0d1Ofs7u6O\n",
              "lpaWaGhoiHzeW+mXkr0uD/tcHva5POxzeZR6n2tqauITn/jEa645JEKlFNrb22PUqFGxc+fOGDly\n",
              "ZKXHOaTZ6/Kwz+Vhn8vDPpdHCvvs1A8AkCyhAgAkS6gAAMkSKv0oFArxhS98IQqFQqVHOeTZ6/Kw\n",
              "z+Vhn8vDPpdHCvvsYloAIFmOqAAAyRIqAECyhAoAkKzDPlSeeeaZOPfcc+PUU0+Nt771rbFp06b9\n",
              "rrvtttti4sSJccopp8TChQujs7OzzJMObQPZ59WrV0dDQ0OcccYZMXny5FiyZEn09PRUYNqhbaB/\n",
              "pyMisiyLCy64IEaPHl2+AQ8RA93n3//+93H++efHpEmTYtKkSbFy5coyTzq0DWSfe3p6oqmpKc44\n",
              "44yYOnVqzJo1K1pbWysw7dC1ePHiqK2tjVwuFxs2bOh3XUVeC7PD3KxZs7Lvf//7WZZl2U9/+tPs\n",
              "7LPPftWaZ599NjvxxBOzF198Mevp6cnmzJmTffOb3yzzpEPbQPb5d7/7XfanP/0py7Is27t3b3be\n",
              "eef1fg8DN5C9/qevfe1r2YIFC7JRo0aVZ7hDyED2ec+ePdnJJ5+crV27NsuyLOvq6speeumlco45\n",
              "5A1kn3/2s59lDQ0N2b59+7Isy7Lrr78+e+9731vOMYe8NWvWZH/+85+zmpqabP369ftdU6nXwsM6\n",
              "VLZv356NGDEi6+zszLIsy3p6erITTjghe+aZZ/qsu/HGG7NFixb1fv2LX/wiO++888o661A20H3+\n",
              "/z7+8Y9nX/jCF8ow4aHjQPZ648aN2dve9rastbVVqBygge7zd7/73ex973tfJUY8JAx0n+++++5s\n",
              "2rRpWXt7e9bT05N95jOfyT75yU9WYuQh77VCpVKvhYf1qZ8///nPceKJJ0ZVVVVERORyuRg/fnxs\n",
              "2bKlz7otW7ZETU1N79e1tbWvWkP/BrrP/2rbtm1x5513xkUXXVSuMQ8JA93rzs7OWLhwYdxyyy0+\n",
              "0O3fMNB9fuqpp6JQKMRFF10U9fX18cEPfjB27NhRiZGHpIHu85w5c+L888+PsWPHxoknnhgPPPBA\n",
              "fPGLX6zEyIe0Sr0WHtahQpra29tjzpw5sWTJkjj77LMrPc4h6brrrot58+bFpEmTKj3KIa2rqyvu\n",
              "v//+uOWWW2L9+vUxbty4+OhHP1rpsQ45jz/+eGzcuDGef/75eOGFF+LCCy+Mq6++utJjMUgO61B5\n",
              "05veFC+++GJ0dXVFxCsXFm7ZsiXGjx/fZ9348eNj8+bNvV+3tbW9ag39G+g+R0Ts2rUrGhsbY+7c\n",
              "udHU1FTuUYe8ge71mjVr4qabbora2tqYMWNGtLe3R21trf/bH6AD+bdj1qxZMW7cuMjlcnHFFVfE\n",
              "I488UomRh6SB7vOKFSt6Lwo/4ogj4kMf+lA8+OCDlRj5kFap18LDOlSOP/74ePOb3xy33357RETc\n",
              "ddddUV1dHXV1dX3WXXrppbFq1arYtm1bZFkWN998c1x++eWVGHlIGug+7969OxobG6OxsTGuueaa\n",
              "Sow65A10r9euXRubN2+Otra2WLduXYwcOTLa2tpizJgxlRh7yBnoPl922WXx2GOPRXt7e0RE/PKX\n",
              "v4xp06aVfd6haqD7PGHChFi9enXs27cvIiLuueeemDJlStnnPdRV7LWw5FfBJO7pp5/OzjnnnGzi\n",
              "xInZW97yluzJJ5/MsizLrrzyyuznP/9577pbb701mzBhQjZhwoTsIx/5SO/V5QzMQPb5hhtuyKqq\n",
              "qrJp06b13m644YZKjj0kDfTv9D8999xzLqb9Nwx0n1esWJFNnjw5O/PMM7PGxsZsy5YtlRp5SBrI\n",
              "Pnd0dGQLFizITj/99OzMM8/M3v72t/f+BiEDc9VVV2Xjxo3L8vl8dvzxx2ennHJKlmVpvBb6rB8A\n",
              "IFmH9akfACBtQgUASJZQAQCSJVSAsqivr49du3Yd8PfNnz8/fvCDHwz+QMCQUFXpAYDDw2t90BlA\n",
              "fxxRAcoil8vF3//+94h45a23P//5z8f06dPj5JNPjhtuuKF33dNPPx3nnntuTJ48OS655JLe9yCJ\n",
              "eOUNARcuXBgNDQ0xderUuOqqq2Lfvn3xxz/+Maqrq+PZZ5+NiIivfvWr0djY6NO34RAgVICK+Pvf\n",
              "/x4PP/xwPPbYY/GVr3wlnn/++YiI+MAHPhBXXnllbNq0Ka6//vpYs2ZN7/d86lOfire97W3R0tIS\n",
              "TzzxRPT09MTy5cvjtNNOi6985Stx2WWXxa9//ev41re+FT/60Y/iiCP8EwdDnVM/QEW8//3vj4iI\n",
              "4447LiZMmBDPPfdcjBgxIjZs2BAf/vCHIyLizDPPjBkzZvR+z9133x0PP/xwNDc3R0TE3r17ez9U\n",
              "8X3ve188+OCDMXv27HjggQe8yy4cIoQKUBHDhg3r/XM+n+/9PJf/L5fL9f45y7K466674tRTT33V\n",
              "uq6urti4cWO88Y1v7D06Awx9josCyRg5cmScddZZsWLFioiI2LRpU6xbt6738UsuuST++7//uzdq\n",
              "/va3v0Vra2tERHz2s5+N0047LdauXRuf/vSne+8HhjahAiRlxYoVceutt8aUKVPimmuuiZkzZ/Y+\n",
              "9vWvfz2OPvroqK+vj6lTp8aFF14YbW1tcc8998R9990X3/rWt6Kuri6am5vjsssui46Ojgr+lwCD\n",
              "wWf9AADJckQFAEiWUAEAkiVUAIBkCRUAIFlCBQBIllABAJIlVACAZAkVACBZQgUASJZQAQCS9b81\n",
              "l48rGFNMngAAAABJRU5ErkJggg==\n",
              "\">\n",
              "      </div>\n",
              "      <script type=\"text/javascript\">\n",
              "        (() => {\n",
              "          const chartElement = document.getElementById(\"chart-241c4338-f59e-4d80-bf56-5e11945ed254\");\n",
              "          async function getCodeForChartHandler(event) {\n",
              "            const chartCodeResponse =  await google.colab.kernel.invokeFunction(\n",
              "                'getCodeForChart', [\"chart-241c4338-f59e-4d80-bf56-5e11945ed254\"], {});\n",
              "            const responseJson = chartCodeResponse.data['application/json'];\n",
              "            await google.colab.notebook.addCell(responseJson.code, 'code');\n",
              "          }\n",
              "          chartElement.onclick = getCodeForChartHandler;\n",
              "        })();\n",
              "      </script>\n",
              "      <style>\n",
              "        .colab-quickchart-chart-with-code  {\n",
              "            display: block;\n",
              "            float: left;\n",
              "            border: 1px solid transparent;\n",
              "        }\n",
              "\n",
              "        .colab-quickchart-chart-with-code:hover {\n",
              "            cursor: pointer;\n",
              "            border: 1px solid #aaa;\n",
              "        }\n",
              "      </style>"
            ]
          },
          "metadata": {}
        },
        {
          "output_type": "display_data",
          "data": {
            "text/plain": [
              "from matplotlib import pyplot as plt\n",
              "_df_4.plot(kind='scatter', x='col1', y='col2', s=32, alpha=.8)\n",
              "plt.gca().spines[['top', 'right',]].set_visible(False)"
            ],
            "text/html": [
              "      <div class=\"colab-quickchart-chart-with-code\" id=\"chart-408a8098-00a2-49ae-8ce7-a15608c15e04\">\n",
              "        <img style=\"width: 180px;\" src=\"data:image/png;base64,iVBORw0KGgoAAAANSUhEUgAAAioAAAGkCAYAAAAfYg6GAAAAOXRFWHRTb2Z0d2FyZQBNYXRwbG90\n",
              "bGliIHZlcnNpb24zLjcuMSwgaHR0cHM6Ly9tYXRwbG90bGliLm9yZy/bCgiHAAAACXBIWXMAAA9h\n",
              "AAAPYQGoP6dpAAAdoklEQVR4nO3df6yW9X3/8dd9ztGDFRClVJQOCIwVlMIxbQgqLCqrpV09OCyd\n",
              "axySiVbt1mVni1YnW4hkJMtG47q01s4sPXPVOapoGDap88TgD4ZOxPqjixgP2CLUH+EcUDhwzrm/\n",
              "fzRlOwM6/Hrucz7n8Hgkd3Lu+/p43W+uIOeZ677u+65Uq9VqAAAKVDfYAwAAHItQAQCKJVQAgGIJ\n",
              "FQCgWEIFACiWUAEAiiVUAIBiCRUAoFjDIlTuuOOOwR4BAKiBYREq27dvH+wRAIAaGBahAgAMT0IF\n",
              "ACiWUAEAiiVUAIBiCRUAoFhCBQAollABAIolVACAYgkVAKBYQgUAKJZQAQCO6sChnry9rysHDvUM\n",
              "2gwNg/bMAECR3trblXs2teeHL+7O/kM9OeWk+nxu5vhcdf6kfHRk44DOMiBnVP7xH/8xlUol69at\n",
              "O+r29evXZ/r06Zk2bVoWL16czs7OgRgLAPhf3trblT+6d0v++T925L2u7jTUVfJeV3fu+Y/t+cPv\n",
              "b8nb+7oGdJ6ah0p7e3u++93vZu7cuUfdvm/fvlxzzTVZt25dXn311Zx99tm5/fbbaz0WAHAU92xq\n",
              "z7af7824kY05/dSTc2pjQ04/9eSMG9mYbT/fm3ue3j6g89Q0VHp7e7N8+fJ885vfTGPj0U8VPfLI\n",
              "IznvvPMyffr0JMmNN96Ye++995j77OrqSmdnZ59bT8/gvXYGAMPFgUM9+eGLuzOioT4N9X0ToaG+\n",
              "Lo0N9XnkpV0Des1KTUNlzZo1ufDCC/OpT33qmGt27NiRSZMmHb4/efLkvPnmm+nu7j7q+tWrV+e0\n",
              "007rc9u8eXO/zw4AJ5p9Xd3Zf6gnJzccPQ8aG+qy/2BP9nUd/Xd0LdQsVF588cX84Ac/yG233dav\n",
              "+73lllvS0dHR5zZnzpx+fQ4AOBGNbGzIKSfV52B371G3d3X35pST6zOyceDei1OzUNm4cWPa29sz\n",
              "bdq0TJ48OZs2bcp1112Xb3/7233WTZw4Mdu3//frXe3t7TnrrLPS0HD0g9DY2JjRo0f3udXX19fq\n",
              "jwEAJ4wRJ9Vn4cwzc6C7J909fWOlu6c3Xd09+dy54zPipIH7vVuzULnhhhvy5ptvpr29Pe3t7Zk7\n",
              "d27uuuuu3HDDDX3WLVy4MM8991x+8pOfJEm+9a1v5corr6zVWADAr/D750/Or39sVN7a15V33zuY\n",
              "97q68+57B/PWvq5M+9ioXHX+pP97J/1oUD5H5S/+4i9y9tln5/rrr8+oUaPyD//wD7n88svT3d2d\n",
              "mTNn5nvf+95gjAUAJ7yPjmzM33/5vNzz9PY88tKu7D/Yk5EjGrLk3I8PyueoVKrVanVAn7EGWlpa\n",
              "smbNmsEeAwCGlQOHfnHh7MjGhgF9ued/8sm0AMBRjTipftAC5Zd81w8AUCyhAgAUS6gAAMUSKgBA\n",
              "sYQKAFAsoQIAFEuoAADFEioAQLGECgBQLKECABRLqAAAxRIqAECxhAoAUCyhAgAUS6gAAMUSKgBA\n",
              "sYQKAFAsoQIAFEuoAADFEioAQLGECgBQLKECABRLqAAAxRIqAECxhAoAUCyhAgAUS6gAAMUSKgBA\n",
              "sYQKAFAsoQIAFEuoAADFEioAQLGECgBQLKECABRLqAAAxRIqAECxhAoAUCyhAgAUS6gAAMUSKgBA\n",
              "sYQKAFAsoQIAFEuoAADFEioAQLGECgBQLKECABRLqAAAxRIqAECxhAoAUCyhAgAUS6gAAMUSKgBA\n",
              "sYQKAFAsoQIAFEuoAADFEioAQLGECgBQrJqGyqWXXppZs2alqakp8+fPz5YtW45Y09vbm5aWlpxz\n",
              "zjmZNWtWLr744mzbtq2WYwEAQ0RNQ+X+++/PCy+8kOeffz4tLS1ZtmzZEWsefvjhPPnkk9m6dWte\n",
              "eOGFLFiwILfeemstxwIAhoiGWu58zJgxh3/u6OhIpVI5Yk2lUklXV1cOHDiQhoaGdHZ25uMf//gx\n",
              "99nV1ZWurq4+j/X09PTbzABAOWoaKkmydOnStLW1JUk2bNhwxPbLLrssbW1tGT9+fEaNGpUJEybk\n",
              "8ccfP+b+Vq9enZUrV/Z5bO7cuf07NABQhJpfTNva2po33ngjq1atys0333zE9meffTYvvvhifvaz\n",
              "n2Xnzp1ZsGBBrr/++mPu75ZbbklHR0ef25w5c2r5RwAABsmAvevn6quvTltbW955550+j7e2tuaS\n",
              "Sy7JmDFjUldXd3jdsTQ2Nmb06NF9bvX19bUeHwAYBDULlT179mTnzp2H769bty5jx47NGWec0Wfd\n",
              "lClT8thjj+XgwYNJkvXr12fmzJm1GgsAGEJqdo1KR0dHlixZkv3796euri7jxo3L+vXrU6lUsnz5\n",
              "8jQ3N6e5uTlf/epX88orr2T27Nk56aSTMn78+Nx55521GgsAGEIq1Wq1OthDfFgtLS1Zs2bNYI8B\n",
              "APQzn0wLABRLqAAAxRIqAECxhAoAUCyhAgAUS6gAAMUSKgBAsYQKAFAsoQIAFEuoAADFEioAQLGE\n",
              "CgBQLKECABRLqAAAxRIqAECxhAoAUCyhAgAUS6gAAMUSKgBAsYQKAFAsoQIAFEuoAADFEioAQLGE\n",
              "CgBQLKECABRLqAAAxRIqAECxhAoAUCyhAgAUS6gAAMUSKgBAsYQKAFAsoQIAFEuoAADFEioAQLGE\n",
              "CgBQLKECABRLqAAAxRIqAECxhAoAUCyhAgAUS6gAAMUSKgBAsYQKAFAsoQIAFEuoAADFEioAQLGE\n",
              "CgBQLKECABRLqAAAxRIqAECxhAoAUCyhAgAUS6gAAMUSKgBAsYQKAFAsoQIAFEuoAADFqmmoXHrp\n",
              "pZk1a1aampoyf/78bNmy5ajrfvzjH+eiiy7KjBkzMmPGjDzwwAO1HAsAGCIaarnz+++/P2PGjEmS\n",
              "PPjgg1m2bFm2bt3aZ83777+fRYsWpbW1NfPmzUtPT0/efffdWo4FAAwRNQ2VX0ZKknR0dKRSqRyx\n",
              "5vvf/37mzp2befPmJUnq6+szbty4Y+6zq6srXV1dfR7r6enpn4EBgKLU/BqVpUuX5td+7deyYsWK\n",
              "/NM//dMR219++eU0NjbmC1/4QpqamrJ06dK89dZbx9zf6tWrc9ppp/W5bd68uZZ/BABgkNQ8VFpb\n",
              "W/PGG29k1apVufnmm4/Y3t3dnUcffTTf+c53smXLlkyYMCE33HDDMfd3yy23pKOjo89tzpw5tfwj\n",
              "AACDZMDe9XP11Venra0t77zzTp/HJ06cmIsvvjgTJkxIpVLJVVddlU2bNh1zP42NjRk9enSfW319\n",
              "fa3HBwAGQc1CZc+ePdm5c+fh++vWrcvYsWNzxhln9Fn3pS99Kc8880w6OzuTJBs2bMjs2bNrNRYA\n",
              "MITU7GLajo6OLFmyJPv3709dXV3GjRuX9evXp1KpZPny5Wlubk5zc3MmTpyYW2+9NRdccEHq6uoy\n",
              "YcKE3HXXXbUaCwAYQirVarU62EN8WC0tLVmzZs1gjwEA9DOfTAsAFEuoAADFEioAQLGECgBQLKEC\n",
              "ABRLqAAAxRIqAECxhAoAUCyhAgAUS6gAAMUSKgBAsYQKAFAsoQIAFEuoAADFEioAQLGECgBQLKEC\n",
              "ABRLqAAAxRIqAECxhAoAUKzjDpXXXnstF198caZMmZKWlpYcOHDg8Lbzzz+/JsMBACe24w6VG2+8\n",
              "MV/84hfzr//6r3n77bezYMGC7N27N0n6RAsAQH857lD5+c9/nq9+9av51Kc+ldbW1vz2b/92FixY\n",
              "kI6OjlQqlVrOCACcoBqOd+H+/fv73L/11ltz8skn9zmzAgDQn477jMqMGTPywx/+sM9jf/Znf5Yv\n",
              "f/nLee211/p9MACA4z6jct999x318ZaWlvzu7/5uvw0EAPBLxx0qjY2Nx9w2YcKEfhkGAOB/Ou5Q\n",
              "Of3004960Wy1Wk2lUsm7777br4MBABx3qDz//PM1HAMA4EjHHSqTJk06/PP7779/OFyamprykY98\n",
              "pN8HAwA47lD5paeeeipXXHFFxo8fnyTZvXt3fvCDH/h0WgCg333gUGlpacnatWtz4YUXJvlFuPzJ\n",
              "n/xJNm3a1O/DAQAntg/8pYT79+8/HClJcsEFF/gIfQCgJj5wqIwcOTKPPvro4fv//u//nlNPPbVf\n",
              "hwIASP4/Xvr5u7/7uyxevDj19fVJkt7e3jzwwAP9PhgAwAcOlZ07d+bZZ5/N7t27kyRnnnlmNm/e\n",
              "3O+DAQB84Jd+VqxYkXHjxmXmzJmZOXNmPvrRj2bFihW1mA0AOMF94FD53yqVSnp6evpjFgCAPj5w\n",
              "qIwaNSpPPfXU4ftPPvlkRo0a1a9DAQAk/x/XqPz1X/91fud3fifTp09Pkrz66qt58MEH+30wAIAP\n",
              "HCrnn39+XnnllTz99NNJfvE5KmPGjOnvuQAAPnioJL/4JuXPf/7z/T0LAEAfH/piWgCAWhEqAECx\n",
              "hAoAUCyhAgAUS6gAAMUSKgBAsYQKAFAsoQIAFEuoAADFEioAQLGECgBQLKECABRLqAAAxRIqAECx\n",
              "hAoAUCyhAgAUq6ahcumll2bWrFlpamrK/Pnzs2XLlmOurVarueSSSzJmzJhajgQADCENtdz5/fff\n",
              "fzg8HnzwwSxbtixbt2496tpvfOMbmTp1ap577rlajgQADCE1PaPyP8+OdHR0pFKpHHXdSy+9lHXr\n",
              "1uXrX/96LccBAIaYmp5RSZKlS5emra0tSbJhw4Yjth86dCjXXntt7r777tTX1/+f++vq6kpXV1ef\n",
              "x3p6evpnWACgKDW/mLa1tTVvvPFGVq1alZtvvvmI7StXrszixYszY8aM49rf6tWrc9ppp/W5bd68\n",
              "ub/HBgAKUKlWq9WBerJTTjklP/3pTzN27NjDj82fPz87duxIpVJJd3d3du7cmYkTJ+aZZ57JuHHj\n",
              "jtjH0c6orFixInfccUfN5wcABlbNXvrZs2dP3n///Zx99tlJknXr1mXs2LE544wz+qzbuHHj4Z/b\n",
              "29vT1NSU9vb2Y+63sbExjY2NfR47npeMAIChp2ah0tHRkSVLlmT//v2pq6vLuHHjsn79+lQqlSxf\n",
              "vjzNzc1pbm6u1dMDAMPAgL70UystLS1Zs2bNYI8BAPQzn0wLABRLqAAAxRIqAECxhAoAUCyhAgAU\n",
              "S6gAAMUSKgBAsYQKAFAsoQIAFEuoAADFEioAQLGECgBQLKECABRLqAAAxRIqAECxhAoAUCyhAgAU\n",
              "S6gAAMUSKgBAsYQKAFAsoQIAFEuoAADFEioAQLGECgBQLKECABRLqAAAxRIqAECxhAoAUCyhAgAU\n",
              "S6gAAMUSKgBAsYQKAFAsoQIAFEuoAADFEioAQLGECgBQLKECABRLqAAAxRIqAECxhAoAUCyhAgAU\n",
              "S6gAAMUSKgBAsYQKAFAsoQIAFEuoAADFEioAQLGECgBQLKECABRLqAAAxRIqAECxhAoAUCyhAgAU\n",
              "S6gAAMUSKgBAsYQKAFAsoQIAFEuoAADFEioAQLFqGiqXXnppZs2alaampsyfPz9btmw5Ys1jjz2W\n",
              "OXPm5Jxzzsm5556bm266Kb29vbUcCwAYIhpqufP7778/Y8aMSZI8+OCDWbZsWbZu3dpnzemnn577\n",
              "7rsvU6ZMyYEDB/Jbv/VbaW1tzbJly2o5GgAwBNQ0VH4ZKUnS0dGRSqVyxJrzzjvv8M8jRoxIU1NT\n",
              "2tvbj7nPrq6udHV19Xmsp6fnQ88KAJSnpqGSJEuXLk1bW1uSZMOGDb9y7a5du7J27dqsX7/+mGtW\n",
              "r16dlStX9nls7ty5H35QAKA4lWq1Wh2IJ/re976Xf/mXfzlmrHR2dmbBggX5vd/7vbS0tBxzP0c7\n",
              "o7JixYrccccd/TovADD4BuxdP1dffXXa2tryzjvvHLFt7969WbhwYRYtWvQrIyVJGhsbM3r06D63\n",
              "+vr6Wo0NAAyimoXKnj17snPnzsP3161bl7Fjx+aMM87os27fvn1ZuHBhFi5cmNtuu61W4wAAQ1DN\n",
              "rlHp6OjIkiVLsn///tTV1WXcuHFZv359KpVKli9fnubm5jQ3N+eOO+7I5s2b89577+WBBx5IkixZ\n",
              "siR//ud/XqvRAIAhYsCuUamllpaWrFmzZrDHAAD6mU+mBQCKJVQAgGIJFQCgWEIFACiWUAEAiiVU\n",
              "AIBiCRUAoFhCBQAollABAIolVACAYgkVAKBYQgUAKJZQAQCKJVQAgGIJFQCgWEIFACiWUAEAiiVU\n",
              "AIBiCRUAoFhCBQAollABAIolVACAYgkVAKBYQgUAKJZQAQCKJVQAgGIJFQCgWEIFACiWUAEAiiVU\n",
              "AIBiCRUAoFhCBQAollABAIolVACAYgkVAKBYQgUAKJZQAQCKJVQAgGIJFQCgWEIFACiWUAEAiiVU\n",
              "AIBiCRUAoFhCBQAollABAIolVACAYgkVAKBYQgUAKJZQAQCKJVQAgGIJFQCgWEIFACiWUAEAiiVU\n",
              "AIBiCRUAoFhCBQAollA5hgOHevL2vq4cONQz2KMAwAmrYbAHKM1be7tyz6b2/PDF3dl/qCennFSf\n",
              "z80cn6vOn5SPjmwc7PEA4IRS0zMql156aWbNmpWmpqbMnz8/W7ZsOeq6u+++O9OmTcvUqVNz7bXX\n",
              "5tChQ7Uc65je2tuVP7p3S/75P3bkva7uNNRV8l5Xd+75j+35w+9vydv7ugZlLgA4UdU0VO6///68\n",
              "8MILef7559PS0pJly5Ydseb111/PihUrsnHjxmzbti27d+/OXXfdVcuxjumeTe3Z9vO9GTeyMaef\n",
              "enJObWzI6aeenHEjG7Pt53tzz9PbB2UuADhR1TRUxowZc/jnjo6OVCqVI9asXbs2zc3NGT9+fCqV\n",
              "Sq6//vrce++9x9xnV1dXOjs7+9x6ej78dSQHDvXkhy/uzoiG+jTU9z0sDfV1aWyozyMv7XLNCgAM\n",
              "oJpfo7J06dK0tbUlSTZs2HDE9h07dmTSpEmH70+ePDk7duw45v5Wr16dlStX9nls7ty5H3rOfV3d\n",
              "2X+oJyc3HL3dGhvqsv9gT/Z1dWfESfUf+vkAgP9bzd/109ramjfeeCOrVq3KzTff/KH3d8stt6Sj\n",
              "o6PPbc6cOR96vyMbG3LKSfU52N171O1d3b055eT6jGx0/TEADJQBe3vy1Vdfnba2trzzzjt9Hp84\n",
              "cWK2b//vaz/a29szceLEY+6nsbExo0eP7nOrr//wZzhGnFSfhTPPzIHunnT39I2V7p7edHX35HPn\n",
              "jnc2BQAGUM1CZc+ePdm5c+fh++vWrcvYsWNzxhln9Fl3xRVX5OGHH86uXbtSrVZz55135sorr6zV\n",
              "WL/S758/Ob/+sVF5a19X3n3vYN7r6s677x3MW/u6Mu1jo3LV+ZP+750AAP2mZq9jdHR0ZMmSJdm/\n",
              "f3/q6uoybty4rF+/PpVKJcuXL09zc3Oam5szZcqUrFy5MhdeeGGS5KKLLspXvvKVWo31K310ZGP+\n",
              "/svn5Z6nt+eRl3Zl/8GejBzRkCXnftznqADAIKhUq9XqYA/xYbW0tGTNmjX9us8Dh35x4ezIxgYv\n",
              "9wDAIHFl6DGMOKleoADAIPNdPwBAsYQKAFAsoQIAFEuoAADFEioAQLGECgBQLKECABRLqAAAxRIq\n",
              "AECxhAoAUKxh8V0/ixcvzuTJk/t1nz09Pdm8eXPmzJmT+nofpV9LjvXAcJwHhuM8MBzngVHr4zxp\n",
              "0qT88R//8a9cMyxCpRY6Oztz2mmnpaOjI6NHjx7scYY1x3pgOM4Dw3EeGI7zwCjhOHvpBwAollAB\n",
              "AIolVACAYgmVY2hsbMxf/uVfprGxcbBHGfYc64HhOA8Mx3lgOM4Do4Tj7GJaAKBYzqgAAMUSKgBA\n",
              "sYQKAFCsEz5Uvva1r2Xy5MmpVCp5/vnnj7nu7rvvzrRp0zJ16tRce+21OXTo0MANOQwcz3F+7LHH\n",
              "MmfOnJxzzjk599xzc9NNN6W3t3dgBx3ijvfvc5JUq9VccsklGTNmzIDMNpwc73H+8Y9/nIsuuigz\n",
              "ZszIjBkz8sADDwzckMPA8Rzn3t7etLS05JxzzsmsWbNy8cUXZ9u2bQM76BB34MCBXH755fmN3/iN\n",
              "zJ49O5/5zGeOeQzXr1+f6dOnZ9q0aVm8eHE6OztrPt8JHypf/OIX88QTT2TSpEnHXPP6669nxYoV\n",
              "2bhxY7Zt25bdu3fnrrvuGsAph77jOc6nn3567rvvvrz88sv5z//8zzz11FNpbW0dwCmHvuM5zr/0\n",
              "jW98I1OnTh2AqYaf4znO77//fhYtWpRVq1bllVdeyYsvvpj58+cP4JRD3/Ec54cffjhPPvlktm7d\n",
              "mhdeeCELFizIrbfeOoBTDg/XXXdd/uu//itbt27NokWLsnz58iPW7Nu3L9dcc03WrVuXV199NWef\n",
              "fXZuv/32ms92wofKb/7mb+bjH//4r1yzdu3aNDc3Z/z48alUKrn++utz7733DtCEw8PxHOfzzjsv\n",
              "U6ZMSZKMGDEiTU1NaW9vH4Dpho/jOc5J8tJLL2XdunX5+te/PgBTDT/Hc5y///3vZ+7cuZk3b16S\n",
              "pL6+PuPGjRuI8YaN4znOlUolXV1dOXDgQKrVajo7O4/r/wH+24gRI/L5z38+lUolSTJ37tyj/tv7\n",
              "yCOP5Lzzzsv06dOTJDfeeOOA/C5sqPkzDAM7duzoU/STJ0/Ojh07BnGi4W/Xrl1Zu3Zt1q9fP9ij\n",
              "DDuHDh3Ktddem7vvvtuXudXQyy+/nMbGxnzhC1/IT3/608yaNSt/+7d/K1b62WWXXZa2traMHz8+\n",
              "o0aNyoQJE/L4448P9lhD2h133JFFixYd8fjRfhe++eab6e7uTkND7XLihD+jQnk6Oztz2WWX5aab\n",
              "bsqnP/3pwR5n2Fm5cmUWL16cGTNmDPYow1p3d3ceffTRfOc738mWLVsyYcKE3HDDDYM91rDz7LPP\n",
              "5sUXX8zPfvaz7Ny5MwsWLMj1118/2GMNWX/1V3+Vbdu2ZfXq1YM9ymFC5ThMnDgx27dvP3y/vb09\n",
              "EydOHMSJhq+9e/dm4cKFWbRoUVpaWgZ7nGHp8ccfzze/+c1Mnjw58+bNS2dnZyZPnpy33nprsEcb\n",
              "ViZOnJiLL744EyZMSKVSyVVXXZVNmzYN9ljDTmtr6+GLwuvq6nL11Venra1tsMcakv7mb/4mDzzw\n",
              "QB555JF85CMfOWL70X4XnnXWWTU9m5IIleNyxRVX5OGHH86uXbtSrVZz55135sorrxzssYadffv2\n",
              "ZeHChVm4cGFuu+22wR5n2Nq4cWO2b9+e9vb2PPHEExk9enTa29u9JNHPvvSlL+WZZ545/K6IDRs2\n",
              "ZPbs2YM81fAzZcqUPPbYYzl48GCSX7wrZebMmYM81dCzZs2a3HvvvfnRj350zHcCLly4MM8991x+\n",
              "8pOfJEm+9a1vDczvwuoJ7rrrrqtOmDChWl9fX/3Yxz5WnTp1arVarVavueaa6kMPPXR43V133VWd\n",
              "MmVKdcqUKdU/+IM/qB48eHCwRh6Sjuc4r1q1qtrQ0FCdPXv24duqVasGc+wh53j/Pv/S66+/Xj3t\n",
              "tNMGeMqh73iPc2tra/Xcc8+tfvKTn6wuXLiwumPHjsEaeUg6nuN84MCB6vLly6vTp0+vfvKTn6x+\n",
              "5jOfqb722muDOfaQ88Ybb1STVKdMmXL43945c+ZUq9VqdcWKFdVvf/vbh9c+9NBD1U984hPVqVOn\n",
              "VhctWlTds2dPzefzXT8AQLG89AMAFEuoAADFEioAQLGEClC89vb2Pu9E+CDfaQQMbUIFGHI+yHca\n",
              "AUObUAEGxdNPP5158+Zl9uzZmTVrVh566KE8++yzueCCCzJr1qzMmTMnTz755FH/2+P9TiNg6PNd\n",
              "P8CAe/fdd3P55Zdn7dq1mT9/fnp7e/P222/n05/+dL773e/ms5/9bJ544olcccUVx/y6eeDE4IwK\n",
              "MOCefvrpfOITn8j8+fOTJHV1ddm9e3fq6ury2c9+Nkkyb968nHnmma5BgROcUAGK9cuvnQdOXEIF\n",
              "GHAXXHBBXn311WzcuDFJ0tvbmzPPPDO9vb350Y9+lCR56qmnsmvXrjQ1NQ3ipMBg8xH6wKDYtGlT\n",
              "/vRP/zR79+5NXV1dbr/99px11ln52te+ln379mXEiBFZs2ZN5s2bl/b29jQ1NWXPnj1Jkq985Sv5\n",
              "t3/7t+zatStjx47NqFGjXMsCw5RQAQCK5aUfAKBYQgUAKJZQAQCKJVQAgGIJFQCgWEIFACiWUAEA\n",
              "iiVUAIBiCRUAoFhCBQAo1v8Dgtp/DOIz7PgAAAAASUVORK5CYII=\n",
              "\">\n",
              "      </div>\n",
              "      <script type=\"text/javascript\">\n",
              "        (() => {\n",
              "          const chartElement = document.getElementById(\"chart-408a8098-00a2-49ae-8ce7-a15608c15e04\");\n",
              "          async function getCodeForChartHandler(event) {\n",
              "            const chartCodeResponse =  await google.colab.kernel.invokeFunction(\n",
              "                'getCodeForChart', [\"chart-408a8098-00a2-49ae-8ce7-a15608c15e04\"], {});\n",
              "            const responseJson = chartCodeResponse.data['application/json'];\n",
              "            await google.colab.notebook.addCell(responseJson.code, 'code');\n",
              "          }\n",
              "          chartElement.onclick = getCodeForChartHandler;\n",
              "        })();\n",
              "      </script>\n",
              "      <style>\n",
              "        .colab-quickchart-chart-with-code  {\n",
              "            display: block;\n",
              "            float: left;\n",
              "            border: 1px solid transparent;\n",
              "        }\n",
              "\n",
              "        .colab-quickchart-chart-with-code:hover {\n",
              "            cursor: pointer;\n",
              "            border: 1px solid #aaa;\n",
              "        }\n",
              "      </style>"
            ]
          },
          "metadata": {}
        },
        {
          "output_type": "display_data",
          "data": {
            "text/plain": [
              "<google.colab._quickchart_helpers.SectionTitle at 0x7f36b43342b0>"
            ],
            "text/html": [
              "<h4 class=\"colab-quickchart-section-title\">Time series</h4>\n",
              "<style>\n",
              "  .colab-quickchart-section-title {\n",
              "      clear: both;\n",
              "  }\n",
              "</style>"
            ]
          },
          "metadata": {}
        },
        {
          "output_type": "display_data",
          "data": {
            "text/plain": [
              "from matplotlib import pyplot as plt\n",
              "import seaborn as sns\n",
              "def _plot_series(series, series_name, series_index=0):\n",
              "  from matplotlib import pyplot as plt\n",
              "  import seaborn as sns\n",
              "  palette = list(sns.palettes.mpl_palette('Dark2'))\n",
              "  counted = (series['index']\n",
              "                .value_counts()\n",
              "              .reset_index(name='counts')\n",
              "              .rename({'index': 'index'}, axis=1)\n",
              "              .sort_values('index', ascending=True))\n",
              "  xs = counted['index']\n",
              "  ys = counted['counts']\n",
              "  plt.plot(xs, ys, label=series_name, color=palette[series_index % len(palette)])\n",
              "\n",
              "fig, ax = plt.subplots(figsize=(10, 5.2), layout='constrained')\n",
              "df_sorted = _df_5.sort_values('index', ascending=True)\n",
              "_plot_series(df_sorted, '')\n",
              "sns.despine(fig=fig, ax=ax)\n",
              "plt.xlabel('index')\n",
              "_ = plt.ylabel('count()')"
            ],
            "text/html": [
              "      <div class=\"colab-quickchart-chart-with-code\" id=\"chart-94f2f597-fe28-4bfe-8898-fdfaedd2ff85\">\n",
              "        <img style=\"width: 180px;\" src=\"data:image/png;base64,iVBORw0KGgoAAAANSUhEUgAAA/MAAAITCAYAAABLz0yVAAAAOXRFWHRTb2Z0d2FyZQBNYXRwbG90\n",
              "bGliIHZlcnNpb24zLjcuMSwgaHR0cHM6Ly9tYXRwbG90bGliLm9yZy/bCgiHAAAACXBIWXMAAA9h\n",
              "AAAPYQGoP6dpAAAjlElEQVR4nO3dfZCV5X3/8c9hietD5aEjinVdVkBUHhSfGJ8qGtMRWyEqxtrU\n",
              "WBpB7CSjI7UoU2k1Wk2aBGNNOmCHsUUnZlI0lrGZ/hFNHRAzaAGTgCairAsqoh1l1QoCe//+yGR/\n",
              "3Qq6m+xyvOD1mrlnOOdce/Z7Zq5heHPfe2+tqqoqAAAAQDH61XsAAAAAoGfEPAAAABRGzAMAAEBh\n",
              "xDwAAAAURswDAABAYcQ8AAAAFEbMAwAAQGHEPAAAABRmr4/5u+++u94jAAAAQK/a62P+5ZdfrvcI\n",
              "AAAA0Kv2+pgHAACAvY2YBwAAgMKIeQAAACiMmAcAAIDCiHkAAAAojJgHAACAwoh5AAAAKIyYBwAA\n",
              "gMKIeQAAACiMmAcAAIDCiHkAAAAojJgHAACAwoh5AAAAKIyYBwAAgMKIeQAAACiMmAcAAIDCiHkA\n",
              "AAAojJgHAACAwoh5AAAAKIyYBwAAgMKIeQAAACiMmAcAAIDCiHkAAAAojJgHAACAwoh5AAAAKIyY\n",
              "BwAAgMKIeQAAACiMmAcAAIDCiHkAAAAojJgHAACAwoh5AAAAKIyYBwAAgMKIeQAAACiMmAcAAIDC\n",
              "iHkAAAAojJgHAACAwoh5AAAAKIyYBwAAgMKIeQAAACiMmAcAAIDCiHkAAAAojJgHAACAwoh5AAAA\n",
              "KIyYBwAAgMKIeQAAACiMmAcAAIDCiHkAAAAojJgHAACAwoh5AAAAKIyYBwAAgMKIeQAAACiMmAcA\n",
              "AIDCiHkAAAAojJgHAACAwoh5AAAAKIyYBwAAgMKIeQAAACiMmAcAAIDCiHkAAAAojJgHAACAwoh5\n",
              "AAAAKEyfxvy1116blpaW1Gq1rF69erfrFi5cmKOPPjojRozIjBkzsn379i6vV1WVT3/60xk0aFBf\n",
              "jgsAAABF6NOYv/TSS7Ns2bIMGzZst2vWr1+fuXPnZunSpVm3bl1ef/313HvvvV3W3HXXXRkxYkRf\n",
              "jgoAAADF6NOYP/vss9PU1PSRaxYvXpwpU6Zk6NChqdVqueaaa/Lggw92vr5mzZo88sgjuemmmz72\n",
              "+23bti3t7e1djp07d/7WnwMAAAA+Ser+M/NtbW1dzty3tLSkra0tSbJ9+/bMmDEjCxYsSENDw8e+\n",
              "15133pmBAwd2OVasWNFnswMAAEA91D3mP8qtt96aSy65JMcdd1y31s+ZMydbtmzpckyYMKGPpwQA\n",
              "AIA9q3+9B2hubs6LL77Y+bi1tTXNzc1JkieeeCJtbW359re/nR07dqS9vT0tLS15+umnM2TIkA+9\n",
              "V2NjYxobG7s8150z+gAAAFCSup+Znzp1apYsWZJNmzalqqrMnz8/l19+eZJk6dKlefnll9Pa2ppl\n",
              "y5ZlwIABaW1t3WXIAwAAwL6iT2N+5syZaWpqysaNG3P++edn5MiRSZLp06dnyZIlSZLhw4fn1ltv\n",
              "zZlnnpmRI0dmyJAhmTlzZl+OBQAAAEWrVVVV1XuIvjRr1qzMmzev3mMAAABAr6n7ZfYAAABAz4h5\n",
              "AAAAKIyYBwAAgMKIeQAAACiMmAcAAIDCiHkAAAAojJgHAACAwoh5AAAAKIyYBwAAgMKIeQAAACiM\n",
              "mAcAAIDCiHkAAAAojJgHAACAwoh5AAAAKIyYBwAAgMKIeQAAACiMmAcAAIDCiHkAAAAojJgHAACA\n",
              "woh5AAAAKIyYBwAAgMKIeQAAACiMmAcAAIDCiHkAAAAojJgHAACAwoh5AAAAKIyYBwAAgMKIeQAA\n",
              "ACiMmAcAAIDCiHkAAAAojJgHAACAwoh5AAAAKIyYBwAAgMKIeQAAACiMmAcAAIDCiHkAAAAojJgH\n",
              "AACAwoh5AAAAKIyYBwAAgMKIeQAAACiMmAcAAIDCiHkAAAAojJgHAACAwoh5AAAAKIyYBwAAgMKI\n",
              "eQAAACiMmAcAAIDCiHkAAAAojJgHAACAwoh5AAAAKIyYBwAAgMKIeQAAACiMmAcAAIDCiHkAAAAo\n",
              "jJgHAACAwoh5AAAAKIyYBwAAgMKIeQAAACiMmAcAAIDCiHkAAAAojJgHAACAwoh5AAAAKIyYBwAA\n",
              "gMKIeQAAACiMmAcAAIDCiHkAAAAojJgHAACAwoh5AAAAKIyYBwAAgMKIeQAAACiMmAcAAIDCiHkA\n",
              "AAAojJgHAACAwoh5AAAAKIyYBwAAgMKIeQAAACiMmAcAAIDCiHkAAAAoTJ/G/LXXXpuWlpbUarWs\n",
              "Xr16t+sWLlyYo48+OiNGjMiMGTOyffv2JMnjjz+eCRMmZPTo0RkzZkxmz56djo6OvhwZAAAAPvH6\n",
              "NOYvvfTSLFu2LMOGDdvtmvXr12fu3LlZunRp1q1bl9dffz333ntvkmTw4MH53ve+l7Vr1+a//uu/\n",
              "snz58ixatKgvRwYAAIBPvD6N+bPPPjtNTU0fuWbx4sWZMmVKhg4dmlqtlmuuuSYPPvhgkuTEE0/M\n",
              "8OHDkyT7779/xo8fn9bW1t2+17Zt29Le3t7l2LlzZ699HgAAAPgkqPvPzLe1tXU5c9/S0pK2trYP\n",
              "rdu0aVMWL16cCy+8cLfvdeedd2bgwIFdjhUrVvTJ3AAAAFAvdY/57mhvb8/kyZMze/bsnHLKKbtd\n",
              "N2fOnGzZsqXLMWHChD04KQAAAPS9/vUeoLm5OS+++GLn49bW1jQ3N3c+fueddzJp0qR89rOfzaxZ\n",
              "sz7yvRobG9PY2NjluYaGht4dGAAAAOqs7mfmp06dmiVLlmTTpk2pqirz58/P5ZdfniR59913M2nS\n",
              "pEyaNCk333xznScFAACAT4Y+jfmZM2emqakpGzduzPnnn5+RI0cmSaZPn54lS5YkSYYPH55bb701\n",
              "Z555ZkaOHJkhQ4Zk5syZSZK77747K1asyMMPP5zx48dn/Pjx+bu/+7u+HBkAAAA+8WpVVVX1HqIv\n",
              "zZo1K/Pmzav3GAAAANBr6n6ZPQAAANAzYh4AAAAKI+YBAACgMGIeAAAACiPmAQAAoDBiHgAAAAoj\n",
              "5gEAAKAwYh4AAAAKI+YBAACgMGIeAAAACiPmAQAAoDBiHgAAAAoj5gEAAKAwYh4AAAAKI+YBAACg\n",
              "MGIeAAAACiPmAQAAoDBiHgAAAAoj5gEAAKAwYh4AAAAKI+YBAACgMGIeAAAACiPmAQAAoDBiHgAA\n",
              "AAoj5gEAAKAwYh4AAAAKI+YBAACgMGIeAAAACiPmAQAAoDBiHgAAAAoj5gEAAKAwYh4AAAAKI+YB\n",
              "AACgMGIeAAAACiPmAQAAoDBiHgAAAAoj5gEAAKAwYh4AAAAKI+YBAACgMGIeAAAACiPmAQAAoDBi\n",
              "HgAAAAoj5gEAAKAwYh4AAAAKI+YBAACgMGIeAAAACiPmAQAAoDBiHgAAAAoj5gEAAKAwYh4AAAAK\n",
              "I+YBAACgMGIeAAAACiPmAQAAoDBiHgAAAAoj5gEAAKAwYh4AAAAKI+YBAACgMGIeAAAACiPmAQAA\n",
              "oDBiHgAAAAoj5gEAAKAwYh4AAAAKI+YBAACgMGIeAAAACtP/N/mitWvXZuPGjTnggAMybty4DBo0\n",
              "qJfHAgAAAHan2zH/zjvv5Bvf+Eb+6Z/+KQceeGAOO+ywbN26NS+++GImTJiQG2+8Meedd15fzgoA\n",
              "AACkBzF/7rnn5sorr8yqVaty2GGHdT7f0dGRpUuXZv78+Vm3bl1mzpzZJ4MCAAAAv9LtmH/yySfT\n",
              "2Nj4oef79euXiRMnZuLEidm2bVuvDgcAAAB8WLdvgLerkP9N1gAAAAC/nW7H/IUXXpjly5fv8rW3\n",
              "33473/zmN7NgwYJeGwwAAADYtW5fZn/HHXdkzpw5Wbt2bU499dTOG+A9//zzeeWVV/KlL30pX/zi\n",
              "F/tyVgAAACA9iPnjjz8+//7v/54NGzbkiSeeyMaNG3PggQfmT//0T3PWWWelf//f6LfcAQAAAD3U\n",
              "4wJ/6623csUVV3R57qc//WmOP/74XhsKAAAA2L1u/8z8r02bNq1bzwEAAAB9o9tn5jdv3pxNmzbl\n",
              "/fffz89+9rNUVZUk2bJlS957770+GxAAAADoqtsx/+CDD+Zb3/pWXn311UyZMqXz+YEDB2b27Nl9\n",
              "MhwAAADwYd2O+euuuy7XXXddbrvttsydO7cvZwIAAAA+Qo9vgDd37tx0dHRk06ZN2bFjR+fzzc3N\n",
              "vToYAAAAsGs9vgHev/zLv2TQoEEZN25cTj755Jx88sk55ZRTdrn22muvTUtLS2q1WlavXr3b91y4\n",
              "cGGOPvrojBgxIjNmzMj27du79RoAAADsi3oc81/5ylfy9NNP57//+7/zxhtv5I033sjmzZt3ufbS\n",
              "Sy/NsmXLMmzYsN2+3/r16zN37twsXbo069aty+uvv5577733Y18DAACAfVWPL7M/5JBDcswxx3Rr\n",
              "7dlnn/2xaxYvXpwpU6Zk6NChSZJrrrkmd9xxR770pS995Gt7k6qq8v4OVxwAAAD0pQP6fyq1Wq3e\n",
              "Y/SKHsf8RRddlG9961v5/Oc/n/3337/z+QEDBvxGA7S1tXU5c9/S0pK2traPfW1Xtm3blm3btnV5\n",
              "bufOnb/RXHvS+zu2Z9QDf1PvMQAAAPZqv7ziKznwU/vVe4xe0ePL7P/6r/86s2bNytChQzN48OAM\n",
              "GjQogwcP7ovZeuzOO+/MwIEDuxwrVqyo91gAAADQq3p8Zr6jo6NXB2hubs6LL77Y+bi1tbXzzvgf\n",
              "9dquzJkzJ7NmzeryXAm/Ru+A/p/KL6/4Sr3HAAAA2Ksd0P9T9R6h1/Q45nvb1KlTc9ZZZ+WWW27J\n",
              "YYcdlvnz5+fyyy//2Nd2pbGxMY2NjV2ea2ho6NP5e0OtVttrLvUAAACg7/X4Mvt+/fqloaHhQ8eu\n",
              "zJw5M01NTdm4cWPOP//8jBw5Mkkyffr0LFmyJEkyfPjw3HrrrTnzzDMzcuTIDBkyJDNnzvzY1wAA\n",
              "AGBfVauqqurJF7z33nudf37//fezaNGi7Ny5M3/1V3/V68P1hlmzZmXevHn1HgMAAAB6TY/PzB90\n",
              "0EGdxyGHHJJZs2Zl8eLFfTEbAAAAsAs9jvn/6/nnn8+bb77ZG7MAAAAA3dDjG+ANHjw4tVotSbJj\n",
              "x44kyT333NO7UwEAAAC71eOYX7169f//4v79M3To0CLuGA8AAAB7ix7H/LBhw/I///M/nVE/ePDg\n",
              "HHjggb09FwAAALAbPY755cuXZ+rUqRk6dGiS5PXXX89DDz2U008/vdeHAwAAAD6sxzH/67vXn3nm\n",
              "mUl+FffXX399fvKTn/T6cAAAAMCH9fhu9u+//35nyCfJGWecka1bt/bqUAAAAMDu9Tjmf+d3fic/\n",
              "+tGPOh8/9thjOeigg3p1KAAAAGD3enyZ/T/8wz/kkksu6byDfUdHRx5++OFeHwwAAADYtR7H/Kuv\n",
              "vppnnnkmr7/+epLksMMOy4oVK3p9MAAAAGDXenyZ/dy5czNkyJCMHTs2Y8eOzSGHHJK5c+f2xWwA\n",
              "AADALvQ45v+vWq2WnTt39sYsAAAAQDf0OOYPPvjgLF++vPPxk08+mYMPPrhXhwIAAAB2r8c/M//3\n",
              "f//3ufjii3PssccmSV544YX84Ac/6PXBAAAAgF3rccyffvrpee655/LUU08l+dXvmR80aFBvzwUA\n",
              "AADsRo9jPkkGDx6cP/zDP+ztWQAAAIBu+K1vgAcAAADsWWIeAAAACiPmAQAAoDBiHgAAAAoj5gEA\n",
              "AKAwYh4AAAAKI+YBAACgMGIeAAAACiPmAQAAoDBiHgAAAAoj5gEAAKAwYh4AAAAKI+YBAACgMGIe\n",
              "AAAACiPmAQAAoDBiHgAAAAoj5gEAAKAwYh4AAAAKI+YBAACgMGIeAAAACiPmAQAAoDBiHgAAAAoj\n",
              "5gEAAKAwYh4AAAAKI+YBAACgMGIeAAAACiPmAQAAoDBiHgAAAAoj5gEAAKAwYh4AAAAKI+YBAACg\n",
              "MGIeAAAACiPmAQAAoDBiHgAAAAoj5gEAAKAwYh4AAAAKI+YBAACgMGIeAAAACiPmAQAAoDBiHgAA\n",
              "AAoj5gEAAKAwYh4AAAAKI+YBAACgMGIeAAAACiPmAQAAoDBiHgAAAAoj5gEAAKAwYh4AAAAKI+YB\n",
              "AACgMGIeAAAACiPmAQAAoDBiHgAAAAoj5gEAAKAwYh4AAAAKI+YBAACgMGIeAAAACiPmAQAAoDBi\n",
              "HgAAAAoj5gEAAKAwYh4AAAAKI+YBAACgMGIeAAAACtOnMf/CCy/kjDPOyKhRo3LqqadmzZo1H1rT\n",
              "0dGRG264IWPHjs2xxx6bq666Kh988EHn61/72tcyevTojB8/PqeddlpWrFjRlyMDAADAJ16fxvzM\n",
              "mTNz9dVX55e//GVuvPHGTJs27UNrFi5cmJUrV2blypV57rnn0q9fv9x9991JktWrV+cf//Efs2LF\n",
              "iqxevTpf/vKX8+Uvf7kvRwYAAIBPvD6L+c2bN+eZZ57JFVdckSSZOnVqNmzYkHXr1nVZ9+yzz+Yz\n",
              "n/lM9ttvv9RqtVxwwQW5//77kyS1Wi3bt2/Pe++9lyR5++2309TUtNvvuW3btrS3t3c5du7c2Uef\n",
              "EAAAAOqjz2J+w4YNOfzww9O/f/8kvwrz5ubmtLW1dVl38sknZ8mSJWlvb8/27dvz/e9/P62trUmS\n",
              "E044Iddff32OOuqoNDU15a677so999yz2+955513ZuDAgV0Ol+UDAACwt6n7DfCmTZuWSZMmZeLE\n",
              "iZk4cWJGjRrV+R8A69evz8MPP5x169Zl48aNuf766/PHf/zHu32vOXPmZMuWLV2OCRMm7KmPAgAA\n",
              "AHtEn8X8kUcemddeey07duxIklRVlba2tjQ3N3dZV6vVcsstt2TVqlVZvnx5Ro8enTFjxiRJHnro\n",
              "oYwbNy6/93u/lyT58z//8zz55JNdbpD3vzU2NmbAgAFdjoaGhr76iAAAAFAXfRbzhx56aE466aQ8\n",
              "8MADSX4V5k1NTRk5cmSXdVu3bs1bb72VJHnzzTfz1a9+NbNnz06SDB8+PE8++WTefffdJMmjjz6a\n",
              "UaNGZb/99uursQEAAOATr39fvvmCBQsybdq03HHHHRkwYEDuu+++JMn06dMzZcqUTJkyJVu2bMk5\n",
              "55yTfv36paOjI9ddd10mT56cJLn44ovz9NNP55RTTkljY2MOOuigfPe73+3LkQEAAOATr1ZVVVXv\n",
              "IfrSrFmzMm/evHqPAQAAAL2m7jfAAwAAAHpGzAMAAEBhxDwAAAAURswDAABAYcQ8AAAAFEbMAwAA\n",
              "QGHEPAAAABRGzAMAAEBhxDwAAAAURswDAABAYcQ8AAAAFEbMAwAAQGHEPAAAABRGzAMAAEBhxDwA\n",
              "AAAURswDAABAYcQ8AAAAFEbMAwAAQGHEPAAAABRGzAMAAEBhxDwAAAAURswDAABAYcQ8AAAAFEbM\n",
              "AwAAQGHEPAAAABRGzAMAAEBhxDwAAAAURswDAABAYcQ8AAAAFEbMAwAAQGHEPAAAABRGzAMAAEBh\n",
              "xDwAAAAURswDAABAYcQ8AAAAFEbMAwAAQGHEPAAAABRGzAMAAEBhxDwAAAAURswDAABAYcQ8AAAA\n",
              "FEbMAwAAQGHEPAAAABRGzAMAAEBhxDwAAAAURswDAABAYcQ8AAAAFEbMAwAAQGHEPAAAABRGzAMA\n",
              "AEBhxDwAAAAURswDAABAYcQ8AAAAFEbMAwAAQGHEPAAAABRGzAMAAEBhxDwAAAAURswDAABAYcQ8\n",
              "AAAAFEbMAwAAQGHEPAAAABRGzAMAAEBhxDwAAAAURswDAABAYcQ8AAAAFEbMAwAAQGHEPAAAABRG\n",
              "zAMAAEBhxDwAAAAURswDAABAYcQ8AAAAFEbMAwAAQGHEPAAAABRGzAMAAEBhxDwAAAAURswDAABA\n",
              "YcQ8AAAAFEbMAwAAQGH6NOZfeOGFnHHGGRk1alROPfXUrFmz5kNrOjo6csMNN2Ts2LE59thjc9VV\n",
              "V+WDDz7ofL2trS2TJ0/OMccck9GjR+eee+7py5EBAADgE69PY37mzJm5+uqr88tf/jI33nhjpk2b\n",
              "9qE1CxcuzMqVK7Ny5co899xz6devX+6+++4kSVVVufjii3PllVfmF7/4RdauXZvLLrusL0cGAACA\n",
              "T7w+i/nNmzfnmWeeyRVXXJEkmTp1ajZs2JB169Z1Wffss8/mM5/5TPbbb7/UarVccMEFuf/++5Mk\n",
              "jz32WBobG/O5z32uc/1hhx222++5bdu2tLe3dzl27tzZB58OAAAA6qfPYn7Dhg05/PDD079//yRJ\n",
              "rVZLc3Nz2trauqw7+eSTs2TJkrS3t2f79u35/ve/n9bW1iTJ2rVrM2TIkFx++eU58cQTc/HFF+el\n",
              "l17a7fe88847M3DgwC7HihUr+uojAgAAQF3U/QZ406ZNy6RJkzJx4sRMnDgxo0aN6vwPgB07duTx\n",
              "xx/P3Llzs2rVqpx//vkfeZn9nDlzsmXLli7HhAkT9tRHAQAAgD2iz2L+yCOPzGuvvZYdO3Yk+dXP\n",
              "v7e1taW5ubnLulqtlltuuSWrVq3K8uXLM3r06IwZMyZJ0tzcnBNPPLHz8Re+8IWsXLky27dv3+X3\n",
              "bGxszIABA7ocDQ0NffURAQAAoC76LOYPPfTQnHTSSXnggQeSJA899FCampoycuTILuu2bt2at956\n",
              "K0ny5ptv5qtf/Wpmz56dJLnggguycePGvPLKK0mSH/7whznuuOPyqU99qq/GBgAAgE+8/n355gsW\n",
              "LMi0adNyxx13ZMCAAbnvvvuSJNOnT8+UKVMyZcqUbNmyJeecc0769euXjo6OXHfddZk8eXKS5KCD\n",
              "Dsr8+fPzR3/0R6mqKgMHDsz3vve9vhwZAAAAPvFqVVVV9R6iL82aNSvz5s2r9xgAAADQa+p+AzwA\n",
              "AACgZ8Q8AAAAFEbMAwAAQGHEPAAAABRGzAMAAEBhxDwAAAAURswDAABAYcQ8AAAAFEbMAwAAQGHE\n",
              "PAAAABRGzAMAAEBhxDwAAAAURswDAABAYcQ8AAAAFEbMAwAAQGHEPAAAABRGzAMAAEBhxDwAAAAU\n",
              "RswDAABAYcQ8AAAAFEbMAwAAQGHEPAAAABRGzAMAAEBhxDwAAAAURswDAABAYcQ8AAAAFEbMAwAA\n",
              "QGHEPAAAABRGzAMAAEBhxDwAAAAURswDAABAYcQ8AAAAFEbMAwAAQGHEPAAAABRGzAMAAEBhxDwA\n",
              "AAAURswDAABAYcQ8AAAAFEbMAwAAQGHEPAAAABRGzAMAAEBhxDwAAAAURswDAABAYcQ8AAAAFEbM\n",
              "AwAAQGHEPAAAABRGzAMAAEBhxDwAAAAURswDAABAYcQ8AAAAFEbMAwAAQGHEPAAAABRGzAMAAEBh\n",
              "xDwAAAAURswDAABAYcQ8AAAAFEbMAwAAQGHEPAAAABRGzAMAAEBhxDwAAAAUplZVVVXvIfrSJZdc\n",
              "kpaWlnqP8bF27tyZFStWZMKECWloaKj3OPCR7FdKYr9SEvuVktivlKS0/Tps2LBcd911H7lmr4/5\n",
              "UrS3t2fgwIHZsmVLBgwYUO9x4CPZr5TEfqUk9islsV8pyd64X11mDwAAAIUR8wAAAFAYMQ8AAACF\n",
              "EfOfEI2Njfnbv/3bNDY21nsU+Fj2KyWxXymJ/UpJ7FdKsjfuVzfAAwAAgMI4Mw8AAACFEfMAAABQ\n",
              "GDEPAAAAhRHze9gLL7yQM844I6NGjcqpp56aNWvW7HLdwoULc/TRR2fEiBGZMWNGtm/fvocnhe7t\n",
              "18cffzwTJkzI6NGjM2bMmMyePTsdHR11mJZ9XXf/fk2Sqqry6U9/OoMGDdpzA8L/0t39+rOf/Szn\n",
              "nHNOjjvuuBx33HF5+OGH9/Ck0L392tHRkVmzZmX06NE5/vjjc+6552bdunV1mJZ92bXXXpuWlpbU\n",
              "arWsXr16t+v2mtaq2KPOPffc6r777quqqqr+9V//tTrllFM+tOall16qDj/88Oq1116rOjo6qsmT\n",
              "J1ff/va39/Ck0L39unLlyurFF1+sqqqq3n///erMM8/s/BrYk7qzX3/tm9/8ZjV9+vRq4MCBe2Y4\n",
              "+D+6s1/fe++96qijjqqWLl1aVVVV7dixo9q8efOeHBOqqurefv3BD35QTZgwofrggw+qqqqq2267\n",
              "rfrc5z63J8eE6oknnqg2bNhQDRs2rFq1atUu1+xNreXM/B60efPmPPPMM7niiiuSJFOnTs2GDRs+\n",
              "9L+WixcvzpQpUzJ06NDUarVcc801efDBB+sxMvuw7u7XE088McOHD0+S7L///hk/fnxaW1v39Ljs\n",
              "47q7X5NkzZo1eeSRR3LTTTft6TEhSff363e/+92cdtppOeuss5IkDQ0NGTJkyB6fl31bd/drrVbL\n",
              "tm3bsnXr1lRVlfb29jQ1NdVjZPZhZ5999sfuu72ptcT8HrRhw4Ycfvjh6d+/f5Jf/aXX3Nyctra2\n",
              "Luva2toybNiwzsctLS0fWgN9rbv79X/btGlTFi9enAsvvHBPjQlJur9ft2/fnhkzZmTBggVpaGio\n",
              "x6jQ7f26du3aNDY25sILL8z48eNz5ZVX5o033qjHyOzDurtfJ0+enHPOOSdDhw7N4Ycfnsceeyxf\n",
              "+cpX6jEyfKS9qbXEPNAr2tvbM3ny5MyePTunnHJKvceBXbr11ltzySWX5Ljjjqv3KPCxduzYkR/9\n",
              "6EdZsGBBVq1alSOOOCJ/8Rd/Ue+xYJeeeeaZ/PznP88rr7ySV199Needd16uueaaeo8FezUxvwcd\n",
              "eeSRee2117Jjx44kv7oBU1tbW5qbm7usa25uzssvv9z5uLW19UNroK91d78myTvvvJNJkybls5/9\n",
              "bGbNmrWnR4Vu79cnnngi99xzT1paWnLWWWelvb09LS0tznayR/Xk3wPnnntujjjiiNRqtVxxxRX5\n",
              "yU9+Uo+R2Yd1d78uWrSo88ai/fr1y5/92Z/lxz/+cT1Gho+0N7WWmN+DDj300Jx00kl54IEHkiQP\n",
              "PfRQmpqaMnLkyC7rpk6dmiVLlmTTpk2pqirz58/P5ZdfXo+R2Yd1d7++++67mTRpUiZNmpSbb765\n",
              "HqNCt/fr0qVL8/LLL6e1tTXLli3LgAED0tra6ueQ2aO6u18vu+yyPP3002lvb0+S/PCHP8wJJ5yw\n",
              "x+dl39bd/Tp8+PA8/vjj+eCDD5Ikjz76aMaOHbvH54WPs1e1Vv3uvbdvev7556vTTjutOvroo6uT\n",
              "Tz65+ulPf1pVVVVdddVV1b/92791rrv33nur4cOHV8OHD6+++MUvdt4ZFPak7uzX22+/verfv391\n",
              "wgkndB633357PcdmH9Xdv19/bf369e5mT910d78uWrSoGjNmTDVu3Lhq0qRJVVtbW71GZh/Wnf26\n",
              "devWavr06dWxxx5bjRs3rvqDP/iDzt92A3vK1VdfXR1xxBFVQ0NDdeihh1YjRoyoqmrvba1aVVVV\n",
              "vf9DAQAAAOg+l9kDAABAYcQ8AAAAFEbMAwAAQGHEPADs48aPH5933nmnx1936aWX5p//+Z97fyAA\n",
              "4GP1r/cAAEB9rV69ut4jAAA95Mw8AOzjarVa3n777SRJS0tL/uZv/iann356jjrqqNx+++2d655/\n",
              "/vmcccYZGTNmTC666KLO33+eJO+8805mzJiRCRMm5Pjjj8/VV1+dDz74IL/4xS/S1NSUl156KUny\n",
              "jW98I5MmTUpHR8ce/YwAsLcR8wBAF2+//XaeeuqpPP300/n617+eV155JUnyhS98IVdddVXWrFmT\n",
              "2267LU888UTn1/zlX/5lfv/3fz8rVqzIs88+m46Ojtx999055phj8vWvfz2XXXZZ/vM//zPf+c53\n",
              "cv/996dfP/8EAYDfhsvsAYAuPv/5zydJDjnkkAwfPjzr16/PwQcfnNWrV2fatGlJknHjxuWss87q\n",
              "/JpHHnkkTz31VObNm5ckef/999PQ0JAk+ZM/+ZP8+Mc/zvnnn5/HHnssQ4YM2bMfCAD2QmIeAOhi\n",
              "//337/xzQ0NDduzYsct1tVqt889VVeWhhx7KqFGjPrRux44d+fnPf57f/d3f7TzLDwD8dlzjBgB8\n",
              "rAEDBuTEE0/MokWLkiRr1qzJsmXLOl+/6KKL8rWvfa0z/N96662sW7cuSXLTTTflmGOOydKlS3PD\n",
              "DTd0Pg8A/ObEPADQLYsWLcq9996bsWPH5uabb87ZZ5/d+dpdd92VAw44IOPHj8/xxx+f8847L62t\n",
              "rXn00UfzH//xH/nOd76TkSNHZt68ebnsssuydevWOn4SAChfraqqqt5DAAAAAN3nzDwAAAAURswD\n",
              "AABAYcQ8AAAAFEbMAwAAQGHEPAAAABRGzAMAAEBhxDwAAAAURswDAABAYcQ8AAAAFEbMAwAAQGH+\n",
              "Hwk4kxe125wXAAAAAElFTkSuQmCC\n",
              "\">\n",
              "      </div>\n",
              "      <script type=\"text/javascript\">\n",
              "        (() => {\n",
              "          const chartElement = document.getElementById(\"chart-94f2f597-fe28-4bfe-8898-fdfaedd2ff85\");\n",
              "          async function getCodeForChartHandler(event) {\n",
              "            const chartCodeResponse =  await google.colab.kernel.invokeFunction(\n",
              "                'getCodeForChart', [\"chart-94f2f597-fe28-4bfe-8898-fdfaedd2ff85\"], {});\n",
              "            const responseJson = chartCodeResponse.data['application/json'];\n",
              "            await google.colab.notebook.addCell(responseJson.code, 'code');\n",
              "          }\n",
              "          chartElement.onclick = getCodeForChartHandler;\n",
              "        })();\n",
              "      </script>\n",
              "      <style>\n",
              "        .colab-quickchart-chart-with-code  {\n",
              "            display: block;\n",
              "            float: left;\n",
              "            border: 1px solid transparent;\n",
              "        }\n",
              "\n",
              "        .colab-quickchart-chart-with-code:hover {\n",
              "            cursor: pointer;\n",
              "            border: 1px solid #aaa;\n",
              "        }\n",
              "      </style>"
            ]
          },
          "metadata": {}
        },
        {
          "output_type": "display_data",
          "data": {
            "text/plain": [
              "from matplotlib import pyplot as plt\n",
              "import seaborn as sns\n",
              "def _plot_series(series, series_name, series_index=0):\n",
              "  from matplotlib import pyplot as plt\n",
              "  import seaborn as sns\n",
              "  palette = list(sns.palettes.mpl_palette('Dark2'))\n",
              "  counted = (series['col1']\n",
              "                .value_counts()\n",
              "              .reset_index(name='counts')\n",
              "              .rename({'index': 'col1'}, axis=1)\n",
              "              .sort_values('col1', ascending=True))\n",
              "  xs = counted['col1']\n",
              "  ys = counted['counts']\n",
              "  plt.plot(xs, ys, label=series_name, color=palette[series_index % len(palette)])\n",
              "\n",
              "fig, ax = plt.subplots(figsize=(10, 5.2), layout='constrained')\n",
              "df_sorted = _df_6.sort_values('col1', ascending=True)\n",
              "_plot_series(df_sorted, '')\n",
              "sns.despine(fig=fig, ax=ax)\n",
              "plt.xlabel('col1')\n",
              "_ = plt.ylabel('count()')"
            ],
            "text/html": [
              "      <div class=\"colab-quickchart-chart-with-code\" id=\"chart-39410d0b-0435-4ad8-a2fb-67f8ccff2b1b\">\n",
              "        <img style=\"width: 180px;\" src=\"data:image/png;base64,iVBORw0KGgoAAAANSUhEUgAAA/MAAAITCAYAAABLz0yVAAAAOXRFWHRTb2Z0d2FyZQBNYXRwbG90\n",
              "bGliIHZlcnNpb24zLjcuMSwgaHR0cHM6Ly9tYXRwbG90bGliLm9yZy/bCgiHAAAACXBIWXMAAA9h\n",
              "AAAPYQGoP6dpAAAjDklEQVR4nO3df5DU9WH/8dcC8YxWfkwlYLwcFzhRURGjUqMoGtMBU8Ef2NRp\n",
              "bUoreLZmcLykGNKQSmwk7SQYaidFUyZTk4lOBqllTPJHohmHHzpoEJOIJp71PE8FtVVOjSBw+/3D\n",
              "9vq9CnqX3LK89fGY2Rlv98Pea2c+w/hk9z5XqVar1QAAAADFGFLvAQAAAMDAiHkAAAAojJgHAACA\n",
              "woh5AAAAKIyYBwAAgMKIeQAAACiMmAcAAIDCiHkAAAAozLs+5pcvX17vCQAAADCo3vUx/9RTT9V7\n",
              "AgAAAAyqd33MAwAAwLuNmAcAAIDCiHkAAAAojJgHAACAwoh5AAAAKIyYBwAAgMKIeQAAACiMmAcA\n",
              "AIDCiHkAAAAojJgHAACAwoh5AAAAKIyYBwAAgMKIeQAAACiMmAcAAIDCiHkAAAAojJgHAACAwoh5\n",
              "AAAAKIyYBwAAgMKIeQAAACiMmAcAAIDCiHkAAAAojJgHAACAwoh5AAAAKIyYBwAAgMKIeQAAACiM\n",
              "mAcAAIDCiHkAAAAojJgHAACAwoh5AAAAKIyYBwAAgMKIeQAAACiMmAcAAIDCiHkAAAAojJgHAACA\n",
              "woh5AAAAKIyYBwAAgMKIeQAAACiMmAcAAIDCiHkAAAAojJgHAACAwoh5AAAAKIyYBwAAgMKIeQAA\n",
              "ACiMmAcAAIDCiHkAAAAojJgHAACAwoh5AAAAKIyYBwAAgMKIeQAAACiMmAcAAIDCiHkAAAAojJgH\n",
              "AACAwoh5AAAAKIyYBwAAgMKIeQAAACiMmAcAAIDCiHkAAAAojJgHAACAwoh5AAAAKIyYBwAAgMKI\n",
              "eQAAAChMTWN+wYIFaW5uTqVSyebNm/d53MqVK3PUUUdlwoQJmT9/fnbt2tXn8Wq1mo997GMZOXJk\n",
              "LecCAABAEWoa85dccknWrVuXcePG7fOYJ598MosXL87atWvT3t6ebdu25ZZbbulzzI033pgJEybU\n",
              "cioAAAAUo6Yxf9ZZZ6WxsfFtj1m1alVmz56dsWPHplKp5Morr8xtt93W+/gjjzySO++8M5/73Ofe\n",
              "8fvt3Lkz3d3dfW579uz5rV8HAAAAHEjq/jPznZ2dfd65b25uTmdnZ5Jk165dmT9/fm6++eYMHTr0\n",
              "HZ9r6dKlGTFiRJ/bxo0ba7YdAAAA6qHuMf92lixZkosvvjjHHntsv45ftGhRtm/f3uc2derUGq8E\n",
              "AACA/WtYvQc0NTXliSee6P26o6MjTU1NSZJ77703nZ2d+ad/+qfs3r073d3daW5uzgMPPJDRo0e/\n",
              "5bkaGhrS0NDQ577+vKMPAAAAJan7O/Nz5szJmjVrsnXr1lSr1axYsSKXXnppkmTt2rV56qmn0tHR\n",
              "kXXr1mX48OHp6OjYa8gDAADAe0VNY761tTWNjY3p6urKjBkz0tLSkiSZN29e1qxZkyQZP358lixZ\n",
              "kjPOOCMtLS0ZPXp0WltbazkLAAAAilapVqvVeo+opba2tixbtqzeMwAAAGDQ1P1j9gAAAMDAiHkA\n",
              "AAAojJgHAACAwoh5AAAAKIyYBwAAgMKIeQAAACiMmAcAAIDCiHkAAAAojJgHAACAwoh5AAAAKIyY\n",
              "BwAAgMKIeQAAACiMmAcAAIDCiHkAAAAojJgHAACAwoh5AAAAKIyYBwAAgMKIeQAAACiMmAcAAIDC\n",
              "iHkAAAAojJgHAACAwoh5AAAAKIyYBwAAgMKIeQAAACiMmAcAAIDCiHkAAAAojJgHAACAwoh5AAAA\n",
              "KIyYBwAAgMKIeQAAACiMmAcAAIDCiHkAAAAojJgHAACAwoh5AAAAKIyYBwAAgMKIeQAAACiMmAcA\n",
              "AIDCiHkAAAAojJgHAACAwoh5AAAAKIyYBwAAgMKIeQAAACiMmAcAAIDCiHkAAAAojJgHAACAwoh5\n",
              "AAAAKIyYBwAAgMKIeQAAACiMmAcAAIDCiHkAAAAojJgHAACAwoh5AAAAKIyYBwAAgMKIeQAAACiM\n",
              "mAcAAIDCiHkAAAAojJgHAACAwoh5AAAAKIyYBwAAgMKIeQAAACiMmAcAAIDCiHkAAAAojJgHAACA\n",
              "woh5AAAAKIyYBwAAgMKIeQAAACiMmAcAAIDCiHkAAAAojJgHAACAwoh5AAAAKIyYBwAAgMKIeQAA\n",
              "ACiMmAcAAIDCiHkAAAAojJgHAACAwoh5AAAAKIyYBwAAgMKIeQAAAChMTWN+wYIFaW5uTqVSyebN\n",
              "m/d53MqVK3PUUUdlwoQJmT9/fnbt2pUkueeeezJ16tRMmjQpxx13XBYuXJienp5aTgYAAIADXk1j\n",
              "/pJLLsm6desybty4fR7z5JNPZvHixVm7dm3a29uzbdu23HLLLUmSUaNG5fbbb8+WLVvy05/+NBs2\n",
              "bMitt95ay8kAAABwwKtpzJ911llpbGx822NWrVqV2bNnZ+zYsalUKrnyyitz2223JUlOOumkjB8/\n",
              "Pkly8MEHZ8qUKeno6Njnc+3cuTPd3d19bnv27Bm01wMAAAAHgrr/zHxnZ2efd+6bm5vT2dn5luO2\n",
              "bt2aVatW5fzzz9/ncy1dujQjRozoc9u4cWNNdgMAAEC91D3m+6O7uzuzZs3KwoULc8opp+zzuEWL\n",
              "FmX79u19blOnTt2PSwEAAKD2htV7QFNTU5544onerzs6OtLU1NT79SuvvJKZM2fmggsuSFtb29s+\n",
              "V0NDQxoaGvrcN3To0MEdDAAAAHVW93fm58yZkzVr1mTr1q2pVqtZsWJFLr300iTJq6++mpkzZ2bm\n",
              "zJn5whe+UOelAAAAcGCoacy3tramsbExXV1dmTFjRlpaWpIk8+bNy5o1a5Ik48ePz5IlS3LGGWek\n",
              "paUlo0ePTmtra5Jk+fLl2bhxY1avXp0pU6ZkypQp+fKXv1zLyQAAAHDAq1Sr1Wq9R9RSW1tbli1b\n",
              "Vu8ZAAAAMGjq/jF7AAAAYGDEPAAAABRGzAMAAEBhxDwAAAAURswDAABAYcQ8AAAAFEbMAwAAQGHE\n",
              "PAAAABRGzAMAAEBhxDwAAAAURswDAABAYcQ8AAAAFEbMAwAAQGHEPAAAABRGzAMAAEBhxDwAAAAU\n",
              "RswDAABAYcQ8AAAAFEbMAwAAQGHEPAAAABRGzAMAAEBhxDwAAAAURswDAABAYcQ8AAAAFEbMAwAA\n",
              "QGHEPAAAABRGzAMAAEBhxDwAAAAURswDAABAYcQ8AAAAFEbMAwAAQGHEPAAAABRGzAMAAEBhxDwA\n",
              "AAAURswDAABAYcQ8AAAAFEbMAwAAQGHEPAAAABRGzAMAAEBhxDwAAAAURswDAABAYcQ8AAAAFEbM\n",
              "AwAAQGHEPAAAABRGzAMAAEBhxDwAAAAURswDAABAYcQ8AAAAFEbMAwAAQGHEPAAAABRGzAMAAEBh\n",
              "xDwAAAAURswDAABAYcQ8AAAAFEbMAwAAQGHEPAAAABRGzAMAAEBhxDwAAAAURswDAABAYcQ8AAAA\n",
              "FEbMAwAAQGHEPAAAABRGzAMAAEBhxDwAAAAUZthv8oe2bNmSrq6uvP/9788JJ5yQkSNHDvIsAAAA\n",
              "YF/6HfOvvPJKvvrVr+ab3/xmDjnkkIwZMyY7duzIE088kalTp+baa6/NueeeW8utAAAAQAYQ8+ec\n",
              "c04+9alP5aGHHsqYMWN67+/p6cnatWuzYsWKtLe3p7W1tSZDAQAAgDf1O+bXr1+fhoaGt9w/ZMiQ\n",
              "TJ8+PdOnT8/OnTsHdRwAAADwVv2+AN7eQv43OQYAAAD47fQ75s8///xs2LBhr4+9/PLL+drXvpab\n",
              "b7550IYBAAAAe9fvj9nfcMMNWbRoUbZs2ZJTTz219wJ4jz32WJ555plcddVV+Yu/+ItabgUAAAAy\n",
              "gJifPHlyvv/97+fpp5/Ovffem66urhxyyCH5kz/5k0ybNi3Dhv1Gv+UOAAAAGKABF/hLL72Uyy67\n",
              "rM99P/vZzzJ58uRBGwUAAADsW79/Zv5/zJ07t1/3AQAAALXR73fmn3/++WzdujWvv/56fv7zn6da\n",
              "rSZJtm/fntdee61mAwEAAIC++h3zt912W77+9a/n2WefzezZs3vvHzFiRBYuXFiTcQAAAMBb9Tvm\n",
              "r7766lx99dW5/vrrs3jx4lpuAgAAAN7GgC+At3jx4vT09GTr1q3ZvXt37/1NTU2DOgwAAADYuwFf\n",
              "AO9f//VfM3LkyJxwwgk5+eSTc/LJJ+eUU07Z67ELFixIc3NzKpVKNm/evM/nXLlyZY466qhMmDAh\n",
              "8+fPz65du/r1GAAAALwXDTjmv/SlL+WBBx7If/7nf+aFF17ICy+8kOeff36vx15yySVZt25dxo0b\n",
              "t8/ne/LJJ7N48eKsXbs27e3t2bZtW2655ZZ3fAwAAADeqwb8MfvDDz88Rx99dL+OPeuss97xmFWr\n",
              "VmX27NkZO3ZskuTKK6/MDTfckKuuuuptH3s3qVareX23TxwAAADU0vuHvS+VSqXeMwbFgGP+wgsv\n",
              "zNe//vX88R//cQ4++ODe+4cPH/4bDejs7Ozzzn1zc3M6Ozvf8bG92blzZ3bu3Nnnvj179vxGu/an\n",
              "13fvysTvfLHeMwAAAN7VfnXZl3LI+w6q94xBMeCP2f/N3/xN2traMnbs2IwaNSojR47MqFGjarFt\n",
              "wJYuXZoRI0b0uW3cuLHeswAAAGBQDfid+Z6enkEd0NTUlCeeeKL3646Ojt4r47/dY3uzaNGitLW1\n",
              "9bmvhF+j9/5h78uvLvtSvWcAAAC8q71/2PvqPWHQDDjmB9ucOXMybdq0XHfddRkzZkxWrFiRSy+9\n",
              "9B0f25uGhoY0NDT0uW/o0KE13T8YKpXKu+ajHgAAANTegD9mP2TIkAwdOvQtt71pbW1NY2Njurq6\n",
              "MmPGjLS0tCRJ5s2blzVr1iRJxo8fnyVLluSMM85IS0tLRo8endbW1nd8DAAAAN6rKtVqtTqQP/Da\n",
              "a6/1/vfrr7+eW2+9NXv27Mlf//VfD/q4wdDW1pZly5bVewYAAAAMmgG/M3/ooYf23g4//PC0tbVl\n",
              "1apVtdgGAAAA7MWAY/7/euyxx/Liiy8OxhYAAACgHwZ8AbxRo0alUqkkSXbv3p0kuemmmwZ3FQAA\n",
              "ALBPA475zZs3/+8fHjYsY8eOLeKK8QAAAPBuMeCYHzduXH7961/3Rv2oUaNyyCGHDPYuAAAAYB8G\n",
              "HPMbNmzInDlzMnbs2CTJtm3bcscdd+SjH/3ooI8DAAAA3mrAMf8/V68/44wzkrwZ99dcc03uv//+\n",
              "QR8HAAAAvNWAr2b/+uuv94Z8kpx++unZsWPHoI4CAAAA9m3AMf87v/M7+fGPf9z79d13351DDz10\n",
              "UEcBAAAA+zbgj9n/4z/+Yy6++OLeK9j39PRk9erVgz4MAAAA2LsBx/yzzz6bBx98MNu2bUuSjBkz\n",
              "Jhs3bhz0YQAAAMDeDfhj9osXL87o0aNz/PHH5/jjj8/hhx+exYsX12IbAAAAsBcDjvn/q1KpZM+e\n",
              "PYOxBQAAAOiHAcf8YYcdlg0bNvR+vX79+hx22GGDOgoAAADYtwH/zPw//MM/5KKLLsoxxxyTJHn8\n",
              "8cfzb//2b4M+DAAAANi7Acf8Rz/60Tz66KO57777krz5e+ZHjhw52LsAAACAfRhwzCfJqFGj8olP\n",
              "fGKwtwAAAAD98FtfAA8AAADYv8Q8AAAAFEbMAwAAQGHEPAAAABRGzAMAAEBhxDwAAAAURswDAABA\n",
              "YcQ8AAAAFEbMAwAAQGHEPAAAABRGzAMAAEBhxDwAAAAURswDAABAYcQ8AAAAFEbMAwAAQGHEPAAA\n",
              "ABRGzAMAAEBhxDwAAAAURswDAABAYcQ8AAAAFEbMAwAAQGHEPAAAABRGzAMAAEBhxDwAAAAURswD\n",
              "AABAYcQ8AAAAFEbMAwAAQGHEPAAAABRGzAMAAEBhxDwAAAAURswDAABAYcQ8AAAAFEbMAwAAQGHE\n",
              "PAAAABRGzAMAAEBhxDwAAAAURswDAABAYcQ8AAAAFEbMAwAAQGHEPAAAABRGzAMAAEBhxDwAAAAU\n",
              "RswDAABAYcQ8AAAAFEbMAwAAQGHEPAAAABRGzAMAAEBhxDwAAAAURswDAABAYcQ8AAAAFEbMAwAA\n",
              "QGHEPAAAABRGzAMAAEBhxDwAAAAURswDAABAYcQ8AAAAFEbMAwAAQGHEPAAAABRGzAMAAEBhxDwA\n",
              "AAAURswDAABAYcQ8AAAAFKamMf/444/n9NNPz8SJE3PqqafmkUceecsxPT09+exnP5vjjz8+xxxz\n",
              "TC6//PK88cYbvY///d//fSZNmpQpU6bktNNOy8aNG2s5GQAAAA54NY351tbWXHHFFfnVr36Va6+9\n",
              "NnPnzn3LMStXrsymTZuyadOmPProoxkyZEiWL1+eJNm8eXO+8Y1vZOPGjdm8eXM+/elP59Of/nQt\n",
              "JwMAAMABr2Yx//zzz+fBBx/MZZddliSZM2dOnn766bS3t/c57uGHH87HP/7xHHTQQalUKjnvvPPy\n",
              "7W9/O0lSqVSya9euvPbaa0mSl19+OY2Njfv8njt37kx3d3ef2549e2r0CgEAAKA+ahbzTz/9dI44\n",
              "4ogMGzYsyZth3tTUlM7Ozj7HnXzyyVmzZk26u7uza9eufO9730tHR0eS5MQTT8w111yTD3/4w2ls\n",
              "bMyNN96Ym266aZ/fc+nSpRkxYkSfm4/lAwAA8G5T9wvgzZ07NzNnzsz06dMzffr0TJw4sfcfAJ58\n",
              "8smsXr067e3t6erqyjXXXJM/+qM/2udzLVq0KNu3b+9zmzp16v56KQAAALBf1CzmP/ShD+W5557L\n",
              "7t27kyTVajWdnZ1pamrqc1ylUsl1112Xhx56KBs2bMikSZNy3HHHJUnuuOOOnHDCCfngBz+YJPnz\n",
              "P//zrF+/vs8F8v5/DQ0NGT58eJ/b0KFDa/USAQAAoC5qFvMf+MAH8pGPfCTf+c53krwZ5o2NjWlp\n",
              "aelz3I4dO/LSSy8lSV588cV85StfycKFC5Mk48ePz/r16/Pqq68mSe66665MnDgxBx10UK1mAwAA\n",
              "wAFvWC2f/Oabb87cuXNzww03ZPjw4fnWt76VJJk3b15mz56d2bNnZ/v27Tn77LMzZMiQ9PT05Oqr\n",
              "r86sWbOSJBdddFEeeOCBnHLKKWloaMihhx6a7373u7WcDAAAAAe8SrVardZ7RC21tbVl2bJl9Z4B\n",
              "AAAAg6buF8ADAAAABkbMAwAAQGHEPAAAABRGzAMAAEBhxDwAAAAURswDAABAYcQ8AAAAFEbMAwAA\n",
              "QGHEPAAAABRGzAMAAEBhxDwAAAAURswDAABAYcQ8AAAAFEbMAwAAQGHEPAAAABRGzAMAAEBhxDwA\n",
              "AAAURswDAABAYcQ8AAAAFEbMAwAAQGHEPAAAABRGzAMAAEBhxDwAAAAURswDAABAYcQ8AAAAFEbM\n",
              "AwAAQGHEPAAAABRGzAMAAEBhxDwAAAAURswDAABAYcQ8AAAAFEbMAwAAQGHEPAAAABRGzAMAAEBh\n",
              "xDwAAAAURswDAABAYcQ8AAAAFEbMAwAAQGHEPAAAABRGzAMAAEBhxDwAAAAURswDAABAYcQ8AAAA\n",
              "FEbMAwAAQGHEPAAAABRGzAMAAEBhxDwAAAAURswDAABAYcQ8AAAAFEbMAwAAQGHEPAAAABRGzAMA\n",
              "AEBhxDwAAAAURswDAABAYcQ8AAAAFEbMAwAAQGHEPAAAABRGzAMAAEBhxDwAAAAURswDAABAYcQ8\n",
              "AAAAFEbMAwAAQGHEPAAAABRGzAMAAEBhxDwAAAAURswDAABAYcQ8AAAAFEbMAwAAQGHEPAAAABRG\n",
              "zAMAAEBhxDwAAAAURswDAABAYcQ8AAAAFEbMAwAAQGHEPAAAABRGzAMAAEBhxDwAAAAURswDAABA\n",
              "YWoa848//nhOP/30TJw4MaeeemoeeeSRtxzT09OTz372szn++ONzzDHH5PLLL88bb7zR+3hnZ2dm\n",
              "zZqVo48+OpMmTcpNN91Uy8kAAABwwKtpzLe2tuaKK67Ir371q1x77bWZO3fuW45ZuXJlNm3alE2b\n",
              "NuXRRx/NkCFDsnz58iRJtVrNRRddlE996lP55S9/mS1btuSTn/xkLScDAADAAa9mMf/888/nwQcf\n",
              "zGWXXZYkmTNnTp5++um0t7f3Oe7hhx/Oxz/+8Rx00EGpVCo577zz8u1vfztJcvfdd6ehoSF/+Id/\n",
              "2Hv8mDFj9vk9d+7cme7u7j63PXv21ODVAQAAQP3ULOaffvrpHHHEERk2bFiSpFKppKmpKZ2dnX2O\n",
              "O/nkk7NmzZp0d3dn165d+d73vpeOjo4kyZYtWzJ69OhceumlOemkk3LRRRflP/7jP/b5PZcuXZoR\n",
              "I0b0uW3cuLFWLxEAAADqou4XwJs7d25mzpyZ6dOnZ/r06Zk4cWLvPwDs3r0799xzTxYvXpyHHnoo\n",
              "M2bMeNuP2S9atCjbt2/vc5s6der+eikAAACwX9Qs5j/0oQ/lueeey+7du5O8+fPvnZ2daWpq6nNc\n",
              "pVLJddddl4ceeigbNmzIpEmTctxxxyVJmpqactJJJ/V+/ad/+qfZtGlTdu3atdfv2dDQkOHDh/e5\n",
              "DR06tFYvEQAAAOqiZjH/gQ98IB/5yEfyne98J0lyxx13pLGxMS0tLX2O27FjR1566aUkyYsvvpiv\n",
              "fOUrWbhwYZLkvPPOS1dXV5555pkkyQ9+8IMce+yxed/73ler2QAAAHDAG1bLJ7/55pszd+7c3HDD\n",
              "DRk+fHi+9a1vJUnmzZuX2bNnZ/bs2dm+fXvOPvvsDBkyJD09Pbn66qsza9asJMmhhx6aFStW5A/+\n",
              "4A9SrVYzYsSI3H777bWcDAAAAAe8SrVardZ7RC21tbVl2bJl9Z4BAAAAg6buF8ADAAAABkbMAwAA\n",
              "QGHEPAAAABRGzAMAAEBhxDwAAAAURswDAABAYcQ8AAAAFEbMAwAAQGHEPAAAABRGzAMAAEBhxDwA\n",
              "AAAURswDAABAYcQ8AAAAFEbMAwAAQGHEPAAAABRGzAMAAEBhxDwAAAAURswDAABAYcQ8AAAAFEbM\n",
              "AwAAQGHEPAAAABRGzAMAAEBhxDwAAAAURswDAABAYcQ8AAAAFEbMAwAAQGHEPAAAABRGzAMAAEBh\n",
              "xDwAAAAURswDAABAYcQ8AAAAFEbMAwAAQGHEPAAAABRGzAMAAEBhxDwAAAAURswDAABAYcQ8AAAA\n",
              "FEbMAwAAQGHEPAAAABRGzAMAAEBhxDwAAAAURswDAABAYcQ8AAAAFEbMAwAAQGHEPAAAABRGzAMA\n",
              "AEBhxDwAAAAURswDAABAYcQ8AAAAFEbMAwAAQGHEPAAAABRGzAMAAEBhxDwAAAAURswDAABAYcQ8\n",
              "AAAAFEbMAwAAQGHEPAAAABRGzAMAAEBhxDwAAAAURswDAABAYSrVarVa7xG1dPHFF6e5ubneM97R\n",
              "nj17snHjxkydOjVDhw6t9xx4W85XSuJ8pSTOV0rifKUkpZ2v48aNy9VXX/22x7zrY74U3d3dGTFi\n",
              "RLZv357hw4fXew68LecrJXG+UhLnKyVxvlKSd+P56mP2AAAAUBgxDwAAAIUR8wAAAFAYMX+AaGho\n",
              "yN/+7d+moaGh3lPgHTlfKYnzlZI4XymJ85WSvBvPVxfAAwAAgMJ4Zx4AAAAKI+YBAACgMGIeAAAA\n",
              "CiPm96MFCxakubk5lUolmzdv3udxK1euzFFHHZUJEyZk/vz52bVr1/4bCf+tP+frPffck6lTp2bS\n",
              "pEk57rjjsnDhwvT09OzfoZD+//2aJNVqNR/72McycuTI/bIN/q/+nq8///nPc/bZZ+fYY4/Nscce\n",
              "m9WrV++/kfDf+nO+9vT0pK2tLZMmTcrkyZNzzjnnpL29ff8OhSQ7duzIhRdemIkTJ+bEE0/M7//+\n",
              "7+/zXLzrrrtyzDHH5KijjsrFF1+c7u7u/bz2tyfm96NLLrkk69aty7hx4/Z5zJNPPpnFixdn7dq1\n",
              "aW9vz7Zt23LLLbfsx5Xwpv6cr6NGjcrtt9+eLVu25Kc//Wk2bNiQW2+9dT+uhDf153z9HzfeeGMm\n",
              "TJiwH1bB3vXnfP31r3+dCy64IH/3d3+XRx99NL/4xS9y5pln7seV8Kb+nK9r1qzJ+vXr8/DDD+dn\n",
              "P/tZzj333Hz+85/fjyvhf11xxRX55S9/mYcffjgXXHBB5s2b95ZjXn311Vx++eW588478/jjj+eD\n",
              "H/xgrr/++jqs/e2I+f3orLPOSmNj49ses2rVqsyePTtjx45NpVLJlVdemdtuu20/LYT/1Z/z9aST\n",
              "Tsr48eOTJAcffHCmTJmSjo6O/bAO+urP+ZokjzzySO6888587nOf2w+rYO/6c75+97vfzWmnnZZp\n",
              "06YlSYYOHZrRo0fvj3nQR3/O10qlkp07d2bHjh2pVqvp7u7u19/JMNgOPvjgfOITn0ilUkmSnHba\n",
              "aXv9f9Mf/vCHOemkk3LMMcckSf7qr/6qyOYaVu8B9NXZ2dnnXz6bm5vT2dlZx0XQP1u3bs2qVaty\n",
              "11131XsK7NWuXbsyf/78rFy5MkOHDq33HHhbW7ZsSUNDQ84///x0dXVl8uTJ+drXviboOSDNmjUr\n",
              "P/nJTzJ27NgcdthhOfLII3PvvffWexZk+fLlueCCC95y/96a67nnnsvu3bszbFg5ieydeeC31t3d\n",
              "nVmzZmXhwoU55ZRT6j0H9mrJkiW5+OKLc+yxx9Z7Cryj3bt358c//nFuvvnmPPTQQznyyCPzl3/5\n",
              "l/WeBXv14IMP5he/+EWeeeaZPPvsszn33HNz5ZVX1nsW73E33HBD2tvbs3Tp0npPqRkxf4BpamrK\n",
              "U0891ft1R0dHmpqa6rgI3t4rr7ySmTNn5oILLkhbW1u958A+3XvvvbnpppvS3NycadOmpbu7O83N\n",
              "zXnhhRfqPQ3eoqmpKeecc06OPPLIVCqVXHbZZbn//vvrPQv26tZbb+29sOiQIUPyZ3/2Z/nJT35S\n",
              "71m8h331q1/N6tWr88Mf/jCHHHLIWx7fW3MdccQRRb0rn4j5A86cOXOyZs2abN26NdVqNStWrMil\n",
              "l15a71mwV6+++mpmzpyZmTNn5gtf+EK958DbWrt2bZ566ql0dHRk3bp1GT58eDo6OnxsmQPSJz/5\n",
              "yTzwwAO9V1f+wQ9+kBNPPLHOq2Dvxo8fn3vuuSdvvPFGkjevEn788cfXeRXvVcuWLcttt92WH/3o\n",
              "R/v8zTUzZ87Mpk2b8thjjyVJvvGNbxTZXGJ+P2ptbU1jY2O6uroyY8aMtLS0JEnmzZuXNWvWJHnz\n",
              "L8MlS5bkjDPOSEtLS0aPHp3W1tZ6zuY9qj/n6/Lly7Nx48asXr06U6ZMyZQpU/LlL3+5nrN5j+rP\n",
              "+QoHiv6cr01NTfn85z+f008/PZMnT84999yTFStW1HM271H9OV+vuuqqfPjDH86JJ56YyZMn5+67\n",
              "784///M/13M271FdXV35zGc+k5dffjnnnHNOpkyZkt/7vd9Lknzxi1/s/Xv0sMMOy7/8y7/kwgsv\n",
              "TEtLS7q6urJ48eJ6Tv+NVKrVarXeIwAAAID+8848AAAAFEbMAwAAQGHEPAAAABRGzAMAv7GOjo4+\n",
              "VwtesGBBmpubU6lUsnnz5rrtAoB3OzEPAAyaSy65JOvWrcu4cePqPQUA3tXEPADQx3333Zdp06b1\n",
              "/pqpf//3f8+DDz7Y+2vSpk6dmvXr1+/1z5511llpbGzcz4sB4L1nWL0HAAAHjv/6r//KhRdemFWr\n",
              "VuXMM89MT09PXnzxxZxyyin55je/mRkzZmTdunWZM2dO2tvb6z0XAN6zvDMPAPS67777cvTRR+fM\n",
              "M89MkgwZMiTbtm3LkCFDMmPGjCTJtGnTMmbMGD8TDwB1JOYBgAGrVCr1ngAA72liHgDodfrpp+fx\n",
              "xx/P2rVrkyQ9PT0ZM2ZMenp68qMf/ShJsmHDhmzdujVTpkyp41IAeG+rVKvVar1HAAAHjvvvvz+f\n",
              "+cxn8sorr2TIkCG5/vrrc8QRR2TBggV59dVXc/DBB2fZsmWZNm1aOjo6MmXKlLz88stJktbW1nz/\n",
              "+9/P1q1b87u/+7s57LDD/Gw9ANSAmAcAAIDC+Jg9AAAAFEbMAwAAQGHEPAAAABRGzAMAAEBhxDwA\n",
              "AAAURswDAABAYcQ8AAAAFEbMAwAAQGHEPAAAABRGzAMAAEBh/h+ISqj6OJhB6gAAAABJRU5ErkJg\n",
              "gg==\n",
              "\">\n",
              "      </div>\n",
              "      <script type=\"text/javascript\">\n",
              "        (() => {\n",
              "          const chartElement = document.getElementById(\"chart-39410d0b-0435-4ad8-a2fb-67f8ccff2b1b\");\n",
              "          async function getCodeForChartHandler(event) {\n",
              "            const chartCodeResponse =  await google.colab.kernel.invokeFunction(\n",
              "                'getCodeForChart', [\"chart-39410d0b-0435-4ad8-a2fb-67f8ccff2b1b\"], {});\n",
              "            const responseJson = chartCodeResponse.data['application/json'];\n",
              "            await google.colab.notebook.addCell(responseJson.code, 'code');\n",
              "          }\n",
              "          chartElement.onclick = getCodeForChartHandler;\n",
              "        })();\n",
              "      </script>\n",
              "      <style>\n",
              "        .colab-quickchart-chart-with-code  {\n",
              "            display: block;\n",
              "            float: left;\n",
              "            border: 1px solid transparent;\n",
              "        }\n",
              "\n",
              "        .colab-quickchart-chart-with-code:hover {\n",
              "            cursor: pointer;\n",
              "            border: 1px solid #aaa;\n",
              "        }\n",
              "      </style>"
            ]
          },
          "metadata": {}
        },
        {
          "output_type": "display_data",
          "data": {
            "text/plain": [
              "from matplotlib import pyplot as plt\n",
              "import seaborn as sns\n",
              "def _plot_series(series, series_name, series_index=0):\n",
              "  from matplotlib import pyplot as plt\n",
              "  import seaborn as sns\n",
              "  palette = list(sns.palettes.mpl_palette('Dark2'))\n",
              "  counted = (series['col2']\n",
              "                .value_counts()\n",
              "              .reset_index(name='counts')\n",
              "              .rename({'index': 'col2'}, axis=1)\n",
              "              .sort_values('col2', ascending=True))\n",
              "  xs = counted['col2']\n",
              "  ys = counted['counts']\n",
              "  plt.plot(xs, ys, label=series_name, color=palette[series_index % len(palette)])\n",
              "\n",
              "fig, ax = plt.subplots(figsize=(10, 5.2), layout='constrained')\n",
              "df_sorted = _df_7.sort_values('col2', ascending=True)\n",
              "_plot_series(df_sorted, '')\n",
              "sns.despine(fig=fig, ax=ax)\n",
              "plt.xlabel('col2')\n",
              "_ = plt.ylabel('count()')"
            ],
            "text/html": [
              "      <div class=\"colab-quickchart-chart-with-code\" id=\"chart-5984edd5-800e-411d-9153-c2da2cef6825\">\n",
              "        <img style=\"width: 180px;\" src=\"data:image/png;base64,iVBORw0KGgoAAAANSUhEUgAAA/MAAAITCAYAAABLz0yVAAAAOXRFWHRTb2Z0d2FyZQBNYXRwbG90\n",
              "bGliIHZlcnNpb24zLjcuMSwgaHR0cHM6Ly9tYXRwbG90bGliLm9yZy/bCgiHAAAACXBIWXMAAA9h\n",
              "AAAPYQGoP6dpAAAkAklEQVR4nO3dfZCV5X3/8c9Z0DVaeWhFMOKyQUBFRIzKKKBokhZMBR/Q1Gmt\n",
              "pQ0IqRkdqcXQhFZiq2knklAzKZoyTkwmZjKIlrH2j/gwDogWLWAT0USM64IKaqqsWkBgz+8PJ5vs\n",
              "D5DddHcPl7xeM/cM59zXnv2emWsc33vuvbdSrVarAQAAAIpRV+sBAAAAgM4R8wAAAFAYMQ8AAACF\n",
              "EfMAAABQGDEPAAAAhRHzAAAAUBgxDwAAAIUR8wAAAFCYj3zML1q0qNYjAAAAQJf6yMf8yy+/XOsR\n",
              "AAAAoEt95GMeAAAAPmrEPAAAABRGzAMAAEBhxDwAAAAURswDAABAYcQ8AAAAFEbMAwAAQGHEPAAA\n",
              "ABRGzAMAAEBhxDwAAAAURswDAABAYcQ8AAAAFEbMAwAAQGHEPAAAABRGzAMAAEBhxDwAAAAURswD\n",
              "AABAYcQ8AAAAFEbMAwAAQGHEPAAAABRGzAMAAEBhxDwAAAAURswDAABAYcQ8AAAAFEbMAwAAQGHE\n",
              "PAAAABRGzAMAAEBhxDwAAAAURswDAABAYcQ8AAAAFEbMAwAAQGHEPAAAABRGzAMAAEBhxDwAAAAU\n",
              "RswDAABAYcQ8AAAAFEbMAwAAQGHEPAAAABRGzAMAAEBhxDwAAAAURswDAABAYcQ8AAAAFEbMAwAA\n",
              "QGHEPAAAABRGzAMAAEBhxDwAAAAURswDAABAYcQ8AAAAFEbMAwAAQGHEPAAAABRGzAMAAEBhxDwA\n",
              "AAAURswDAABAYcQ8AAAAFEbMAwAAQGHEPAAAABRGzAMAAEBhxDwAAAAURswDAABAYcQ8AAAAFEbM\n",
              "AwAAQGG6NeavvfbaNDY2plKpZN26dftct2TJkgwfPjzHH398Zs6cmZ07d7Y7X61W86lPfSr9+vXr\n",
              "znEBAACgCN0a85dddllWrlyZIUOG7HPNSy+9lPnz52fFihXZsGFDtmzZkjvvvLPdmm984xs5/vjj\n",
              "u3NUAAAAKEa3xvy5556bwYMHf+iapUuXZurUqRk0aFAqlUpmz56de+65p+38s88+m/vvvz9f+tKX\n",
              "9vv9duzYkZaWlnbH7t27/8/vAwAAAA4kNf+d+ebm5naf3Dc2Nqa5uTlJsnPnzsycOTN33HFHevXq\n",
              "td/XuvXWW9O3b992x+rVq7ttdgAAAKiFmsf8h1mwYEEuvfTSnHTSSR1aP2/evGzdurXdMXbs2G6e\n",
              "EgAAAHpW71oP0NDQkBdffLHtcVNTUxoaGpIkjz32WJqbm/Otb30ru3btSktLSxobG/PUU09lwIAB\n",
              "e7xWfX196uvr2z3XkU/0AQAAoCQ1/2R+2rRpWb58eTZv3pxqtZrFixfniiuuSJKsWLEiL7/8cpqa\n",
              "mrJy5cr06dMnTU1New15AAAAOFh0a8zPmjUrgwcPzqZNmzJp0qQMGzYsSTJjxowsX748STJ06NAs\n",
              "WLAg48ePz7BhwzJgwIDMmjWrO8cCAACAolWq1Wq11kN0pzlz5mThwoW1HgMAAAC6TM0vswcAAAA6\n",
              "R8wDAABAYcQ8AAAAFEbMAwAAQGHEPAAAABRGzAMAAEBhxDwAAAAURswDAABAYcQ8AAAAFEbMAwAA\n",
              "QGHEPAAAABRGzAMAAEBhxDwAAAAURswDAABAYcQ8AAAAFEbMAwAAQGHEPAAAABRGzAMAAEBhxDwA\n",
              "AAAURswDAABAYcQ8AAAAFEbMAwAAQGHEPAAAABRGzAMAAEBhxDwAAAAURswDAABAYcQ8AAAAFEbM\n",
              "AwAAQGHEPAAAABRGzAMAAEBhxDwAAAAURswDAABAYcQ8AAAAFEbMAwAAQGHEPAAAABRGzAMAAEBh\n",
              "xDwAAAAURswDAABAYcQ8AAAAFEbMAwAAQGHEPAAAABRGzAMAAEBhxDwAAAAURswDAABAYcQ8AAAA\n",
              "FEbMAwAAQGHEPAAAABRGzAMAAEBhxDwAAAAURswDAABAYcQ8AAAAFEbMAwAAQGHEPAAAABRGzAMA\n",
              "AEBhxDwAAAAURswDAABAYcQ8AAAAFEbMAwAAQGHEPAAAABRGzAMAAEBhxDwAAAAURswDAABAYcQ8\n",
              "AAAAFEbMAwAAQGHEPAAAABRGzAMAAEBhxDwAAAAURswDAABAYcQ8AAAAFEbMAwAAQGHEPAAAABRG\n",
              "zAMAAEBhxDwAAAAURswDAABAYcQ8AAAAFEbMAwAAQGHEPAAAABRGzAMAAEBhujXmr7322jQ2NqZS\n",
              "qWTdunX7XLdkyZIMHz48xx9/fGbOnJmdO3cmSR555JGMHTs2I0eOzMknn5y5c+emtbW1O0cGAACA\n",
              "A163xvxll12WlStXZsiQIftc89JLL2X+/PlZsWJFNmzYkC1btuTOO+9MkvTv3z8//OEPs379+vzX\n",
              "f/1XVq1albvvvrs7RwYAAIADXrfG/LnnnpvBgwd/6JqlS5dm6tSpGTRoUCqVSmbPnp177rknSXLa\n",
              "aadl6NChSZLDDjssY8aMSVNT0z5fa8eOHWlpaWl37N69u8veDwAAABwIav47883Nze0+uW9sbExz\n",
              "c/Me6zZv3pylS5fmwgsv3Odr3Xrrrenbt2+7Y/Xq1d0yNwAAANRKzWO+I1paWjJlypTMnTs3Z5xx\n",
              "xj7XzZs3L1u3bm13jB07tgcnBQAAgO7Xu9YDNDQ05MUXX2x73NTUlIaGhrbH77zzTiZPnpyLLroo\n",
              "c+bM+dDXqq+vT319fbvnevXq1bUDAwAAQI3V/JP5adOmZfny5dm8eXOq1WoWL16cK664Ikny7rvv\n",
              "ZvLkyZk8eXK+8pWv1HhSAAAAODB0a8zPmjUrgwcPzqZNmzJp0qQMGzYsSTJjxowsX748STJ06NAs\n",
              "WLAg48ePz7BhwzJgwIDMmjUrSbJo0aKsXr06y5Yty5gxYzJmzJj8wz/8Q3eODAAAAAe8SrVardZ6\n",
              "iO40Z86cLFy4sNZjAAAAQJep+WX2AAAAQOeIeQAAACiMmAcAAIDCiHkAAAAojJgHAACAwoh5AAAA\n",
              "KIyYBwAAgMKIeQAAACiMmAcAAIDCiHkAAAAojJgHAACAwoh5AAAAKIyYBwAAgMKIeQAAACiMmAcA\n",
              "AIDCiHkAAAAojJgHAACAwoh5AAAAKIyYBwAAgMKIeQAAACiMmAcAAIDCiHkAAAAojJgHAACAwoh5\n",
              "AAAAKIyYBwAAgMKIeQAAACiMmAcAAIDCiHkAAAAojJgHAACAwoh5AAAAKIyYBwAAgMKIeQAAACiM\n",
              "mAcAAIDCiHkAAAAojJgHAACAwoh5AAAAKIyYBwAAgMKIeQAAACiMmAcAAIDCiHkAAAAojJgHAACA\n",
              "woh5AAAAKIyYBwAAgMKIeQAAACiMmAcAAIDCiHkAAAAojJgHAACAwoh5AAAAKIyYBwAAgMKIeQAA\n",
              "ACiMmAcAAIDCiHkAAAAojJgHAACAwoh5AAAAKIyYBwAAgMKIeQAAACiMmAcAAIDCiHkAAAAojJgH\n",
              "AACAwoh5AAAAKIyYBwAAgMKIeQAAACiMmAcAAIDCiHkAAAAoTO/f5ovWr1+fTZs25WMf+1hOOeWU\n",
              "9OvXr4vHAgAAAPalwzH/zjvv5Otf/3q+853v5PDDD8/AgQOzffv2vPjiixk7dmxuvPHGfPrTn+7O\n",
              "WQEAAIB0IubPP//8XHXVVVm7dm0GDhzY9nxra2tWrFiRxYsXZ8OGDZk1a1a3DAoAAAB8oMMx//jj\n",
              "j6e+vn6P5+vq6jJx4sRMnDgxO3bs6NLhAAAAgD11+AZ4ewv532YNAAAA8H/T4Zi/8MILs2rVqr2e\n",
              "e/vtt3Pbbbfljjvu6LLBAAAAgL3r8GX2t9xyS+bNm5f169fnzDPPbLsB3vPPP59XXnkl11xzTf7i\n",
              "L/6iO2cFAAAA0omYHz16dP793/89GzduzGOPPZZNmzbl8MMPz5/8yZ9kwoQJ6d37t/ordwAAAEAn\n",
              "dbrA33rrrVx55ZXtnvvv//7vjB49usuGAgAAAPatw78z/yvTp0/v0HMAAABA9+jwJ/Ovv/56Nm/e\n",
              "nG3btuUnP/lJqtVqkmTr1q157733um1AAAAAoL0Ox/w999yTb37zm3n11VczderUtuf79u2buXPn\n",
              "dstwAAAAwJ46HPPXXXddrrvuutx8882ZP39+d84EAAAAfIhO3wBv/vz5aW1tzebNm7Nr16625xsa\n",
              "Grp0MAAAAGDvOn0DvO9+97vp169fTjnllJx++uk5/fTTc8YZZ+x17bXXXpvGxsZUKpWsW7dun6+5\n",
              "ZMmSDB8+PMcff3xmzpyZnTt3dugcAAAAHIw6HfNf/epX89RTT+WXv/xl3njjjbzxxht5/fXX97r2\n",
              "sssuy8qVKzNkyJB9vt5LL72U+fPnZ8WKFdmwYUO2bNmSO++8c7/nAAAA4GDV6cvsjzrqqJxwwgkd\n",
              "Wnvuuefud83SpUszderUDBo0KEkye/bs3HLLLbnmmms+9NxHSbVazbZdrjgAAADoTh/rfUgqlUqt\n",
              "x+gSnY75iy++ON/85jfzx3/8xznssMPanu/Tp89vNUBzc3O7T+4bGxvT3Ny833N7s2PHjuzYsaPd\n",
              "c7t37/6t5upJ23btzIjv/22txwAAAPhI+/mVX83hhxxa6zG6RKcvs//yl7+cOXPmZNCgQenfv3/6\n",
              "9euX/v37d8dsnXbrrbemb9++7Y7Vq1fXeiwAAADoUp3+ZL61tbVLB2hoaMiLL77Y9ripqantzvgf\n",
              "dm5v5s2blzlz5rR7roQ/o/ex3ofk51d+tdZjAAAAfKR9rPchtR6hy3Q65rvatGnTMmHChNx0000Z\n",
              "OHBgFi9enCuuuGK/5/amvr4+9fX17Z7r1atXt87fFSqVykfmUg8AAAC6X6cvs6+rq0uvXr32OPZm\n",
              "1qxZGTx4cDZt2pRJkyZl2LBhSZIZM2Zk+fLlSZKhQ4dmwYIFGT9+fIYNG5YBAwZk1qxZ+z0HAAAA\n",
              "B6tKtVqtduYL3nvvvbZ/b9u2LXfffXd2796dv/7rv+7y4brCnDlzsnDhwlqPAQAAAF2m05/MH3HE\n",
              "EW3HUUcdlTlz5mTp0qXdMRsAAACwF52O+f/f888/nzfffLMrZgEAAAA6oNM3wOvfv38qlUqSZNeu\n",
              "XUmS22+/vWunAgAAAPap0zG/bt26X39x794ZNGhQEXeMBwAAgI+KTsf8kCFD8r//+79tUd+/f/8c\n",
              "fvjhXT0XAAAAsA+djvlVq1Zl2rRpGTRoUJJky5Ytuffee3P22Wd3+XAAAADAnjod87+6e/348eOT\n",
              "fBD3119/fZ588skuHw4AAADYU6fvZr9t27a2kE+ScePGZfv27V06FAAAALBvnY753/md38lDDz3U\n",
              "9vjhhx/OEUcc0aVDAQAAAPvW6cvs//mf/zmXXnpp2x3sW1tbs2zZsi4fDAAAANi7Tsf8q6++mqef\n",
              "fjpbtmxJkgwcODCrV6/u8sEAAACAvev0Zfbz58/PgAEDMmrUqIwaNSpHHXVU5s+f3x2zAQAAAHvR\n",
              "6Zj//1UqlezevbsrZgEAAAA6oNMxf+SRR2bVqlVtjx9//PEceeSRXToUAAAAsG+d/p35f/qnf8ol\n",
              "l1ySE088MUnywgsv5L777uvywQAAAIC963TMn3322XnuuefyxBNPJPng78z369evq+cCAAAA9qHT\n",
              "MZ8k/fv3z2c/+9mungUAAADogP/zDfAAAACAniXmAQAAoDBiHgAAAAoj5gEAAKAwYh4AAAAKI+YB\n",
              "AACgMGIeAAAACiPmAQAAoDBiHgAAAAoj5gEAAKAwYh4AAAAKI+YBAACgMGIeAAAACiPmAQAAoDBi\n",
              "HgAAAAoj5gEAAKAwYh4AAAAKI+YBAACgMGIeAAAACiPmAQAAoDBiHgAAAAoj5gEAAKAwYh4AAAAK\n",
              "I+YBAACgMGIeAAAACiPmAQAAoDBiHgAAAAoj5gEAAKAwYh4AAAAKI+YBAACgMGIeAAAACiPmAQAA\n",
              "oDBiHgAAAAoj5gEAAKAwYh4AAAAKI+YBAACgMGIeAAAACiPmAQAAoDBiHgAAAAoj5gEAAKAwYh4A\n",
              "AAAKI+YBAACgMGIeAAAACiPmAQAAoDBiHgAAAAoj5gEAAKAwYh4AAAAKI+YBAACgMGIeAAAACiPm\n",
              "AQAAoDBiHgAAAAoj5gEAAKAwYh4AAAAKI+YBAACgMGIeAAAACiPmAQAAoDBiHgAAAAoj5gEAAKAw\n",
              "Yh4AAAAKI+YBAACgMGIeAAAACiPmAQAAoDDdGvMvvPBCxo0blxEjRuTMM8/Ms88+u8ea1tbW3HDD\n",
              "DRk1alROPPHEfP7zn8/777/fdv4f//EfM3LkyIwZMyZnnXVWVq9e3Z0jAwAAwAGvW2N+1qxZufrq\n",
              "q/Pzn/88N954Y6ZPn77HmiVLlmTNmjVZs2ZNnnvuudTV1WXRokVJknXr1uXb3/52Vq9enXXr1uWL\n",
              "X/xivvjFL3bnyAAAAHDA67aYf/311/P000/nyiuvTJJMmzYtGzduzIYNG9qte+aZZ/KZz3wmhx56\n",
              "aCqVSi644IJ873vfS5JUKpXs3Lkz7733XpLk7bffzuDBg/f5PXfs2JGWlpZ2x+7du7vpHQIAAEBt\n",
              "dFvMb9y4Mcccc0x69+6d5IMwb2hoSHNzc7t1p59+epYvX56Wlpbs3LkzP/rRj9LU1JQkOfXUU3P9\n",
              "9dfnE5/4RAYPHpxvfOMbuf322/f5PW+99db07du33eGyfAAAAD5qan4DvOnTp2fy5MmZOHFiJk6c\n",
              "mBEjRrT9AOCll17KsmXLsmHDhmzatCnXX399/uiP/mifrzVv3rxs3bq13TF27NieeisAAADQI7ot\n",
              "5o877ri89tpr2bVrV5KkWq2mubk5DQ0N7dZVKpXcdNNNWbt2bVatWpWRI0fm5JNPTpLce++9OeWU\n",
              "U/Lxj388SfLnf/7nefzxx9vdIO831dfXp0+fPu2OXr16dddbBAAAgJrotpg/+uij88lPfjLf//73\n",
              "k3wQ5oMHD86wYcPardu+fXveeuutJMmbb76Zr33ta5k7d26SZOjQoXn88cfz7rvvJkkeeOCBjBgx\n",
              "Ioceemh3jQ0AAAAHvN7d+eJ33HFHpk+fnltuuSV9+vTJXXfdlSSZMWNGpk6dmqlTp2br1q0577zz\n",
              "UldXl9bW1lx33XWZMmVKkuSSSy7JU089lTPOOCP19fU54ogj8oMf/KA7RwYAAIADXqVarVZrPUR3\n",
              "mjNnThYuXFjrMQAAAKDL1PwGeAAAAEDniHkAAAAojJgHAACAwoh5AAAAKIyYBwAAgMKIeQAAACiM\n",
              "mAcAAIDCiHkAAAAojJgHAACAwoh5AAAAKIyYBwAAgMKIeQAAACiMmAcAAIDCiHkAAAAojJgHAACA\n",
              "woh5AAAAKIyYBwAAgMKIeQAAACiMmAcAAIDCiHkAAAAojJgHAACAwoh5AAAAKIyYBwAAgMKIeQAA\n",
              "ACiMmAcAAIDCiHkAAAAojJgHAACAwoh5AAAAKIyYBwAAgMKIeQAAACiMmAcAAIDCiHkAAAAojJgH\n",
              "AACAwoh5AAAAKIyYBwAAgMKIeQAAACiMmAcAAIDCiHkAAAAojJgHAACAwoh5AAAAKIyYBwAAgMKI\n",
              "eQAAACiMmAcAAIDCiHkAAAAojJgHAACAwoh5AAAAKIyYBwAAgMKIeQAAACiMmAcAAIDCiHkAAAAo\n",
              "jJgHAACAwoh5AAAAKIyYBwAAgMKIeQAAACiMmAcAAIDCiHkAAAAojJgHAACAwoh5AAAAKIyYBwAA\n",
              "gMKIeQAAACiMmAcAAIDCiHkAAAAojJgHAACAwoh5AAAAKIyYBwAAgMKIeQAAACiMmAcAAIDCiHkA\n",
              "AAAojJgHAACAwoh5AAAAKIyYBwAAgMKIeQAAACiMmAcAAIDCiHkAAAAojJgHAACAwoh5AAAAKIyY\n",
              "BwAAgMKIeQAAAChMt8b8Cy+8kHHjxmXEiBE588wz8+yzz+6xprW1NTfccENGjRqVE088MZ///Ofz\n",
              "/vvvt51vbm7OlClTcsIJJ2TkyJG5/fbbu3NkAAAAOOB1a8zPmjUrV199dX7+85/nxhtvzPTp0/dY\n",
              "s2TJkqxZsyZr1qzJc889l7q6uixatChJUq1Wc8kll+Sqq67Kz372s6xfvz6f+9znunNkAAAAOOB1\n",
              "W8y//vrrefrpp3PllVcmSaZNm5aNGzdmw4YN7dY988wz+cxnPpNDDz00lUolF1xwQb73ve8lSR5+\n",
              "+OHU19fn8ssvb1s/cODAfX7PHTt2pKWlpd2xe/fubnh3AAAAUDvdFvMbN27MMccck969eydJKpVK\n",
              "Ghoa0tzc3G7d6aefnuXLl6elpSU7d+7Mj370ozQ1NSVJ1q9fnwEDBuSKK67IaaedlksuuSS/+MUv\n",
              "9vk9b7311vTt27fdsXr16u56iwAAAFATNb8B3vTp0zN58uRMnDgxEydOzIgRI9p+ALBr16488sgj\n",
              "mT9/ftauXZtJkyZ96GX28+bNy9atW9sdY8eO7am3AgAAAD2i22L+uOOOy2uvvZZdu3Yl+eD335ub\n",
              "m9PQ0NBuXaVSyU033ZS1a9dm1apVGTlyZE4++eQkSUNDQ0477bS2x3/6p3+aNWvWZOfOnXv9nvX1\n",
              "9enTp0+7o1evXt31FgEAAKAmui3mjz766Hzyk5/M97///STJvffem8GDB2fYsGHt1m3fvj1vvfVW\n",
              "kuTNN9/M1772tcydOzdJcsEFF2TTpk155ZVXkiQPPvhgTjrppBxyyCHdNTYAAAAc8Hp354vfcccd\n",
              "mT59em655Zb06dMnd911V5JkxowZmTp1aqZOnZqtW7fmvPPOS11dXVpbW3PddddlypQpSZIjjjgi\n",
              "ixcvzh/+4R+mWq2mb9+++eEPf9idIwMAAMABr1KtVqu1HqI7zZkzJwsXLqz1GAAAANBlan4DPAAA\n",
              "AKBzxDwAAAAURswDAABAYcQ8AAAAFEbMAwAAQGHEPAAAABRGzAMAAEBhxDwAAAAURswDAABAYcQ8\n",
              "AAAAFEbMAwAAQGHEPAAAABRGzAMAAEBhxDwAAAAURswDAABAYcQ8AAAAFEbMAwAAQGHEPAAAABRG\n",
              "zAMAAEBhxDwAAAAURswDAABAYcQ8AAAAFEbMAwAAQGHEPAAAABRGzAMAAEBhxDwAAAAURswDAABA\n",
              "YcQ8AAAAFEbMAwAAQGHEPAAAABRGzAMAAEBhxDwAAAAURswDAABAYcQ8AAAAFEbMAwAAQGHEPAAA\n",
              "ABRGzAMAAEBhxDwAAAAURswDAABAYcQ8AAAAFEbMAwAAQGHEPAAAABRGzAMAAEBhxDwAAAAURswD\n",
              "AABAYcQ8AAAAFEbMAwAAQGHEPAAAABRGzAMAAEBhxDwAAAAURswDAABAYcQ8AAAAFEbMAwAAQGHE\n",
              "PAAAABRGzAMAAEBhxDwAAAAURswDAABAYcQ8AAAAFEbMAwAAQGHEPAAAABSmUq1Wq7Ueojtdeuml\n",
              "aWxsrPUY+7V79+6sXr06Y8eOTa9evWo9Dnwo+5WS2K+UxH6lJPYrJSltvw4ZMiTXXXfdh675yMd8\n",
              "KVpaWtK3b99s3bo1ffr0qfU48KHsV0piv1IS+5WS2K+U5KO4X11mDwAAAIUR8wAAAFAYMQ8AAACF\n",
              "EfMHiPr6+vzd3/1d6uvraz0K7Jf9SknsV0piv1IS+5WSfBT3qxvgAQAAQGF8Mg8AAACFEfMAAABQ\n",
              "GDEPAAAAhRHzPewP/uAPMnr06IwZMybnnHNO1q5du9d1S5YsyfDhw3P88cdn5syZ2blzZw9PCh3b\n",
              "r4888kjGjh2bkSNH5uSTT87cuXPT2tpag2k52HX0v69JUq1W86lPfSr9+vXruQHhN3R0v/7kJz/J\n",
              "eeedl5NOOiknnXRSli1b1sOTQsf2a2tra+bMmZORI0dm9OjROf/887Nhw4YaTAvJXXfdlUqlkvvv\n",
              "v3+v5x944IGceOKJGT58eC699NK0tLT07IBdpUqPeuutt9r+vWzZsuro0aP3WPOLX/yieswxx1Rf\n",
              "e+21amtra3XKlCnVb33rWz04JXygI/t1zZo11RdffLFarVar27Ztq44fP75611139dCE8Gsd2a+/\n",
              "ctttt1VnzJhR7du3b/cPBnvRkf363nvvVT/xiU9UV6xYUa1Wq9Vdu3ZVX3/99Z4aEdp0ZL/ed999\n",
              "1bFjx1bff//9arVard58883Vyy+/vKdGhDYvvfRS9eyzz66eddZZ1fvuu2+P8++880716KOPrj73\n",
              "3HPVarVaveaaa6o33HBDD0/ZNXwy38N+81OgrVu3plKp7LFm6dKlmTp1agYNGpRKpZLZs2fnnnvu\n",
              "6cEp4QMd2a+nnXZahg4dmiQ57LDDMmbMmDQ1NfXQhPBrHdmvSfLss8/m/vvvz5e+9KUemgz21JH9\n",
              "+oMf/CBnnXVWJkyYkCTp1atXBgwY0FMjQpuO7NdKpZIdO3Zk+/btqVaraWlpyeDBg3twSvjgCpEZ\n",
              "M2bk9ttv3+efoPuP//iPnHbaaTnxxBOTJH/5l39ZbGv1rvUAB6Orrroqjz76aJLkwQcf3ON8c3Nz\n",
              "hgwZ0va4sbExzc3NPTYf/Kb97dfftHnz5ixdujQPPPBAT4wGe9jfft25c2dmzpyZJUuWpFevXj09\n",
              "HrSzv/26fv361NfX58ILL8ymTZsyevTo3HbbbYKemtjffp0yZUoeffTRDBo0KEceeWSOPfbYPPbY\n",
              "Yz09Jge5hQsXZvz48Tn99NP3uWZvrfXaa69l165d6d27rDz2yXwN3H333dm4cWP+/u//PjfeeGOt\n",
              "x4EP1dH92tLSkilTpmTu3Lk544wzenBC+LX97dcFCxbk0ksvzUknnVSD6aC9/e3XXbt25aGHHsod\n",
              "d9yRtWvX5thjj80XvvCFGkwK+9+vTz/9dH7605/mlVdeyauvvppPf/rTmT17dg0m5WD105/+NPfe\n",
              "e2++8pWv1HqUHiPma+jP/uzP8uijj+aXv/xlu+cbGhry8ssvtz1uampKQ0NDT48H7exrvybJO++8\n",
              "k8mTJ+eiiy7KnDlzajAdtLev/frYY4/l9ttvT2NjYyZMmJCWlpY0NjbmjTfeqNGk8OH/P3D++efn\n",
              "2GOPTaVSyZVXXpknn3yyRlPCB/a1X+++++62G4vW1dW1rYOesmLFijQ1NWX48OFpbGzMk08+mauv\n",
              "vjr/8i//0m7d3lrrmGOOKe5T+UTM96i33347r776atvj+++/P7/3e7+X3/3d3223btq0aVm+fHk2\n",
              "b96carWaxYsX54orrujpcTnIdXS/vvvuu5k8eXImT558UP0klANLR/frihUr8vLLL6epqSkrV65M\n",
              "nz590tTU5LJlelRH9+vnPve5PPXUU213WX7wwQdz6qmn9uis0NH9OnTo0DzyyCN5//33k3xwt/BR\n",
              "o0b16Kwc3L7whS/ktddeS1NTU5qamnLWWWflzjvv3OOKpsmTJ2fNmjV5/vnnkyTf/va3i22t8n78\n",
              "ULCtW7fm8ssvz7Zt21JXV5cBAwbkgQceSKVSyYwZMzJ16tRMnTo1Q4cOzYIFCzJ+/PgkyXnnnZdZ\n",
              "s2bVeHoONh3dr4sWLcrq1avz3nvvtf3JpMsvvzxf/vKXa/wOOJh0dL/CgaCj+7WhoSF/8zd/k3Hj\n",
              "xqWuri7HHnts7rzzzlqPz0Gmo/v1mmuuyXPPPZdTTz01hxxySAYNGpTFixfXenxIkvzt3/5tPv7x\n",
              "j2f27Nk58sgj86//+q+5+OKLs2vXrowaNSrf/e53az3ib6VSrVartR4CAAAA6DiX2QMAAEBhxDwA\n",
              "AAAURswDAABAYcQ8APBba2pqSr9+/ZIk27dvz8UXX5wRI0bk1FNPze///u9nw4YNtR0QAD6ixDwA\n",
              "0GWuvvrq/OxnP8szzzyTiy66KDNmzKj1SADwkSTmAYB2nnjiiUyYMCGnnnpqRo8enX/7t3/L008/\n",
              "nXHjxmX06NEZO3ZsHn/88T2+7rDDDstnP/vZVCqVJMlZZ52VpqamHp4eAA4O/s48ANDmf/7nf3Lx\n",
              "xRdn6dKlOeecc9La2po333wzZ5xxRr7zne9k0qRJWblyZaZNm7bfS+gXLVqUiy66qIcmB4CDi5gH\n",
              "ANo88cQTOeGEE3LOOeckSerq6rJly5bU1dVl0qRJSZIJEyZk4MCBWbduXQYPHrzX17nllluyYcOG\n",
              "PPzwwz02OwAcTMQ8ANBpv7qUfm++/vWvZ9myZXnooYdy+OGH9+BUAHDw8DvzAECbcePG5YUXXsiK\n",
              "FSuSJK2trRk4cGBaW1vz4x//OEmyatWqbN68OWPGjNnj6xcuXJh77rknP/7xj9vucg8AdL1KtVqt\n",
              "1noIAODA8eSTT+av/uqv8s4776Suri4333xzjjnmmFx77bV59913c9hhh2XhwoWZMGFCmpqaMmbM\n",
              "mLz99tvZtGlTjjvuuAwdOjRHHnlkkqS+vj7/+Z//WeN3BAAfPWIeAAAACuMyewAAACiMmAcAAIDC\n",
              "iHkAAAAojJgHAACAwoh5AAAAKIyYBwAAgMKIeQAAACiMmAcAAIDCiHkAAAAojJgHAACAwvw/Q9mc\n",
              "c/XvQk4AAAAASUVORK5CYII=\n",
              "\">\n",
              "      </div>\n",
              "      <script type=\"text/javascript\">\n",
              "        (() => {\n",
              "          const chartElement = document.getElementById(\"chart-5984edd5-800e-411d-9153-c2da2cef6825\");\n",
              "          async function getCodeForChartHandler(event) {\n",
              "            const chartCodeResponse =  await google.colab.kernel.invokeFunction(\n",
              "                'getCodeForChart', [\"chart-5984edd5-800e-411d-9153-c2da2cef6825\"], {});\n",
              "            const responseJson = chartCodeResponse.data['application/json'];\n",
              "            await google.colab.notebook.addCell(responseJson.code, 'code');\n",
              "          }\n",
              "          chartElement.onclick = getCodeForChartHandler;\n",
              "        })();\n",
              "      </script>\n",
              "      <style>\n",
              "        .colab-quickchart-chart-with-code  {\n",
              "            display: block;\n",
              "            float: left;\n",
              "            border: 1px solid transparent;\n",
              "        }\n",
              "\n",
              "        .colab-quickchart-chart-with-code:hover {\n",
              "            cursor: pointer;\n",
              "            border: 1px solid #aaa;\n",
              "        }\n",
              "      </style>"
            ]
          },
          "metadata": {}
        },
        {
          "output_type": "display_data",
          "data": {
            "text/plain": [
              "<google.colab._quickchart_helpers.SectionTitle at 0x7f36b43378b0>"
            ],
            "text/html": [
              "<h4 class=\"colab-quickchart-section-title\">Values</h4>\n",
              "<style>\n",
              "  .colab-quickchart-section-title {\n",
              "      clear: both;\n",
              "  }\n",
              "</style>"
            ]
          },
          "metadata": {}
        },
        {
          "output_type": "display_data",
          "data": {
            "text/plain": [
              "from matplotlib import pyplot as plt\n",
              "_df_8['index'].plot(kind='line', figsize=(8, 4), title='index')\n",
              "plt.gca().spines[['top', 'right']].set_visible(False)"
            ],
            "text/html": [
              "      <div class=\"colab-quickchart-chart-with-code\" id=\"chart-1f4aebfb-55c0-4f3a-b7c3-b470addf63f4\">\n",
              "        <img style=\"width: 180px;\" src=\"data:image/png;base64,iVBORw0KGgoAAAANSUhEUgAAApsAAAFuCAYAAADOJdNTAAAAOXRFWHRTb2Z0d2FyZQBNYXRwbG90\n",
              "bGliIHZlcnNpb24zLjcuMSwgaHR0cHM6Ly9tYXRwbG90bGliLm9yZy/bCgiHAAAACXBIWXMAAA9h\n",
              "AAAPYQGoP6dpAAA490lEQVR4nO3deXSUhaH+8WeSQFgT1pCQPZmJsiOyL5IwqVIV7AX1qrWSVjYV\n",
              "Ei5t7bW/ciptr3p7Ty0BLIJSLMXaIljr1h6ahF0UEEUQMTPZJmFJgJCFJfv7+2NCQirSBDKZmeT7\n",
              "OSfnmDdvhmfOC+HrTIaYDMMwBAAAALiAj7sHAAAAoP0iNgEAAOAyxCYAAABchtgEAACAyxCbAAAA\n",
              "cBliEwAAAC5DbAIAAMBliE0AAAC4DLEJAAAAlyE2AeDf+Pa3v61f/vKXN/z5kydP1rPPPtt6gwDA\n",
              "i/i5ewAAeLq///3v7p4AAF6LRzYBAADgMsQmAPwb8fHx+tnPfiZJMplMWrVqlSZNmqQePXpo2LBh\n",
              "2rNnT8O5NTU1evrppxUcHKz+/fvrmWee+drtnThxQo888ohCQ0MVFBSkhx9+WGfOnJEk7dixQ927\n",
              "d9eBAwckSYZh6J577tGMGTNkGEYb3FsAaF3EJgC00Kuvvqo//OEPKikpkdVq1Xe/+92Gj/3617/W\n",
              "5s2blZGRoYKCAvn5+enjjz9u+HhlZaWsVqsGDhyozMxMZWdny8/PT4888ogkZ9g+++yzuv/++3Xu\n",
              "3Dn98pe/1PHjx/XHP/5RJpOpze8rANwsYhMAWuiHP/yhzGaz/Pz8NG/ePDkcDhUWFkqSNmzYoB/+\n",
              "8IcaPHiw/P399eyzz6p3794Nn/v++++rvLxc//d//6fu3burR48eeuGFF5SWlqaCggJJ0o9//GON\n",
              "GTNGVqtVv/71r7V161b16tXLHXcVAG4aLxACgBYaOHBgw393795dklReXq4BAwaooKBA0dHRDR/3\n",
              "9fVVREREw/s2m02FhYVNAlSS/P395XA4FBYWJklaunSpJk2apIcfflgjR4504b0BANciNgGgFYWF\n",
              "hSk3N7fh/draWuXn5ze8HxwcrMjISGVlZX3jbZSWlmrOnDl6/PHHtXnzZr377ruaMWOGK2cDgMvw\n",
              "NDoAtKI5c+boN7/5jY4fP67Kykr94he/UHFxccPHZ82aperqai1btkylpaWSpKKiIv3lL3+R5HxB\n",
              "0Jw5c3TLLbfolVde0dq1a/XYY48pOzvbLfcHAG4WsQkAregnP/mJZs2apalTpyosLExVVVUaN25c\n",
              "w8d79uypffv2yeFwaNiwYQoICNDEiRO1a9cuSdL//u//6vPPP294QdDDDz+sRx99VLNnz9bly5fd\n",
              "dbcA4IaZDP4tDQAAALgIj2wCAADAZYhNAAAAuAyxCQAAAJchNgEAAOAyxCYAAABchtgEAACAyxCb\n",
              "AAAAcBmPjM3U1FR3TwAAAEAr8MjYzMvLc/cEAAAAtAKPjE0AAAC0D8QmAAAAXIbYBAAAgMsQmwAA\n",
              "AHAZYhMAAAAuQ2wCAADAZYhNAAAAuAyxCQAAAJdpUWwmJycrKipKJpNJn3322Teet379elksFsXG\n",
              "xmrevHmqrq6+2Z0AAADwQi2Kzfvvv1979uxRZGTkN56Tk5OjZcuWaffu3bLb7SosLNS6detueigA\n",
              "AAC8T4ti84477lBYWNh1z9myZYtmzpyp4OBgmUwmLVy4UG+88cZNjQQAAMD1VdfWuXvCNbX692w6\n",
              "HI4mj3xGRUXJ4XB84/mVlZUqKytr8lZbW9vaswAAANql0svVWpGWqYkvZKiwrMLdc77G7S8Qev75\n",
              "5xUYGNjkbf/+/e6eBQAA4NFKL1Xrt//M1OT/zdCKNJvOlFdq84F8d8/6Gr/WvsGIiAhlZWU1vJ+b\n",
              "m6uIiIhvPP+ZZ57R0qVLmxxbtmxZa88CAABoF0ouVen3e3K0YW+uyitrJElxA3oo2WrR3UND3Lzu\n",
              "61o9NmfPnq3Jkyfr2Wef1YABA/Tyyy/roYce+sbz/f395e/v3+SYr69va88CAADwaiWXqvTq7hy9\n",
              "9mGuLtRH5q3BPZVstWj6kGD5+JjcvPDaWhSbCxYs0Pvvv6/Tp0/rrrvuUs+ePWW32zV37lzNnDlT\n",
              "M2fOVExMjJYvX65JkyZJkuLj47VgwQKXjAcAAGjvzl+s0qt7svWHD/OaROaSRIvuHOy5kXmFyTAM\n",
              "w90j/tXSpUv14osvunsGAACA2xRfrNIru7O18cNcXaxyvnh6cEiAkq0W3Tl4gMdH5hWt/jQ6AAAA\n",
              "bty5C5Vatztbf9yXp0v1kTlkYIBSrBZ9a/AAmUzeEZlXEJsAAAAe4OyFSr2yK1sb9+XpcrUzMoeG\n",
              "BmiJNU7WQUFeF5lXEJsAAABudKa8Uut2ZWnTR46GyBweFqgUq0XTbvXeyLyC2AQAAHCDovIKrd2Z\n",
              "rdc/zlNFtfOn/4wI76UlVovib+nv9ZF5BbEJAADQhorKKvRyfWRW1jgjc2R4Ly1JtGhqXPuJzCuI\n",
              "TQAAgDZQWFahNTuy9MZ+R0NkjoropZTEON1h6dfuIvMKYhMAAMCFTpdWaM0Ou944kK+q+sgcHdlb\n",
              "KYkWTTa338i8gtgEAABwgVOll7VmR5b+vD9fVbXOyBwT1VtLEuM0MbZvu4/MK4hNAACAVnSy5LJ+\n",
              "t8OuzQcKGiJzbHQfLbFaNKEDReYVxCYAAEArOFFyWb/bbtfmg/mqrnX+gMbxMX2UYo3ThNi+bl7n\n",
              "PsQmAADATSg4f0kvbc/Slk8aI3NCTF+lJFo0PqbjRuYVxCYAAMANyC++pJe227XlkwLV1Dkjc5K5\n",
              "r1KscRob3cfN6zwHsQkAANACjnPOyNx6qDEyJ5v7KSXRojFRROa/IjYBAACaIe/cRa3OsOutT0+o\n",
              "tj4yp1j6aUmiRbdHEpnfhNgEAAC4jtyzF7Uqw663P2uMzKlx/ZVstej2yN5uXuf5iE0AAIBryDl7\n",
              "UasybHr70xOqb0zF39JfKVaLbosgMpuL2AQAALhK1pkLWp1h198+a4zMabcGKdlq0cjwXm7d5o2I\n",
              "TQAAAEn2ogtalWHTu4dPNkRm4iBnZA4P6+XWbd6M2AQAAB2avahcK9PtevfzkzIaInOAUqwWDQsL\n",
              "dO+4doDYBAAAHVJmYblWptv0/pFTDZF55+ABSrZaNDSUyGwtxCYAAOhQvjrtjMwPjjZG5vQhwVps\n",
              "NWvIQCKztRGbAACgQzh+uswZmUdONxz79tBgJVstGhQS4MZl7RuxCQAA2rVjJ52R+Y8vnJFpMkl3\n",
              "Dw3RYqtZtwYTma5GbAIAgHbp6IlSrUy3aduxQknOyLxnWIiSrRbFDejp5nUdB7EJAADalaMnSpWa\n",
              "btM/r4rMe4cPVPI0syxEZpsjNgEAQLtwpKBUqemZSvuySJLkY5JmjBioxdPMMgcRme5CbAIAAK92\n",
              "OL9Eqek2ZRxvjMz7RoZq0TSzYvv3cPM6EJsAAMArfZZfotS0TG3/6owkZ2R+pz4yY4hMj0FsAgAA\n",
              "r3LIcV6paTbtzHRGpq+PqSEyo/t1d/M6/CtiEwAAeIVP8oq1Is2m3bazkpyROeu2UD2VYFYUkemx\n",
              "iE0AAODRDuYWKzW9MTL9fEyaNcoZmZF9iUxPR2wCAACPtD+nWKnpmdprPyfJGZn33x6mpxLMCu/T\n",
              "zc3r0FzEJgAA8CgfZZ9TappN+7IbI/OB0eF6Mj6WyPRCxCYAAPAI+7LOKTU9Ux9lF0uSOvk2RmZY\n",
              "byLTWxGbAADAbQzD0L7sc1qRZtP+HGdkdvb10YNjwvREvFmhvbq6eSFuFrEJAADanGEY+jDL+XT5\n",
              "/tzGyPzPMeF6Ij5WA4nMdoPYBAAAbcYwDO2xn1Vqmk0H885Lkjr7+ejhMeFaGB+rkEAis70hNgEA\n",
              "gMsZhqHdtrNakZapQ44SSc7IfGRshJ6Ij9WAgC7uHQiXITYBAIDLGIahnZlnlJpu06f1kenv56NH\n",
              "xkVo4VQisyMgNgEAQKszDEM7vjqjFek2Hc4vkSR16eSj746L1II7YhREZHYYxCYAAGg1hmFo+1dF\n",
              "Sk2z6XBBqSRnZH5vfKTm3RGjoJ5EZkdDbAIAgJtmGIbSvyzSygybPq+PzK6dfPW9CZGaNyVG/Xv6\n",
              "u3kh3IXYBAAAN8wwDP3zWKFWZth09ESZJKlb58bI7NeDyOzoiE0AANBihmFo27FCpabZdOyUMzK7\n",
              "d/bVYxOjNHdytPoSmahHbAIAgGarqzO07dhppabb9eVVkTlnYpTmTolRn+6d3bwQnobYBAAA/1Zd\n",
              "naF/fHFaK9NtOn66XJLUw99PSROj9PjkaPUmMvENiE0AAPCN6uoM/f2oMzK/KnRGZk9/P31/UpR+\n",
              "MDlavboRmbi+FsemzWbTnDlzdPbsWQUGBuq1117TkCFDmpxTV1enH/3oR/rHP/4hPz8/9e3bV6+8\n",
              "8orMZnOrDQcAAK5TW2fogyOntCrDpszCC5Kknl389P1J0Xp8UrQCu3Vy80J4ixbH5oIFCzR//nwl\n",
              "JSVpy5YtSkpK0oEDB5qc884772jv3r06fPiwOnXqpF/96lf66U9/qs2bN7facAAA0Ppq6wy99/lJ\n",
              "rcqwy17UGJmPT47W9ydFK7ArkYmWaVFsFhUV6eDBg9q2bZskafbs2Vq0aJHsdnuTRy1NJpMqKytV\n",
              "UVEhPz8/lZWVKSwsrHWXAwCAVnMlMlem25R15qIkKaCLnx6fHKOkSVFEJm5Yi2IzPz9fISEh8vNz\n",
              "fprJZFJERIQcDkeT2JwxY4a2b9+u4OBg9ezZU6Ghodq5c+c1b7OyslKVlZVNjtXW1rb0fgAAgBtQ\n",
              "U1und+sfycyuj8zArp00d3K05kyKUkAXIhM3x8cVN3rw4EEdPXpUJ06c0MmTJ2W1WrVw4cJrnvv8\n",
              "888rMDCwydv+/ftdMQsAANSrqa3T1k8K9K3f7tJ//eWwss9cVK9unfTju27Rnp8kaLHVQmiiVbTo\n",
              "kc3w8HCdOnVKNTU18vPzk2EYcjgcioiIaHLexo0bNW3aNPXq1UuSNGfOHN15553XvM1nnnlGS5cu\n",
              "bXJs2bJlLZkFAACaqaa2Tm9/dlKrM2zKPXdJktS7WyfNnRKjOROj1MOff6gGratFv6OCgoI0atQo\n",
              "bdq0SUlJSdq6davCwsK+9irzmJgYffDBB/rRj36kzp0767333tPQoUOveZv+/v7y92/6UwZ8fX1b\n",
              "eDcAAMD1VNfW6a+fntBL2+3Kq4/MPt07a96UGD02IVLdiUy4SIt/Z61du1ZJSUl67rnnFBAQoA0b\n",
              "NkiS5s6dq5kzZ2rmzJl66qmn9OWXX2rEiBHq1KmTgoOD9fLLL7f6eAAAcH3VtXV661CBVm+3K7/4\n",
              "siSpb/fOmn9HjB4dT2TC9UyGYRjuHvGvli5dqhdffNHdMwAA8FpVNY2RWXDeGZn9ejRGZrfORCba\n",
              "Br/TAABoR6pq6rTlkwK9tN2uEyVXItNfC6fG6LvjItW1M9+qhrZFbAIA0A5U1tTqzYMFWrMjqyEy\n",
              "+/f018KpsXpkbASRCbchNgEA8GKVNbXafLBAa7bbdbK0QpIUdCUyx0WoSyciE+5FbAIA4IUqqmu1\n",
              "+WC+1uzI0qn6yBwQ4K8npsbqobFEJjwHsQkAgBepqK7Vn/c7tGZnlgrLnD+BLzigi55MiNWDo8OJ\n",
              "THgcYhMAAC9QUV2rN/Y79PJVkRkS2EVPxsfqwTHh8vcjMuGZiE0AADxYRXWtXv/YGZlnyp2ROTCw\n",
              "i55MMOuB0WFEJjwesQkAgAe6XFWr1z/O08s7s3X2gjMyQ3t11VMJZt1/e5g6+/m4eSHQPMQmAAAe\n",
              "5FJVjV7/yKG1u7J09kKVJCmstzMyZ48iMuF9iE0AADzApaoa/XFfntbtyta5i87IDO/TVYsSzJo1\n",
              "KkydfIlMeCdiEwAAN7pYWaON+/L0yu5sFddHZkSfblo0zaz/uC2UyITXIzYBAHCDC5U12rgvV6/s\n",
              "ytb5S9WSpMi+3bQowazvEJloR4hNAADaUHlFdcMjmSX1kRndr7sWJZh138iB8iMy0c4QmwAAtIHy\n",
              "imq9tjdXr+7JUellZ2TG9OuuxVazZgwnMtF+EZsAALhQWX1krr86Mvt3V/I0i2aMGChfH5ObFwKu\n",
              "RWwCAOACpZertWFvjn6/J0dlFTWSJHNQDy2eZta9w4lMdBzEJgAAraj0UrV+vzdHv9+bo/L6yLQE\n",
              "9VCy1aK7h4UQmehwiE0AAFpByaUq/X5PjjbszVV5pTMy4wbUR+bQEPkQmeigiE0AAG5CyaUqvbo7\n",
              "R699mKsL9ZF5a3BPJVstmj4kmMhEh0dsAgBwA85frNKre7L1hw/zmkTmkkSL7hxMZAJXEJsAALRA\n",
              "8cUqvbI7Wxs/zNXFqlpJ0uCQACVbLbpz8AAiE/gXxCYAAM1w7kKl1u3O1h/35elSfWQOGRigFKtF\n",
              "3xo8QCYTkQlcC7EJAMB1nL1QqVd2ZWvjvjxdrnZG5tDQAC2xxsk6KIjIBP4NYhMAgGs4U16pdbuy\n",
              "tOkjR0NkDg8LVIrVomm3EplAcxGbAABcpai8Qmt3Zuv1j/NUUV0nSRoR3ktLrBbF39KfyARaiNgE\n",
              "AEBSUVmFXq6PzMoaZ2SODO+lJYkWTY0jMoEbRWwCADq0wrIKrdmRpTf2Oxoic1REL6UkxukOSz8i\n",
              "E7hJxCYAoEM6XVqhNTvseuNAvqrqI3N0ZG+lJFo02UxkAq2F2AQAdCinSi9rzY4s/Xl/vqpqnZE5\n",
              "Jqq3liTGaWJsXyITaGXEJgCgQzhZclm/22HX5gMFDZE5NrqPllgtmkBkAi5DbAIA2rUTJZf1u+12\n",
              "bT6Yr+paQ5I0LrqPliTGaUJsXzevA9o/YhMA0C7lF1/S73ZkacsnjZE5IaavUhItGh9DZAJthdgE\n",
              "ALQr+cWX9NJ2u7Z8UqCaOmdkTjL3VYo1TmOj+7h5HdDxEJsAgHbBcc4ZmVsPNUbmZHM/pSRaNCaK\n",
              "yATchdgEAHi1vHMXtTrDrrc+PaHa+sicYumnJYkW3R5JZALuRmwCALxS7tmLWpVh19ufNUbm1Lj+\n",
              "SrZadHtkbzevA3AFsQkA8Co5Zy9qVYZNb396QvWNqfhb+ivFatFtEUQm4GmITQCAV8g6c0GrM+z6\n",
              "22eNkTnt1iAlWy0aGd7LrdsAfDNiEwDg0exFF7Qqw6Z3D59siMzEQc7IHB7Wy63bAPx7xCYAwCPZ\n",
              "i8q1Mt2udz8/KaMhMgcoxWrRsLBA944D0GzEJgDAo2QWlmtluk3vHznVEJl3Dh6gZKtFQ0OJTMDb\n",
              "EJsAAI/w1WlnZH5wtDEypw8J1mKrWUMGEpmAtyI2AQBudfx0mTMyj5xuOPbtocFKtlo0KCTAjcsA\n",
              "tAZiEwDgFsdOOiPzH184I9Nkku4eGqLFVrNuDSYygfaC2AQAtKmjJ0q1Mt2mbccKJTkj855hIUq2\n",
              "WhQ3oKeb1wFobcQmAKBNHD1RqtR0m/55VWTeO3ygkqeZZSEygXaL2AQAuNSRglKlpmcq7csiSZKP\n",
              "SZoxYqAWTzPLHERkAu1di2PTZrNpzpw5Onv2rAIDA/Xaa69pyJAhXzvvyJEjWrx4sQoLnf8H+z//\n",
              "8z+aNWvWzS8GAHiFw/klSk23KeN4Y2TeNzJUi6aZFdu/h5vXAWgrLY7NBQsWaP78+UpKStKWLVuU\n",
              "lJSkAwcONDnn0qVLuu+++7Rx40ZNnjxZtbW1Ki4ubrXRAADP9Vl+iVLTMrX9qzOSnJH5nfrIjCEy\n",
              "gQ6nRbFZVFSkgwcPatu2bZKk2bNna9GiRbLb7TKbzQ3n/elPf9L48eM1efJkSZKvr6/69+/firMB\n",
              "AJ7mkOO8UtNs2pnpjExfH1NDZEb36+7mdQDcpUWxmZ+fr5CQEPn5OT/NZDIpIiJCDoejSWweO3ZM\n",
              "/v7+uvfee1VQUKDhw4frN7/5zTWDs7KyUpWVlU2O1dbW3sh9AQC4wSd5xVqRZtNu21lJzsicdVuo\n",
              "nkowK4rIBDo8l7xAqKamRmlpafroo480cOBA/fSnP9UTTzyhLVu2fO3c559/XsuXL29ybPz48a6Y\n",
              "BQBoRQdzi5Wa3jQyZ49yRmZkXyITgFOLYjM8PFynTp1STU2N/Pz8ZBiGHA6HIiIimpwXERGhhIQE\n",
              "hYaGSpIeffRR3XXXXde8zWeeeUZLly5tcmzZsmUtmQUAaEP7c4qVmp6pvfZzkiQ/H5Puvz1MTyWY\n",
              "Fd6nm5vXAfA0LYrNoKAgjRo1Sps2bVJSUpK2bt2qsLCwJk+hS9KDDz6o9evXq6ysTAEBAfrggw80\n",
              "YsSIa96mv7+//P39mxzz9fVt4d0AALjaR9nnlJpm077sxsh8YHS4noyPJTIBfKMWP42+du1aJSUl\n",
              "6bnnnlNAQIA2bNggSZo7d65mzpypmTNnKiIiQj/96U81ceJE+fj4KDQ0VOvWrWv18QAA19uXdU6p\n",
              "6Zn6KNv5r4p08m2MzLDeRCaA6zMZhmG4e8S/Wrp0qV588UV3zwCADsswDO3LOqcV6Tbtz3FGZmdf\n",
              "Hz04JkxPxJsV2qurmxcC8Bb8BCEAQAPDMPRh1jmtSMvUgdzzkpyR+Z9jwvVEfKwGEpkAWojYBADI\n",
              "MAztsZ9VappNB/PqI9PPRw+PCdfC+FiFBBKZAG4MsQkAHZhhGNplO6vUtEwdcpRIckbmI2MjtHBq\n",
              "rIIDu7h3IACvR2wCQAdkGIZ2Zp7RijSbPssvkST5+/nokXHOyBwQQGQCaB3EJgB0IIZhaMdXZ7Qi\n",
              "3abD9ZHZpZOPvjsuUgvuiFEQkQmglRGbANABGIahjONFWplu0+GCUknOyPze+EjNuyNGQT2JTACu\n",
              "QWwCQDtmGIbSvyxSarpNR044I7NrJ199b0Kk5k2JUf+e/v/mFgDg5hCbANAOGYahfx4r1MoMm46e\n",
              "KJMkdevcGJn9ehCZANoGsQkA7UhdnaFtxwq1Mt2mY6caI/OxCVGaNyVafYlMAG2M2ASAdsAZmae1\n",
              "Is2m46fLJUndO/tqzsQozZ0Soz7dO7t5IYCOitgEAC9WV2foH1+c1sr0xsjs4e+npIlRenxytHoT\n",
              "mQDcjNgEAC9UV2fog6OntCrdrq8KnZHZ099PSZOckdmrG5EJwDMQmwDgRWrrDH1w5JRWpttkK7og\n",
              "SerZxU/fnxStxydFK7BbJzcvBICmiE0A8AK1dYbe+/ykVmXYZb8qMh+fHK3vT4pWYFciE4BnIjYB\n",
              "wIPV1hl69/BJrcqwKevMRUlSQBc/PT45RkmToohMAB6P2AQAD1RTW6d3Pz+pVel2ZZ91RmZg106a\n",
              "OzlacyZFKaALkQnAOxCbAOBBamrr9LfPTmr1drty6iOzV7dOmjclRo9NiFRPIhOAlyE2AcAD1NTW\n",
              "6a+fntBL2+3KPXdJktS7WyfNnRKjOROj1MOfL9cAvBNfvQDAjarrI3N1hl2OYmdk9uneWfOmxOh7\n",
              "EyKJTABej69iAOAG1bV1eutQgVZvtyu/+LIkqW/3zpp/R4weHR+p7kQmgHaCr2YA0Iaqauq09VCB\n",
              "XtpuV8F5Z2T269EYmd0682UZQPvCVzUAaANVNXXa8okzMk+UXIlMfy2cGqPvjotU186+bl4IAK5B\n",
              "bAKAC1XW1OrNgwVasyOrITL79/TXwqmxemRsBJEJoN0jNgHABSprarX5QL7W7MjSydIKSVLQlcgc\n",
              "F6EunYhMAB0DsQkAraiiulabD+brd9uzdLrMGZkDAvz1xNRYPTSWyATQ8RCbANAKKqpr9ef9Dq3Z\n",
              "maXCskpJUnBAFz2ZEKsHR4cTmQA6LGITAG5CRXWt3tjv0MtXRWZIYBc9GR+rB8eEy9+PyATQsRGb\n",
              "AHADKqpr9frHzsg8U+6MzIGBXfRkglkPjA4jMgGgHrEJAC1wuapWr3+cp5d3ZuvsBWdkhvbqqqcS\n",
              "zLr/9jB19vNx80IA8CzEJgA0w6WqGr3+kUNrd2Xp7IUqSVJYb2dkzh5FZALANyE2AeA6LlXV6I/7\n",
              "8rRuV7bOXXRGZnifrlqUYNasUWHq5EtkAsD1EJsAcA0XK2u0cV+eXtmdreL6yIzo002Lppn1H7eF\n",
              "EpkA0EzEJgBc5UJljTbuy9Uru7J1/lK1JCmybzctSjDrO0QmALQYsQkAksorqhseySypj8zoft21\n",
              "KMGs+0YOlB+RCQA3hNgE0KGVV1Trtb25enVPjkovOyMzpl93LbaaNWM4kQkAN4vYBNAhldVH5vqr\n",
              "I7N/dyVPs2jGiIHy9TG5eSEAtA/EJoAOpfRytTbszdHv9+SorKJGkhTbv7uSrRbdO5zIBIDWRmwC\n",
              "6BBKL1Vr/d4cbdibo/L6yLQE9dBiq0X3DAshMgHARYhNAO1ayaUq/X5PjjbszVV5pTMy4wb0ULLV\n",
              "oruHhsiHyAQAlyI2AbRL5y9Waf2eHL32Ya4u1EfmLQN6KiXRoulDgolMAGgjxCaAdqX4YpVe3Z2t\n",
              "P3yYq4tVtZKkW4N7KsVq0V1EJgC0OWITQLtQfLFKr+zO1sarInNwSICSrRbdOXgAkQkAbkJsAvBq\n",
              "5y5Uat3ubP1xX54u1UfmkIEBSrFa9K3BA2QyEZkA4E7EJgCvdPZCpdbtckbm5WpnZA4NDVCKNU6J\n",
              "g4KITADwEMQmAK9yprxS63ZladNHjobIHB4WqBSrRdNuJTIBwNMQmwC8QlF5hdbuzNbrH+eporpO\n",
              "kjQiLFBLEuMUf0t/IhMAPBSxCcCjFZVVaM3OLP3pY4cqa5yROTK8l1ISLYqPIzIBwNO1ODZtNpvm\n",
              "zJmjs2fPKjAwUK+99pqGDBlyzXMNw5DVatWhQ4dUUlJys1sBdCCFZRVasyNLb+xvjMxREb2Ukhin\n",
              "Oyz9iEwA8BItjs0FCxZo/vz5SkpK0pYtW5SUlKQDBw5c89zf/va3io2N1aFDh256KICO4XRphdbs\n",
              "sOuNA/mqqo/M2yN7a0miRZPNRCYAeJsWxWZRUZEOHjyobdu2SZJmz56tRYsWyW63y2w2Nzn3iy++\n",
              "0Ntvv60NGzbozTffbL3FANqlkyWXtWZHlv5yIF9Vtc7IHBPVWynWOE0y9yUyAcBLtSg28/PzFRIS\n",
              "Ij8/56eZTCZFRETI4XA0ic3q6mrNmzdP69evl6+v73Vvs7KyUpWVlU2O1dbWtmQWAC92suSyfrfD\n",
              "rs0HChoic2x0Hy2xWjQhlsgEAG/nkhcILV++XLNmzdKgQYOUm5t73XOff/55LV++vMmx8ePHu2IW\n",
              "AA9ScP6SfrcjS28ezFd1rSFJGhfdR0sS4zQhtq+b1wEAWovJMAyjuScXFRXJbDaruLhYfn5+MgxD\n",
              "ISEh2rNnT5NHNqdMmSKHwyGTyaSamhqdPHlSEREROnDggPr379/kNq/1yOayZcuUmpp6k3cNgCfK\n",
              "L3ZG5pZPGiNzQkxfpSRaND6GyASA9qZFj2wGBQVp1KhR2rRpk5KSkrR161aFhYV97fs1d+/e3fDf\n",
              "ubm5Gjly5Dc+wunv7y9/f/8mx/7dU+8AvE9+8SW9tN2uLZ8UqKbOGZmTzH2VYo3T2Og+bl4HAHCV\n",
              "Fj+NvnbtWiUlJem5555TQECANmzYIEmaO3euZs6cqZkzZ7b6SADey3HuklZvt+mtQycaInOyuZ9S\n",
              "Ei0aE0VkAkB716Kn0dvK0qVL9eKLL7p7BoCbkHfuolZn2PXWpydUWx+ZUyz9tCTRotsjiUwA6Cj4\n",
              "CUIAWlXu2YtalWHX2581RubUuP5Ktlp0e2RvN68DALQ1YhNAq8g+c0Gr6yOzvjEVf0t/pVgtui2C\n",
              "yASAjorYBHBTsuoj829XRea0W4OUbLVoZHgvt24DALgfsQnghtiLLmhVhk3vHj7ZEJmJg5yROTys\n",
              "l1u3AQA8B7EJoEVsheVamWHXe5+flNEQmQOUYrVoWFige8cBADwOsQmgWTILy7Uy3ab3j5xqiMw7\n",
              "Bw9QstWioaFEJgDg2ohNANf11WlnZH5wtDEypw8J1mKrWUMGEpkAgOsjNgFc05enyrQy3aa/Hz3d\n",
              "cOzbQ4OVbLVoUEiAG5cBALwJsQmgiWMnnZH5jy8aI/OeYSFabDXr1mAiEwDQMsQmAEnS0ROlWplu\n",
              "07ZjhZIkk0m6e1iIkqdZdEtwTzevAwB4K2IT6OCOnijVijSb0r5sjMx7hw9U8jSzLAOITADAzSE2\n",
              "gQ7qSEGpUtMzlfZlkSRnZM4cMVCLp5llDiIyAQCtg9gEOpjD+SVKTbcp47gzMn3qI3PRNIvMQT3c\n",
              "vA4A0N4Qm0AH8anjvFLTbdrx1RlJzsj8zshQLZpmVkx/IhMA4BrEJtDOHXKcV2qaTTsznZHp62Nq\n",
              "iMzoft3dvA4A0N4Rm0A79UlesVak2bTbdlaSMzL/47ZQLUowK4rIBAC0EWITaGcO5BYrNc2mPfbG\n",
              "yJw9KlRPJZgV2ZfIBAC0LWITaCf25xQrNT1Te+3nJEl+Pibdf3uYnkowK7xPNzevAwB0VMQm4OU+\n",
              "yj6n1DSb9mU3RuYDo8P0ZDyRCQBwP2IT8FL7ss5pRVqmPs4pliR18jXpgdHhejI+VmG9iUwAgGcg\n",
              "NgEvYhiGMzLTbdp/VWT+55hwPRFvVmivrm5eCABAU8Qm4AUMw9CH9Y9kHsg9L0nq7OtTH5mxGkhk\n",
              "AgA8FLEJeDDDMLTHflapaTYdzKuPTD8fPTwmXAvjYxUSSGQCADwbsQl4IMMwtMt2VqlpmTrkKJHk\n",
              "jMxHxkZo4dRYBQd2ce9AAACaidgEPIhhGNqZeUYr0mz6LL9EkuTv56NHxjkjc0AAkQkA8C7EJuAB\n",
              "DMPQjq/OaEW6TYfrI7NLJx99d1ykFtwRoyAiEwDgpYhNwI0Mw1DG8SKlptv0eUGpJGdkPjouUvOn\n",
              "xiioJ5EJAPBuxCbgBoZhKP1LZ2QeOeGMzK6dfPW9CZGaNyVG/Xv6u3khAACtg9gE2pBhGPrnsUKt\n",
              "zLDp6IkySVK3zo2R2a8HkQkAaF+ITaAN1NUZ2nasUCvTbTp2qjEyH5sQpXlTotWXyAQAtFPEJuBC\n",
              "zsg8rRVpNh0/XS5J6t7ZV3MmRmnulBj16d7ZzQsBAHAtYhNwgbo6Q//44rRWpjdGZg9/PyVNjNLj\n",
              "k6PVm8gEAHQQxCbQiurqDH1w9JRWpdv1VaEzMnv6+ylpkjMye3UjMgEAHQuxCbSC2jpDHxw5pZXp\n",
              "NtmKLkhyRub3J0fr8UnRCuzWyc0LAQBwD2ITuAm1dYbe+/ykVmXYZb8SmV389INJ0foBkQkAALEJ\n",
              "3IjaOkPvHj6pVRk2ZZ25KEkK6OKnxyfHKGlSlAK7EpkAAEjEJtAiNbV1evfzk1qVblf2WWdkBnbt\n",
              "pLmTozVnUpQCuhCZAABcjdgEmqGmtk5/++ykVm+3K6c+Mnt1q4/MiVHqSWQCAHBNxCZwHTW1dfrr\n",
              "pyf00na7cs9dkiT17tZJc6fEaM7EKPXw548QAADXw9+UwDVU10fm6gy7HMXOyOzTvbPmTYnR9yZE\n",
              "EpkAADQTf2MCV6murdNbhwq0ertd+cWXJUl9u3fWvDti9L3xkepOZAIA0CL8zQlIqqqp09ZDBXpp\n",
              "u10F552R2a9HZ82/I0aPjo9Ut878UQEA4EbwNyg6tKqaOm35xBmZJ0quRKa/Fk6N0XfHRaprZ183\n",
              "LwQAwLsRm+iQKmtq9ebBAq3ZkdUQmf17+mvBHUQmAACtidhEh1JZU6vNB/K1ZkeWTpZWSJKCevpr\n",
              "4dRYPTIuQl06EZkAALQmYhMdQkV1rTYfzNfvtmfpdJkzMgcE+OuJqbF6aCyRCQCAqxCbaNcqqmv1\n",
              "5/0OrdmZpcKySklScEAXPREfq/8cE05kAgDgYi2OTZvNpjlz5ujs2bMKDAzUa6+9piFDhjQ5JyMj\n",
              "Q//93/+tCxcuyGQy6Z577tELL7wgHx+fVhsOXE9Fda3+9LFDL+/MUlG5MzJDArvoyfhYPTgmXP5+\n",
              "RCYAAG2hxbG5YMECzZ8/X0lJSdqyZYuSkpJ04MCBJuf07t1bf/7znxUTE6OKigolJiZq48aNSkpK\n",
              "aq3dwDVVVNfq9frIPFMfmQMDu+jJBLMeGB1GZAIA0MZaFJtFRUU6ePCgtm3bJkmaPXu2Fi1aJLvd\n",
              "LrPZ3HDebbfd1vDfXbp00ciRI5Wbm9s6i4FruFxVq9c/ztPLO7N19oIzMkN7ddWTCbG6/3YiEwAA\n",
              "d2lRbObn5yskJER+fs5PM5lMioiIkMPhaBKbVzt9+rS2bNmi995775ofr6ysVGVlZZNjtbW1LZmF\n",
              "DuxSVY02fZSndbuydfZClSQprHdXPZVg1uxRYersx7duAADgTi59gVBZWZlmzJihp59+WqNHj77m\n",
              "Oc8//7yWL1/e5Nj48eNdOQvtwKWqGv1xnzMyz11sjMzF08yaNSpMnXyJTAAAPIHJMAyjuScXFRXJ\n",
              "bDaruLhYfn5+MgxDISEh2rNnz9ce2SwvL9ddd92lu+++Wz/72c++8Tav9cjmsmXLlJqa2sK7go7g\n",
              "YmWNNu7L0yu7s1VcH5kRfbppUYJZ/zEqlMgEAMDDtOiRzaCgII0aNUqbNm1SUlKStm7dqrCwsK+F\n",
              "5oULFzR9+nRNnz79uqEpSf7+/vL3929yzNeX769DUxcqa/SHD3P16u5snb9ULUmK7OuMzO/cRmQC\n",
              "AOCpWvw0+tq1a5WUlKTnnntOAQEB2rBhgyRp7ty5mjlzpmbOnKnU1FTt379fFy9e1FtvvSVJeuCB\n",
              "B/T//t//a931aPfKK6obHsksqY/MqL7dtHiaRfeNHCg/IhMAAI/WoqfR28rSpUv14osvunsG3Ki8\n",
              "olqv7c3Vq3tyVHrZGZkx/bpr0TSzZo4gMgEA8Bb8BCF4lLKKam3Yk6v1e7JVVlEjSYrp313J0yya\n",
              "MWKgfH1Mbl4IAABagtiERyi9XK0Ne3P0+z05DZEZ27+7kq0W3TucyAQAwFsRm3Cr0kvVWr83Rxv2\n",
              "5qi8PjItQT202GrRPcNCiEwAALwcsQm3KLlUpd/vydGGvbkqr3RGZtyAHkq2WnT30BD5EJkAALQL\n",
              "xCba1PmLVVq/J0evfZirC/WRecuAnkpJtGj6kGAiEwCAdobYRJsovlilV3dn6w8f5upilfPHkd4a\n",
              "3FMpVovuIjIBAGi3iE24VPHFKr2yO1sbr4rMwSEBSrZadOfgAUQmAADtHLEJlzh3oVLrdmfrj/vy\n",
              "dKk+MocMDFCK1aJvDR4gk4nIBACgIyA20arOXqjUul3OyLxc7YzMoaEBSrHGKXFQEJEJAEAHQ2yi\n",
              "VZwpr9S6XVna9JGjITKHhwUqxWrRtFuJTAAAOipiEzelqLxCa3dm6/WP81RRXSdJGhEWqCWJcYq/\n",
              "pT+RCQBAB0ds4oYUlVVozc4s/eljhyprnJE5MryXUhItio8jMgEAgBOxiRYpLKvQmh1ZemN/Y2SO\n",
              "iuillMQ43WHpR2QCAIAmiE00y+nSCq3ZYdcbB/JVVR+Zt0f21pJEiyabiUwAAHBtxCau62TJZa3Z\n",
              "kaW/HMhXVa0zMsdE9VaKNU6TzH2JTAAAcF3EJq7pRMllrdlh1+YDBQ2ROTa6j5ZYLZoQS2QCAIDm\n",
              "ITbRRMH5S/rdjiy9eTBf1bWGJGlcdB8tSYzThNi+bl4HAAC8DbEJSVJ+sTMyt3zSGJkTYvoqJdGi\n",
              "8TFEJgAAuDHEZgeXX3xJL223a8snBaqpc0bmxNi+SrFaNI7IBAAAN4nY7KAc5y5p9Xab3jp0oiEy\n",
              "J5v7KSXRojFRfdy8DgAAtBfEZgeTd+6iVmfY9danJ1RbH5lTLP20JNGi2yOJTAAA0LqIzQ4i56wz\n",
              "Mt/+rDEy74jrrxSrRbdH9nbzOgAA0F4Rm+1c9pkLDZFZ35iKv8UZmbdFEJkAAMC1iM12Kqs+Mv92\n",
              "VWROuzVIyVaLRob3cus2AADQcRCb7Yy9qFyrMux69/DJhsi01kfmCCITAAC0MWKznbAVlmtlhl3v\n",
              "fX5SRn1kJg4aoBSrRcPCAt07DgAAdFjEppfLLCzXynSb3j9yqiEy7xw8QMlWi4aGEpkAAMC9iE0v\n",
              "dfx0mVal2/XB0cbIvGuIMzKHDCQyAQCAZyA2vcyXp8q0Mt2mvx893XDs20ODlWy1aFBIgBuXAQAA\n",
              "fB2x6SWOnXRG5j++aIzMe4aFaLHVrFuDiUwAAOCZiE0Pd/REqVam27TtWKEkyWSS7h4WouRpFt0S\n",
              "3NPN6wAAAK6P2PRQR0+UakWaTWlfNkbmvcMHKnmaWZYBRCYAAPAOxKaHOVJQqtT0TKV9WSTJGZkz\n",
              "RwzU4mlmmYOITAAA4F2ITQ9xOL9Eqek2ZRx3RqZPfWQummaROaiHm9cBAADcGGLTzT51nFdquk07\n",
              "vjojyRmZ3xkZqqemmRXbn8gEAADejdh0k0OO80pNs2lnpjMyfX1M+s7IUC2aZlZ0v+5uXgcAANA6\n",
              "iM029klesVak2bTbdlaSMzL/47ZQLUowK4rIBAAA7Qyx2UYO5BYrNc2mPfbGyJw9KlRPJZgV2ZfI\n",
              "BAAA7ROx6WL7c4qVmp6pvfZzkiQ/H5Puvz1MTyWYFd6nm5vXAQAAuBax6SIfZZ9TappN+7IbI/OB\n",
              "0WF6Mp7IBAAAHQex2cr2ZZ3TirRMfZxTLEnq5GvSA6PD9WR8rMJ6E5kAAKBjITZbgWEYzshMt2n/\n",
              "VZH5n2PC9US8WaG9urp5IQAAgHsQmzfBMAzttZ9TanqmDuSelyR19vWpj8xYDSQyAQBAB0ds3gDD\n",
              "MLTHflYr0mz6JK8+Mv189PCYcC2Mj1VIIJEJAAAgEZstYhiGdtnOKjUtU4ccJZKckfnI2AgtnBqr\n",
              "4MAu7h0IAADgYYjNZjAMQzszz2hFmk2f5ZdIkvz9fPTIOGdkDgggMgEAAK6F2LwOwzC046szWpFu\n",
              "0+H6yOzSyUffHRepBXfEKIjIBAAAuC6fln6CzWbTxIkTFRcXpzFjxuiLL7645nnr16+XxWJRbGys\n",
              "5s2bp+rq6pse21YMw1D6l4W676W9+v5rB3Q4v0RdOvlo7uRo7Xo6QcvuHUxoAgAANEOLY3PBggWa\n",
              "P3++MjMz9ZOf/ERJSUlfOycnJ0fLli3T7t27ZbfbVVhYqHXr1rXGXpcyDENpxwo1c/VePf6Hg/q8\n",
              "oFRdO/lq/h0x2v30NP3s3sEK6klkAgAANFeLYrOoqEgHDx7Uo48+KkmaPXu28vPzZbfbm5y3ZcsW\n",
              "zZw5U8HBwTKZTFq4cKHeeOON1lvdygzD0LYvTmvG6j2au/GgjpwoVbfOvlowNUa7f5Kgn949SP17\n",
              "+rt7JgAAgNdp0fds5ufnKyQkRH5+zk8zmUyKiIiQw+GQ2WxuOM/hcCgyMrLh/aioKDkcjmveZmVl\n",
              "pSorK5scq62tbcmsm7Ir84xe+PtxHTtVJknq1tlXj02I0rwp0erbg8AEAAC4GW5/gdDzzz+v5cuX\n",
              "Nzk2fvz4Nvv1889f0rFTZere2VdzJkZp7pQY9eneuc1+fQAAgPasRbEZHh6uU6dOqaamRn5+fjIM\n",
              "Qw6HQxEREU3Oi4iIUFZWVsP7ubm5XzvnimeeeUZLly5tcmzZsmUtmXVTHrg9XCWXqvXI2Aj1JjIB\n",
              "AABaVYu+ZzMoKEijRo3Spk2bJElbt25VWFhYk6fQJef3cr7zzjs6ffq0DMPQyy+/rIceeuiat+nv\n",
              "76+AgIAmb76+vjd4d1qus5+PnkowE5oAAAAu0OJXo69du1Zr165VXFycXnjhBW3YsEGSNHfuXL3z\n",
              "zjuSpJiYGC1fvlyTJk2S2WxW//79tWDBgtZdDgAAAI9nMgzDcPeIf7V06VK9+OKL7p4BAACAm9Ti\n",
              "RzYBAACA5iI2AQAA4DLEJgAAAFyG2AQAAIDLEJsAAABwGWITAAAALkNsAgAAwGWITQAAALgMsQkA\n",
              "AACX8cifIDRr1ixFRUW12a9XW1ur/fv3a+zYsW36c9nROrh+3o9r6P24ht6Pa+jd3HH9IiMjlZKS\n",
              "8m/P88jYbGtlZWUKDAxUaWmpAgIC3D0HLcT1835cQ+/HNfR+XEPv5snXj6fRAQAA4DLEJgAAAFyG\n",
              "2AQAAIDLEJuS/P399fOf/1z+/v7unoIbwPXzflxD78c19H5cQ+/mydePFwgBAADAZXhkEwAAAC5D\n",
              "bAIAAMBliE0AAAC4TIeKTZvNpokTJyouLk5jxozRF198cc3z1q9fL4vFotjYWM2bN0/V1dVtvBTX\n",
              "0pzrl5GRobFjx2rw4MEaMmSInn76adXV1blhLa6luX8GJckwDE2bNk29evVqu4H4t5p7DY8cOaL4\n",
              "+HgNGjRIgwYN0ltvvdXGS3Etzbl+dXV1Wrp0qQYPHqzhw4crISFBdrvdDWtxLcnJyYqKipLJZNJn\n",
              "n332jed5VMsYHUhCQoKxYcMGwzAM48033zRGjx79tXOys7ONkJAQ49SpU0ZdXZ0xY8YMY/Xq1W28\n",
              "FNfSnOt36NAhIysryzAMw7h8+bIxadKkhs+B+zXnGl7xm9/8xpg7d64RGBjYNuPQLM25hhcvXjSi\n",
              "o6ON3bt3G4ZhGDU1NUZRUVFbzsQ3aM71++tf/2qMHTvWqKqqMgzDMH75y18aDzzwQFvOxHXs3LnT\n",
              "yM/PNyIjI41PP/30mud4Wst0mNgsLCw0evbsaVRXVxuGYRh1dXXGgAEDDJvN1uS8X//618aCBQsa\n",
              "3n///feNSZMmtelWfF1zr9+/euqpp4yf//znbbAQ/05LruHRo0eNKVOmGHa7ndj0IM29hq+88orx\n",
              "8MMPu2MirqO51+/tt982RowYYZSVlRl1dXXGj3/8Y+O//uu/3DEZ13G92PS0lukwT6Pn5+crJCRE\n",
              "fn5+kiSTyaSIiAg5HI4m5zkcDkVGRja8HxUV9bVz0Paae/2udvr0aW3ZskX33ntvW83EdTT3GlZX\n",
              "V2vevHlau3atfH193TEV36C51/DYsWPy9/fXvffeq5EjR+qxxx7TmTNn3DEZV2nu9ZsxY4bi4+MV\n",
              "HByskJAQpaen6xe/+IU7JuMGeVrLdJjYRMdSVlamGTNm6Omnn9bo0aPdPQctsHz5cs2aNUuDBg1y\n",
              "9xTcoJqaGqWlpWnt2rX69NNPFRoaqieeeMLds9BMBw8e1NGjR3XixAmdPHlSVqtVCxcudPcseLEO\n",
              "E5vh4eE6deqUampqJDlffOBwOBQREdHkvIiICOXl5TW8n5ub+7Vz0Paae/0kqby8XNOnT9d9992n\n",
              "pUuXtvVUfIPmXsOdO3dq1apVioqK0uTJk1VWVqaoqCgeGfMALfk6mpCQoNDQUJlMJj366KP66KOP\n",
              "3DEZV2nu9du4cWPDi/N8fHw0Z84cbd++3R2TcYM8rWU6TGwGBQVp1KhR2rRpkyRp69atCgsLk9ls\n",
              "bnLe7Nmz9c477+j06dMyDEMvv/yyHnroIXdMxlWae/0uXLig6dOna/r06frZz37mjqn4Bs29hrt3\n",
              "71ZeXp5yc3O1Z88eBQQEKDc3V/3793fHbFyludfwwQcf1IEDB1RWViZJ+uCDDzRixIg234ummnv9\n",
              "YmJilJGRoaqqKknSe++9p6FDh7b5Xtw4j2sZt323qBscP37cGD9+vGGxWIzbb7/d+Pzzzw3DMIzH\n",
              "H3/c+Nvf/tZw3rp164yYmBgjJibG+MEPftDwijy4V3Ou369+9SvDz8/PGDFiRMPbr371K3fOxlWa\n",
              "+2fwipycHF4g5GGaew03btxoDBkyxBg2bJgxffp0w+FwuGsyrtKc61dRUWHMnTvXuPXWW41hw4YZ\n",
              "3/rWtxr+lQ+43/z5843Q0FDD19fXCAoKMmJjYw3D8OyW4WejAwAAwGU6zNPoAAAAaHvEJgAAAFyG\n",
              "2AQAAIDLEJsAAABwGWITAAAALkNsAgAAwGWITQAAALgMsQkAAACXITYBAADgMsQmAAAAXIbYBAAA\n",
              "gMv8f+G80VqGqZAVAAAAAElFTkSuQmCC\n",
              "\">\n",
              "      </div>\n",
              "      <script type=\"text/javascript\">\n",
              "        (() => {\n",
              "          const chartElement = document.getElementById(\"chart-1f4aebfb-55c0-4f3a-b7c3-b470addf63f4\");\n",
              "          async function getCodeForChartHandler(event) {\n",
              "            const chartCodeResponse =  await google.colab.kernel.invokeFunction(\n",
              "                'getCodeForChart', [\"chart-1f4aebfb-55c0-4f3a-b7c3-b470addf63f4\"], {});\n",
              "            const responseJson = chartCodeResponse.data['application/json'];\n",
              "            await google.colab.notebook.addCell(responseJson.code, 'code');\n",
              "          }\n",
              "          chartElement.onclick = getCodeForChartHandler;\n",
              "        })();\n",
              "      </script>\n",
              "      <style>\n",
              "        .colab-quickchart-chart-with-code  {\n",
              "            display: block;\n",
              "            float: left;\n",
              "            border: 1px solid transparent;\n",
              "        }\n",
              "\n",
              "        .colab-quickchart-chart-with-code:hover {\n",
              "            cursor: pointer;\n",
              "            border: 1px solid #aaa;\n",
              "        }\n",
              "      </style>"
            ]
          },
          "metadata": {}
        },
        {
          "output_type": "display_data",
          "data": {
            "text/plain": [
              "from matplotlib import pyplot as plt\n",
              "_df_9['col1'].plot(kind='line', figsize=(8, 4), title='col1')\n",
              "plt.gca().spines[['top', 'right']].set_visible(False)"
            ],
            "text/html": [
              "      <div class=\"colab-quickchart-chart-with-code\" id=\"chart-7a24a6b4-8b8c-41fb-8ee5-53c34a5831d7\">\n",
              "        <img style=\"width: 180px;\" src=\"data:image/png;base64,iVBORw0KGgoAAAANSUhEUgAAApsAAAFuCAYAAADOJdNTAAAAOXRFWHRTb2Z0d2FyZQBNYXRwbG90\n",
              "bGliIHZlcnNpb24zLjcuMSwgaHR0cHM6Ly9tYXRwbG90bGliLm9yZy/bCgiHAAAACXBIWXMAAA9h\n",
              "AAAPYQGoP6dpAAA2a0lEQVR4nO3deXTU9aH//1cWCFsWlgDZt5nIJiCbLAGSTBRqBSyiVWurLSAI\n",
              "knC5vfyuvfX2cNtT+73nlksABVFcaK29ilRxPW0SdlFAFkGUzGQPEHayELJNPr8/JiRQARPIZGaS\n",
              "5+MczjEf3sCL85HwPJ8kjJdhGIYAAAAAJ/B29QAAAAC0X8QmAAAAnIbYBAAAgNMQmwAAAHAaYhMA\n",
              "AABOQ2wCAADAaYhNAAAAOA2xCQAAAKchNgEAAOA0xCYAtKH8/Hx5eXnJZrO5egoAtAliEwBc6Pjx\n",
              "45oxY4aioqLk5eWlV155xdWTAKBVEZsA4ELe3t6699579Ze//EXh4eGungMArY7YBIBbcPnyZf36\n",
              "179WfHy8/P39FRsbqzfeeEOS9Prrr2vIkCEKCAjQkCFDGq9fT0hIiBYuXKgJEybIx8enreYDQJvx\n",
              "dfUAAPBEc+fOVXZ2tt5//30NGDBAJ0+eVElJid59912lpqbqb3/7mxITE7VlyxY98MADCgwM1AMP\n",
              "PODq2QDQ5niyCQAtdPbsWb355pt68cUXNXDgQHl5eSk0NFQjRozQunXrNHv2bFksFvn4+CglJUWz\n",
              "Z8/W2rVrXT0bAFyC2ASAFsrLy5Mk3XHHHd/5vqKiIsXFxV1zzWQyqbCwsE22AYC7ITYBoIWio6Ml\n",
              "SdnZ2d/5voiICOXk5FxzLScnR5GRkW0xDQDcDrEJAC0UHBysRx99VAsXLtSxY8ckSSdPntT+/fs1\n",
              "Z84cvfrqq9q6davsdruysrK0fv16PfXUUzf8+aqqqlRVVSXDMFRXV6eqqirV1ta21W8HAJyK2ASA\n",
              "W/Dyyy9r8uTJ+sEPfqAePXpowoQJ+vrrr/XQQw/pj3/8oxYsWKCgoCAtWrRI6enpmjlz5g1/rq5d\n",
              "u6pr164qLCzU008/ra5du2ru3Llt+LsBAOfxMgzDcPUIAAAAtE882QQAAIDTEJsAAABwGmITAAAA\n",
              "TkNsAgAAwGmITQAAADgNsQkAAACnITYBAADgNG4Zm+np6a6eAAAAgFbglrFZUFDg6gkAAABoBW4Z\n",
              "mwAAAGgfiE0AAAA4DbEJAAAApyE2AQAA4DTEJgAAAJyG2AQAAIDTEJsAAABwGmITAAAATtOi2Kyq\n",
              "qtIDDzyg+Ph4DRs2TPfcc49sNtt1z3744YcaMGCAzGazZs6cqbKyslYZDAAAAM/R4iebTz31lI4d\n",
              "O6ZDhw5pxowZmjNnznfOVFRUaPbs2XrvvfdktVoVGhqq3/72t60yGAAAAJ6jRbHZpUsX3XffffLy\n",
              "8pIkjR07Vvn5+d8598knn+iuu+7SgAEDJEkLFizQW2+9dftrAQAAcF219npXT7iu2/qczfT0dM2Y\n",
              "MeM71wsLCxUVFdX4dnR0tE6ePKm6urrvnK2urlZZWdk13+x2++3MAgAA6DBKL9dqRUa2xv8hS6fK\n",
              "qlw95zt8b/UH/v73v5fNZlNmZuZtDXj++ee1bNmya66NHTv2tn5OAACA9q60slav7srTq7vyVF7l\n",
              "eKD39t4iLbKYXbzsWrf0ZPN//ud/tGnTJn3yySfq1q3bd74/MjJSBQUFjW/n5+crJCREvr7fbdtn\n",
              "n31WpaWl13wbM2bMrcwCAABo9y5W1mj5348p4f9lKT3TqvKqOsX366HVj92lhUkmV8/7jhY/2Vy+\n",
              "fLneeustZWRkKCgo6Lpnpk6dqoULF+rbb7/VgAED9OKLL+qRRx657lk/Pz/5+fldc83Hx6elswAA\n",
              "ANq1i5U1emVHnl7/LF8V1Y4nmQP6+yvVYtbUwf3l7e3l4oXX16LYLC4u1r/+678qNjZWSUlJkhyx\n",
              "+MUXX+g///M/FRoaqvnz58vf31+vvPKKHnjgAdXV1WnIkCF64403nPIbAAAAaM8uXKrRKztz9cZn\n",
              "BddE5uIUs+4d5L6ReYWXYRiGq0f8syVLlmj58uWungEAAOAy5y/V6OUdudrwWb4u1Ti+eHpQSIBS\n",
              "LWbdO6if20fmFbf8BUIAAABofecqqrVuR67+tLtAlQ2ROTg0QGkWs+4Z1K/xn6D0FMQmAACAGzhb\n",
              "Ua2Xt+dqw+4CXa51ROaQsAAttsTLMrCvx0XmFcQmAACAC50pr9a67Tn68+eFjZE5NDxQaRazkgd4\n",
              "bmReQWwCAAC4wOnyKr20LVdvflGgqlrHq/8MiwjSYotZiXcEe3xkXkFsAgAAtKHTZVVa2xCZ1XWO\n",
              "yBweEaTFKWZNjm8/kXkFsQkAANAGTpVVac3WHL21p7AxMkdEBiktJV6TzH3aXWReQWwCAAA4UUlp\n",
              "ldZstemtvUWqaYjMUVE9lZZiVoKp/UbmFcQmAACAE5wsvaw1W3P01z1FqrE7InN0dE8tTonX+Lje\n",
              "7T4yryA2AQAAWtGJi5f14lab3t5b3BiZY2J6abHFrHEdKDKvIDYBAABawfGLl/XiFpve3lekWrvj\n",
              "BRrHxvZSmiVe4+J6u3id6xCbAAAAt6H4QqVe2JKjjV82Rea42N5KSzFrbGzHjcwriE0AAIBbUHS+\n",
              "Ui9ssWnjl8Wqq3dE5gRTb6VZ4jUmppeL17kPYhMAAKAFCs85IvPd/U2RmWDqo7QUs0ZHE5n/jNgE\n",
              "AABohoJzl7Q6y6ZNB47L3hCZE819tDjFrJFRROaNEJsAAAA3kX/2klZl2fTewabInBwfrFSLWSOj\n",
              "erp4nfsjNgEAAK4j7+wlrcqy6r0Dx9XQmEq8I1hpFrPuiiQym4vYBAAAuErOmQqtzrLp/YNNkZk8\n",
              "oK9SLWYNjwhy6TZPRGwCAABIsp2u0Kosqz44dKIxMlMGOiJzaHiQS7d5MmITAAB0aLbT5VqZadMH\n",
              "X52Q0RiZ/ZRmMevO8EDXjmsHiE0AANAhZZ8q18pMqz46fLIxMu8d1E+pFrOGhBGZrYXYBAAAHcqx\n",
              "EkdkfnykKTKnDu6vRRaTBocSma2N2AQAAB3CtyVljsg8XNJ47QdD+ivVYtbAkAAXLmvfiE0AANCu\n",
              "HT3hiMxPv3ZEppeXdN+QEC2ymDSgP5HpbMQmAABol44cL9XKTKv+fvSUJEdk/vDOEKVazIrv5+/i\n",
              "dR0HsQkAANqVI8dLlZ5p1T+uisz7h4YqNdkkM5HZ5ohNAADQLhwuLlV6ZrYyvjktSfL2kqYNC9Wi\n",
              "ZJNMfYlMVyE2AQCARztUdFHpmVZlfdsUmTOGh+mZZJPignu4eB2ITQAA4JEOFl1Ueka2thw7I8kR\n",
              "mQ80RGYskek2iE0AAOBR9hdeUHqGVduyHZHp4+3VGJkxfbq7eB3+GbEJAAA8wpcF57Uiw6od1rOS\n",
              "HJE5864wLUwyKZrIdFvEJgAAcGv78s8rPbMpMn29vTRzhCMyo3oTme6O2AQAAG5pT955pWdma5ft\n",
              "nCRHZM4aGa6FSSZF9Orm4nVoLmITAAC4lc9zzyk9w6rduU2R+dCoCC1IjCMyPRCxCQAA3MLunHNK\n",
              "z8zW57nnJUmdfJoiM7wnkempiE0AAOAyhmFod+45rciwak+eIzI7+3jr4dHhejrRpLCgri5eiNtF\n",
              "bAIAgDZnGIY+y3F8uHxPflNk/nh0hJ5OjFMokdluEJsAAKDNGIahnbazSs+wal/BBUlSZ19vPTo6\n",
              "QvMT4xQSSGS2N8QmAABwOsMwtMN6VisysrW/8KIkR2Q+NiZSTyfGqV9AF9cOhNMQmwAAwGkMw9C2\n",
              "7DNKz7TqQENk+vl667G7IzV/MpHZERCbAACg1RmGoa3HzmhFplWHii5Kkrp08tZP7o7SvEmx6ktk\n",
              "dhjEJgAAaDWGYWjLsdNKz7DqUHGpJEdk/nRslOZOilVffyKzoyE2AQDAbTMMQ5nfnNbKLKu+aojM\n",
              "rp189NNxUZo7MVbB/n4uXghXITYBAMAtMwxD/zh6SiuzrDpyvEyS1K1zU2T26UFkdnTEJgAAaDHD\n",
              "MPT3o6eUnmHV0ZOOyOze2Uc/Gx+tOQkx6k1kogGxCQAAmq2+3tDfj5YoPdOmb66KzCfGR2vOxFj1\n",
              "6t7ZxQvhbohNAADwverrDX36dYlWZlr1bUm5JKmHn6+eHB+t2Qkx6klk4gaITQAAcEP19YY+OeKI\n",
              "zGOnHJHp7+ern0+I1i8SYhTUjcjEzbUoNlNTU7V582YVFBTowIEDGj58+HfO1NfX65e//KU+/fRT\n",
              "+fr6qnfv3nr55ZdlMplaazMAAHAye72hjw+f1Kosq7JPVUiS/Lv46ucTYjR7QowCu3Vy8UJ4ihbF\n",
              "5qxZs7R06VIlJCTc8MzmzZu1a9cuHTp0SJ06ddLvfvc7/epXv9Lbb79922MBAIBz2esNffjVCa3K\n",
              "ssl2uikyZyfE6OcTYhTYlchEy7QoNidNmvS9Z7y8vFRdXa2qqir5+vqqrKxM4eHhtzwQAAA435XI\n",
              "XJlpVc6ZS5KkgC6+mp0QqycnRBOZuGWt/jmb06ZN05YtW9S/f3/5+/srLCxM27Ztu+H56upqVVdX\n",
              "X3PNbre39iwAAHAddfZ6fdDwJDO3ITIDu3bSnIQYPTEhWgFdiEzcHu/W/gn37dunI0eO6Pjx4zpx\n",
              "4oQsFovmz59/w/PPP/+8AgMDr/m2Z8+e1p4FAACuUmev17tfFuue/92uf/m/Q8o9c0lB3Trp36bc\n",
              "oZ3/X5IWWcyEJlpFqz/Z3LBhg5KTkxUUFCRJeuKJJ3Tvvffe8Pyzzz6rJUuWXHPtueeea+1ZAABA\n",
              "jsh87+AJrc6yKv9cpSSpZ7dOmjMxVk+Mj1YPP/6hGrSuVv8/KjY2Vh9//LF++ctfqnPnzvrwww81\n",
              "ZMiQG5738/OTn9+1rzLg4+PT2rMAAOjQau31+tuB43phi00FDZHZq3tnzZ0Yq5+Ni1J3IhNO0qL/\n",
              "s+bNm6ePPvpIJSUlmjJlivz9/WWz2TRnzhxNnz5d06dP18KFC/XNN99o2LBh6tSpk/r376+1a9c6\n",
              "az8AALiJWnu9Nu0v1uotNhWdvyxJ6t29s56aFKvHxxKZcD4vwzAMV4/4Z0uWLNHy5ctdPQMAAI9V\n",
              "U9cUmcUXHJHZp0dTZHbrTGSibfB/GgAA7UhNXb02flmsF7bYdPzilcj00/zJsfrJ3VHq2plPVUPb\n",
              "IjYBAGgHquvsemdfsdZszWmMzGB/P82fHKfHxkQSmXAZYhMAAA9WXWfX2/uKtWaLTSdKqyRJfa9E\n",
              "5t2R6tKJyIRrEZsAAHigqlq73t5XpDVbc3SyITL7Bfjp6clxemQMkQn3QWwCAOBBqmrt+uueQq3Z\n",
              "lqNTZY5X4Osf0EULkuL08KgIIhNuh9gEAMADVNXa9daeQq29KjJDArtoQWKcHh4dIT9fIhPuidgE\n",
              "AMCNVdXa9eYXjsg8U+6IzNDALlqQZNJDo8KJTLg9YhMAADd0ucauN78o0NptuTpb4YjMsKCuWphk\n",
              "0qyR4ers6+3ihUDzEJsAALiRypo6vfl5oV7anqOzFTWSpPCejsh8cASRCc9DbAIA4AYqa+r0p90F\n",
              "Wrc9V+cuOSIzoldXPZNk0swR4erkQ2TCMxGbAAC40KXqOm3YXaCXd+TqfENkRvbqpmeSTfrRXWFE\n",
              "JjwesQkAgAtUVNdpw+58vbw9VxcqayVJUb276Zkkkx4gMtGOEJsAALSh8qraxieZFxsiM6ZPdz2T\n",
              "ZNKM4aHyJTLRzhCbAAC0gfKqWr2+K1+v7MxT6WVHZMb26a5FFpOmDSUy0X4RmwAAOFFZQ2Suvzoy\n",
              "g7srNdmsacNC5ePt5eKFgHMRmwAAOEHp5Vq9titPr+7MU1lVnSTJ1LeHFiWbdP9QIhMdB7EJAEAr\n",
              "Kq2s1au78vTqrjyVN0SmuW8PpVrMuu/OECITHQ6xCQBAK7hYWaNXd+bptV35Kq92RGZ8v4bIHBIi\n",
              "byITHRSxCQDAbbhYWaNXduTp9c/yVdEQmQP6+yvVYtbUwf2JTHR4xCYAALfgwqUavbIzV298VnBN\n",
              "ZC5OMeveQUQmcAWxCQBAC5y/VKOXd+Rqw2f5ulRjlyQNCglQqsWsewf1IzKBf0JsAgDQDOcqqrVu\n",
              "R67+tLtAlQ2ROTg0QGkWs+4Z1E9eXkQmcD3EJgAAN3G2olovb8/Vht0FulzriMwhYQFabImXZWBf\n",
              "IhP4HsQmAADXcaa8Wuu25+jPnxc2RubQ8EClWcxKHkBkAs1FbAIAcJXT5VV6aVuu3vyiQFW19ZKk\n",
              "YRFBWmwxK/GOYCITaCFiEwAASafLqrS2ITKr6xyROTwiSItTzJocT2QCt4rYBAB0aKfKqrRma47e\n",
              "2lPYGJkjIoOUlhKvSeY+RCZwm4hNAECHVFJapTVbbXprb5FqGiJzVFRPpaWYlWAiMoHWQmwCADqU\n",
              "k6WXtWZrjv66p0g1dkdkjo7uqcUp8Rof15vIBFoZsQkA6BBOXLysF7fa9Pbe4sbIHBPTS4stZo0j\n",
              "MgGnITYBAO3a8YuX9eIWm97eV6RauyFJujumlxanxGtcXG8XrwPaP2ITANAuFZ2v1Itbc7Txy6bI\n",
              "HBfbW2kpZo2NJTKBtkJsAgDalaLzlXphi00bvyxWXb0jMieYeivNEq8xMb1cvA7oeIhNAEC7UHjO\n",
              "EZnv7m+KzARTH6WlmDU6msgEXIXYBAB4tIJzl7Q6y6ZNB47L3hCZE819tDjFrJFRRCbgasQmAMAj\n",
              "5Z+9pFVZNr13sCkyJ8cHK9Vi1sioni5eB+AKYhMA4FHyzl7Sqiyr3jtwXA2NqcQ7gpVmMeuuSCIT\n",
              "cDfEJgDAI+ScqdDqLJveP9gUmckD+irVYtbwiCCXbgNwY8QmAMCt2U5XaFWWVR8cOtEYmSkDHZE5\n",
              "NDzIpdsAfD9iEwDglmyny7Uy06YPvjohozEy+ynNYtad4YGuHQeg2YhNAIBbyT5VrpWZVn10+GRj\n",
              "ZN47qJ9SLWYNCSMyAU9DbAIA3MKxEkdkfnykKTKnDu6vRRaTBocSmYCnIjYBAC71bUmZIzIPlzRe\n",
              "+8GQ/kq1mDUwJMCFywC0BmITAOASR084IvPTrx2R6eUl3TckRIssJg3oT2QC7QWxCQBoU0eOl2pl\n",
              "plV/P3pKkiMyf3hniFItZsX383fxOgCtjdgEALSJI8dLlZ5p1T+uisz7h4YqNdkkM5EJtFvEJgDA\n",
              "qQ4Xlyo9M1sZ35yWJHl7SdOGhWpRskmmvkQm0N55t+RwamqqoqOj5eXlpYMHD97w3OHDh5WYmKiB\n",
              "Awdq4MCB2rRp0+3uBAB4mENFF/WL1/dq2uqdyvjmtLy9pB/dFaZ/LJms9EfuIjSBDqJFTzZnzZql\n",
              "pUuXKiEh4YZnKisrNWPGDG3YsEEJCQmy2+06f/78bQ8FAHiGg0UXlZ6RrS3HzkhyPMl8YHiYnkk2\n",
              "KTa4h4vXAWhrLYrNSZMmfe+Zv/zlLxo7dmxjkPr4+Cg4OPjW1gEAPMb+wgtKz7BqW7YjMn28vRoj\n",
              "M6ZPdxevA+Aqrf45m0ePHpWfn5/uv/9+FRcXa+jQofrjH/94w+Csrq5WdXX1NdfsdntrzwIAOMmX\n",
              "Bee1IsOqHdazkhyROfOuMC1MMimayAQ6vFaPzbq6OmVkZOjzzz9XaGiofvWrX+npp5/Wxo0br3v+\n",
              "+eef17Jly665Nnbs2NaeBQBoZfvyzys989rIfHCEIzKjehOZABxaPTYjIyOVlJSksLAwSdLjjz+u\n",
              "KVOm3PD8s88+qyVLllxz7bnnnmvtWQCAVrIn77zSM7O1y3ZOkuTr7aVZI8O1MMmkiF7dXLwOgLtp\n",
              "9dh8+OGHtX79epWVlSkgIEAff/yxhg0bdsPzfn5+8vPzu+aaj49Pa88CANymz3PPKT3Dqt25TZH5\n",
              "0KgILUiMIzIB3FCLYnPevHn66KOPVFJSoilTpsjf3182m01z5szR9OnTNX36dEVGRupXv/qVxo8f\n",
              "L29vb4WFhWndunXO2g8AcLLdOeeUnpmtz3Md/7JIJ5+myAzvSWQCuDkvwzAMV4/4Z0uWLNHy5ctd\n",
              "PQMAOizDMLQ755xWZFq1J88RmZ19vPXw6HA9nWhSWFBXFy8E4Cl4BSEAQCPDMPRZzjmtyMjW3vwL\n",
              "khyR+ePREXo6MU6hRCaAFiI2AQAyDEM7bWeVnmHVvoKGyPT11qOjIzQ/MU4hgUQmgFtDbAJAB2YY\n",
              "hrZbzyo9I1v7Cy9KckTmY2MiNX9ynPoHdnHtQAAej9gEgA7IMAxtyz6jFRlWHSy6KEny8/XWY3c7\n",
              "IrNfAJEJoHUQmwDQgRiGoa3HzmhFplWHGiKzSydv/eTuKM2bFKu+RCaAVkZsAkAHYBiGsr49rZWZ\n",
              "Vh0qLpXkiMyfjo3S3Emx6utPZAJwDmITANoxwzCU+c1ppWdadfi4IzK7dvLRT8dFae7EWAX7+33P\n",
              "zwAAt4fYBIB2yDAM/ePoKa3MsurI8TJJUrfOTZHZpweRCaBtEJsA0I7U1xv6+9FTWplp1dGTTZH5\n",
              "s3HRmjsxRr2JTABtjNgEgHbAEZklWpFh1bcl5ZKk7p199MT4aM2ZGKte3Tu7eCGAjorYBAAPVl9v\n",
              "6NOvS7Qysykye/j56snx0ZqdEKOeRCYAFyM2AcAD1dcb+vjISa3KtOnYKUdk+vv56skJjsgM6kZk\n",
              "AnAPxCYAeBB7vaGPD5/UykyrrKcrJEn+XXz18wkxmj0hRoHdOrl4IQBci9gEAA9grzf04VcntCrL\n",
              "JttVkTk7IUY/nxCjwK5EJgD3RGwCgBuz1xv64NAJrcqyKufMJUlSQBdfzU6I1ZMToolMAG6P2AQA\n",
              "N1Rnr9cHX53Qqkybcs86IjOwayfNSYjRExOiFdCFyATgGYhNAHAjdfZ6vX/whFZvsSmvITKDunXS\n",
              "3Imx+tm4KPkTmQA8DLEJAG6gzl6vvx04rhe22JR/rlKS1LNbJ82ZGKsnxkerhx/vrgF4Jt57AYAL\n",
              "1TZE5uosmwrPOyKzV/fOmjsxVj8dF0VkAvB4vBcDABeotddr0/5ird5iU9H5y5Kk3t0766lJsXp8\n",
              "bJS6E5kA2gnemwFAG6qpq9e7+4v1whabii84IrNPj6bI7NaZd8sA2hfeqwFAG6ipq9fGLx2Refzi\n",
              "lcj00/zJsfrJ3VHq2tnHxQsBwDmITQBwouo6u97ZV6w1W3MaIzPY30/zJ8fpsTGRRCaAdo/YBAAn\n",
              "qK6z6+29RVqzNUcnSqskSX2vRObdkerSicgE0DEQmwDQiqpq7Xp7X5Fe3JKjkjJHZPYL8NPTk+P0\n",
              "yBgiE0DHQ2wCQCuoqrXrr3sKtWZbjk6VVUuS+gd00YKkOD08KoLIBNBhEZsAcBuqau16a0+h1l4V\n",
              "mSGBXbQgMU4Pj46Qny+RCaBjIzYB4BZU1dr15heOyDxT7ojM0MAuWpBk0kOjwolMAGhAbAJAC1yu\n",
              "sevNLwq0dluuzlY4IjMsqKsWJpk0a2S4Ovt6u3ghALgXYhMAmqGypk5vfl6ol7bn6GxFjSQpvKcj\n",
              "Mh8cQWQCwI0QmwBwE5U1dfrT7gKt256rc5cckRnRq6ueSTJp5ohwdfIhMgHgZohNALiOS9V12rC7\n",
              "QC/vyNX5hsiM7NVNzySb9KO7wohMAGgmYhMArlJRXacNu/P18vZcXaislSRF9e6mZ5JMeoDIBIAW\n",
              "IzYBQFJ5VW3jk8yLDZEZ06e7nkkyacbwUPkSmQBwS4hNAB1aeVWtXt+Vr1d25qn0siMyY/t01yKL\n",
              "SdOGEpkAcLuITQAdUllDZK6/OjKDuys12axpw0Ll4+3l4oUA0D4QmwA6lNLLtXptV55e3Zmnsqo6\n",
              "SVJccHelWsy6fyiRCQCtjdgE0CGUVtZq/a48vbYrT+UNkWnu20OLLGb98M4QIhMAnITYBNCuXays\n",
              "0as78/TarnyVVzsiM75fD6VazLpvSIi8iUwAcCpiE0C7dOFSjdbvzNPrn+WroiEy7+jnr7QUs6YO\n",
              "7k9kAkAbITYBtCvnL9XolR25euOzfF2qsUuSBvT3V5rFrClEJgC0OWITQLtw/lKNXt6Rqw1XReag\n",
              "kAClWsy6d1A/IhMAXITYBODRzlVUa92OXP1pd4EqGyJzcGiA0ixm3TOon7y8iEwAcCViE4BHOltR\n",
              "rXXbHZF5udYRmUPCApRmiVfKwL5EJgC4CWITgEc5U16tddtz9OfPCxsjc2h4oNIsZiUPIDIBwN0Q\n",
              "mwA8wunyKr20LVdvflGgqtp6SdKw8EAtTolX4h3BRCYAuCliE4BbO11WpTXbcvSXLwpVXeeIzOER\n",
              "QUpLMSsxnsgEAHfXothMTU3V5s2bVVBQoAMHDmj48OE3PGsYhiwWi/bv36+LFy/e5kwAHc2psiqt\n",
              "2Zqjt/Y0ReaIyCClpcRrkrkPkQkAHqJFsTlr1iwtXbpUCQkJ33v2f//3fxUXF6f9+/ff8jgAHU9J\n",
              "aZXWbLXprb1FqmmIzJFRPbU4xawEE5EJAJ6mRbE5adKkZp37+uuv9d577+m1117TO++8c0vDAHQs\n",
              "Jy5e1pqtOfq/vUWqsTsic3R0T6VZ4jXB1JvIBAAP1eqfs1lbW6u5c+dq/fr18vHx+d7z1dXVqq6u\n",
              "vuaa3W5v7VkA3NSJi5f14lab3t5b3BiZY2J6abHFrHFxRCYAeLpWj81ly5Zp5syZGjhwoPLz87/3\n",
              "/PPPP69ly5Zdc23s2LGtPQuAmym+UKkXt+bonX1FqrUbkqS7Y3ppcUq8xsX1dvE6AEBr8TIMw2jp\n",
              "D4qOjtZ777133S8QmjhxogoLC+Xl5aW6ujqdOHFCkZGR2rt3r4KDg79z/npPNp977jmlp6e3dBYA\n",
              "D1B03hGZG79sisxxsb2VlmLW2FgiEwDam1Z/srljx47G/87Pz9fw4cNv+oTTz89Pfn5+11xrzoff\n",
              "AXiWovOVemGLTRu/LFZdvSMyJ5h6K80SrzExvVy8DgDgLC2KzXnz5umjjz5SSUmJpkyZIn9/f9ls\n",
              "Ns2ZM0fTp0/X9OnTnbUTgIcqPFep1Vus2rT/eGNkJpj6KC3FrNHRRCYAtHe39GF0Z1uyZImWL1/u\n",
              "6hkAbkPBuUtanWXTpgPHZW+IzInmPlqcYtbIKCITADoKXkEIQKvKP3tJq7Jseu9gU2ROjg9WqsWs\n",
              "kVE9XbwOANDWiE0ArSL3TIVWN0RmQ2Mq8Y5gpVnMuiuSyASAjorYBHBbchoi8/2rIjN5QF+lWswa\n",
              "HhHk0m0AANcjNgHcEtvpCq3KsuqDQycaIzNloCMyh4YHuXQbAMB9EJsAWsR6qlwrs2z68KsTMhoj\n",
              "s5/SLGbdGR7o2nEAALdDbAJoluxT5VqZadVHh082Rua9g/op1WLWkDAiEwBwfcQmgJs6VuKIzI+P\n",
              "NEXm1MH9tchi0uBQIhMAcHPEJoDr+uZkmVZmWvXJkZLGaz8Y0l+pFrMGhgS4cBkAwJMQmwCucfSE\n",
              "IzI//bopMn94Z4gWWUwa0J/IBAC0DLEJQJJ05HipVmZa9fejpyRJXl7SfXeGKDXZrDv6+7t4HQDA\n",
              "UxGbQAd35HipVmRYlfFNU2TePzRUqckmmfsRmQCA20NsAh3U4eJSpWdmK+Ob05IckTl9WKgWJZtk\n",
              "6ktkAgBaB7EJdDCHii4qPdOqrG8dkendEJnPJJtl6tvDxesAAO0NsQl0EAcKLyg906qtx85IckTm\n",
              "A8PD9EyySbHBRCYAwDmITaCd2194QekZVm3LdkSmj7dXY2TG9Onu4nUAgPaO2ATaqS8LzmtFhlU7\n",
              "rGclOSLzR3eF6Zkkk6KJTABAGyE2gXZmb/55pWdYtdPWFJkPjgjTwiSTonoTmQCAtkVsAu3Enrzz\n",
              "Ss/M1i7bOUmSr7eXZo0M18IkkyJ6dXPxOgBAR0VsAh7u89xzSs+wanduU2Q+NCpcCxKJTACA6xGb\n",
              "gIfanXNOKzKy9UXeeUlSJx8vPTQqQgsS4xTek8gEALgHYhPwIIZhOCIz06o9V0Xmj0dH6OlEk8KC\n",
              "urp4IQAA1yI2AQ9gGIY+a3iSuTf/giSps493Q2TGKZTIBAC4KWITcGOGYWin7azSM6zaV9AQmb7e\n",
              "enR0hOYnxikkkMgEALg3YhNwQ4ZhaLv1rNIzsrW/8KIkR2Q+NiZS8yfHqX9gF9cOBACgmYhNwI0Y\n",
              "hqFt2We0IsOqg0UXJUl+vt567G5HZPYLIDIBAJ6F2ATcgGEY2nrsjFZkWnWoITK7dPLWT+6O0rxJ\n",
              "sepLZAIAPBSxCbiQYRjK+va00jOt+qq4VJIjMh+/O0pPTY5VX38iEwDg2YhNwAUMw1DmN47IPHzc\n",
              "EZldO/nop+OiNHdirIL9/Vy8EACA1kFsAm3IMAz94+gprcyy6sjxMklSt85NkdmnB5EJAGhfiE2g\n",
              "DdTXG/r70VNamWnV0ZNNkfmzcdGaOzFGvYlMAEA7RWwCTuSIzBKtyLDq25JySVL3zj56Yny05kyM\n",
              "Va/unV28EAAA5yI2ASeorzf06dclWpnZFJk9/Hz15PhozU6IUU8iEwDQQRCbQCuqrzf08ZGTWpVp\n",
              "07FTjsj09/PVkxMckRnUjcgEAHQsxCbQCuz1hj4+fFIrM62ynq6Q5IjMnyfEaPaEGAV26+TihQAA\n",
              "uAaxCdwGe72hD786oVVZNtmuRGYXX/1iQox+QWQCAEBsArfCXm/og0MntCrLqpwzlyRJAV18NTsh\n",
              "Vk9OiFZgVyITAACJ2ARapM5erw++OqFVmTblnnVEZmDXTpqTEKMnJkQroAuRCQDA1YhNoBnq7PV6\n",
              "/+AJrd5iU15DZAZ1a4jM8dHyJzIBALguYhO4iTp7vf524Lhe2GJT/rlKSVLPbp00Z2KsnhgfrR5+\n",
              "/BECAOBm+JsSuI7ahshcnWVT4XlHZPbq3llzJ8bqp+OiiEwAAJqJvzGBq9Ta67Vpf7FWb7Gp6Pxl\n",
              "SVLv7p01d1Ksfjo2St2JTAAAWoS/OQFJNXX1end/sV7YYlPxBUdk9unRWU9NitXjY6PUrTN/VAAA\n",
              "uBX8DYoOraauXhu/dETm8YtXItNP8yfH6id3R6lrZx8XLwQAwLMRm+iQquvsemdfsdZszWmMzGB/\n",
              "P82bRGQCANCaiE10KNV1dr29t0hrtuboRGmVJKmvv5/mT47TY3dHqksnIhMAgNZEbKJDqKq16+19\n",
              "RXpxS45KyhyR2S/AT09PjtMjY4hMAACchdhEu1ZVa9df9xRqzbYcnSqrliT1D+iipxPj9OPREUQm\n",
              "AABO1qLYTE1N1ebNm1VQUKADBw5o+PDh3zmTlZWlf//3f1dFRYW8vLz0wx/+UH/4wx/k7e3dWpuB\n",
              "71VVa9dfvijU2m05Ol3uiMyQwC5akBinh0dHyM+XyAQAoC20KDZnzZqlpUuXKiEh4YZnevbsqb/+\n",
              "9a+KjY1VVVWVUlJStGHDBj355JO3uxX4XlW1dr3ZEJlnGiIzNLCLFiSZ9NCocCITAIA21qLYnDRp\n",
              "0veeueuuuxr/u0uXLho+fLjy8/NbPAxoics1dr35RYHWbsvV2QpHZIYFddWCpDjNGklkAgDgKk79\n",
              "nM2SkhJt3LhRH3744Q3PVFdXq7q6+pprdrvdmbPQjlTW1OnPnxdo3fZcna2okSSF9+yqhUkmPTgi\n",
              "XJ19+fQNAABcyWmxWVZWpmnTpmnp0qUaNWrUDc89//zzWrZs2TXXxo4d66xZaCcqa+r0p92OyDx3\n",
              "qSkyFyWbNHNEuDr5EJkAALgDp8RmeXm5pk6dqhkzZmjJkiU3Pfvss89+58xzzz3njFloBy5V12nD\n",
              "7gK9vCNX5xsiM7JXNz2TZNKPRoQRmQAAuJlWj82KigpNnTpVU6dO1a9//evvPe/n5yc/P79rrvn4\n",
              "8Pl1uFZFdZ3e+Cxfr+zI1YXKWklSVG9HZD5wF5EJAIC7alFszps3Tx999JFKSko0ZcoU+fv7y2az\n",
              "ac6cOZo+fbqmT5+u9PR07dmzR5cuXdKmTZskSQ899JD+4z/+wym/AbRv5VW1jU8yLzZEZnTvblqU\n",
              "bNaM4aHyJTIBAHBrXoZhGK4e8c+WLFmi5cuXu3oGXKi8qlav78rXKzvzVHrZEZmxfbrrmWSTpg8j\n",
              "MgEA8BS8ghDcSllVrV7bma/1O3NVVlUnSYoN7q7UZLOmDQuVj7eXixcCAICWIDbhFkov1+q1XXl6\n",
              "dWdeY2TGBXdXqsWs+4cSmQAAeCpiEy5VWlmr9bvy9NquPJU3RKa5bw8tspj1wztDiEwAADwcsQmX\n",
              "uFhZo1d35um1Xfkqr3ZEZny/Hkq1mHXfkBB5E5kAALQLxCba1IVLNVq/M0+vf5aviobIvKOfv9JS\n",
              "zJo6uD+RCQBAO0Nsok2cv1SjV3bk6o3P8nWpxvFypAP6+yvNYtYUIhMAgHaL2IRTnb9Uo5d35GrD\n",
              "VZE5KCRAqRaz7h3Uj8gEAKCdIzbhFOcqqrVuR67+tLtAlQ2ROTg0QGkWs+4Z1E9eXkQmAAAdAbGJ\n",
              "VnW2olrrtjsi83KtIzKHhAUozRKvlIF9iUwAADoYYhOt4kx5tdZtz9GfPy9sjMyh4YFKs5iVPIDI\n",
              "BACgoyI2cVtOl1fppW25evOLAlXV1kuShoUHanFKvBLvCCYyAQDo4IhN3JLTZVVasy1Hf/miUNV1\n",
              "jsgcHhGktBSzEuOJTAAA4EBsokVOlVVpzdYcvbWnKTJHRAYpLSVek8x9iEwAAHANYhPNUlJapTVb\n",
              "bXprb5FqGiJzZFRPLU4xK8FEZAIAgOsjNnFTJy5e1pqtOfq/vUWqsTsic3R0T6VZ4jXB1JvIBAAA\n",
              "N0Vs4rqOX7ysNVttentvcWNkjonppcUWs8bFEZkAAKB5iE1co/hCpV7cmqN39hWp1m5Iku6O6aXF\n",
              "KfEaF9fbxesAAICnITYhSSo674jMjV82Rea42N5KSzFrbCyRCQAAbg2x2cEVna/UC1ts2vhlserq\n",
              "HZE5Pq630ixm3U1kAgCA20RsdlCF5yq1eotVm/Yfb4zMBFMfpaWYNTq6l4vXAQCA9oLY7GAKzl3S\n",
              "6iybNh04LntDZE4099HiFLNGRhGZAACgdRGbHUTeWUdkvnewKTInxQcrzWLWyKieLl4HAADaK2Kz\n",
              "ncs9U9EYmQ2NqcQ7HJF5VySRCQAAnIvYbKdyGiLz/asiM3lAX6VazBoeEeTSbQAAoOMgNtsZ2+ly\n",
              "rcqy6YNDJxoj09IQmcOITAAA0MaIzXbCeqpcK7Ns+vCrEzIaIjNlYD+lWcy6MzzQteMAAECHRWx6\n",
              "uOxT5VqZadVHh082Rua9g/op1WLWkDAiEwAAuBax6aG+LSnTqkybPj7SFJlTBjsic3AokQkAANwD\n",
              "selhvjlZppWZVn1ypKTx2g+G9FeqxayBIQEuXAYAAPBdxKaHOHrCEZmfft0UmT+8M0SLLCYN6E9k\n",
              "AgAA90Rsurkjx0u1MtOqvx89JUny8pLuuzNEqclm3dHf38XrAAAAbo7YdFNHjpdqRYZVGd80Reb9\n",
              "Q0OVmmySuR+RCQAAPAOx6WYOF5cqPTNbGd+cluSIzOnDQrUo2SRTXyITAAB4FmLTTRwquqj0TKuy\n",
              "vnVEpndDZD6TbJapbw8XrwMAALg1xKaLHSi8oPRMq7YeOyPJEZkPDA/TwmST4oKJTAAA4NmITRfZ\n",
              "X3hB6RlWbct2RKaPt5ceGB6mZ5JNiunT3cXrAAAAWgex2ca+LDivFRlW7bCeleSIzB/dFaZnkkyK\n",
              "JjIBAEA7Q2y2kb3555WeYdVOW1NkPjgiTAuTTIrqTWQCAID2idh0sj1555Wema1dtnOSJF9vL80a\n",
              "Ga6FSSZF9Orm4nUAAADORWw6yee555SeYdXu3KbIfGhUuBYkEpkAAKDjIDZb2e6cc1qRka0v8s5L\n",
              "kjr5eOmhURFakBin8J5EJgAA6FiIzVZgGIYjMjOt2nNVZP54dISeTjQpLKirixcCAAC4BrF5GwzD\n",
              "0C7bOaVnZmtv/gVJUmcf74bIjFMokQkAADo4YvMWGIahnbazWpFh1ZcFDZHp661HR0dofmKcQgKJ\n",
              "TAAAAInYbBHDMLTdelbpGdnaX3hRkiMyHxsTqfmT49Q/sItrBwIAALgZYrMZDMPQtuwzWpFh1cGi\n",
              "i5IkP19vPXa3IzL7BRCZAAAA10Ns3oRhGNp67IxWZFp1qCEyu3Ty1k/ujtK8SbHqS2QCAADclHdL\n",
              "Dqempio6OlpeXl46ePDgDc+tX79eZrNZcXFxmjt3rmpra293Z5syDEOZ35zSjBd26eev79Whoovq\n",
              "0slbcxJitH1pkp67fxChCQAA0Awtis1Zs2Zp586dioqKuuGZvLw8Pffcc9qxY4dsNptOnTqldevW\n",
              "3fbQtmAYhjKOntL01bs0+419+qq4VF07+eipSbHasTRZv75/kPr6E5kAAADN1aIPo0+aNOl7z2zc\n",
              "uFHTp09X//79JUnz58/X73//ey1cuPDWFrYBwzD0j6OntDLLqiPHyyRJ3Tr76KfjojR3Yqz69PBz\n",
              "8UIAAADP1Oqfs1lYWHjNk8/o6GgVFhbe8Hx1dbWqq6uvuWa321t71g1tzz6jP3zyrY6ebIrMn42L\n",
              "1tyJMepNZAIAANwWl3+B0PPPP69ly5Zdc23s2LFt9usXXajU0ZNl6t7ZR0+Mj9acibHq1b1zm/36\n",
              "AAAA7Vmrx2ZkZKRycnIa387Pz1dkZOQNzz/77LNasmTJNdeee+651p51Qw+NjNDFylo9NiZSPYlM\n",
              "AACAVtWiLxBqjgcffFCbN29WSUmJDMPQ2rVr9cgjj9zwvJ+fnwICAq755uPj09qzbqizr7cWJpkI\n",
              "TQAAACdoUWzOmzdP4eHhKi4u1pQpU2QymSRJc+bM0ebNmyVJsbGxWrZsmSZMmCCTyaTg4GDNmzev\n",
              "9ZcDAADA7XkZhmG4esQ/W7JkiZYvX+7qGQAAALhNrf5hdAAAAOAKYhMAAABOQ2wCAADAaYhNAAAA\n",
              "OA2xCQAAAKchNgEAAOA0xCYAAACchtgEAACA0xCbAAAAcBq3fAWhmTNnKjo6us1+Pbvdrj179mjM\n",
              "mDFt+rrsaB3cP8/HPfR83EPPxz30bK64f1FRUUpLS/vec24Zm22trKxMgYGBKi0tVUBAgKvnoIW4\n",
              "f56Pe+j5uIeej3vo2dz5/vFhdAAAADgNsQkAAACnITYBAADgNMSmJD8/P/3mN7+Rn5+fq6fgFnD/\n",
              "PB/30PNxDz0f99CzufP94wuEAAAA4DQ82QQAAIDTEJsAAABwGmITAAAATtOhYtNqtWr8+PGKj4/X\n",
              "6NGj9fXXX1/33Pr162U2mxUXF6e5c+eqtra2jZfieppz/7KysjRmzBgNGjRIgwcP1tKlS1VfX++C\n",
              "tbie5v4ZlCTDMJScnKygoKC2G4jv1dx7ePjwYSUmJmrgwIEaOHCgNm3a1MZLcT3NuX/19fVasmSJ\n",
              "Bg0apKFDhyopKUk2m80Fa3E9qampio6OlpeXlw4ePHjDc27VMkYHkpSUZLz22muGYRjGO++8Y4wa\n",
              "Neo7Z3Jzc42QkBDj5MmTRn19vTFt2jRj9erVbbwU19Oc+7d//34jJyfHMAzDuHz5sjFhwoTGHwPX\n",
              "a849vOKPf/yjMWfOHCMwMLBtxqFZmnMPL126ZMTExBg7duwwDMMw6urqjNOnT7flTNxAc+7f3/72\n",
              "N2PMmDFGTU2NYRiG8dvf/tZ46KGH2nImbmLbtm1GUVGRERUVZRw4cOC6Z9ytZTpMbJ46dcrw9/c3\n",
              "amtrDcMwjPr6eqNfv36G1Wq95tx///d/G/PmzWt8+6OPPjImTJjQplvxXc29f/9s4cKFxm9+85s2\n",
              "WIjv05J7eOTIEWPixImGzWYjNt1Ic+/hyy+/bDz66KOumIibaO79e++994xhw4YZZWVlRn19vfFv\n",
              "//Zvxr/8y7+4YjJu4max6W4t02E+jF5UVKSQkBD5+vpKkry8vBQZGanCwsJrzhUWFioqKqrx7ejo\n",
              "6O+cQdtr7v27WklJiTZu3Kj777+/rWbiJpp7D2trazV37ly99NJL8vHxccVU3EBz7+HRo0fl5+en\n",
              "+++/X8OHD9fPfvYznTlzxhWTcZXm3r9p06YpMTFR/fv3V0hIiDIzM/Vf//VfrpiMW+RuLdNhYhMd\n",
              "S1lZmaZNm6alS5dq1KhRrp6DFli2bJlmzpypgQMHunoKblFdXZ0yMjL00ksv6cCBAwoLC9PTTz/t\n",
              "6llopn379unIkSM6fvy4Tpw4IYvFovnz57t6FjxYh4nNiIgInTx5UnV1dZIcX3xQWFioyMjIa85F\n",
              "RkaqoKCg8e38/PzvnEHba+79k6Ty8nJNnTpVM2bM0JIlS9p6Km6gufdw27ZtWrVqlaKjo5WQkKCy\n",
              "sjJFR0fzZMwNtOT9aFJSksLCwuTl5aXHH39cn3/+uSsm4yrNvX8bNmxo/OI8b29vPfHEE9qyZYsr\n",
              "JuMWuVvLdJjY7Nu3r0aMGKE///nPkqR3331X4eHhMplM15x78MEHtXnzZpWUlMgwDK1du1aPPPKI\n",
              "KybjKs29fxUVFZo6daqmTp2qX//6166Yihto7j3csWOHCgoKlJ+fr507dyogIED5+fkKDg52xWxc\n",
              "pbn38OGHH9bevXtVVlYmSfr44481bNiwNt+LazX3/sXGxiorK0s1NTWSpA8//FBDhgxp8724dW7X\n",
              "Mi77bFEX+Pbbb42xY8caZrPZGDlypPHVV18ZhmEYs2fPNt5///3Gc+vWrTNiY2ON2NhY4xe/+EXj\n",
              "V+TBtZpz/373u98Zvr6+xrBhwxq//e53v3PlbFyluX8Gr8jLy+MLhNxMc+/hhg0bjMGDBxt33nmn\n",
              "MXXqVKOwsNBVk3GV5ty/qqoqY86cOcaAAQOMO++807jnnnsa/5UPuN5TTz1lhIWFGT4+Pkbfvn2N\n",
              "uLg4wzDcu2V4bXQAAAA4TYf5MDoAAADaHrEJAAAApyE2AQAA4DTEJgAAAJyG2AQAAIDTEJsAAABw\n",
              "GmITAAAATkNsAgAAwGmITQAAADgNsQkAAACnITYBAADgNP8/DDnZ1MWZV6cAAAAASUVORK5CYII=\n",
              "\">\n",
              "      </div>\n",
              "      <script type=\"text/javascript\">\n",
              "        (() => {\n",
              "          const chartElement = document.getElementById(\"chart-7a24a6b4-8b8c-41fb-8ee5-53c34a5831d7\");\n",
              "          async function getCodeForChartHandler(event) {\n",
              "            const chartCodeResponse =  await google.colab.kernel.invokeFunction(\n",
              "                'getCodeForChart', [\"chart-7a24a6b4-8b8c-41fb-8ee5-53c34a5831d7\"], {});\n",
              "            const responseJson = chartCodeResponse.data['application/json'];\n",
              "            await google.colab.notebook.addCell(responseJson.code, 'code');\n",
              "          }\n",
              "          chartElement.onclick = getCodeForChartHandler;\n",
              "        })();\n",
              "      </script>\n",
              "      <style>\n",
              "        .colab-quickchart-chart-with-code  {\n",
              "            display: block;\n",
              "            float: left;\n",
              "            border: 1px solid transparent;\n",
              "        }\n",
              "\n",
              "        .colab-quickchart-chart-with-code:hover {\n",
              "            cursor: pointer;\n",
              "            border: 1px solid #aaa;\n",
              "        }\n",
              "      </style>"
            ]
          },
          "metadata": {}
        },
        {
          "output_type": "display_data",
          "data": {
            "text/plain": [
              "from matplotlib import pyplot as plt\n",
              "_df_10['col2'].plot(kind='line', figsize=(8, 4), title='col2')\n",
              "plt.gca().spines[['top', 'right']].set_visible(False)"
            ],
            "text/html": [
              "      <div class=\"colab-quickchart-chart-with-code\" id=\"chart-0b5495bb-5eaf-48d6-8be1-db8299835516\">\n",
              "        <img style=\"width: 180px;\" src=\"data:image/png;base64,iVBORw0KGgoAAAANSUhEUgAAApsAAAFuCAYAAADOJdNTAAAAOXRFWHRTb2Z0d2FyZQBNYXRwbG90\n",
              "bGliIHZlcnNpb24zLjcuMSwgaHR0cHM6Ly9tYXRwbG90bGliLm9yZy/bCgiHAAAACXBIWXMAAA9h\n",
              "AAAPYQGoP6dpAAA4WUlEQVR4nO3deXTU9b3/8dckgbBlISEsScg6g2yyyCKrhEyK1Cp6sdhqW6QV\n",
              "FFkSLre33nrrr+XWe/Xc01ISVBREhWptEQUrpZ42C6soIIosSiZ7AoQ9G9mT7++PCQm5BExCJpNJ\n",
              "no9zco75zme+ec/5QPL0OxPGZBiGIQAAAMAB3Jw9AAAAADovYhMAAAAOQ2wCAADAYYhNAAAAOAyx\n",
              "CQAAAIchNgEAAOAwxCYAAAAchtgEAACAwxCbAAAAcBhiEwDaUVZWlkwmk9LS0pw9CgC0C2ITAJxo\n",
              "586diomJUUBAgHx9fTVx4kR99NFHzh4LANoMsQkATnTlyhU9/fTTSk1N1aVLl/Rv//Zvmjdvng4f\n",
              "Puzs0QCgTRCbANAKZWVl+tWvfqUhQ4bIy8tLERER2rRpkyTprbfe0siRI+Xt7a2RI0fWH2/Kj370\n",
              "Iz388MPq27ev3N3d9YMf/EBDhw7V3r172+uhAIBDeTh7AABwRYsWLVJqaqo+/PBDDR06VGfPnlV+\n",
              "fr7ef/99xcbGatu2bYqKilJKSooeeugh+fj46KGHHvrW8+bk5OjUqVMaO3as4x8EALQDk2EYhrOH\n",
              "AABXcvHiRQUEBOjQoUMaP358o9vuvfdeDR8+XH/4wx/qj8XFxenUqVP6+OOPlZWVpfDwcNlsNpnN\n",
              "5kb3LSwsVHR0tIYNG6a33367XR4LADgaT6MDQAtlZmZKku64444bbsvNzVVkZGSjY2azWTk5Obc8\n",
              "54ULFxQdHa077rhDb731VpvNCgDORmwCQAuFhYVJklJTU2+4bfDgwUpPT290LD09XSEhITc9X25u\n",
              "rqZPn65x48bp7bfflocHr3AC0HkQmwDQQgEBAXr00Ue1dOlSnTp1SpJ09uxZHTlyRAsXLtQbb7yh\n",
              "Xbt2qaamRsnJydq4caOefPLJJs916tQpTZ06Vffdd5/Wr18vNze+LQPoXPiuBgCtsGHDBs2YMUPf\n",
              "/e531adPH02dOlUnTpzQvHnz9Pvf/15LliyRr6+vli9frvj4eM2dO7fJ87z44ovKzc3V+vXr1adP\n",
              "n/qPxYsXt/MjAgDH4BeEAAAA4DBc2QQAAIDDEJsAAABwGGITAAAADkNsAgAAwGGITQAAADgMsQkA\n",
              "AACHITYBAADgMB0yNuPj4509AgAAANpAh4zN7OxsZ48AAACANtAhYxMAAACdA7EJAAAAhyE2AQAA\n",
              "4DDEJgAAAByG2AQAAIDDEJsAAABwGGITAAAADkNsAgAAwGFaHZtvvvmmTCaTtm/f3uTtO3bs0NCh\n",
              "Q2WxWDR37lwVFRW19ksBAADARbUqNrOysrRhwwZNmjSpydtLSkr0xBNPaPv27bLZbAoMDNRvf/vb\n",
              "2xoUAAAArqfFsVlbW6uFCxdq7dq18vT0bHLN3//+d40dO1ZDhw6VJC1ZskTvvvvu7U0KAACAm6qq\n",
              "qXX2CE1qcWyuXr1aU6dO1bhx4266JicnR6GhofWfh4WF6ezZs6qurr5hbUVFhYqKihp91NTUtHQs\n",
              "AACALqmwrEprElM15cVknSsqd/Y4N/BoyeLjx4/r/fff1549e9psgBdeeEGrVq1qdOxmT88DAADA\n",
              "rrC0Sm/sz9Qb+zNVXG6/oLflUK6WWy1OnqyxFsXm3r17lZWVJYvF/iDy8/P15JNP6uzZs3r66afr\n",
              "14WEhOif//xn/edZWVkaNGiQPDxu/HK//OUvtXLlykbHnnvuuRY9CAAAgK6ioLRSb+zL1Jv7s1Rc\n",
              "YY/MIQP6KNZq0X0jBzl5uhuZDMMwWnvnqKgorVixQg899FCj48XFxYqMjNSePXs0dOhQLVu2TD16\n",
              "9NDvfve7Zp135cqVWr16dWvHAgAA6HQKSiv1+t5MvfVJlkrqInPoQC/FWi2aPWKg3NxMTp6waS26\n",
              "snkr/+///T8FBgZq8eLF8vLy0uuvv66HHnpI1dXVGjlypDZt2tRWXwoAAKDLuHK1Uq/vy9CmT7Ib\n",
              "ReaKGItmDe+4kXnNbV3ZdBSubAIAgK7u8tVKbdiboc2fZOlqpf2Xp4cP8las1aJZwwd0+Mi8ps2u\n",
              "bAIAAOD2XSqp0Pq9GfrjgWyV1kXmiEBvxVkt+s7wATKZXCMyryE2AQAAOoCLJRXasCdDmw9kq6zK\n",
              "Hpkjg7y1wjpE1mH9XS4yryE2AQAAnOhCcYXW70nX25/m1EfmqGAfxVktih7qupF5DbEJAADgBOeL\n",
              "y/Xa7gy981m2yqvs7/4zerCvVlgtirojwOUj8xpiEwAAoB2dLyrXq3WRWVFtj8wxg321IsaiGUM6\n",
              "T2ReQ2wCAAC0g3NF5Vq3K13vHsypj8y7QnwVFzNE91j6dbrIvIbYBAAAcKD8wnKt25Wmdw/lqrIu\n",
              "MseH9lVcjEXTzJ03Mq8hNgEAABzgbGGZ1u1K158P5qqyxh6ZE8L6akXMEE2J9O/0kXkNsQkAANCG\n",
              "zhSU6ZVdadpyKK8+MieG+2mF1aLJXSgyryE2AQAA2sDpgjK9kpKmLYdzVVVjf4PGSRF+irMO0eRI\n",
              "fydP5zzEJgAAwG3Iu1Kql1PStfXzhsicHOGvuBiLJkV03ci8htgEAABohdzLpXo5JU1bP89Tda09\n",
              "Mqea/RVnHaKJ4X5Onq7jIDYBAABaIOeSPTLfP9IQmdPM/RQXY9GEMCLz/yI2AQAAmiH70lW9lJym\n",
              "D744rZq6yJxu6acVMRaNCyUyb4bYBAAAuIWsi1e1NjlN279siMwZQwIUa7VoXGhfJ0/X8RGbAAAA\n",
              "Tci8eFVrk23a/sVp1TWmou4IUJzVorEhRGZzEZsAAADXSb9QopeS0/Thlw2RGT20v2KtFo0Z7OvU\n",
              "2VwRsQkAACAp7XyJ1ibb9NHRM/WRGTPMHpmjgn2dOpsrIzYBAECXlna+WAlJafroqzMy6iNzgOKs\n",
              "Ft0Z7OPc4ToBYhMAAHRJqeeKlZBk09+Ona2PzFnDByjWatHIICKzrRCbAACgSzmVb4/MnccbInP2\n",
              "iIFabjVrRCCR2daITQAA0CV8k19kj8xj+fXHvjtyoGKtFg0b5O3EyTo3YhMAAHRqJ8/YI/PjE/bI\n",
              "NJmk+0YO0nKrWUMHEpmORmwCAIBO6fjpQiUk2fSPk+ck2SPze3cOUqzVoiEDvJw8XddBbAIAgE7l\n",
              "+OlCxSfZ9M/rIvP+UYGKjTbLQmS2O2ITAAB0CsfyChWflKrEr89LktxM0gOjA7U82ixzfyLTWYhN\n",
              "AADg0o7mFig+yabkbxoi88ExQVoWbVZkQB8nTwdiEwAAuKQvcwsUn5iqlFMXJNkj86G6yIwgMjsM\n",
              "YhMAALiUIzlXFJ9o0+5Ue2S6u5nqIzO8X28nT4f/i9gEAAAu4fPsy1qTaNNe20VJ9sicOzZIS2ea\n",
              "FUZkdljEJgAA6NAOZ11WfFJDZHq4mTT3LntkhvoTmR0dsQkAADqkg5mXFZ+Uqv1plyTZI/P744K1\n",
              "dKZZg/16OXk6NBexCQAAOpRPMy4pPtGmAxkNkTlv/GAtiYokMl0QsQkAADqEA+mXFJ+Uqk8zLkuS\n",
              "urk3RGZwXyLTVRGbAADAaQzD0IGMS1qTaNPBTHtkdnd30yMTgvV0lFlBvj2dPCFuF7EJAADanWEY\n",
              "+iTd/nT5wayGyPzBhMF6OipSgURmp0FsAgCAdmMYhvalXVR8ok2Hs69Ikrp7uOnRCYO1OCpSg3yI\n",
              "zM6G2AQAAA5nGIb22i5qTWKqjuQUSLJH5mMTQ/R0VKQGePdw7oBwGGITAAA4jGEY2p16QfFJNn1R\n",
              "F5meHm567O4QLZ5BZHYFxCYAAGhzhmFo16kLWpNk09HcAklSj25u+tHdoXrqngj1JzK7DGITAAC0\n",
              "GcMwlHLqvOITbTqaVyjJHpk/mRSqRfdEqL8XkdnVEJsAAOC2GYahpK/PKyHZpq/qIrNnN3f9ZHKo\n",
              "Fk2PUICXp5MnhLMQmwAAoNUMw9A/T55TQrJNx08XSZJ6dW+IzH59iMyujtgEAAAtZhiG/nHynOIT\n",
              "bTp51h6Zvbu7a/6UMC2cFi5/IhN1iE0AANBstbWG/nEyX/FJafr6ush8fEqYFk6PkF/v7k6eEB0N\n",
              "sQkAAL5Vba2hj0/kKyHJpm/yiyVJfTw9tGBKmJ6YFq6+RCZugtgEAAA3VVtr6O/H7ZF56pw9Mr08\n",
              "PfTTqWH62bRw+fYiMnFrLY7NWbNmKT8/X25ubvLy8lJCQoLGjh3baE1tba1+/vOf6+OPP5aHh4f8\n",
              "/f21YcMGmc3mNhscAAA4Tk2toZ3Hzmptsk2p50okSV49PPTTqeF6Ymq4fHp1c/KEcBUtjs0tW7bI\n",
              "19dXkrRt2zYtWLBAR48ebbTmr3/9q/bv36+jR4+qW7duev755/Xss89qy5YtbTI0AABwjJpaQzu+\n",
              "OqO1yWlKO98QmU9MC9dPp4bLpyeRiZZpcWxeC01JKiwslMlkumGNyWRSRUWFysvL5eHhoaKiIgUH\n",
              "B9/WoAAAwHGuRWZCkk3pF65Kkrx7eOiJaRFaMDWMyESrteo1m/Pnz1dKSookaefOnTfc/sADDygl\n",
              "JUUDBw6Ul5eXgoKCtHv37ibPVVFRoYqKikbHampqWjMWAABooeqaWn1UdyUzoy4yfXp208Jp4Xp8\n",
              "api8exCZuD1urbnT5s2blZubq+eff17PPPPMDbcfPnxYx48f1+nTp3XmzBlZrVYtXry4yXO98MIL\n",
              "8vHxafRx8ODB1owFAACaqbqmVu9/nqfv/GGP/vUvR5Vx4ap8e3XTv997h/Y9M1PLrRZCE23CZBiG\n",
              "cTsn6Nmzp/Ly8uTv719/bNmyZQoMDNSzzz4rSTpx4oRmzZql06dP33D/pq5sPvfcc4qPj7+dsQAA\n",
              "QBOqa2q1/cszeinZpqxLpZKkvr26aeH0CD0+JUx9PPmHatC2WvQnqqCgQKWlpQoMDJQkbd++Xf7+\n",
              "/vLz82u0LiIiQjt37tTPf/5zde/eXTt27NDIkSObPKenp6c8PRu/y4C7u3tLxgIAAN+iqqZW2744\n",
              "rZdT0pRdF5l+vbtr0fQIzZ8cqt5EJhykRX+yCgsLNW/ePJWVlcnNzU0BAQHasWOHTCaTFi5cqDlz\n",
              "5mjOnDlaunSpvv76a40ePVrdunXTwIED9eqrrzrqMQAAgJuoqqnVB0fy9FJKmnIvl0mS/Ht315P3\n",
              "ROjHk4hMON5tP43uCCtXrtTq1audPQYAAC6rsrohMvOu2COzX5+GyOzVnchE++BPGgAAnUhlda22\n",
              "fp6nl1PSdLrgWmR6avGMCP3o7lD17M5L1dC+iE0AADqBiuoavXc4T+t2pddHZoCXpxbPiNRjE0OI\n",
              "TDgNsQkAgAurqK7RlsN5WpeSpjOF5ZKk/tci8+4Q9ehGZMK5iE0AAFxQeVWNthzO1bpd6TpbF5kD\n",
              "vD319IxI/XAikYmOg9gEAMCFlFfV6M8Hc7Rud7rOFdn/neqB3j20ZGakHhk/mMhEh0NsAgDgAsqr\n",
              "avTuwRy9el1kDvLpoSVRkXpkwmB5ehCZ6JiITQAAOrDyqhq985k9Mi8U2yMz0KeHlsw0a974YCIT\n",
              "HR6xCQBAB1RWWaN3PsvWq7szdLHEHplBvj21dKZZ3x8XrO4ebk6eEGgeYhMAgA6ktLJa73yao9f2\n",
              "pOtiSaUkKbivPTIfvovIhOshNgEA6ABKK6v1xwPZWr8nQ5eu2iNzsF9PLZtp1ty7gtXNnciEayI2\n",
              "AQBwoqsV1dp8IFsb9mbocl1khvj10rJos/5lbBCRCZdHbAIA4AQlFdXafCBLG/Zk6EpplSQp1L+X\n",
              "ls006yEiE50IsQkAQDsqLq+qv5JZUBeZ4f16a9lMsx4cEygPIhOdDLEJAEA7KC6v0lv7s/T6vkwV\n",
              "ltkjM6Jfby23mvXAKCITnRexCQCAAxXVRebG6yMzoLdioy16YHSg3N1MTp4QcCxiEwAABygsq9Kb\n",
              "+zP1xr5MFZVXS5LM/ftoebRZ948iMtF1EJsAALShwtIqvbE/U2/sz1RxXWRa+vdRrNWi++4cRGSi\n",
              "yyE2AQBoAwWllXpjX6be3J+l4gp7ZA4ZUBeZIwfJjchEF0VsAgBwGwpKK/X63ky99UmWSuoic+hA\n",
              "L8VaLZo9YiCRiS6P2AQAoBWuXK3U6/sytOmT7EaRuSLGolnDiUzgGmITAIAWuHy1Uhv2ZmjzJ1m6\n",
              "WlkjSRo+yFuxVotmDR9AZAL/B7EJAEAzXCqp0Pq9GfrjgWyV1kXmiEBvxVkt+s7wATKZiEygKcQm\n",
              "AAC3cLGkQhv2ZGjzgWyVVdkjc2SQt1ZYh8g6rD+RCXwLYhMAgCZcKK7Q+j3pevvTnPrIHBXsozir\n",
              "RdFDiUyguYhNAACuc764XK/tztA7n2WrvKpWkjR6sK9WWC2KuiOAyARaiNgEAEDS+aJyvVoXmRXV\n",
              "9sgcM9hXK2IsmjGEyARai9gEAHRp54rKtW5Xut49mFMfmXeF+CouZojusfQjMoHbRGwCALqk/MJy\n",
              "rduVpncP5aqyLjLHh/ZVXIxF08xEJtBWiE0AQJdytrBM63al688Hc1VZY4/MCWF9tSJmiKZE+hOZ\n",
              "QBsjNgEAXcKZgjK9sitNWw7l1UfmxHA/rbBaNJnIBByG2AQAdGqnC8r0SkqathzOVVWNIUm6O9xP\n",
              "K2KGaHKkv5OnAzo/YhMA0CnlXi7VK7vStfXzhsicHOGvuBiLJkUQmUB7ITYBAJ1K7uVSvZySpq2f\n",
              "56m61h6ZU83+irMO0cRwPydPB3Q9xCYAoFPIuWSPzPePNETmNHM/xcVYNCGMyASchdgEALi07EtX\n",
              "9VJymj744rRq6iJzuqWfVsRYNC6UyAScjdgEALikrItXtTY5Tdu/bIjMGUMCFGu1aFxoXydPB+Aa\n",
              "YhMA4FIyL17V2mSbtn9xWnWNqag7AhRntWhsCJEJdDTEJgDAJaRfKNFLyWn68MuGyIwe2l+xVovG\n",
              "DPZ16mwAbo7YBAB0aGnnS7Q22aaPjp6pj8yYYfbIHBXs69TZAHw7YhMA0CGlnS9WQlKaPvrqjIz6\n",
              "yBygOKtFdwb7OHc4AM1GbAIAOpTUc8VKSLLpb8fO1kfmrOEDFGu1aGQQkQm4GmITANAhnMq3R+bO\n",
              "4w2ROXvEQC23mjUikMgEXBWxCQBwqm/yi+yReSy//th3Rw5UrNWiYYO8nTgZgLZAbAIAnOLkGXtk\n",
              "fnzCHpkmk3TfyEFabjVr6EAiE+gsiE0AQLs6frpQCUk2/ePkOUn2yPzenYMUa7VoyAAvJ08HoK0R\n",
              "mwCAdnH8dKHik2z653WRef+oQMVGm2UhMoFOi9gEADjUsbxCxSelKvHr85IkN5P0wOhALY82y9yf\n",
              "yAQ6uxbH5qxZs5Sfny83Nzd5eXkpISFBY8eOvWHdsWPHtHz5cp07Z/8/2P/+7//W3Llzb39iAIBL\n",
              "OJpboPgkm5K/aYjMB8cEaVm0WZEBfZw8HYD20uLY3LJli3x9fSVJ27Zt04IFC3T06NFGa0pLS/Xg\n",
              "gw9q8+bNmjZtmmpqanT58uU2GRgA0LF9mVug+MRUpZy6IMkemQ/VRWYEkQl0OS2OzWuhKUmFhYUy\n",
              "mUw3rPnTn/6kSZMmadq0aZIkd3d3BQQEtH5KAECHdyTniuITbdqdao9MdzdTfWSG9+vt5OkAOEur\n",
              "XrM5f/58paSkSJJ27tx5w+0nT56Up6en7r//fuXl5WnUqFH6/e9/32RwVlRUqKKiotGxmpqa1owF\n",
              "AHCCz7Mva02iTXttFyXZI3Pu2CAtnWlWGJEJdHkmw7j2Pg0tt2nTJv3lL3+5IThjY2O1bds2ffrp\n",
              "pwoMDNSzzz4rm82mrVu33nCO3/zmN1q1alWjY5MmTdKBAwdaOxYAoB0czrqs+KTGkfnwXfbIDPUn\n",
              "MgHY3VZsSlLPnj2Vl5cnf3//+mO/+93v9NVXX2nz5s2SpBMnTujee+9VXl7eDfdv6srmc889p/j4\n",
              "+NsZCwDgIAczLys+KVX70y5JkjzcTPr+uGAtnWnWYL9eTp4OQEfToqfRCwoKVFpaqsDAQEnS9u3b\n",
              "5e/vLz8/v0brHnnkEW3cuFFFRUXy9vbWzp07NXr06CbP6enpKU9Pz0bH3N3dWzIWAKAdfJpxSfGJ\n",
              "Nh3IaIjMeeMHa0lUJJEJ4KZaFJuFhYWaN2+eysrK5ObmpoCAAO3YsUMmk0kLFy7UnDlzNGfOHIWE\n",
              "hOjZZ5/VlClT5ObmpqCgIK1fv95RjwEA4EAH0i8pPilVn2bY/1WRbu4NkRncl8gEcGu3/TS6I6xc\n",
              "uVKrV6929hgA0GUZhqED6Ze0Jsmmg5n2yOzu7qZHJgTr6Sizgnx7OnlCAK6CdxACANQzDEOfpF/S\n",
              "msRUHcq6IskemT+YMFhPR0UqkMgE0ELEJgBAhmFoX9pFxSfadDi7LjI93PTohMFaHBWpQT5EJoDW\n",
              "ITYBoAszDEN7bBcVn5iqIzkFkuyR+djEEC2eEamBPj2cOyAAl0dsAkAXZBiGdqde0JpEm77MLZAk\n",
              "eXq46bG77ZE5wJvIBNA2iE0A6EIMw9CuUxe0Jsmmo3WR2aObm350d6ieuidC/YlMAG2M2ASALsAw\n",
              "DCV/c14JSTYdzSuUZI/Mn0wK1aJ7ItTfi8gE4BjEJgB0YoZhKOnr84pPsunYaXtk9uzmrp9MDtWi\n",
              "6REK8PL8ljMAwO0hNgGgEzIMQ/88eU4JyTYdP10kSerVvSEy+/UhMgG0D2ITADqR2lpD/zh5TglJ\n",
              "Np082xCZ8yeHadH0cPkTmQDaGbEJAJ2APTLztSbRpm/yiyVJvbu76/EpYVo4PUJ+vbs7eUIAXRWx\n",
              "CQAurLbW0Mcn8pWQ1BCZfTw9tGBKmJ6YFq6+RCYAJyM2AcAF1dYa2nn8rNYmpenUOXtkenl6aMFU\n",
              "e2T69iIyAXQMxCYAuJCaWkM7j51VQpJNtvMlkiSvHh766dRwPTE1XD69ujl5QgBojNgEABdQU2to\n",
              "x1dntDY5TWnXReYT08L106nh8ulJZALomIhNAOjAamoNfXT0jNYm25R+4aokybuHh56YFqEFU8OI\n",
              "TAAdHrEJAB1QdU2tPvrqjNYmpSnjoj0yfXp208Jp4Xp8api8exCZAFwDsQkAHUh1Ta0+/PKMXkpJ\n",
              "U2ZdZPr26qZF0yM0f3KovIhMAC6G2ASADqC6plbbvjitl1PSlHWpVJLUt1c3LZweocenhKmPJ9+u\n",
              "AbgmvnsBgBNV1UXmS8lpyrlsj0y/3t21aHqEfjI5lMgE4PL4LgYATlBVU6sPjuTppZQ05V4ukyT5\n",
              "9+6uJ++J0I8nhao3kQmgk+C7GQC0o8rqWr1/JE8vp6Qp74o9Mvv1aYjMXt35tgygc+G7GgC0g8rq\n",
              "Wm393B6ZpwuuRaanFs+I0I/uDlXP7u5OnhAAHIPYBAAHqqiu0XuH87RuV3p9ZAZ4eWrxjEg9NjGE\n",
              "yATQ6RGbAOAAFdU12nIoV+t2petMYbkkqf+1yLw7RD26EZkAugZiEwDaUHlVjbYcztUrKenKL7JH\n",
              "5gBvTz09I1I/nEhkAuh6iE0AaAPlVTX688EcrdudrnNFFZKkgd49tGRmpB4ZP5jIBNBlEZsAcBvK\n",
              "q2r07sEcvXpdZA7y6aElUZF6ZMJgeXoQmQC6NmITAFqhvKpG73xmj8wLxfbIDPTpoSUzzZo3PpjI\n",
              "BIA6xCYAtEBZZY3e+Sxbr+7O0MUSe2QG+fbU0plmfX9csLp7uDl5QgDoWIhNAGiG0spqvfNpjl7b\n",
              "k66LJZWSpOC+9sh8+C4iEwBuhtgEgFsorazWHw9ka/2eDF26ao/MwX49tWymWXPvClY3dyITAG6F\n",
              "2ASAJlytqNbmA9nasDdDl+siM8Svl5ZFm/UvY4OITABoJmITAK5TUlGtzQeytGFPhq6UVkmSQv17\n",
              "adlMsx4iMgGgxYhNAJBUXF5VfyWzoC4yw/v11rKZZj04JlAeRCYAtAqxCaBLKy6v0lv7s/T6vkwV\n",
              "ltkjM6Jfby23mvXAKCITAG4XsQmgSyqqi8yN10dmQG/FRlv0wOhAubuZnDwhAHQOxCaALqWwrEpv\n",
              "7s/UG/syVVReLUmKDOitWKtF948iMgGgrRGbALqEwtIqbdyfqTf3Z6q4LjIt/ftoudWi7905iMgE\n",
              "AAchNgF0agWllXpjX6be3J+l4gp7ZA4Z0EexVovuGzlIbkQmADgUsQmgU7pytVIb92XqrU+yVFIX\n",
              "mXcM8FJcjEWzRwwkMgGgnRCbADqVy1cr9freDG36JEtXK2skSUMHeinOatG9RCYAtDtiE0CncPlq\n",
              "pTbszdDm6yJz+CBvxVotmjV8AJEJAE5CbAJwaZdKKrR+b4b+eCBbpXWROSLQW3FWi74zfIBMJiIT\n",
              "AJyJ2ATgki6WVGj9HntkllXZI3NkkLfirEMUM6w/kQkAHQSxCcClXCiu0Po96Xr705z6yBwV7KM4\n",
              "q0XRQ4lMAOhoiE0ALuF8cble252hdz7LVnlVrSRpdLCPVsQMUdQdAUQmAHRQxCaADu18UbnW7U7X\n",
              "nz7LUUW1PTLHDPZVXIxFUUOITADo6Focm7NmzVJ+fr7c3Nzk5eWlhIQEjR07tsm1hmHIarXqyJEj\n",
              "KigouN1ZAXQh54rKtW5Xut492BCZd4X4Ki5miO6x9CMyAcBFtDg2t2zZIl9fX0nStm3btGDBAh09\n",
              "erTJtX/4wx8UGRmpI0eO3NaQALqO/MJyrduVpncP5aqyLjLHhfbVihiLppmJTABwNS2OzWuhKUmF\n",
              "hYU3/cZ/4sQJbd++XW+++abee++9Vg8IoGs4U1CmdbvS9ZdDuaqssUfmhLC+irMO0VSzP5EJAC6q\n",
              "Va/ZnD9/vlJSUiRJO3fuvOH2qqoqLVq0SBs3bpS7u/stz1VRUaGKiopGx2pqalozFgAXdKagTK/s\n",
              "StOWQ3n1kTkx3E8rrBZNjiQyAcDVtSo2N2/eLEnatGmTnnnmmRuCc9WqVZo7d66GDRumrKysW57r\n",
              "hRde0KpVqxodmzRpUmvGAuBC8q6U6pVd6XrvcK6qagxJ0t3hfloRM0STI/2dPB0AoK2YDMMwbucE\n",
              "PXv2VF5envz9G344TJ8+XTk5OTKZTKqurtaZM2cUEhKiQ4cOKSAgoNH9m7qy+dxzzyk+Pv52xgLQ\n",
              "QeVetkfm1s8bInNyhL/iYiyaFEFkAkBn06IrmwUFBSotLVVgYKAkafv27fL395efn1+jdXv37q3/\n",
              "76ysLI0ZM+amVzg9PT3l6enZ6Ni3PfUOwPXkXi7Vyylp2vp5nqpr7ZE51eyvOOsQTQz3+5Z7AwBc\n",
              "VYtis7CwUPPmzVNZWZnc3NwUEBCgHTt2yGQyaeHChZozZ47mzJnjqFkBuKCcS6V6KcWmD46cro/M\n",
              "aeZ+iouxaEIYkQkAnd1tP43uCCtXrtTq1audPQaA25B96apeSk7TB1+cVk1dZE639NOKGIvGhRKZ\n",
              "ANBV8A5CANpU1sWrWpucpu1fNkTmjCEBirVaNC60r5OnAwC0N2ITQJvIuFCil+ois64xFXVHgOKs\n",
              "Fo0NITIBoKsiNgHclvS6yPzwusiMHtpfsVaLxgz2depsAADnIzYBtEra+RKtTbbpo6Nn6iMzZpg9\n",
              "MkcF+zp1NgBAx0FsAmgR27liJSSnacdXZ2TUR+YAxVktujPYx7nDAQA6HGITQLOknitWQpJNfzt2\n",
              "tj4yZw0foFirRSODiEwAQNOITQC3dCrfHpk7jzdE5uwRA7XcataIQCITAHBrxCaAJn19tkgJSTb9\n",
              "/Xh+/bHvjhyoWKtFwwZ5O3EyAIArITYBNHLyjD0yPz7REJnfu3OQllvNGjqQyAQAtAyxCUCSdPx0\n",
              "oRKSbPrHyXOSJJNJuu/OQYqNtuiOgV5Ong4A4KqITaCLO366UGsSbUr8uiEy7x8VqNhosywDiEwA\n",
              "wO0hNoEu6lheoeKTUpX49XlJ9sicMzpQy6PNMvcnMgEAbYPYBLqYo7kFik+yKfkbe2S61UXmsmiL\n",
              "zP37OHk6AEBnQ2wCXcQXOVcUn2TTrlMXJNkj86ExQVoWbVZEAJEJAHAMYhPo5I7kXFF8ok27U+2R\n",
              "6e5mqo/M8H69nTwdAKCzIzaBTurz7Mtak2jTXttFSfbI/JexQVo206wwIhMA0E6ITaCTOZR1WfGJ\n",
              "Nu1La4jMh+8K0tKZZoX6E5kAgPZFbAKdxMHMy4pPStX+tEuSJA83k74/LlhLZ5o12K+Xk6cDAHRV\n",
              "xCbg4j7NuKT4RJsOZDRE5rzxwVoSRWQCAJyP2ARc1IH0S1qTmKrPMi9Lkrq5mzRv/GAtiYpUcF8i\n",
              "EwDQMRCbgAsxDMMemUk2HbwuMn8wYbCejjIryLenkycEAKAxYhNwAYZh6JO6K5mHsq5Ikrq7u9VF\n",
              "ZqQCiUwAQAdFbAIdmGEY2pd2UfGJNh3OrotMDzc9OmGwFkdFapAPkQkA6NiITaADMgxDe2wXFZ+Y\n",
              "qiM5BZLskfnYxBAtnhGpgT49nDsgAADNRGwCHYhhGNqdekFrEm36MrdAkuTp4abH7rZH5gBvIhMA\n",
              "4FqITaADMAxDu05d0Jokm47WRWaPbm760d2heuqeCPUnMgEALorYBJzIMAwlf3Ne8Uk2fZVXKMke\n",
              "mT++O1RPzohQfy8iEwDg2ohNwAkMw1DS1/bIPHbaHpk9u7nrJ5NDtWh6hAK8PJ08IQAAbYPYBNqR\n",
              "YRj658lzSki26fjpIklSr+4NkdmvD5EJAOhciE2gHdTWGvrHyXNKSLLp5NmGyJw/OUyLpofLn8gE\n",
              "AHRSxCbgQPbIzNeaRJu+yS+WJPXu7q7Hp4Rp4fQI+fXu7uQJAQBwLGITcIDaWkMfn8hXQlJDZPbx\n",
              "9NCCKWF6Ylq4+hKZAIAugtgE2lBtraGdx89qbVKaTp2zR6aXp4cWTLVHpm8vIhMA0LUQm0AbqKk1\n",
              "tPPYWSUk2WQ7XyLJHpk/nRauJ6aGy6dXNydPCACAcxCbwG2oqTW046szWpucprRrkdnDQz+bGq6f\n",
              "EZkAABCbQGvU1Br66OgZrU22Kf3CVUmSdw8PPTEtQgumhsmnJ5EJAIBEbAItUl1Tq4++OqO1SWnK\n",
              "uGiPTJ+e3bRwWrgenxom7x5EJgAA1yM2gWaorqnVh1+e0Uspacqsi0zfXnWROSVMXkQmAABNIjaB\n",
              "W6iuqdW2L07r5ZQ0ZV0qlST17dVNC6dH6PEpYerjyV8hAABuhZ+UQBOq6iLzpeQ05Vy2R6Zf7+5a\n",
              "ND1CP5kcSmQCANBM/MQErlNVU6sPjuTppZQ05V4ukyT59+6uRfdE6CeTQtWbyAQAoEX4yQlIqqyu\n",
              "1ftH8vRySpryrtgjs1+f7nryngj9eFKoenXnrwoAAK3BT1B0aZXVtdr6uT0yTxdci0xPLZ4RoR/d\n",
              "Haqe3d2dPCEAAK6N2ESXVFFdo/cO52ndrvT6yAzw8tRT9xCZAAC0JWITXUpFdY22HMrVul3pOlNY\n",
              "Lknq7+WpxTMi9djdIerRjcgEAKAtEZvoEsqrarTlcK5eSUlXfpE9Mgd4e+rpGZH64UQiEwAARyE2\n",
              "0amVV9XozwdztG53us4VVUiSBnr30NNRkfrBhMFEJgAADtbi2Jw1a5by8/Pl5uYmLy8vJSQkaOzY\n",
              "sY3WJCcn6z/+4z9UUlIik8mk733ve3rxxRfl5ubWZoMDt1JeVaM/fZajV3en63yxPTIH+fTQkqhI\n",
              "PTJhsDw9iEwAANpDi2Nzy5Yt8vX1lSRt27ZNCxYs0NGjRxut6du3r/785z8rIiJC5eXliomJ0ebN\n",
              "m7VgwYK2mBm4qfKqGr1TF5kX6iIz0KeHlsw0a974YCITAIB21uLYvBaaklRYWCiTyXTDmuuvdPbo\n",
              "0UNjxoxRVlZWqwYEmqOsskbvfJatV3dn6GKJPTKDfHtqycxIfX8ckQkAgLO06jWb8+fPV0pKiiRp\n",
              "586dt1ybn5+vrVu3aseOHU3eXlFRoYqKikbHampqWjMWuqDSymq9/Wm21u/J0MWSSklScN+eWjrT\n",
              "rIfvClZ3D166AQCAM5kMwzBae+dNmzbpL3/5y02Ds6ioSFarVY8++qhWrlzZ5Jrf/OY3WrVqVaNj\n",
              "kyZN0oEDB1o7FrqA0spq/fGAPTIvXW2IzOXRZs29K1jd3IlMAAA6gtuKTUnq2bOn8vLy5O/v3+h4\n",
              "cXGx7r33Xt1333361a9+ddP7N3Vl87nnnlN8fPztjIVO6mpFtTYfyNaGvRm6XBeZIX69tGymWf9y\n",
              "VxCRCQBAB9Oip9ELCgpUWlqqwMBASdL27dvl7+8vPz+/RutKSko0e/ZszZ49+5ahKUmenp7y9PRs\n",
              "dMzdndfXobGSimpt+iRLr+/N0JXSKklSqL89Mh8aS2QCANBRtSg2CwsLNW/ePJWVlcnNzU0BAQHa\n",
              "sWOHTCaTFi5cqDlz5mjOnDmKj4/XwYMHdfXqVX3wwQeSpHnz5uk///M/HfIg0HkVl1fVX8ksqIvM\n",
              "MP9eWh5t0YNjAuVBZAIA0KHd9tPojrBy5UqtXr3a2WPAiYrLq/TW/iy9vi9ThWX2yIzo11vLos2a\n",
              "M5rIBADAVfAOQuhQisqr9Oa+LG3cl6Gi8mpJUkRAb8VGW/TA6EC5u934T20BAICOi9hEh1BYVqU3\n",
              "92fqjX2Z9ZEZGdBbsVaL7h9FZAIA4KqITThVYWmVNu7P1Jv7M1VcF5mW/n203GrR9+4cRGQCAODi\n",
              "iE04RUFppd7Yl6k392epuMIemUMG9FGs1aL7Rg6SG5EJAECnQGyiXV25WqmN+zL11idZKqmLzDsG\n",
              "eCkuxqLZIwYSmQAAdDLEJtrF5auVen1vhjZ9kqWrlfa3Ix060EtxVovuJTIBAOi0iE041OWrldqw\n",
              "N0Obr4vM4YO8FWu1aNbwAUQmAACdHLEJh7hUUqH1ezP0xwPZKq2LzBGB3oqzWvSd4QNkMhGZAAB0\n",
              "BcQm2tTFkgqt32OPzLIqe2SODPJWnHWIYob1JzIBAOhiiE20iQvFFVq/J11vf5pTH5mjgn0UZ7Uo\n",
              "eiiRCQBAV0Vs4racLy7Xa7sz9M5n2SqvqpUkjQ720YqYIYq6I4DIBACgiyM20Srni8q1bne6/vRZ\n",
              "jiqq7ZE5ZrCv4mIsihpCZAIAADtiEy1yrqhc63al692DDZF5V4iv4mKG6B5LPyITAAA0QmyiWfIL\n",
              "y7VuV5rePZSryrrIHBfaVytiLJpmJjIBAEDTiE3c0pmCMq3bla6/HMpVZY09MieE9VWcdYimmv2J\n",
              "TAAAcEvEJpp0uqBM63alacuhvPrInBjupxVWiyZHEpkAAKB5iE00knelVK/sStd7h3NVVWNIku4O\n",
              "99OKmCGaHOnv5OkAAICrITYhScq9bI/MrZ83RObkCH/FxVg0KYLIBAAArUNsdnG5l0v1ckqatn6e\n",
              "p+pae2ROifRXnNWiu4lMAABwm4jNLirnUqleSrHpgyOn6yNzmrmf4mIsmhDm5+TpAABAZ0FsdjHZ\n",
              "l67qpeQ0ffDFadXUReZ0Sz+tiLFoXCiRCQAA2hax2UVkXrRH5vYvGyLzniEBirNaNC60r5OnAwAA\n",
              "nRWx2cllXCipj8y6xlTUHfbIHBtCZAIAAMciNjup9LrI/PC6yIwe2l+xVovGDPZ16mwAAKDrIDY7\n",
              "mbTzxVqbnKaPjp6pj0xrXWSOJjIBAEA7IzY7Cdu5YiUkp2nHV2dk1EVmzLABirNadGewj3OHAwAA\n",
              "XRax6eJSzxUrIcmmvx07Wx+Zs4YPUKzVopFBRCYAAHAuYtNFfZNfpLVJadp5vCEy7x1hj8wRgUQm\n",
              "AADoGIhNF/P12SIlJNn09+P59ce+O3KgYq0WDRvk7cTJAAAAbkRsuoiTZ+yR+fGJhsj83p2DtNxq\n",
              "1tCBRCYAAOiYiM0O7vjpQiUk2fSPk+ckSSaTdN+dgxQbbdEdA72cPB0AAMCtEZsd1PHThVqTaFPi\n",
              "1w2Ref+oQMVGm2UZQGQCAADXQGx2MMfyChWflKrEr89LskfmnNGBWh5tlrk/kQkAAFwLsdlBHM0t\n",
              "UHySTcnf2CPTrS4yl0VbZO7fx8nTAQAAtA6x6WRf5FxRfJJNu05dkGSPzIfGBGlptFmRAUQmAABw\n",
              "bcSmkxzJuaL4RJt2p9oj093NpIfGBGlZtFnh/Xo7eToAAIC2QWy2s8+zL2tNok17bRcl2SPzX8YG\n",
              "adlMs8KITAAA0MkQm+3kUNZlxSfatC+tITIfvitIS2eaFepPZAIAgM6J2HSwg5mXFZ+Uqv1plyRJ\n",
              "Hm4mfX9csJbONGuwXy8nTwcAAOBYxKaDfJpxSfGJNh3IaIjMeeODtSSKyAQAAF0HsdnGDqRf0prE\n",
              "VH2WeVmS1M3dpHnjB2tJVKSC+xKZAACgayE224BhGPbITLLp4HWR+YMJg/V0lFlBvj2dPCEAAIBz\n",
              "EJu3wTAM7U+7pPikVB3KuiJJ6u7uVheZkQokMgEAQBdHbLaCYRjal3ZRaxJt+jy7LjI93PTohMFa\n",
              "HBWpQT5EJgAAgERstohhGNpju6j4xFQdySmQZI/MxyaGaPGMSA306eHcAQEAADoYYrMZDMPQ7tQL\n",
              "WpNo05e5BZIkTw83PXa3PTIHeBOZAAAATSE2b8EwDO06dUFrkmw6WheZPbq56Ud3h+qpeyLUn8gE\n",
              "AAC4pRbH5qxZs5Sfny83Nzd5eXkpISFBY8eOvWHdxo0b9eKLL6q2tlbR0dF65ZVX1K1btzYZ2tEM\n",
              "w1DyN+cVn2TTV3mFkuyR+eO7Q/XkjAj19yIyAQAAmqPFsbllyxb5+vpKkrZt26YFCxbo6NGjjdZk\n",
              "Zmbqueee05EjRzRgwAA9+OCDWr9+vZYuXdomQzuKYRhK+toemcdO2yOzZzd3/WRyqBZNj1CAl6eT\n",
              "JwQAAHAtLY7Na6EpSYWFhTKZTDes2bp1q+bMmaOBAwdKkhYvXqz/+Z//6bCxaRiG/nnynBKSbTp+\n",
              "ukiS1Kt7Q2T260NkAgAAtEarXrM5f/58paSkSJJ27tx5w+05OTkKDQ2t/zwsLEw5OTlNnquiokIV\n",
              "FRWNjtXU1LRmrFbZk3pBL/79G5082xCZ8yeHadH0cPkTmQAAALelVbG5efNmSdKmTZv0zDPPNBmc\n",
              "zfXCCy9o1apVjY5NmjSp1edrqdwrpTp5tki9u7vr8SlhWjg9Qn69u7fb1wcAAOjM3G7nzo8//rhS\n",
              "UlJ06dKlRsdDQkKUnZ1d/3lWVpZCQkKaPMcvf/lLFRYWNvqYOHHi7YzVIvPGDda/33uH9j0TrV/M\n",
              "HkpoAgAAtKEWxWZBQYHOnDlT//n27dvl7+8vPz+/Rusefvhh/fWvf1V+fr4Mw9Crr76qH/7wh02e\n",
              "09PTU97e3o0+3N3dW/FQWqe7h5uWzjSrL5EJAADQ5lr0NHphYaHmzZunsrIyubm5KSAgQDt27JDJ\n",
              "ZNLChQs1Z84czZkzRxEREVq1apWmTp0qSYqKitJTTz3lkAcAAACAjstkGIbh7CH+r5UrV2r16tXO\n",
              "HgMAAAC36bZeswkAAADcCrEJAAAAhyE2AQAA4DDEJgAAAByG2AQAAIDDEJsAAABwGGITAAAADkNs\n",
              "AgAAwGGITQAAADhMh3wHoblz5yosLKzdvl5NTY0OHjyoiRMntuv7sqNtsH+ujz10feyh62MPXZsz\n",
              "9i80NFRxcXHfuq5DxmZ7Kyoqko+PjwoLC+Xt7e3scdBC7J/rYw9dH3vo+thD19aR94+n0QEAAOAw\n",
              "xCYAAAAchtgEAACAwxCbkjw9PfXrX/9anp6ezh4FrcD+uT720PWxh66PPXRtHXn/+AUhAAAAOAxX\n",
              "NgEAAOAwxCYAAAAchtgEAACAw3Sp2LTZbJoyZYqGDBmiCRMm6MSJE02u27hxoywWiyIjI7Vo0SJV\n",
              "VVW186RoSnP2Lzk5WRMnTtTw4cM1YsQI/eIXv1Btba0TpkVTmvt3UJIMw1B0dLR8fX3bb0B8q+bu\n",
              "4bFjxxQVFaVhw4Zp2LBh+uCDD9p5UjSlOftXW1urlStXavjw4Ro1apRmzpyptLQ0J0yLpsTGxios\n",
              "LEwmk0lffvnlTdd1qJYxupCZM2cab775pmEYhvHee+8Z48ePv2FNRkaGMWjQIOPs2bNGbW2t8cAD\n",
              "DxgvvfRSO0+KpjRn/44cOWKkp6cbhmEYZWVlxtSpU+vvA+drzh5e8/vf/95YuHCh4ePj0z7DoVma\n",
              "s4dXr141wsPDjb179xqGYRjV1dXG+fPn23NM3ERz9m/btm3GxIkTjcrKSsMwDOO3v/2tMW/evPYc\n",
              "E7ewe/duIzc31wgNDTW++OKLJtd0tJbpMrF57tw5w8vLy6iqqjIMwzBqa2uNAQMGGDabrdG6//3f\n",
              "/zWeeuqp+s//9re/GVOnTm3XWXGj5u7f/7V06VLj17/+dTtMiG/Tkj08fvy4MX36dCMtLY3Y7ECa\n",
              "u4cbNmwwHn30UWeMiFto7v5t377dGD16tFFUVGTU1tYa//7v/27867/+qzNGxi3cKjY7Wst0mafR\n",
              "c3NzNWjQIHl4eEiSTCaTQkJClJOT02hdTk6OQkND6z8PCwu7YQ3aX3P373r5+fnaunWr7r///vYa\n",
              "E7fQ3D2sqqrSokWL9Nprr8nd3d0Zo+ImmruHJ0+elKenp+6//36NGTNG8+fP14ULF5wxMq7T3P17\n",
              "4IEHFBUVpYEDB2rQoEFKSkrSf/3XfzljZLRSR2uZLhOb6FqKior0wAMP6Be/+IXGjx/v7HHQAqtW\n",
              "rdLcuXM1bNgwZ4+CVqqurlZiYqJee+01ffHFFwoKCtLTTz/t7LHQTIcPH9bx48d1+vRpnTlzRlar\n",
              "VYsXL3b2WHBhXSY2Bw8erLNnz6q6ulqS/ZcPcnJyFBIS0mhdSEiIsrOz6z/Pysq6YQ3aX3P3T5KK\n",
              "i4s1e/ZsPfjgg1q5cmV7j4qbaO4e7t69W2vXrlVYWJimTZumoqIihYWFcWWsA2jJ99GZM2cqKChI\n",
              "JpNJP/7xj/Xpp586Y2Rcp7n7t3nz5vpfznNzc9Pjjz+ulJQUZ4yMVupoLdNlYrN///6666679Pbb\n",
              "b0uS3n//fQUHB8tsNjda9/DDD+uvf/2r8vPzZRiGXn31Vf3whz90xsi4TnP3r6SkRLNnz9bs2bP1\n",
              "q1/9yhmj4iaau4d79+5Vdna2srKytG/fPnl7eysrK0sBAQHOGBvXae4ePvLIIzp06JCKiookSTt3\n",
              "7tTo0aPbfV401tz9i4iIUHJysiorKyVJO3bs0MiRI9t9XrReh2sZp71a1Am++eYbY9KkSYbFYjHG\n",
              "jRtnfPXVV4ZhGMYTTzxhfPjhh/Xr1q9fb0RERBgRERHGz372s/rfyINzNWf/nn/+ecPDw8MYPXp0\n",
              "/cfzzz/vzLFxneb+HbwmMzOTXxDqYJq7h5s3bzZGjBhh3Hnnncbs2bONnJwcZ42M6zRn/8rLy42F\n",
              "CxcaQ4cONe68807jO9/5Tv2/8gHne/LJJ42goCDD3d3d6N+/vxEZGWkYRsduGd4bHQAAAA7TZZ5G\n",
              "BwAAQPsjNgEAAOAwxCYAAAAchtgEAACAwxCbAAAAcBhiEwAAAA5DbAIAAMBhiE0AAAA4DLEJAAAA\n",
              "hyE2AQAA4DDEJgAAABzm/wPIOb/Ww7w6WwAAAABJRU5ErkJggg==\n",
              "\">\n",
              "      </div>\n",
              "      <script type=\"text/javascript\">\n",
              "        (() => {\n",
              "          const chartElement = document.getElementById(\"chart-0b5495bb-5eaf-48d6-8be1-db8299835516\");\n",
              "          async function getCodeForChartHandler(event) {\n",
              "            const chartCodeResponse =  await google.colab.kernel.invokeFunction(\n",
              "                'getCodeForChart', [\"chart-0b5495bb-5eaf-48d6-8be1-db8299835516\"], {});\n",
              "            const responseJson = chartCodeResponse.data['application/json'];\n",
              "            await google.colab.notebook.addCell(responseJson.code, 'code');\n",
              "          }\n",
              "          chartElement.onclick = getCodeForChartHandler;\n",
              "        })();\n",
              "      </script>\n",
              "      <style>\n",
              "        .colab-quickchart-chart-with-code  {\n",
              "            display: block;\n",
              "            float: left;\n",
              "            border: 1px solid transparent;\n",
              "        }\n",
              "\n",
              "        .colab-quickchart-chart-with-code:hover {\n",
              "            cursor: pointer;\n",
              "            border: 1px solid #aaa;\n",
              "        }\n",
              "      </style>"
            ]
          },
          "metadata": {}
        }
      ],
      "source": [
        " d = {'col1': [1, 2], 'col2': [3, 4]}\n",
        " df = pd.DataFrame(data=d)\n",
        " df"
      ]
    },
    {
      "cell_type": "markdown",
      "metadata": {
        "id": "mvK2GFyByOl-"
      },
      "source": [
        "## 11.2  Dataframe creation from dict of ndarrays/lists"
      ]
    },
    {
      "cell_type": "markdown",
      "metadata": {
        "id": "UGb600_WyOl-"
      },
      "source": [
        " - The ndarrays must all be the same length.\n",
        " - If an index is passed, it must clearly also be the same length as the arrays. If no index is passed, the result will be range(n), where n is the array length."
      ]
    },
    {
      "cell_type": "code",
      "execution_count": null,
      "metadata": {
        "id": "6bNw6BszyOl-",
        "outputId": "b8acf830-02ea-4182-f879-099ee2fee884",
        "colab": {
          "base_uri": "https://localhost:8080/",
          "height": 192
        }
      },
      "outputs": [
        {
          "output_type": "stream",
          "name": "stdout",
          "text": [
            "1-4,2-3....\n"
          ]
        },
        {
          "output_type": "execute_result",
          "data": {
            "text/plain": [
              "   one  two\n",
              "0  1.0  4.0\n",
              "1  2.0  3.0\n",
              "2  3.0  2.0\n",
              "3  4.0  1.0"
            ],
            "text/html": [
              "\n",
              "  <div id=\"df-320522bd-5143-4222-bfb4-4bcbb0c12572\" class=\"colab-df-container\">\n",
              "    <div>\n",
              "<style scoped>\n",
              "    .dataframe tbody tr th:only-of-type {\n",
              "        vertical-align: middle;\n",
              "    }\n",
              "\n",
              "    .dataframe tbody tr th {\n",
              "        vertical-align: top;\n",
              "    }\n",
              "\n",
              "    .dataframe thead th {\n",
              "        text-align: right;\n",
              "    }\n",
              "</style>\n",
              "<table border=\"1\" class=\"dataframe\">\n",
              "  <thead>\n",
              "    <tr style=\"text-align: right;\">\n",
              "      <th></th>\n",
              "      <th>one</th>\n",
              "      <th>two</th>\n",
              "    </tr>\n",
              "  </thead>\n",
              "  <tbody>\n",
              "    <tr>\n",
              "      <th>0</th>\n",
              "      <td>1.0</td>\n",
              "      <td>4.0</td>\n",
              "    </tr>\n",
              "    <tr>\n",
              "      <th>1</th>\n",
              "      <td>2.0</td>\n",
              "      <td>3.0</td>\n",
              "    </tr>\n",
              "    <tr>\n",
              "      <th>2</th>\n",
              "      <td>3.0</td>\n",
              "      <td>2.0</td>\n",
              "    </tr>\n",
              "    <tr>\n",
              "      <th>3</th>\n",
              "      <td>4.0</td>\n",
              "      <td>1.0</td>\n",
              "    </tr>\n",
              "  </tbody>\n",
              "</table>\n",
              "</div>\n",
              "    <div class=\"colab-df-buttons\">\n",
              "\n",
              "  <div class=\"colab-df-container\">\n",
              "    <button class=\"colab-df-convert\" onclick=\"convertToInteractive('df-320522bd-5143-4222-bfb4-4bcbb0c12572')\"\n",
              "            title=\"Convert this dataframe to an interactive table.\"\n",
              "            style=\"display:none;\">\n",
              "\n",
              "  <svg xmlns=\"http://www.w3.org/2000/svg\" height=\"24px\" viewBox=\"0 -960 960 960\">\n",
              "    <path d=\"M120-120v-720h720v720H120Zm60-500h600v-160H180v160Zm220 220h160v-160H400v160Zm0 220h160v-160H400v160ZM180-400h160v-160H180v160Zm440 0h160v-160H620v160ZM180-180h160v-160H180v160Zm440 0h160v-160H620v160Z\"/>\n",
              "  </svg>\n",
              "    </button>\n",
              "\n",
              "  <style>\n",
              "    .colab-df-container {\n",
              "      display:flex;\n",
              "      gap: 12px;\n",
              "    }\n",
              "\n",
              "    .colab-df-convert {\n",
              "      background-color: #E8F0FE;\n",
              "      border: none;\n",
              "      border-radius: 50%;\n",
              "      cursor: pointer;\n",
              "      display: none;\n",
              "      fill: #1967D2;\n",
              "      height: 32px;\n",
              "      padding: 0 0 0 0;\n",
              "      width: 32px;\n",
              "    }\n",
              "\n",
              "    .colab-df-convert:hover {\n",
              "      background-color: #E2EBFA;\n",
              "      box-shadow: 0px 1px 2px rgba(60, 64, 67, 0.3), 0px 1px 3px 1px rgba(60, 64, 67, 0.15);\n",
              "      fill: #174EA6;\n",
              "    }\n",
              "\n",
              "    .colab-df-buttons div {\n",
              "      margin-bottom: 4px;\n",
              "    }\n",
              "\n",
              "    [theme=dark] .colab-df-convert {\n",
              "      background-color: #3B4455;\n",
              "      fill: #D2E3FC;\n",
              "    }\n",
              "\n",
              "    [theme=dark] .colab-df-convert:hover {\n",
              "      background-color: #434B5C;\n",
              "      box-shadow: 0px 1px 3px 1px rgba(0, 0, 0, 0.15);\n",
              "      filter: drop-shadow(0px 1px 2px rgba(0, 0, 0, 0.3));\n",
              "      fill: #FFFFFF;\n",
              "    }\n",
              "  </style>\n",
              "\n",
              "    <script>\n",
              "      const buttonEl =\n",
              "        document.querySelector('#df-320522bd-5143-4222-bfb4-4bcbb0c12572 button.colab-df-convert');\n",
              "      buttonEl.style.display =\n",
              "        google.colab.kernel.accessAllowed ? 'block' : 'none';\n",
              "\n",
              "      async function convertToInteractive(key) {\n",
              "        const element = document.querySelector('#df-320522bd-5143-4222-bfb4-4bcbb0c12572');\n",
              "        const dataTable =\n",
              "          await google.colab.kernel.invokeFunction('convertToInteractive',\n",
              "                                                    [key], {});\n",
              "        if (!dataTable) return;\n",
              "\n",
              "        const docLinkHtml = 'Like what you see? Visit the ' +\n",
              "          '<a target=\"_blank\" href=https://colab.research.google.com/notebooks/data_table.ipynb>data table notebook</a>'\n",
              "          + ' to learn more about interactive tables.';\n",
              "        element.innerHTML = '';\n",
              "        dataTable['output_type'] = 'display_data';\n",
              "        await google.colab.output.renderOutput(dataTable, element);\n",
              "        const docLink = document.createElement('div');\n",
              "        docLink.innerHTML = docLinkHtml;\n",
              "        element.appendChild(docLink);\n",
              "      }\n",
              "    </script>\n",
              "  </div>\n",
              "\n",
              "\n",
              "<div id=\"df-64851771-e273-45be-9cde-b0cbcfe9cca8\">\n",
              "  <button class=\"colab-df-quickchart\" onclick=\"quickchart('df-64851771-e273-45be-9cde-b0cbcfe9cca8')\"\n",
              "            title=\"Suggest charts\"\n",
              "            style=\"display:none;\">\n",
              "\n",
              "<svg xmlns=\"http://www.w3.org/2000/svg\" height=\"24px\"viewBox=\"0 0 24 24\"\n",
              "     width=\"24px\">\n",
              "    <g>\n",
              "        <path d=\"M19 3H5c-1.1 0-2 .9-2 2v14c0 1.1.9 2 2 2h14c1.1 0 2-.9 2-2V5c0-1.1-.9-2-2-2zM9 17H7v-7h2v7zm4 0h-2V7h2v10zm4 0h-2v-4h2v4z\"/>\n",
              "    </g>\n",
              "</svg>\n",
              "  </button>\n",
              "\n",
              "<style>\n",
              "  .colab-df-quickchart {\n",
              "      --bg-color: #E8F0FE;\n",
              "      --fill-color: #1967D2;\n",
              "      --hover-bg-color: #E2EBFA;\n",
              "      --hover-fill-color: #174EA6;\n",
              "      --disabled-fill-color: #AAA;\n",
              "      --disabled-bg-color: #DDD;\n",
              "  }\n",
              "\n",
              "  [theme=dark] .colab-df-quickchart {\n",
              "      --bg-color: #3B4455;\n",
              "      --fill-color: #D2E3FC;\n",
              "      --hover-bg-color: #434B5C;\n",
              "      --hover-fill-color: #FFFFFF;\n",
              "      --disabled-bg-color: #3B4455;\n",
              "      --disabled-fill-color: #666;\n",
              "  }\n",
              "\n",
              "  .colab-df-quickchart {\n",
              "    background-color: var(--bg-color);\n",
              "    border: none;\n",
              "    border-radius: 50%;\n",
              "    cursor: pointer;\n",
              "    display: none;\n",
              "    fill: var(--fill-color);\n",
              "    height: 32px;\n",
              "    padding: 0;\n",
              "    width: 32px;\n",
              "  }\n",
              "\n",
              "  .colab-df-quickchart:hover {\n",
              "    background-color: var(--hover-bg-color);\n",
              "    box-shadow: 0 1px 2px rgba(60, 64, 67, 0.3), 0 1px 3px 1px rgba(60, 64, 67, 0.15);\n",
              "    fill: var(--button-hover-fill-color);\n",
              "  }\n",
              "\n",
              "  .colab-df-quickchart-complete:disabled,\n",
              "  .colab-df-quickchart-complete:disabled:hover {\n",
              "    background-color: var(--disabled-bg-color);\n",
              "    fill: var(--disabled-fill-color);\n",
              "    box-shadow: none;\n",
              "  }\n",
              "\n",
              "  .colab-df-spinner {\n",
              "    border: 2px solid var(--fill-color);\n",
              "    border-color: transparent;\n",
              "    border-bottom-color: var(--fill-color);\n",
              "    animation:\n",
              "      spin 1s steps(1) infinite;\n",
              "  }\n",
              "\n",
              "  @keyframes spin {\n",
              "    0% {\n",
              "      border-color: transparent;\n",
              "      border-bottom-color: var(--fill-color);\n",
              "      border-left-color: var(--fill-color);\n",
              "    }\n",
              "    20% {\n",
              "      border-color: transparent;\n",
              "      border-left-color: var(--fill-color);\n",
              "      border-top-color: var(--fill-color);\n",
              "    }\n",
              "    30% {\n",
              "      border-color: transparent;\n",
              "      border-left-color: var(--fill-color);\n",
              "      border-top-color: var(--fill-color);\n",
              "      border-right-color: var(--fill-color);\n",
              "    }\n",
              "    40% {\n",
              "      border-color: transparent;\n",
              "      border-right-color: var(--fill-color);\n",
              "      border-top-color: var(--fill-color);\n",
              "    }\n",
              "    60% {\n",
              "      border-color: transparent;\n",
              "      border-right-color: var(--fill-color);\n",
              "    }\n",
              "    80% {\n",
              "      border-color: transparent;\n",
              "      border-right-color: var(--fill-color);\n",
              "      border-bottom-color: var(--fill-color);\n",
              "    }\n",
              "    90% {\n",
              "      border-color: transparent;\n",
              "      border-bottom-color: var(--fill-color);\n",
              "    }\n",
              "  }\n",
              "</style>\n",
              "\n",
              "  <script>\n",
              "    async function quickchart(key) {\n",
              "      const quickchartButtonEl =\n",
              "        document.querySelector('#' + key + ' button');\n",
              "      quickchartButtonEl.disabled = true;  // To prevent multiple clicks.\n",
              "      quickchartButtonEl.classList.add('colab-df-spinner');\n",
              "      try {\n",
              "        const charts = await google.colab.kernel.invokeFunction(\n",
              "            'suggestCharts', [key], {});\n",
              "      } catch (error) {\n",
              "        console.error('Error during call to suggestCharts:', error);\n",
              "      }\n",
              "      quickchartButtonEl.classList.remove('colab-df-spinner');\n",
              "      quickchartButtonEl.classList.add('colab-df-quickchart-complete');\n",
              "    }\n",
              "    (() => {\n",
              "      let quickchartButtonEl =\n",
              "        document.querySelector('#df-64851771-e273-45be-9cde-b0cbcfe9cca8 button');\n",
              "      quickchartButtonEl.style.display =\n",
              "        google.colab.kernel.accessAllowed ? 'block' : 'none';\n",
              "    })();\n",
              "  </script>\n",
              "</div>\n",
              "\n",
              "    </div>\n",
              "  </div>\n"
            ]
          },
          "metadata": {},
          "execution_count": 127
        }
      ],
      "source": [
        "print(\"1-4,2-3....\")\n",
        "d = {'one' : [1., 2., 3., 4.], 'two' : [4., 3., 2., 1.]}\n",
        "pd.DataFrame(d)\n"
      ]
    },
    {
      "cell_type": "code",
      "execution_count": null,
      "metadata": {
        "id": "40LfkQw_yOl-",
        "outputId": "a7b94e20-04f3-4162-c945-6715bdb76481",
        "colab": {
          "base_uri": "https://localhost:8080/",
          "height": 242
        }
      },
      "outputs": [
        {
          "output_type": "execute_result",
          "data": {
            "text/plain": [
              "   a  b  c  d  e\n",
              "0  5  5  3  7  8\n",
              "1  9  1  5  2  5\n",
              "2  8  4  2  2  3\n",
              "3  1  7  1  1  8\n",
              "4  1  4  8  0  4"
            ],
            "text/html": [
              "\n",
              "  <div id=\"df-0d1ff2e9-8457-47c5-867f-f5901cf6bddd\" class=\"colab-df-container\">\n",
              "    <div>\n",
              "<style scoped>\n",
              "    .dataframe tbody tr th:only-of-type {\n",
              "        vertical-align: middle;\n",
              "    }\n",
              "\n",
              "    .dataframe tbody tr th {\n",
              "        vertical-align: top;\n",
              "    }\n",
              "\n",
              "    .dataframe thead th {\n",
              "        text-align: right;\n",
              "    }\n",
              "</style>\n",
              "<table border=\"1\" class=\"dataframe\">\n",
              "  <thead>\n",
              "    <tr style=\"text-align: right;\">\n",
              "      <th></th>\n",
              "      <th>a</th>\n",
              "      <th>b</th>\n",
              "      <th>c</th>\n",
              "      <th>d</th>\n",
              "      <th>e</th>\n",
              "    </tr>\n",
              "  </thead>\n",
              "  <tbody>\n",
              "    <tr>\n",
              "      <th>0</th>\n",
              "      <td>5</td>\n",
              "      <td>5</td>\n",
              "      <td>3</td>\n",
              "      <td>7</td>\n",
              "      <td>8</td>\n",
              "    </tr>\n",
              "    <tr>\n",
              "      <th>1</th>\n",
              "      <td>9</td>\n",
              "      <td>1</td>\n",
              "      <td>5</td>\n",
              "      <td>2</td>\n",
              "      <td>5</td>\n",
              "    </tr>\n",
              "    <tr>\n",
              "      <th>2</th>\n",
              "      <td>8</td>\n",
              "      <td>4</td>\n",
              "      <td>2</td>\n",
              "      <td>2</td>\n",
              "      <td>3</td>\n",
              "    </tr>\n",
              "    <tr>\n",
              "      <th>3</th>\n",
              "      <td>1</td>\n",
              "      <td>7</td>\n",
              "      <td>1</td>\n",
              "      <td>1</td>\n",
              "      <td>8</td>\n",
              "    </tr>\n",
              "    <tr>\n",
              "      <th>4</th>\n",
              "      <td>1</td>\n",
              "      <td>4</td>\n",
              "      <td>8</td>\n",
              "      <td>0</td>\n",
              "      <td>4</td>\n",
              "    </tr>\n",
              "  </tbody>\n",
              "</table>\n",
              "</div>\n",
              "    <div class=\"colab-df-buttons\">\n",
              "\n",
              "  <div class=\"colab-df-container\">\n",
              "    <button class=\"colab-df-convert\" onclick=\"convertToInteractive('df-0d1ff2e9-8457-47c5-867f-f5901cf6bddd')\"\n",
              "            title=\"Convert this dataframe to an interactive table.\"\n",
              "            style=\"display:none;\">\n",
              "\n",
              "  <svg xmlns=\"http://www.w3.org/2000/svg\" height=\"24px\" viewBox=\"0 -960 960 960\">\n",
              "    <path d=\"M120-120v-720h720v720H120Zm60-500h600v-160H180v160Zm220 220h160v-160H400v160Zm0 220h160v-160H400v160ZM180-400h160v-160H180v160Zm440 0h160v-160H620v160ZM180-180h160v-160H180v160Zm440 0h160v-160H620v160Z\"/>\n",
              "  </svg>\n",
              "    </button>\n",
              "\n",
              "  <style>\n",
              "    .colab-df-container {\n",
              "      display:flex;\n",
              "      gap: 12px;\n",
              "    }\n",
              "\n",
              "    .colab-df-convert {\n",
              "      background-color: #E8F0FE;\n",
              "      border: none;\n",
              "      border-radius: 50%;\n",
              "      cursor: pointer;\n",
              "      display: none;\n",
              "      fill: #1967D2;\n",
              "      height: 32px;\n",
              "      padding: 0 0 0 0;\n",
              "      width: 32px;\n",
              "    }\n",
              "\n",
              "    .colab-df-convert:hover {\n",
              "      background-color: #E2EBFA;\n",
              "      box-shadow: 0px 1px 2px rgba(60, 64, 67, 0.3), 0px 1px 3px 1px rgba(60, 64, 67, 0.15);\n",
              "      fill: #174EA6;\n",
              "    }\n",
              "\n",
              "    .colab-df-buttons div {\n",
              "      margin-bottom: 4px;\n",
              "    }\n",
              "\n",
              "    [theme=dark] .colab-df-convert {\n",
              "      background-color: #3B4455;\n",
              "      fill: #D2E3FC;\n",
              "    }\n",
              "\n",
              "    [theme=dark] .colab-df-convert:hover {\n",
              "      background-color: #434B5C;\n",
              "      box-shadow: 0px 1px 3px 1px rgba(0, 0, 0, 0.15);\n",
              "      filter: drop-shadow(0px 1px 2px rgba(0, 0, 0, 0.3));\n",
              "      fill: #FFFFFF;\n",
              "    }\n",
              "  </style>\n",
              "\n",
              "    <script>\n",
              "      const buttonEl =\n",
              "        document.querySelector('#df-0d1ff2e9-8457-47c5-867f-f5901cf6bddd button.colab-df-convert');\n",
              "      buttonEl.style.display =\n",
              "        google.colab.kernel.accessAllowed ? 'block' : 'none';\n",
              "\n",
              "      async function convertToInteractive(key) {\n",
              "        const element = document.querySelector('#df-0d1ff2e9-8457-47c5-867f-f5901cf6bddd');\n",
              "        const dataTable =\n",
              "          await google.colab.kernel.invokeFunction('convertToInteractive',\n",
              "                                                    [key], {});\n",
              "        if (!dataTable) return;\n",
              "\n",
              "        const docLinkHtml = 'Like what you see? Visit the ' +\n",
              "          '<a target=\"_blank\" href=https://colab.research.google.com/notebooks/data_table.ipynb>data table notebook</a>'\n",
              "          + ' to learn more about interactive tables.';\n",
              "        element.innerHTML = '';\n",
              "        dataTable['output_type'] = 'display_data';\n",
              "        await google.colab.output.renderOutput(dataTable, element);\n",
              "        const docLink = document.createElement('div');\n",
              "        docLink.innerHTML = docLinkHtml;\n",
              "        element.appendChild(docLink);\n",
              "      }\n",
              "    </script>\n",
              "  </div>\n",
              "\n",
              "\n",
              "<div id=\"df-e77f7084-cc89-4097-8465-24132db775dd\">\n",
              "  <button class=\"colab-df-quickchart\" onclick=\"quickchart('df-e77f7084-cc89-4097-8465-24132db775dd')\"\n",
              "            title=\"Suggest charts\"\n",
              "            style=\"display:none;\">\n",
              "\n",
              "<svg xmlns=\"http://www.w3.org/2000/svg\" height=\"24px\"viewBox=\"0 0 24 24\"\n",
              "     width=\"24px\">\n",
              "    <g>\n",
              "        <path d=\"M19 3H5c-1.1 0-2 .9-2 2v14c0 1.1.9 2 2 2h14c1.1 0 2-.9 2-2V5c0-1.1-.9-2-2-2zM9 17H7v-7h2v7zm4 0h-2V7h2v10zm4 0h-2v-4h2v4z\"/>\n",
              "    </g>\n",
              "</svg>\n",
              "  </button>\n",
              "\n",
              "<style>\n",
              "  .colab-df-quickchart {\n",
              "      --bg-color: #E8F0FE;\n",
              "      --fill-color: #1967D2;\n",
              "      --hover-bg-color: #E2EBFA;\n",
              "      --hover-fill-color: #174EA6;\n",
              "      --disabled-fill-color: #AAA;\n",
              "      --disabled-bg-color: #DDD;\n",
              "  }\n",
              "\n",
              "  [theme=dark] .colab-df-quickchart {\n",
              "      --bg-color: #3B4455;\n",
              "      --fill-color: #D2E3FC;\n",
              "      --hover-bg-color: #434B5C;\n",
              "      --hover-fill-color: #FFFFFF;\n",
              "      --disabled-bg-color: #3B4455;\n",
              "      --disabled-fill-color: #666;\n",
              "  }\n",
              "\n",
              "  .colab-df-quickchart {\n",
              "    background-color: var(--bg-color);\n",
              "    border: none;\n",
              "    border-radius: 50%;\n",
              "    cursor: pointer;\n",
              "    display: none;\n",
              "    fill: var(--fill-color);\n",
              "    height: 32px;\n",
              "    padding: 0;\n",
              "    width: 32px;\n",
              "  }\n",
              "\n",
              "  .colab-df-quickchart:hover {\n",
              "    background-color: var(--hover-bg-color);\n",
              "    box-shadow: 0 1px 2px rgba(60, 64, 67, 0.3), 0 1px 3px 1px rgba(60, 64, 67, 0.15);\n",
              "    fill: var(--button-hover-fill-color);\n",
              "  }\n",
              "\n",
              "  .colab-df-quickchart-complete:disabled,\n",
              "  .colab-df-quickchart-complete:disabled:hover {\n",
              "    background-color: var(--disabled-bg-color);\n",
              "    fill: var(--disabled-fill-color);\n",
              "    box-shadow: none;\n",
              "  }\n",
              "\n",
              "  .colab-df-spinner {\n",
              "    border: 2px solid var(--fill-color);\n",
              "    border-color: transparent;\n",
              "    border-bottom-color: var(--fill-color);\n",
              "    animation:\n",
              "      spin 1s steps(1) infinite;\n",
              "  }\n",
              "\n",
              "  @keyframes spin {\n",
              "    0% {\n",
              "      border-color: transparent;\n",
              "      border-bottom-color: var(--fill-color);\n",
              "      border-left-color: var(--fill-color);\n",
              "    }\n",
              "    20% {\n",
              "      border-color: transparent;\n",
              "      border-left-color: var(--fill-color);\n",
              "      border-top-color: var(--fill-color);\n",
              "    }\n",
              "    30% {\n",
              "      border-color: transparent;\n",
              "      border-left-color: var(--fill-color);\n",
              "      border-top-color: var(--fill-color);\n",
              "      border-right-color: var(--fill-color);\n",
              "    }\n",
              "    40% {\n",
              "      border-color: transparent;\n",
              "      border-right-color: var(--fill-color);\n",
              "      border-top-color: var(--fill-color);\n",
              "    }\n",
              "    60% {\n",
              "      border-color: transparent;\n",
              "      border-right-color: var(--fill-color);\n",
              "    }\n",
              "    80% {\n",
              "      border-color: transparent;\n",
              "      border-right-color: var(--fill-color);\n",
              "      border-bottom-color: var(--fill-color);\n",
              "    }\n",
              "    90% {\n",
              "      border-color: transparent;\n",
              "      border-bottom-color: var(--fill-color);\n",
              "    }\n",
              "  }\n",
              "</style>\n",
              "\n",
              "  <script>\n",
              "    async function quickchart(key) {\n",
              "      const quickchartButtonEl =\n",
              "        document.querySelector('#' + key + ' button');\n",
              "      quickchartButtonEl.disabled = true;  // To prevent multiple clicks.\n",
              "      quickchartButtonEl.classList.add('colab-df-spinner');\n",
              "      try {\n",
              "        const charts = await google.colab.kernel.invokeFunction(\n",
              "            'suggestCharts', [key], {});\n",
              "      } catch (error) {\n",
              "        console.error('Error during call to suggestCharts:', error);\n",
              "      }\n",
              "      quickchartButtonEl.classList.remove('colab-df-spinner');\n",
              "      quickchartButtonEl.classList.add('colab-df-quickchart-complete');\n",
              "    }\n",
              "    (() => {\n",
              "      let quickchartButtonEl =\n",
              "        document.querySelector('#df-e77f7084-cc89-4097-8465-24132db775dd button');\n",
              "      quickchartButtonEl.style.display =\n",
              "        google.colab.kernel.accessAllowed ? 'block' : 'none';\n",
              "    })();\n",
              "  </script>\n",
              "</div>\n",
              "\n",
              "  <div id=\"id_eb8ec23c-10fb-481b-8999-42d896985f05\">\n",
              "    <style>\n",
              "      .colab-df-generate {\n",
              "        background-color: #E8F0FE;\n",
              "        border: none;\n",
              "        border-radius: 50%;\n",
              "        cursor: pointer;\n",
              "        display: none;\n",
              "        fill: #1967D2;\n",
              "        height: 32px;\n",
              "        padding: 0 0 0 0;\n",
              "        width: 32px;\n",
              "      }\n",
              "\n",
              "      .colab-df-generate:hover {\n",
              "        background-color: #E2EBFA;\n",
              "        box-shadow: 0px 1px 2px rgba(60, 64, 67, 0.3), 0px 1px 3px 1px rgba(60, 64, 67, 0.15);\n",
              "        fill: #174EA6;\n",
              "      }\n",
              "\n",
              "      [theme=dark] .colab-df-generate {\n",
              "        background-color: #3B4455;\n",
              "        fill: #D2E3FC;\n",
              "      }\n",
              "\n",
              "      [theme=dark] .colab-df-generate:hover {\n",
              "        background-color: #434B5C;\n",
              "        box-shadow: 0px 1px 3px 1px rgba(0, 0, 0, 0.15);\n",
              "        filter: drop-shadow(0px 1px 2px rgba(0, 0, 0, 0.3));\n",
              "        fill: #FFFFFF;\n",
              "      }\n",
              "    </style>\n",
              "    <button class=\"colab-df-generate\" onclick=\"generateWithVariable('df2')\"\n",
              "            title=\"Generate code using this dataframe.\"\n",
              "            style=\"display:none;\">\n",
              "\n",
              "  <svg xmlns=\"http://www.w3.org/2000/svg\" height=\"24px\"viewBox=\"0 0 24 24\"\n",
              "       width=\"24px\">\n",
              "    <path d=\"M7,19H8.4L18.45,9,17,7.55,7,17.6ZM5,21V16.75L18.45,3.32a2,2,0,0,1,2.83,0l1.4,1.43a1.91,1.91,0,0,1,.58,1.4,1.91,1.91,0,0,1-.58,1.4L9.25,21ZM18.45,9,17,7.55Zm-12,3A5.31,5.31,0,0,0,4.9,8.1,5.31,5.31,0,0,0,1,6.5,5.31,5.31,0,0,0,4.9,4.9,5.31,5.31,0,0,0,6.5,1,5.31,5.31,0,0,0,8.1,4.9,5.31,5.31,0,0,0,12,6.5,5.46,5.46,0,0,0,6.5,12Z\"/>\n",
              "  </svg>\n",
              "    </button>\n",
              "    <script>\n",
              "      (() => {\n",
              "      const buttonEl =\n",
              "        document.querySelector('#id_eb8ec23c-10fb-481b-8999-42d896985f05 button.colab-df-generate');\n",
              "      buttonEl.style.display =\n",
              "        google.colab.kernel.accessAllowed ? 'block' : 'none';\n",
              "\n",
              "      buttonEl.onclick = () => {\n",
              "        google.colab.notebook.generateWithVariable('df2');\n",
              "      }\n",
              "      })();\n",
              "    </script>\n",
              "  </div>\n",
              "\n",
              "    </div>\n",
              "  </div>\n"
            ]
          },
          "metadata": {},
          "execution_count": 128
        }
      ],
      "source": [
        "df2 = pd.DataFrame(np.random.randint(low=0, high=10, size=(5, 5)), columns=['a', 'b', 'c', 'd', 'e'])\n",
        "df2"
      ]
    },
    {
      "cell_type": "markdown",
      "metadata": {
        "id": "BZQPX4VQyOl-"
      },
      "source": [
        "## 11.3 Dataframe creation from a list of dicts"
      ]
    },
    {
      "cell_type": "code",
      "execution_count": null,
      "metadata": {
        "id": "wRmFQs8IyOl_",
        "outputId": "ca0003aa-d26a-42a3-9e98-e357d966fead",
        "colab": {
          "base_uri": "https://localhost:8080/",
          "height": 112
        }
      },
      "outputs": [
        {
          "output_type": "execute_result",
          "data": {
            "text/plain": [
              "    a   b   c\n",
              "0  10  30  40\n",
              "1   5  10  20"
            ],
            "text/html": [
              "\n",
              "  <div id=\"df-e1d5de8b-6e7a-44d1-9ff8-9faec0d4845e\" class=\"colab-df-container\">\n",
              "    <div>\n",
              "<style scoped>\n",
              "    .dataframe tbody tr th:only-of-type {\n",
              "        vertical-align: middle;\n",
              "    }\n",
              "\n",
              "    .dataframe tbody tr th {\n",
              "        vertical-align: top;\n",
              "    }\n",
              "\n",
              "    .dataframe thead th {\n",
              "        text-align: right;\n",
              "    }\n",
              "</style>\n",
              "<table border=\"1\" class=\"dataframe\">\n",
              "  <thead>\n",
              "    <tr style=\"text-align: right;\">\n",
              "      <th></th>\n",
              "      <th>a</th>\n",
              "      <th>b</th>\n",
              "      <th>c</th>\n",
              "    </tr>\n",
              "  </thead>\n",
              "  <tbody>\n",
              "    <tr>\n",
              "      <th>0</th>\n",
              "      <td>10</td>\n",
              "      <td>30</td>\n",
              "      <td>40</td>\n",
              "    </tr>\n",
              "    <tr>\n",
              "      <th>1</th>\n",
              "      <td>5</td>\n",
              "      <td>10</td>\n",
              "      <td>20</td>\n",
              "    </tr>\n",
              "  </tbody>\n",
              "</table>\n",
              "</div>\n",
              "    <div class=\"colab-df-buttons\">\n",
              "\n",
              "  <div class=\"colab-df-container\">\n",
              "    <button class=\"colab-df-convert\" onclick=\"convertToInteractive('df-e1d5de8b-6e7a-44d1-9ff8-9faec0d4845e')\"\n",
              "            title=\"Convert this dataframe to an interactive table.\"\n",
              "            style=\"display:none;\">\n",
              "\n",
              "  <svg xmlns=\"http://www.w3.org/2000/svg\" height=\"24px\" viewBox=\"0 -960 960 960\">\n",
              "    <path d=\"M120-120v-720h720v720H120Zm60-500h600v-160H180v160Zm220 220h160v-160H400v160Zm0 220h160v-160H400v160ZM180-400h160v-160H180v160Zm440 0h160v-160H620v160ZM180-180h160v-160H180v160Zm440 0h160v-160H620v160Z\"/>\n",
              "  </svg>\n",
              "    </button>\n",
              "\n",
              "  <style>\n",
              "    .colab-df-container {\n",
              "      display:flex;\n",
              "      gap: 12px;\n",
              "    }\n",
              "\n",
              "    .colab-df-convert {\n",
              "      background-color: #E8F0FE;\n",
              "      border: none;\n",
              "      border-radius: 50%;\n",
              "      cursor: pointer;\n",
              "      display: none;\n",
              "      fill: #1967D2;\n",
              "      height: 32px;\n",
              "      padding: 0 0 0 0;\n",
              "      width: 32px;\n",
              "    }\n",
              "\n",
              "    .colab-df-convert:hover {\n",
              "      background-color: #E2EBFA;\n",
              "      box-shadow: 0px 1px 2px rgba(60, 64, 67, 0.3), 0px 1px 3px 1px rgba(60, 64, 67, 0.15);\n",
              "      fill: #174EA6;\n",
              "    }\n",
              "\n",
              "    .colab-df-buttons div {\n",
              "      margin-bottom: 4px;\n",
              "    }\n",
              "\n",
              "    [theme=dark] .colab-df-convert {\n",
              "      background-color: #3B4455;\n",
              "      fill: #D2E3FC;\n",
              "    }\n",
              "\n",
              "    [theme=dark] .colab-df-convert:hover {\n",
              "      background-color: #434B5C;\n",
              "      box-shadow: 0px 1px 3px 1px rgba(0, 0, 0, 0.15);\n",
              "      filter: drop-shadow(0px 1px 2px rgba(0, 0, 0, 0.3));\n",
              "      fill: #FFFFFF;\n",
              "    }\n",
              "  </style>\n",
              "\n",
              "    <script>\n",
              "      const buttonEl =\n",
              "        document.querySelector('#df-e1d5de8b-6e7a-44d1-9ff8-9faec0d4845e button.colab-df-convert');\n",
              "      buttonEl.style.display =\n",
              "        google.colab.kernel.accessAllowed ? 'block' : 'none';\n",
              "\n",
              "      async function convertToInteractive(key) {\n",
              "        const element = document.querySelector('#df-e1d5de8b-6e7a-44d1-9ff8-9faec0d4845e');\n",
              "        const dataTable =\n",
              "          await google.colab.kernel.invokeFunction('convertToInteractive',\n",
              "                                                    [key], {});\n",
              "        if (!dataTable) return;\n",
              "\n",
              "        const docLinkHtml = 'Like what you see? Visit the ' +\n",
              "          '<a target=\"_blank\" href=https://colab.research.google.com/notebooks/data_table.ipynb>data table notebook</a>'\n",
              "          + ' to learn more about interactive tables.';\n",
              "        element.innerHTML = '';\n",
              "        dataTable['output_type'] = 'display_data';\n",
              "        await google.colab.output.renderOutput(dataTable, element);\n",
              "        const docLink = document.createElement('div');\n",
              "        docLink.innerHTML = docLinkHtml;\n",
              "        element.appendChild(docLink);\n",
              "      }\n",
              "    </script>\n",
              "  </div>\n",
              "\n",
              "\n",
              "<div id=\"df-ae2d117d-05b5-4f05-943a-573b2048c5cb\">\n",
              "  <button class=\"colab-df-quickchart\" onclick=\"quickchart('df-ae2d117d-05b5-4f05-943a-573b2048c5cb')\"\n",
              "            title=\"Suggest charts\"\n",
              "            style=\"display:none;\">\n",
              "\n",
              "<svg xmlns=\"http://www.w3.org/2000/svg\" height=\"24px\"viewBox=\"0 0 24 24\"\n",
              "     width=\"24px\">\n",
              "    <g>\n",
              "        <path d=\"M19 3H5c-1.1 0-2 .9-2 2v14c0 1.1.9 2 2 2h14c1.1 0 2-.9 2-2V5c0-1.1-.9-2-2-2zM9 17H7v-7h2v7zm4 0h-2V7h2v10zm4 0h-2v-4h2v4z\"/>\n",
              "    </g>\n",
              "</svg>\n",
              "  </button>\n",
              "\n",
              "<style>\n",
              "  .colab-df-quickchart {\n",
              "      --bg-color: #E8F0FE;\n",
              "      --fill-color: #1967D2;\n",
              "      --hover-bg-color: #E2EBFA;\n",
              "      --hover-fill-color: #174EA6;\n",
              "      --disabled-fill-color: #AAA;\n",
              "      --disabled-bg-color: #DDD;\n",
              "  }\n",
              "\n",
              "  [theme=dark] .colab-df-quickchart {\n",
              "      --bg-color: #3B4455;\n",
              "      --fill-color: #D2E3FC;\n",
              "      --hover-bg-color: #434B5C;\n",
              "      --hover-fill-color: #FFFFFF;\n",
              "      --disabled-bg-color: #3B4455;\n",
              "      --disabled-fill-color: #666;\n",
              "  }\n",
              "\n",
              "  .colab-df-quickchart {\n",
              "    background-color: var(--bg-color);\n",
              "    border: none;\n",
              "    border-radius: 50%;\n",
              "    cursor: pointer;\n",
              "    display: none;\n",
              "    fill: var(--fill-color);\n",
              "    height: 32px;\n",
              "    padding: 0;\n",
              "    width: 32px;\n",
              "  }\n",
              "\n",
              "  .colab-df-quickchart:hover {\n",
              "    background-color: var(--hover-bg-color);\n",
              "    box-shadow: 0 1px 2px rgba(60, 64, 67, 0.3), 0 1px 3px 1px rgba(60, 64, 67, 0.15);\n",
              "    fill: var(--button-hover-fill-color);\n",
              "  }\n",
              "\n",
              "  .colab-df-quickchart-complete:disabled,\n",
              "  .colab-df-quickchart-complete:disabled:hover {\n",
              "    background-color: var(--disabled-bg-color);\n",
              "    fill: var(--disabled-fill-color);\n",
              "    box-shadow: none;\n",
              "  }\n",
              "\n",
              "  .colab-df-spinner {\n",
              "    border: 2px solid var(--fill-color);\n",
              "    border-color: transparent;\n",
              "    border-bottom-color: var(--fill-color);\n",
              "    animation:\n",
              "      spin 1s steps(1) infinite;\n",
              "  }\n",
              "\n",
              "  @keyframes spin {\n",
              "    0% {\n",
              "      border-color: transparent;\n",
              "      border-bottom-color: var(--fill-color);\n",
              "      border-left-color: var(--fill-color);\n",
              "    }\n",
              "    20% {\n",
              "      border-color: transparent;\n",
              "      border-left-color: var(--fill-color);\n",
              "      border-top-color: var(--fill-color);\n",
              "    }\n",
              "    30% {\n",
              "      border-color: transparent;\n",
              "      border-left-color: var(--fill-color);\n",
              "      border-top-color: var(--fill-color);\n",
              "      border-right-color: var(--fill-color);\n",
              "    }\n",
              "    40% {\n",
              "      border-color: transparent;\n",
              "      border-right-color: var(--fill-color);\n",
              "      border-top-color: var(--fill-color);\n",
              "    }\n",
              "    60% {\n",
              "      border-color: transparent;\n",
              "      border-right-color: var(--fill-color);\n",
              "    }\n",
              "    80% {\n",
              "      border-color: transparent;\n",
              "      border-right-color: var(--fill-color);\n",
              "      border-bottom-color: var(--fill-color);\n",
              "    }\n",
              "    90% {\n",
              "      border-color: transparent;\n",
              "      border-bottom-color: var(--fill-color);\n",
              "    }\n",
              "  }\n",
              "</style>\n",
              "\n",
              "  <script>\n",
              "    async function quickchart(key) {\n",
              "      const quickchartButtonEl =\n",
              "        document.querySelector('#' + key + ' button');\n",
              "      quickchartButtonEl.disabled = true;  // To prevent multiple clicks.\n",
              "      quickchartButtonEl.classList.add('colab-df-spinner');\n",
              "      try {\n",
              "        const charts = await google.colab.kernel.invokeFunction(\n",
              "            'suggestCharts', [key], {});\n",
              "      } catch (error) {\n",
              "        console.error('Error during call to suggestCharts:', error);\n",
              "      }\n",
              "      quickchartButtonEl.classList.remove('colab-df-spinner');\n",
              "      quickchartButtonEl.classList.add('colab-df-quickchart-complete');\n",
              "    }\n",
              "    (() => {\n",
              "      let quickchartButtonEl =\n",
              "        document.querySelector('#df-ae2d117d-05b5-4f05-943a-573b2048c5cb button');\n",
              "      quickchartButtonEl.style.display =\n",
              "        google.colab.kernel.accessAllowed ? 'block' : 'none';\n",
              "    })();\n",
              "  </script>\n",
              "</div>\n",
              "\n",
              "    </div>\n",
              "  </div>\n"
            ]
          },
          "metadata": {},
          "execution_count": 129
        }
      ],
      "source": [
        "data = [{'a':10,\"b\":30,\"c\":40},{'a':5,'b':10,'c':20}]\n",
        "pd.DataFrame(data)"
      ]
    },
    {
      "cell_type": "code",
      "execution_count": null,
      "metadata": {
        "id": "7lflySriyOl_",
        "outputId": "90e4af80-6ee4-435b-c24d-3f0aae9660b0"
      },
      "outputs": [
        {
          "data": {
            "text/html": [
              "<div>\n",
              "<style scoped>\n",
              "    .dataframe tbody tr th:only-of-type {\n",
              "        vertical-align: middle;\n",
              "    }\n",
              "\n",
              "    .dataframe tbody tr th {\n",
              "        vertical-align: top;\n",
              "    }\n",
              "\n",
              "    .dataframe thead th {\n",
              "        text-align: right;\n",
              "    }\n",
              "</style>\n",
              "<table border=\"1\" class=\"dataframe\">\n",
              "  <thead>\n",
              "    <tr style=\"text-align: right;\">\n",
              "      <th></th>\n",
              "      <th>a</th>\n",
              "      <th>b</th>\n",
              "      <th>c</th>\n",
              "    </tr>\n",
              "  </thead>\n",
              "  <tbody>\n",
              "    <tr>\n",
              "      <th>0</th>\n",
              "      <td>10</td>\n",
              "      <td>20</td>\n",
              "      <td>30</td>\n",
              "    </tr>\n",
              "    <tr>\n",
              "      <th>1</th>\n",
              "      <td>5</td>\n",
              "      <td>10</td>\n",
              "      <td>20</td>\n",
              "    </tr>\n",
              "  </tbody>\n",
              "</table>\n",
              "</div>"
            ],
            "text/plain": [
              "    a   b   c\n",
              "0  10  20  30\n",
              "1   5  10  20"
            ]
          },
          "execution_count": 22,
          "metadata": {},
          "output_type": "execute_result"
        }
      ],
      "source": [
        "data = [{'a':10,\"b\":20,\"c\":30},{'a':5,'b':10,'c':20}]\n",
        "pd.DataFrame(data)"
      ]
    },
    {
      "cell_type": "markdown",
      "metadata": {
        "id": "VrGbOC0eyOl_"
      },
      "source": [
        "## 11.4 Dataframe creation from a dict of tuples"
      ]
    },
    {
      "cell_type": "markdown",
      "metadata": {
        "id": "U2cukZnYyOl_"
      },
      "source": [
        " - You can automatically create a multi indexed by passing a tuple dictionary."
      ]
    },
    {
      "cell_type": "code",
      "execution_count": null,
      "metadata": {
        "id": "WD98AEpOyOl_",
        "outputId": "9dc47300-2a62-4386-e967-589c9d2f7cf1"
      },
      "outputs": [
        {
          "data": {
            "text/html": [
              "<div>\n",
              "<style scoped>\n",
              "    .dataframe tbody tr th:only-of-type {\n",
              "        vertical-align: middle;\n",
              "    }\n",
              "\n",
              "    .dataframe tbody tr th {\n",
              "        vertical-align: top;\n",
              "    }\n",
              "\n",
              "    .dataframe thead th {\n",
              "        text-align: right;\n",
              "    }\n",
              "</style>\n",
              "<table border=\"1\" class=\"dataframe\">\n",
              "  <thead>\n",
              "    <tr style=\"text-align: right;\">\n",
              "      <th></th>\n",
              "      <th>Age</th>\n",
              "      <th>Initial</th>\n",
              "      <th>Sex</th>\n",
              "    </tr>\n",
              "  </thead>\n",
              "  <tbody>\n",
              "    <tr>\n",
              "      <th>0</th>\n",
              "      <td>49</td>\n",
              "      <td>C</td>\n",
              "      <td>M</td>\n",
              "    </tr>\n",
              "    <tr>\n",
              "      <th>1</th>\n",
              "      <td>39</td>\n",
              "      <td>A</td>\n",
              "      <td>F</td>\n",
              "    </tr>\n",
              "    <tr>\n",
              "      <th>2</th>\n",
              "      <td>19</td>\n",
              "      <td>M</td>\n",
              "      <td>F</td>\n",
              "    </tr>\n",
              "  </tbody>\n",
              "</table>\n",
              "</div>"
            ],
            "text/plain": [
              "   Age Initial Sex\n",
              "0   49       C   M\n",
              "1   39       A   F\n",
              "2   19       M   F"
            ]
          },
          "execution_count": 24,
          "metadata": {},
          "output_type": "execute_result"
        }
      ],
      "source": [
        "\n",
        "df = pd.DataFrame({'Initial': ['C','A','M'], 'Sex': ['M', 'F', 'F'], 'Age': [49, 39, 19]})\n",
        "#df = df[['Initial', 'Sex', 'Age']]\n",
        "df"
      ]
    },
    {
      "cell_type": "code",
      "execution_count": null,
      "metadata": {
        "id": "Q2xIJhQeyOl_",
        "outputId": "9cb8fb17-3d1a-4b4e-e075-a07e8e657978"
      },
      "outputs": [
        {
          "data": {
            "text/html": [
              "<div>\n",
              "<style scoped>\n",
              "    .dataframe tbody tr th:only-of-type {\n",
              "        vertical-align: middle;\n",
              "    }\n",
              "\n",
              "    .dataframe tbody tr th {\n",
              "        vertical-align: top;\n",
              "    }\n",
              "\n",
              "    .dataframe thead th {\n",
              "        text-align: right;\n",
              "    }\n",
              "</style>\n",
              "<table border=\"1\" class=\"dataframe\">\n",
              "  <thead>\n",
              "    <tr style=\"text-align: right;\">\n",
              "      <th></th>\n",
              "      <th>0</th>\n",
              "      <th>1</th>\n",
              "      <th>2</th>\n",
              "      <th>3</th>\n",
              "    </tr>\n",
              "  </thead>\n",
              "  <tbody>\n",
              "    <tr>\n",
              "      <th>0</th>\n",
              "      <td>p1</td>\n",
              "      <td>t1</td>\n",
              "      <td>1</td>\n",
              "      <td>2</td>\n",
              "    </tr>\n",
              "    <tr>\n",
              "      <th>1</th>\n",
              "      <td>p1</td>\n",
              "      <td>t2</td>\n",
              "      <td>3</td>\n",
              "      <td>4</td>\n",
              "    </tr>\n",
              "    <tr>\n",
              "      <th>2</th>\n",
              "      <td>p2</td>\n",
              "      <td>t1</td>\n",
              "      <td>5</td>\n",
              "      <td>6</td>\n",
              "    </tr>\n",
              "    <tr>\n",
              "      <th>3</th>\n",
              "      <td>p2</td>\n",
              "      <td>t2</td>\n",
              "      <td>7</td>\n",
              "      <td>8</td>\n",
              "    </tr>\n",
              "    <tr>\n",
              "      <th>4</th>\n",
              "      <td>p2</td>\n",
              "      <td>t3</td>\n",
              "      <td>2</td>\n",
              "      <td>8</td>\n",
              "    </tr>\n",
              "  </tbody>\n",
              "</table>\n",
              "</div>"
            ],
            "text/plain": [
              "    0   1  2  3\n",
              "0  p1  t1  1  2\n",
              "1  p1  t2  3  4\n",
              "2  p2  t1  5  6\n",
              "3  p2  t2  7  8\n",
              "4  p2  t3  2  8"
            ]
          },
          "execution_count": 26,
          "metadata": {},
          "output_type": "execute_result"
        }
      ],
      "source": [
        "data = [('p1', 't1', 1, 2),('p1', 't2', 3, 4),('p2', 't1', 5, 6),('p2', 't2', 7, 8),('p2', 't3', 2, 8)]\n",
        "\n",
        "df = pd.DataFrame(data)\n",
        "df"
      ]
    },
    {
      "cell_type": "markdown",
      "metadata": {
        "id": "COgV8LakyOmA"
      },
      "source": [
        "## 11.5 Alternate constructors"
      ]
    },
    {
      "cell_type": "markdown",
      "metadata": {
        "id": "CkubtOVuyOmA"
      },
      "source": [
        "### Dataframe.from_dict"
      ]
    },
    {
      "cell_type": "markdown",
      "metadata": {
        "id": "AL5jdDp5yOmA"
      },
      "source": [
        " - Dataframe.from_dict takes a dict of dictsor a dict of array like sequences and returns a Dataframe.\n",
        " - It operates like the dataframe constructor except for the orient parameter which is coulmn by default,but which can be set to index in order to use the dict keys as row labels."
      ]
    },
    {
      "cell_type": "code",
      "execution_count": null,
      "metadata": {
        "id": "DVFbuvKTyOmA",
        "outputId": "101fb8df-de57-4e7f-cfee-6caadcd78a6a"
      },
      "outputs": [
        {
          "data": {
            "text/html": [
              "<div>\n",
              "<style scoped>\n",
              "    .dataframe tbody tr th:only-of-type {\n",
              "        vertical-align: middle;\n",
              "    }\n",
              "\n",
              "    .dataframe tbody tr th {\n",
              "        vertical-align: top;\n",
              "    }\n",
              "\n",
              "    .dataframe thead th {\n",
              "        text-align: right;\n",
              "    }\n",
              "</style>\n",
              "<table border=\"1\" class=\"dataframe\">\n",
              "  <thead>\n",
              "    <tr style=\"text-align: right;\">\n",
              "      <th></th>\n",
              "      <th>e</th>\n",
              "      <th>d</th>\n",
              "      <th>f</th>\n",
              "      <th>a</th>\n",
              "      <th>c</th>\n",
              "      <th>b</th>\n",
              "      <th>i</th>\n",
              "      <th>h</th>\n",
              "      <th>g</th>\n",
              "    </tr>\n",
              "  </thead>\n",
              "  <tbody>\n",
              "    <tr>\n",
              "      <th>X</th>\n",
              "      <td>0</td>\n",
              "      <td>0</td>\n",
              "      <td>0</td>\n",
              "      <td>1</td>\n",
              "      <td>3</td>\n",
              "      <td>2</td>\n",
              "      <td>0</td>\n",
              "      <td>0</td>\n",
              "      <td>0</td>\n",
              "    </tr>\n",
              "    <tr>\n",
              "      <th>Y</th>\n",
              "      <td>5</td>\n",
              "      <td>4</td>\n",
              "      <td>6</td>\n",
              "      <td>0</td>\n",
              "      <td>0</td>\n",
              "      <td>0</td>\n",
              "      <td>0</td>\n",
              "      <td>0</td>\n",
              "      <td>0</td>\n",
              "    </tr>\n",
              "    <tr>\n",
              "      <th>Z</th>\n",
              "      <td>0</td>\n",
              "      <td>0</td>\n",
              "      <td>0</td>\n",
              "      <td>0</td>\n",
              "      <td>0</td>\n",
              "      <td>0</td>\n",
              "      <td>9</td>\n",
              "      <td>8</td>\n",
              "      <td>7</td>\n",
              "    </tr>\n",
              "  </tbody>\n",
              "</table>\n",
              "</div>"
            ],
            "text/plain": [
              "   e  d  f  a  c  b  i  h  g\n",
              "X  0  0  0  1  3  2  0  0  0\n",
              "Y  5  4  6  0  0  0  0  0  0\n",
              "Z  0  0  0  0  0  0  9  8  7"
            ]
          },
          "execution_count": 27,
          "metadata": {},
          "output_type": "execute_result"
        }
      ],
      "source": [
        "data = {\"X\": {'a': 1, 'b': 2, 'c': 3}, \"Y\": {'d': 4, 'e': 5, 'f': 6}, \"Z\": {'g': 7, 'h': 8, 'i': 9}}\n",
        "\n",
        "df = pd.DataFrame.from_dict(data, orient=\"index\").fillna(0).astype(int)\n",
        "df"
      ]
    },
    {
      "cell_type": "markdown",
      "metadata": {
        "id": "29O-e8MAyOmA"
      },
      "source": [
        "### Dataframe.from_records"
      ]
    },
    {
      "cell_type": "markdown",
      "metadata": {
        "id": "kuaLvfMeyOmA"
      },
      "source": [
        "- Dataframe.from_records take a list of tuples or an ndarray with structured dtype.\n",
        "- Works analogously to the normal dataframe constructor,except that index may be aspecific field of the structured dtype to use as the index.for example:"
      ]
    },
    {
      "cell_type": "code",
      "execution_count": null,
      "metadata": {
        "id": "eKq1iZcbyOmA",
        "outputId": "cb9f3f0c-2495-4399-b17a-929c8a332346"
      },
      "outputs": [
        {
          "data": {
            "text/html": [
              "<div>\n",
              "<style scoped>\n",
              "    .dataframe tbody tr th:only-of-type {\n",
              "        vertical-align: middle;\n",
              "    }\n",
              "\n",
              "    .dataframe tbody tr th {\n",
              "        vertical-align: top;\n",
              "    }\n",
              "\n",
              "    .dataframe thead th {\n",
              "        text-align: right;\n",
              "    }\n",
              "</style>\n",
              "<table border=\"1\" class=\"dataframe\">\n",
              "  <thead>\n",
              "    <tr style=\"text-align: right;\">\n",
              "      <th></th>\n",
              "      <th>account</th>\n",
              "      <th>Jan</th>\n",
              "      <th>Feb</th>\n",
              "      <th>Mar</th>\n",
              "    </tr>\n",
              "  </thead>\n",
              "  <tbody>\n",
              "    <tr>\n",
              "      <th>0</th>\n",
              "      <td>Jones LLC</td>\n",
              "      <td>150</td>\n",
              "      <td>200</td>\n",
              "      <td>50</td>\n",
              "    </tr>\n",
              "    <tr>\n",
              "      <th>1</th>\n",
              "      <td>Alpha Co</td>\n",
              "      <td>200</td>\n",
              "      <td>210</td>\n",
              "      <td>90</td>\n",
              "    </tr>\n",
              "    <tr>\n",
              "      <th>2</th>\n",
              "      <td>Blue Inc</td>\n",
              "      <td>140</td>\n",
              "      <td>215</td>\n",
              "      <td>95</td>\n",
              "    </tr>\n",
              "  </tbody>\n",
              "</table>\n",
              "</div>"
            ],
            "text/plain": [
              "     account  Jan  Feb  Mar\n",
              "0  Jones LLC  150  200   50\n",
              "1   Alpha Co  200  210   90\n",
              "2   Blue Inc  140  215   95"
            ]
          },
          "execution_count": 28,
          "metadata": {},
          "output_type": "execute_result"
        }
      ],
      "source": [
        "sales = [('Jones LLC', 150, 200, 50),\n",
        "     ('Alpha Co', 200, 210, 90),\n",
        "     ('Blue Inc', 140, 215, 95)]\n",
        "labels = ['account', 'Jan', 'Feb', 'Mar']\n",
        "df = pd.DataFrame.from_records(sales, columns=labels)\n",
        "df"
      ]
    },
    {
      "cell_type": "markdown",
      "metadata": {
        "id": "lR1PNWYxyOmA"
      },
      "source": [
        "### Dataframe.from_items"
      ]
    },
    {
      "cell_type": "markdown",
      "metadata": {
        "id": "2ms4-7WsyOmB"
      },
      "source": [
        "- Convert (key, value) pairs to DataFrame. The keys will be the axis index (usually the columns, but depends on the specified orientation). The values should be arrays or Series."
      ]
    },
    {
      "cell_type": "code",
      "execution_count": null,
      "metadata": {
        "id": "jPhS9Q84yOmB",
        "outputId": "fc75e310-9151-4f39-e0a6-df28b6b3a04f",
        "colab": {
          "base_uri": "https://localhost:8080/",
          "height": 145
        }
      },
      "outputs": [
        {
          "output_type": "error",
          "ename": "SyntaxError",
          "evalue": "incomplete input (<ipython-input-130-db703712a61e>, line 1)",
          "traceback": [
            "\u001b[0;36m  File \u001b[0;32m\"<ipython-input-130-db703712a61e>\"\u001b[0;36m, line \u001b[0;32m1\u001b[0m\n\u001b[0;31m    df=pd.DataFrame.from_items([('A',[1,2,3]),('B',[4,5,6])]\u001b[0m\n\u001b[0m                                                            ^\u001b[0m\n\u001b[0;31mSyntaxError\u001b[0m\u001b[0;31m:\u001b[0m incomplete input\n"
          ]
        }
      ],
      "source": [
        "df=pd.DataFrame.from_items([('A',[1,2,3]),('B',[4,5,6])]\n"
      ]
    },
    {
      "cell_type": "code",
      "execution_count": null,
      "metadata": {
        "id": "5JxvAPgSyOmB",
        "outputId": "2d62e264-1201-44d0-a984-bdaa2db95938",
        "colab": {
          "base_uri": "https://localhost:8080/",
          "height": 199
        }
      },
      "outputs": [
        {
          "output_type": "error",
          "ename": "AttributeError",
          "evalue": "type object 'DataFrame' has no attribute 'from_items'",
          "traceback": [
            "\u001b[0;31m---------------------------------------------------------------------------\u001b[0m",
            "\u001b[0;31mAttributeError\u001b[0m                            Traceback (most recent call last)",
            "\u001b[0;32m<ipython-input-131-467a0c9bbcda>\u001b[0m in \u001b[0;36m<cell line: 1>\u001b[0;34m()\u001b[0m\n\u001b[0;32m----> 1\u001b[0;31m \u001b[0mdf\u001b[0m\u001b[0;34m=\u001b[0m\u001b[0mpd\u001b[0m\u001b[0;34m.\u001b[0m\u001b[0mDataFrame\u001b[0m\u001b[0;34m.\u001b[0m\u001b[0mfrom_items\u001b[0m\u001b[0;34m(\u001b[0m\u001b[0;34m[\u001b[0m\u001b[0;34m(\u001b[0m\u001b[0;34m'A'\u001b[0m\u001b[0;34m,\u001b[0m\u001b[0;34m[\u001b[0m\u001b[0;36m1\u001b[0m\u001b[0;34m,\u001b[0m\u001b[0;36m2\u001b[0m\u001b[0;34m,\u001b[0m\u001b[0;36m3\u001b[0m\u001b[0;34m]\u001b[0m\u001b[0;34m)\u001b[0m\u001b[0;34m,\u001b[0m\u001b[0;34m(\u001b[0m\u001b[0;34m'B'\u001b[0m\u001b[0;34m,\u001b[0m\u001b[0;34m[\u001b[0m\u001b[0;36m4\u001b[0m\u001b[0;34m,\u001b[0m\u001b[0;36m5\u001b[0m\u001b[0;34m,\u001b[0m\u001b[0;36m6\u001b[0m\u001b[0;34m]\u001b[0m\u001b[0;34m)\u001b[0m\u001b[0;34m]\u001b[0m\u001b[0;34m)\u001b[0m\u001b[0;34m\u001b[0m\u001b[0;34m\u001b[0m\u001b[0m\n\u001b[0m\u001b[1;32m      2\u001b[0m \u001b[0mdf\u001b[0m\u001b[0;34m\u001b[0m\u001b[0;34m\u001b[0m\u001b[0m\n",
            "\u001b[0;31mAttributeError\u001b[0m: type object 'DataFrame' has no attribute 'from_items'"
          ]
        }
      ],
      "source": [
        "df=pd.DataFrame.from_items([('A',[1,2,3]),('B',[4,5,6])])\n",
        "df"
      ]
    },
    {
      "cell_type": "markdown",
      "metadata": {
        "id": "4kGxkCE9yOmB"
      },
      "source": [
        "## 11.6 Column selection,addition,deletion"
      ]
    },
    {
      "cell_type": "markdown",
      "metadata": {
        "id": "X34ojPsWyOmB"
      },
      "source": [
        " - You can treat a DataFrame semantically like a dict of like-indexed Series objects. Getting, setting, and deleting columns works with the same syntax as the analogous dict operations:"
      ]
    },
    {
      "cell_type": "code",
      "execution_count": null,
      "metadata": {
        "id": "7nTCBksXyOmB",
        "outputId": "a9be6c17-0159-49f6-fde2-db06be916839",
        "colab": {
          "base_uri": "https://localhost:8080/",
          "height": 143
        }
      },
      "outputs": [
        {
          "output_type": "execute_result",
          "data": {
            "text/plain": [
              "   a  b\n",
              "0  1  2\n",
              "1  3  4\n",
              "2  5  6"
            ],
            "text/html": [
              "\n",
              "  <div id=\"df-af55fbe8-1d77-4292-81ae-02003fb0f528\" class=\"colab-df-container\">\n",
              "    <div>\n",
              "<style scoped>\n",
              "    .dataframe tbody tr th:only-of-type {\n",
              "        vertical-align: middle;\n",
              "    }\n",
              "\n",
              "    .dataframe tbody tr th {\n",
              "        vertical-align: top;\n",
              "    }\n",
              "\n",
              "    .dataframe thead th {\n",
              "        text-align: right;\n",
              "    }\n",
              "</style>\n",
              "<table border=\"1\" class=\"dataframe\">\n",
              "  <thead>\n",
              "    <tr style=\"text-align: right;\">\n",
              "      <th></th>\n",
              "      <th>a</th>\n",
              "      <th>b</th>\n",
              "    </tr>\n",
              "  </thead>\n",
              "  <tbody>\n",
              "    <tr>\n",
              "      <th>0</th>\n",
              "      <td>1</td>\n",
              "      <td>2</td>\n",
              "    </tr>\n",
              "    <tr>\n",
              "      <th>1</th>\n",
              "      <td>3</td>\n",
              "      <td>4</td>\n",
              "    </tr>\n",
              "    <tr>\n",
              "      <th>2</th>\n",
              "      <td>5</td>\n",
              "      <td>6</td>\n",
              "    </tr>\n",
              "  </tbody>\n",
              "</table>\n",
              "</div>\n",
              "    <div class=\"colab-df-buttons\">\n",
              "\n",
              "  <div class=\"colab-df-container\">\n",
              "    <button class=\"colab-df-convert\" onclick=\"convertToInteractive('df-af55fbe8-1d77-4292-81ae-02003fb0f528')\"\n",
              "            title=\"Convert this dataframe to an interactive table.\"\n",
              "            style=\"display:none;\">\n",
              "\n",
              "  <svg xmlns=\"http://www.w3.org/2000/svg\" height=\"24px\" viewBox=\"0 -960 960 960\">\n",
              "    <path d=\"M120-120v-720h720v720H120Zm60-500h600v-160H180v160Zm220 220h160v-160H400v160Zm0 220h160v-160H400v160ZM180-400h160v-160H180v160Zm440 0h160v-160H620v160ZM180-180h160v-160H180v160Zm440 0h160v-160H620v160Z\"/>\n",
              "  </svg>\n",
              "    </button>\n",
              "\n",
              "  <style>\n",
              "    .colab-df-container {\n",
              "      display:flex;\n",
              "      gap: 12px;\n",
              "    }\n",
              "\n",
              "    .colab-df-convert {\n",
              "      background-color: #E8F0FE;\n",
              "      border: none;\n",
              "      border-radius: 50%;\n",
              "      cursor: pointer;\n",
              "      display: none;\n",
              "      fill: #1967D2;\n",
              "      height: 32px;\n",
              "      padding: 0 0 0 0;\n",
              "      width: 32px;\n",
              "    }\n",
              "\n",
              "    .colab-df-convert:hover {\n",
              "      background-color: #E2EBFA;\n",
              "      box-shadow: 0px 1px 2px rgba(60, 64, 67, 0.3), 0px 1px 3px 1px rgba(60, 64, 67, 0.15);\n",
              "      fill: #174EA6;\n",
              "    }\n",
              "\n",
              "    .colab-df-buttons div {\n",
              "      margin-bottom: 4px;\n",
              "    }\n",
              "\n",
              "    [theme=dark] .colab-df-convert {\n",
              "      background-color: #3B4455;\n",
              "      fill: #D2E3FC;\n",
              "    }\n",
              "\n",
              "    [theme=dark] .colab-df-convert:hover {\n",
              "      background-color: #434B5C;\n",
              "      box-shadow: 0px 1px 3px 1px rgba(0, 0, 0, 0.15);\n",
              "      filter: drop-shadow(0px 1px 2px rgba(0, 0, 0, 0.3));\n",
              "      fill: #FFFFFF;\n",
              "    }\n",
              "  </style>\n",
              "\n",
              "    <script>\n",
              "      const buttonEl =\n",
              "        document.querySelector('#df-af55fbe8-1d77-4292-81ae-02003fb0f528 button.colab-df-convert');\n",
              "      buttonEl.style.display =\n",
              "        google.colab.kernel.accessAllowed ? 'block' : 'none';\n",
              "\n",
              "      async function convertToInteractive(key) {\n",
              "        const element = document.querySelector('#df-af55fbe8-1d77-4292-81ae-02003fb0f528');\n",
              "        const dataTable =\n",
              "          await google.colab.kernel.invokeFunction('convertToInteractive',\n",
              "                                                    [key], {});\n",
              "        if (!dataTable) return;\n",
              "\n",
              "        const docLinkHtml = 'Like what you see? Visit the ' +\n",
              "          '<a target=\"_blank\" href=https://colab.research.google.com/notebooks/data_table.ipynb>data table notebook</a>'\n",
              "          + ' to learn more about interactive tables.';\n",
              "        element.innerHTML = '';\n",
              "        dataTable['output_type'] = 'display_data';\n",
              "        await google.colab.output.renderOutput(dataTable, element);\n",
              "        const docLink = document.createElement('div');\n",
              "        docLink.innerHTML = docLinkHtml;\n",
              "        element.appendChild(docLink);\n",
              "      }\n",
              "    </script>\n",
              "  </div>\n",
              "\n",
              "\n",
              "<div id=\"df-27225454-b699-4bcf-acb1-1ec89a3acebc\">\n",
              "  <button class=\"colab-df-quickchart\" onclick=\"quickchart('df-27225454-b699-4bcf-acb1-1ec89a3acebc')\"\n",
              "            title=\"Suggest charts\"\n",
              "            style=\"display:none;\">\n",
              "\n",
              "<svg xmlns=\"http://www.w3.org/2000/svg\" height=\"24px\"viewBox=\"0 0 24 24\"\n",
              "     width=\"24px\">\n",
              "    <g>\n",
              "        <path d=\"M19 3H5c-1.1 0-2 .9-2 2v14c0 1.1.9 2 2 2h14c1.1 0 2-.9 2-2V5c0-1.1-.9-2-2-2zM9 17H7v-7h2v7zm4 0h-2V7h2v10zm4 0h-2v-4h2v4z\"/>\n",
              "    </g>\n",
              "</svg>\n",
              "  </button>\n",
              "\n",
              "<style>\n",
              "  .colab-df-quickchart {\n",
              "      --bg-color: #E8F0FE;\n",
              "      --fill-color: #1967D2;\n",
              "      --hover-bg-color: #E2EBFA;\n",
              "      --hover-fill-color: #174EA6;\n",
              "      --disabled-fill-color: #AAA;\n",
              "      --disabled-bg-color: #DDD;\n",
              "  }\n",
              "\n",
              "  [theme=dark] .colab-df-quickchart {\n",
              "      --bg-color: #3B4455;\n",
              "      --fill-color: #D2E3FC;\n",
              "      --hover-bg-color: #434B5C;\n",
              "      --hover-fill-color: #FFFFFF;\n",
              "      --disabled-bg-color: #3B4455;\n",
              "      --disabled-fill-color: #666;\n",
              "  }\n",
              "\n",
              "  .colab-df-quickchart {\n",
              "    background-color: var(--bg-color);\n",
              "    border: none;\n",
              "    border-radius: 50%;\n",
              "    cursor: pointer;\n",
              "    display: none;\n",
              "    fill: var(--fill-color);\n",
              "    height: 32px;\n",
              "    padding: 0;\n",
              "    width: 32px;\n",
              "  }\n",
              "\n",
              "  .colab-df-quickchart:hover {\n",
              "    background-color: var(--hover-bg-color);\n",
              "    box-shadow: 0 1px 2px rgba(60, 64, 67, 0.3), 0 1px 3px 1px rgba(60, 64, 67, 0.15);\n",
              "    fill: var(--button-hover-fill-color);\n",
              "  }\n",
              "\n",
              "  .colab-df-quickchart-complete:disabled,\n",
              "  .colab-df-quickchart-complete:disabled:hover {\n",
              "    background-color: var(--disabled-bg-color);\n",
              "    fill: var(--disabled-fill-color);\n",
              "    box-shadow: none;\n",
              "  }\n",
              "\n",
              "  .colab-df-spinner {\n",
              "    border: 2px solid var(--fill-color);\n",
              "    border-color: transparent;\n",
              "    border-bottom-color: var(--fill-color);\n",
              "    animation:\n",
              "      spin 1s steps(1) infinite;\n",
              "  }\n",
              "\n",
              "  @keyframes spin {\n",
              "    0% {\n",
              "      border-color: transparent;\n",
              "      border-bottom-color: var(--fill-color);\n",
              "      border-left-color: var(--fill-color);\n",
              "    }\n",
              "    20% {\n",
              "      border-color: transparent;\n",
              "      border-left-color: var(--fill-color);\n",
              "      border-top-color: var(--fill-color);\n",
              "    }\n",
              "    30% {\n",
              "      border-color: transparent;\n",
              "      border-left-color: var(--fill-color);\n",
              "      border-top-color: var(--fill-color);\n",
              "      border-right-color: var(--fill-color);\n",
              "    }\n",
              "    40% {\n",
              "      border-color: transparent;\n",
              "      border-right-color: var(--fill-color);\n",
              "      border-top-color: var(--fill-color);\n",
              "    }\n",
              "    60% {\n",
              "      border-color: transparent;\n",
              "      border-right-color: var(--fill-color);\n",
              "    }\n",
              "    80% {\n",
              "      border-color: transparent;\n",
              "      border-right-color: var(--fill-color);\n",
              "      border-bottom-color: var(--fill-color);\n",
              "    }\n",
              "    90% {\n",
              "      border-color: transparent;\n",
              "      border-bottom-color: var(--fill-color);\n",
              "    }\n",
              "  }\n",
              "</style>\n",
              "\n",
              "  <script>\n",
              "    async function quickchart(key) {\n",
              "      const quickchartButtonEl =\n",
              "        document.querySelector('#' + key + ' button');\n",
              "      quickchartButtonEl.disabled = true;  // To prevent multiple clicks.\n",
              "      quickchartButtonEl.classList.add('colab-df-spinner');\n",
              "      try {\n",
              "        const charts = await google.colab.kernel.invokeFunction(\n",
              "            'suggestCharts', [key], {});\n",
              "      } catch (error) {\n",
              "        console.error('Error during call to suggestCharts:', error);\n",
              "      }\n",
              "      quickchartButtonEl.classList.remove('colab-df-spinner');\n",
              "      quickchartButtonEl.classList.add('colab-df-quickchart-complete');\n",
              "    }\n",
              "    (() => {\n",
              "      let quickchartButtonEl =\n",
              "        document.querySelector('#df-27225454-b699-4bcf-acb1-1ec89a3acebc button');\n",
              "      quickchartButtonEl.style.display =\n",
              "        google.colab.kernel.accessAllowed ? 'block' : 'none';\n",
              "    })();\n",
              "  </script>\n",
              "</div>\n",
              "\n",
              "  <div id=\"id_3a05a933-4628-4a42-9e45-520e0f1b4a7a\">\n",
              "    <style>\n",
              "      .colab-df-generate {\n",
              "        background-color: #E8F0FE;\n",
              "        border: none;\n",
              "        border-radius: 50%;\n",
              "        cursor: pointer;\n",
              "        display: none;\n",
              "        fill: #1967D2;\n",
              "        height: 32px;\n",
              "        padding: 0 0 0 0;\n",
              "        width: 32px;\n",
              "      }\n",
              "\n",
              "      .colab-df-generate:hover {\n",
              "        background-color: #E2EBFA;\n",
              "        box-shadow: 0px 1px 2px rgba(60, 64, 67, 0.3), 0px 1px 3px 1px rgba(60, 64, 67, 0.15);\n",
              "        fill: #174EA6;\n",
              "      }\n",
              "\n",
              "      [theme=dark] .colab-df-generate {\n",
              "        background-color: #3B4455;\n",
              "        fill: #D2E3FC;\n",
              "      }\n",
              "\n",
              "      [theme=dark] .colab-df-generate:hover {\n",
              "        background-color: #434B5C;\n",
              "        box-shadow: 0px 1px 3px 1px rgba(0, 0, 0, 0.15);\n",
              "        filter: drop-shadow(0px 1px 2px rgba(0, 0, 0, 0.3));\n",
              "        fill: #FFFFFF;\n",
              "      }\n",
              "    </style>\n",
              "    <button class=\"colab-df-generate\" onclick=\"generateWithVariable('df')\"\n",
              "            title=\"Generate code using this dataframe.\"\n",
              "            style=\"display:none;\">\n",
              "\n",
              "  <svg xmlns=\"http://www.w3.org/2000/svg\" height=\"24px\"viewBox=\"0 0 24 24\"\n",
              "       width=\"24px\">\n",
              "    <path d=\"M7,19H8.4L18.45,9,17,7.55,7,17.6ZM5,21V16.75L18.45,3.32a2,2,0,0,1,2.83,0l1.4,1.43a1.91,1.91,0,0,1,.58,1.4,1.91,1.91,0,0,1-.58,1.4L9.25,21ZM18.45,9,17,7.55Zm-12,3A5.31,5.31,0,0,0,4.9,8.1,5.31,5.31,0,0,0,1,6.5,5.31,5.31,0,0,0,4.9,4.9,5.31,5.31,0,0,0,6.5,1,5.31,5.31,0,0,0,8.1,4.9,5.31,5.31,0,0,0,12,6.5,5.46,5.46,0,0,0,6.5,12Z\"/>\n",
              "  </svg>\n",
              "    </button>\n",
              "    <script>\n",
              "      (() => {\n",
              "      const buttonEl =\n",
              "        document.querySelector('#id_3a05a933-4628-4a42-9e45-520e0f1b4a7a button.colab-df-generate');\n",
              "      buttonEl.style.display =\n",
              "        google.colab.kernel.accessAllowed ? 'block' : 'none';\n",
              "\n",
              "      buttonEl.onclick = () => {\n",
              "        google.colab.notebook.generateWithVariable('df');\n",
              "      }\n",
              "      })();\n",
              "    </script>\n",
              "  </div>\n",
              "\n",
              "    </div>\n",
              "  </div>\n"
            ]
          },
          "metadata": {},
          "execution_count": 132
        }
      ],
      "source": [
        "df = pd.DataFrame([[1,2],[3,4],[5,6]], columns=['a','b']) # you can adress column by index\n",
        "df"
      ]
    },
    {
      "cell_type": "code",
      "execution_count": null,
      "metadata": {
        "id": "tKXcdb4RyOmB",
        "outputId": "6317357a-cd57-4995-be90-a42d30620271",
        "colab": {
          "base_uri": "https://localhost:8080/",
          "height": 161
        }
      },
      "outputs": [
        {
          "output_type": "stream",
          "name": "stdout",
          "text": [
            "rename the a a to a b \n"
          ]
        },
        {
          "output_type": "execute_result",
          "data": {
            "text/plain": [
              "   a  b\n",
              "0  1  2\n",
              "1  3  4\n",
              "2  5  6"
            ],
            "text/html": [
              "\n",
              "  <div id=\"df-6f312f2e-831d-404d-9d6c-5d316ed79432\" class=\"colab-df-container\">\n",
              "    <div>\n",
              "<style scoped>\n",
              "    .dataframe tbody tr th:only-of-type {\n",
              "        vertical-align: middle;\n",
              "    }\n",
              "\n",
              "    .dataframe tbody tr th {\n",
              "        vertical-align: top;\n",
              "    }\n",
              "\n",
              "    .dataframe thead th {\n",
              "        text-align: right;\n",
              "    }\n",
              "</style>\n",
              "<table border=\"1\" class=\"dataframe\">\n",
              "  <thead>\n",
              "    <tr style=\"text-align: right;\">\n",
              "      <th></th>\n",
              "      <th>a</th>\n",
              "      <th>b</th>\n",
              "    </tr>\n",
              "  </thead>\n",
              "  <tbody>\n",
              "    <tr>\n",
              "      <th>0</th>\n",
              "      <td>1</td>\n",
              "      <td>2</td>\n",
              "    </tr>\n",
              "    <tr>\n",
              "      <th>1</th>\n",
              "      <td>3</td>\n",
              "      <td>4</td>\n",
              "    </tr>\n",
              "    <tr>\n",
              "      <th>2</th>\n",
              "      <td>5</td>\n",
              "      <td>6</td>\n",
              "    </tr>\n",
              "  </tbody>\n",
              "</table>\n",
              "</div>\n",
              "    <div class=\"colab-df-buttons\">\n",
              "\n",
              "  <div class=\"colab-df-container\">\n",
              "    <button class=\"colab-df-convert\" onclick=\"convertToInteractive('df-6f312f2e-831d-404d-9d6c-5d316ed79432')\"\n",
              "            title=\"Convert this dataframe to an interactive table.\"\n",
              "            style=\"display:none;\">\n",
              "\n",
              "  <svg xmlns=\"http://www.w3.org/2000/svg\" height=\"24px\" viewBox=\"0 -960 960 960\">\n",
              "    <path d=\"M120-120v-720h720v720H120Zm60-500h600v-160H180v160Zm220 220h160v-160H400v160Zm0 220h160v-160H400v160ZM180-400h160v-160H180v160Zm440 0h160v-160H620v160ZM180-180h160v-160H180v160Zm440 0h160v-160H620v160Z\"/>\n",
              "  </svg>\n",
              "    </button>\n",
              "\n",
              "  <style>\n",
              "    .colab-df-container {\n",
              "      display:flex;\n",
              "      gap: 12px;\n",
              "    }\n",
              "\n",
              "    .colab-df-convert {\n",
              "      background-color: #E8F0FE;\n",
              "      border: none;\n",
              "      border-radius: 50%;\n",
              "      cursor: pointer;\n",
              "      display: none;\n",
              "      fill: #1967D2;\n",
              "      height: 32px;\n",
              "      padding: 0 0 0 0;\n",
              "      width: 32px;\n",
              "    }\n",
              "\n",
              "    .colab-df-convert:hover {\n",
              "      background-color: #E2EBFA;\n",
              "      box-shadow: 0px 1px 2px rgba(60, 64, 67, 0.3), 0px 1px 3px 1px rgba(60, 64, 67, 0.15);\n",
              "      fill: #174EA6;\n",
              "    }\n",
              "\n",
              "    .colab-df-buttons div {\n",
              "      margin-bottom: 4px;\n",
              "    }\n",
              "\n",
              "    [theme=dark] .colab-df-convert {\n",
              "      background-color: #3B4455;\n",
              "      fill: #D2E3FC;\n",
              "    }\n",
              "\n",
              "    [theme=dark] .colab-df-convert:hover {\n",
              "      background-color: #434B5C;\n",
              "      box-shadow: 0px 1px 3px 1px rgba(0, 0, 0, 0.15);\n",
              "      filter: drop-shadow(0px 1px 2px rgba(0, 0, 0, 0.3));\n",
              "      fill: #FFFFFF;\n",
              "    }\n",
              "  </style>\n",
              "\n",
              "    <script>\n",
              "      const buttonEl =\n",
              "        document.querySelector('#df-6f312f2e-831d-404d-9d6c-5d316ed79432 button.colab-df-convert');\n",
              "      buttonEl.style.display =\n",
              "        google.colab.kernel.accessAllowed ? 'block' : 'none';\n",
              "\n",
              "      async function convertToInteractive(key) {\n",
              "        const element = document.querySelector('#df-6f312f2e-831d-404d-9d6c-5d316ed79432');\n",
              "        const dataTable =\n",
              "          await google.colab.kernel.invokeFunction('convertToInteractive',\n",
              "                                                    [key], {});\n",
              "        if (!dataTable) return;\n",
              "\n",
              "        const docLinkHtml = 'Like what you see? Visit the ' +\n",
              "          '<a target=\"_blank\" href=https://colab.research.google.com/notebooks/data_table.ipynb>data table notebook</a>'\n",
              "          + ' to learn more about interactive tables.';\n",
              "        element.innerHTML = '';\n",
              "        dataTable['output_type'] = 'display_data';\n",
              "        await google.colab.output.renderOutput(dataTable, element);\n",
              "        const docLink = document.createElement('div');\n",
              "        docLink.innerHTML = docLinkHtml;\n",
              "        element.appendChild(docLink);\n",
              "      }\n",
              "    </script>\n",
              "  </div>\n",
              "\n",
              "\n",
              "<div id=\"df-ad550b62-96c9-4e95-b624-842db72f7c5f\">\n",
              "  <button class=\"colab-df-quickchart\" onclick=\"quickchart('df-ad550b62-96c9-4e95-b624-842db72f7c5f')\"\n",
              "            title=\"Suggest charts\"\n",
              "            style=\"display:none;\">\n",
              "\n",
              "<svg xmlns=\"http://www.w3.org/2000/svg\" height=\"24px\"viewBox=\"0 0 24 24\"\n",
              "     width=\"24px\">\n",
              "    <g>\n",
              "        <path d=\"M19 3H5c-1.1 0-2 .9-2 2v14c0 1.1.9 2 2 2h14c1.1 0 2-.9 2-2V5c0-1.1-.9-2-2-2zM9 17H7v-7h2v7zm4 0h-2V7h2v10zm4 0h-2v-4h2v4z\"/>\n",
              "    </g>\n",
              "</svg>\n",
              "  </button>\n",
              "\n",
              "<style>\n",
              "  .colab-df-quickchart {\n",
              "      --bg-color: #E8F0FE;\n",
              "      --fill-color: #1967D2;\n",
              "      --hover-bg-color: #E2EBFA;\n",
              "      --hover-fill-color: #174EA6;\n",
              "      --disabled-fill-color: #AAA;\n",
              "      --disabled-bg-color: #DDD;\n",
              "  }\n",
              "\n",
              "  [theme=dark] .colab-df-quickchart {\n",
              "      --bg-color: #3B4455;\n",
              "      --fill-color: #D2E3FC;\n",
              "      --hover-bg-color: #434B5C;\n",
              "      --hover-fill-color: #FFFFFF;\n",
              "      --disabled-bg-color: #3B4455;\n",
              "      --disabled-fill-color: #666;\n",
              "  }\n",
              "\n",
              "  .colab-df-quickchart {\n",
              "    background-color: var(--bg-color);\n",
              "    border: none;\n",
              "    border-radius: 50%;\n",
              "    cursor: pointer;\n",
              "    display: none;\n",
              "    fill: var(--fill-color);\n",
              "    height: 32px;\n",
              "    padding: 0;\n",
              "    width: 32px;\n",
              "  }\n",
              "\n",
              "  .colab-df-quickchart:hover {\n",
              "    background-color: var(--hover-bg-color);\n",
              "    box-shadow: 0 1px 2px rgba(60, 64, 67, 0.3), 0 1px 3px 1px rgba(60, 64, 67, 0.15);\n",
              "    fill: var(--button-hover-fill-color);\n",
              "  }\n",
              "\n",
              "  .colab-df-quickchart-complete:disabled,\n",
              "  .colab-df-quickchart-complete:disabled:hover {\n",
              "    background-color: var(--disabled-bg-color);\n",
              "    fill: var(--disabled-fill-color);\n",
              "    box-shadow: none;\n",
              "  }\n",
              "\n",
              "  .colab-df-spinner {\n",
              "    border: 2px solid var(--fill-color);\n",
              "    border-color: transparent;\n",
              "    border-bottom-color: var(--fill-color);\n",
              "    animation:\n",
              "      spin 1s steps(1) infinite;\n",
              "  }\n",
              "\n",
              "  @keyframes spin {\n",
              "    0% {\n",
              "      border-color: transparent;\n",
              "      border-bottom-color: var(--fill-color);\n",
              "      border-left-color: var(--fill-color);\n",
              "    }\n",
              "    20% {\n",
              "      border-color: transparent;\n",
              "      border-left-color: var(--fill-color);\n",
              "      border-top-color: var(--fill-color);\n",
              "    }\n",
              "    30% {\n",
              "      border-color: transparent;\n",
              "      border-left-color: var(--fill-color);\n",
              "      border-top-color: var(--fill-color);\n",
              "      border-right-color: var(--fill-color);\n",
              "    }\n",
              "    40% {\n",
              "      border-color: transparent;\n",
              "      border-right-color: var(--fill-color);\n",
              "      border-top-color: var(--fill-color);\n",
              "    }\n",
              "    60% {\n",
              "      border-color: transparent;\n",
              "      border-right-color: var(--fill-color);\n",
              "    }\n",
              "    80% {\n",
              "      border-color: transparent;\n",
              "      border-right-color: var(--fill-color);\n",
              "      border-bottom-color: var(--fill-color);\n",
              "    }\n",
              "    90% {\n",
              "      border-color: transparent;\n",
              "      border-bottom-color: var(--fill-color);\n",
              "    }\n",
              "  }\n",
              "</style>\n",
              "\n",
              "  <script>\n",
              "    async function quickchart(key) {\n",
              "      const quickchartButtonEl =\n",
              "        document.querySelector('#' + key + ' button');\n",
              "      quickchartButtonEl.disabled = true;  // To prevent multiple clicks.\n",
              "      quickchartButtonEl.classList.add('colab-df-spinner');\n",
              "      try {\n",
              "        const charts = await google.colab.kernel.invokeFunction(\n",
              "            'suggestCharts', [key], {});\n",
              "      } catch (error) {\n",
              "        console.error('Error during call to suggestCharts:', error);\n",
              "      }\n",
              "      quickchartButtonEl.classList.remove('colab-df-spinner');\n",
              "      quickchartButtonEl.classList.add('colab-df-quickchart-complete');\n",
              "    }\n",
              "    (() => {\n",
              "      let quickchartButtonEl =\n",
              "        document.querySelector('#df-ad550b62-96c9-4e95-b624-842db72f7c5f button');\n",
              "      quickchartButtonEl.style.display =\n",
              "        google.colab.kernel.accessAllowed ? 'block' : 'none';\n",
              "    })();\n",
              "  </script>\n",
              "</div>\n",
              "\n",
              "  <div id=\"id_6826f260-b3dd-4003-b8b6-e21c4b71ac82\">\n",
              "    <style>\n",
              "      .colab-df-generate {\n",
              "        background-color: #E8F0FE;\n",
              "        border: none;\n",
              "        border-radius: 50%;\n",
              "        cursor: pointer;\n",
              "        display: none;\n",
              "        fill: #1967D2;\n",
              "        height: 32px;\n",
              "        padding: 0 0 0 0;\n",
              "        width: 32px;\n",
              "      }\n",
              "\n",
              "      .colab-df-generate:hover {\n",
              "        background-color: #E2EBFA;\n",
              "        box-shadow: 0px 1px 2px rgba(60, 64, 67, 0.3), 0px 1px 3px 1px rgba(60, 64, 67, 0.15);\n",
              "        fill: #174EA6;\n",
              "      }\n",
              "\n",
              "      [theme=dark] .colab-df-generate {\n",
              "        background-color: #3B4455;\n",
              "        fill: #D2E3FC;\n",
              "      }\n",
              "\n",
              "      [theme=dark] .colab-df-generate:hover {\n",
              "        background-color: #434B5C;\n",
              "        box-shadow: 0px 1px 3px 1px rgba(0, 0, 0, 0.15);\n",
              "        filter: drop-shadow(0px 1px 2px rgba(0, 0, 0, 0.3));\n",
              "        fill: #FFFFFF;\n",
              "      }\n",
              "    </style>\n",
              "    <button class=\"colab-df-generate\" onclick=\"generateWithVariable('df')\"\n",
              "            title=\"Generate code using this dataframe.\"\n",
              "            style=\"display:none;\">\n",
              "\n",
              "  <svg xmlns=\"http://www.w3.org/2000/svg\" height=\"24px\"viewBox=\"0 0 24 24\"\n",
              "       width=\"24px\">\n",
              "    <path d=\"M7,19H8.4L18.45,9,17,7.55,7,17.6ZM5,21V16.75L18.45,3.32a2,2,0,0,1,2.83,0l1.4,1.43a1.91,1.91,0,0,1,.58,1.4,1.91,1.91,0,0,1-.58,1.4L9.25,21ZM18.45,9,17,7.55Zm-12,3A5.31,5.31,0,0,0,4.9,8.1,5.31,5.31,0,0,0,1,6.5,5.31,5.31,0,0,0,4.9,4.9,5.31,5.31,0,0,0,6.5,1,5.31,5.31,0,0,0,8.1,4.9,5.31,5.31,0,0,0,12,6.5,5.46,5.46,0,0,0,6.5,12Z\"/>\n",
              "  </svg>\n",
              "    </button>\n",
              "    <script>\n",
              "      (() => {\n",
              "      const buttonEl =\n",
              "        document.querySelector('#id_6826f260-b3dd-4003-b8b6-e21c4b71ac82 button.colab-df-generate');\n",
              "      buttonEl.style.display =\n",
              "        google.colab.kernel.accessAllowed ? 'block' : 'none';\n",
              "\n",
              "      buttonEl.onclick = () => {\n",
              "        google.colab.notebook.generateWithVariable('df');\n",
              "      }\n",
              "      })();\n",
              "    </script>\n",
              "  </div>\n",
              "\n",
              "    </div>\n",
              "  </div>\n"
            ]
          },
          "metadata": {},
          "execution_count": 133
        }
      ],
      "source": [
        "df = pd.DataFrame([[1,2],[3,4],[5,6]], columns=['a','a'])\n",
        "df.columns = ['a','b']  # rename column\n",
        "print(\"rename the a a to a b \")\n",
        "df"
      ]
    },
    {
      "cell_type": "code",
      "execution_count": null,
      "metadata": {
        "id": "ZblCG1PByOmB",
        "outputId": "28cc8d32-e093-44de-ba9d-57c8dfbf0364"
      },
      "outputs": [
        {
          "data": {
            "text/html": [
              "<div>\n",
              "<style scoped>\n",
              "    .dataframe tbody tr th:only-of-type {\n",
              "        vertical-align: middle;\n",
              "    }\n",
              "\n",
              "    .dataframe tbody tr th {\n",
              "        vertical-align: top;\n",
              "    }\n",
              "\n",
              "    .dataframe thead th {\n",
              "        text-align: right;\n",
              "    }\n",
              "</style>\n",
              "<table border=\"1\" class=\"dataframe\">\n",
              "  <thead>\n",
              "    <tr style=\"text-align: right;\">\n",
              "      <th></th>\n",
              "      <th>a</th>\n",
              "    </tr>\n",
              "  </thead>\n",
              "  <tbody>\n",
              "    <tr>\n",
              "      <th>0</th>\n",
              "      <td>1</td>\n",
              "    </tr>\n",
              "    <tr>\n",
              "      <th>1</th>\n",
              "      <td>3</td>\n",
              "    </tr>\n",
              "    <tr>\n",
              "      <th>2</th>\n",
              "      <td>5</td>\n",
              "    </tr>\n",
              "  </tbody>\n",
              "</table>\n",
              "</div>"
            ],
            "text/plain": [
              "   a\n",
              "0  1\n",
              "1  3\n",
              "2  5"
            ]
          },
          "execution_count": 36,
          "metadata": {},
          "output_type": "execute_result"
        }
      ],
      "source": [
        "df = pd.DataFrame([[1,2],[3,4],[5,6]], columns=['a','b'])\n",
        "del df['b']   # delete column\n",
        "df"
      ]
    },
    {
      "cell_type": "code",
      "execution_count": null,
      "metadata": {
        "id": "t3hOjtIqyOmC",
        "outputId": "daff00b9-2903-4102-ec95-71645a8e0239",
        "colab": {
          "base_uri": "https://localhost:8080/",
          "height": 143
        }
      },
      "outputs": [
        {
          "output_type": "execute_result",
          "data": {
            "text/plain": [
              "   a  b                  c\n",
              "0  1  2  [1,2],[2,3],[3,4]\n",
              "1  3  4  [1,2],[2,3],[3,4]\n",
              "2  5  6  [1,2],[2,3],[3,4]"
            ],
            "text/html": [
              "\n",
              "  <div id=\"df-e4e8e881-4cfa-4380-9cd0-1929f1e5636c\" class=\"colab-df-container\">\n",
              "    <div>\n",
              "<style scoped>\n",
              "    .dataframe tbody tr th:only-of-type {\n",
              "        vertical-align: middle;\n",
              "    }\n",
              "\n",
              "    .dataframe tbody tr th {\n",
              "        vertical-align: top;\n",
              "    }\n",
              "\n",
              "    .dataframe thead th {\n",
              "        text-align: right;\n",
              "    }\n",
              "</style>\n",
              "<table border=\"1\" class=\"dataframe\">\n",
              "  <thead>\n",
              "    <tr style=\"text-align: right;\">\n",
              "      <th></th>\n",
              "      <th>a</th>\n",
              "      <th>b</th>\n",
              "      <th>c</th>\n",
              "    </tr>\n",
              "  </thead>\n",
              "  <tbody>\n",
              "    <tr>\n",
              "      <th>0</th>\n",
              "      <td>1</td>\n",
              "      <td>2</td>\n",
              "      <td>[1,2],[2,3],[3,4]</td>\n",
              "    </tr>\n",
              "    <tr>\n",
              "      <th>1</th>\n",
              "      <td>3</td>\n",
              "      <td>4</td>\n",
              "      <td>[1,2],[2,3],[3,4]</td>\n",
              "    </tr>\n",
              "    <tr>\n",
              "      <th>2</th>\n",
              "      <td>5</td>\n",
              "      <td>6</td>\n",
              "      <td>[1,2],[2,3],[3,4]</td>\n",
              "    </tr>\n",
              "  </tbody>\n",
              "</table>\n",
              "</div>\n",
              "    <div class=\"colab-df-buttons\">\n",
              "\n",
              "  <div class=\"colab-df-container\">\n",
              "    <button class=\"colab-df-convert\" onclick=\"convertToInteractive('df-e4e8e881-4cfa-4380-9cd0-1929f1e5636c')\"\n",
              "            title=\"Convert this dataframe to an interactive table.\"\n",
              "            style=\"display:none;\">\n",
              "\n",
              "  <svg xmlns=\"http://www.w3.org/2000/svg\" height=\"24px\" viewBox=\"0 -960 960 960\">\n",
              "    <path d=\"M120-120v-720h720v720H120Zm60-500h600v-160H180v160Zm220 220h160v-160H400v160Zm0 220h160v-160H400v160ZM180-400h160v-160H180v160Zm440 0h160v-160H620v160ZM180-180h160v-160H180v160Zm440 0h160v-160H620v160Z\"/>\n",
              "  </svg>\n",
              "    </button>\n",
              "\n",
              "  <style>\n",
              "    .colab-df-container {\n",
              "      display:flex;\n",
              "      gap: 12px;\n",
              "    }\n",
              "\n",
              "    .colab-df-convert {\n",
              "      background-color: #E8F0FE;\n",
              "      border: none;\n",
              "      border-radius: 50%;\n",
              "      cursor: pointer;\n",
              "      display: none;\n",
              "      fill: #1967D2;\n",
              "      height: 32px;\n",
              "      padding: 0 0 0 0;\n",
              "      width: 32px;\n",
              "    }\n",
              "\n",
              "    .colab-df-convert:hover {\n",
              "      background-color: #E2EBFA;\n",
              "      box-shadow: 0px 1px 2px rgba(60, 64, 67, 0.3), 0px 1px 3px 1px rgba(60, 64, 67, 0.15);\n",
              "      fill: #174EA6;\n",
              "    }\n",
              "\n",
              "    .colab-df-buttons div {\n",
              "      margin-bottom: 4px;\n",
              "    }\n",
              "\n",
              "    [theme=dark] .colab-df-convert {\n",
              "      background-color: #3B4455;\n",
              "      fill: #D2E3FC;\n",
              "    }\n",
              "\n",
              "    [theme=dark] .colab-df-convert:hover {\n",
              "      background-color: #434B5C;\n",
              "      box-shadow: 0px 1px 3px 1px rgba(0, 0, 0, 0.15);\n",
              "      filter: drop-shadow(0px 1px 2px rgba(0, 0, 0, 0.3));\n",
              "      fill: #FFFFFF;\n",
              "    }\n",
              "  </style>\n",
              "\n",
              "    <script>\n",
              "      const buttonEl =\n",
              "        document.querySelector('#df-e4e8e881-4cfa-4380-9cd0-1929f1e5636c button.colab-df-convert');\n",
              "      buttonEl.style.display =\n",
              "        google.colab.kernel.accessAllowed ? 'block' : 'none';\n",
              "\n",
              "      async function convertToInteractive(key) {\n",
              "        const element = document.querySelector('#df-e4e8e881-4cfa-4380-9cd0-1929f1e5636c');\n",
              "        const dataTable =\n",
              "          await google.colab.kernel.invokeFunction('convertToInteractive',\n",
              "                                                    [key], {});\n",
              "        if (!dataTable) return;\n",
              "\n",
              "        const docLinkHtml = 'Like what you see? Visit the ' +\n",
              "          '<a target=\"_blank\" href=https://colab.research.google.com/notebooks/data_table.ipynb>data table notebook</a>'\n",
              "          + ' to learn more about interactive tables.';\n",
              "        element.innerHTML = '';\n",
              "        dataTable['output_type'] = 'display_data';\n",
              "        await google.colab.output.renderOutput(dataTable, element);\n",
              "        const docLink = document.createElement('div');\n",
              "        docLink.innerHTML = docLinkHtml;\n",
              "        element.appendChild(docLink);\n",
              "      }\n",
              "    </script>\n",
              "  </div>\n",
              "\n",
              "\n",
              "<div id=\"df-26ae6a0b-1e21-495d-a466-fea4cdde151a\">\n",
              "  <button class=\"colab-df-quickchart\" onclick=\"quickchart('df-26ae6a0b-1e21-495d-a466-fea4cdde151a')\"\n",
              "            title=\"Suggest charts\"\n",
              "            style=\"display:none;\">\n",
              "\n",
              "<svg xmlns=\"http://www.w3.org/2000/svg\" height=\"24px\"viewBox=\"0 0 24 24\"\n",
              "     width=\"24px\">\n",
              "    <g>\n",
              "        <path d=\"M19 3H5c-1.1 0-2 .9-2 2v14c0 1.1.9 2 2 2h14c1.1 0 2-.9 2-2V5c0-1.1-.9-2-2-2zM9 17H7v-7h2v7zm4 0h-2V7h2v10zm4 0h-2v-4h2v4z\"/>\n",
              "    </g>\n",
              "</svg>\n",
              "  </button>\n",
              "\n",
              "<style>\n",
              "  .colab-df-quickchart {\n",
              "      --bg-color: #E8F0FE;\n",
              "      --fill-color: #1967D2;\n",
              "      --hover-bg-color: #E2EBFA;\n",
              "      --hover-fill-color: #174EA6;\n",
              "      --disabled-fill-color: #AAA;\n",
              "      --disabled-bg-color: #DDD;\n",
              "  }\n",
              "\n",
              "  [theme=dark] .colab-df-quickchart {\n",
              "      --bg-color: #3B4455;\n",
              "      --fill-color: #D2E3FC;\n",
              "      --hover-bg-color: #434B5C;\n",
              "      --hover-fill-color: #FFFFFF;\n",
              "      --disabled-bg-color: #3B4455;\n",
              "      --disabled-fill-color: #666;\n",
              "  }\n",
              "\n",
              "  .colab-df-quickchart {\n",
              "    background-color: var(--bg-color);\n",
              "    border: none;\n",
              "    border-radius: 50%;\n",
              "    cursor: pointer;\n",
              "    display: none;\n",
              "    fill: var(--fill-color);\n",
              "    height: 32px;\n",
              "    padding: 0;\n",
              "    width: 32px;\n",
              "  }\n",
              "\n",
              "  .colab-df-quickchart:hover {\n",
              "    background-color: var(--hover-bg-color);\n",
              "    box-shadow: 0 1px 2px rgba(60, 64, 67, 0.3), 0 1px 3px 1px rgba(60, 64, 67, 0.15);\n",
              "    fill: var(--button-hover-fill-color);\n",
              "  }\n",
              "\n",
              "  .colab-df-quickchart-complete:disabled,\n",
              "  .colab-df-quickchart-complete:disabled:hover {\n",
              "    background-color: var(--disabled-bg-color);\n",
              "    fill: var(--disabled-fill-color);\n",
              "    box-shadow: none;\n",
              "  }\n",
              "\n",
              "  .colab-df-spinner {\n",
              "    border: 2px solid var(--fill-color);\n",
              "    border-color: transparent;\n",
              "    border-bottom-color: var(--fill-color);\n",
              "    animation:\n",
              "      spin 1s steps(1) infinite;\n",
              "  }\n",
              "\n",
              "  @keyframes spin {\n",
              "    0% {\n",
              "      border-color: transparent;\n",
              "      border-bottom-color: var(--fill-color);\n",
              "      border-left-color: var(--fill-color);\n",
              "    }\n",
              "    20% {\n",
              "      border-color: transparent;\n",
              "      border-left-color: var(--fill-color);\n",
              "      border-top-color: var(--fill-color);\n",
              "    }\n",
              "    30% {\n",
              "      border-color: transparent;\n",
              "      border-left-color: var(--fill-color);\n",
              "      border-top-color: var(--fill-color);\n",
              "      border-right-color: var(--fill-color);\n",
              "    }\n",
              "    40% {\n",
              "      border-color: transparent;\n",
              "      border-right-color: var(--fill-color);\n",
              "      border-top-color: var(--fill-color);\n",
              "    }\n",
              "    60% {\n",
              "      border-color: transparent;\n",
              "      border-right-color: var(--fill-color);\n",
              "    }\n",
              "    80% {\n",
              "      border-color: transparent;\n",
              "      border-right-color: var(--fill-color);\n",
              "      border-bottom-color: var(--fill-color);\n",
              "    }\n",
              "    90% {\n",
              "      border-color: transparent;\n",
              "      border-bottom-color: var(--fill-color);\n",
              "    }\n",
              "  }\n",
              "</style>\n",
              "\n",
              "  <script>\n",
              "    async function quickchart(key) {\n",
              "      const quickchartButtonEl =\n",
              "        document.querySelector('#' + key + ' button');\n",
              "      quickchartButtonEl.disabled = true;  // To prevent multiple clicks.\n",
              "      quickchartButtonEl.classList.add('colab-df-spinner');\n",
              "      try {\n",
              "        const charts = await google.colab.kernel.invokeFunction(\n",
              "            'suggestCharts', [key], {});\n",
              "      } catch (error) {\n",
              "        console.error('Error during call to suggestCharts:', error);\n",
              "      }\n",
              "      quickchartButtonEl.classList.remove('colab-df-spinner');\n",
              "      quickchartButtonEl.classList.add('colab-df-quickchart-complete');\n",
              "    }\n",
              "    (() => {\n",
              "      let quickchartButtonEl =\n",
              "        document.querySelector('#df-26ae6a0b-1e21-495d-a466-fea4cdde151a button');\n",
              "      quickchartButtonEl.style.display =\n",
              "        google.colab.kernel.accessAllowed ? 'block' : 'none';\n",
              "    })();\n",
              "  </script>\n",
              "</div>\n",
              "\n",
              "  <div id=\"id_8a956755-6ed5-465d-ae8a-af4e461af2b7\">\n",
              "    <style>\n",
              "      .colab-df-generate {\n",
              "        background-color: #E8F0FE;\n",
              "        border: none;\n",
              "        border-radius: 50%;\n",
              "        cursor: pointer;\n",
              "        display: none;\n",
              "        fill: #1967D2;\n",
              "        height: 32px;\n",
              "        padding: 0 0 0 0;\n",
              "        width: 32px;\n",
              "      }\n",
              "\n",
              "      .colab-df-generate:hover {\n",
              "        background-color: #E2EBFA;\n",
              "        box-shadow: 0px 1px 2px rgba(60, 64, 67, 0.3), 0px 1px 3px 1px rgba(60, 64, 67, 0.15);\n",
              "        fill: #174EA6;\n",
              "      }\n",
              "\n",
              "      [theme=dark] .colab-df-generate {\n",
              "        background-color: #3B4455;\n",
              "        fill: #D2E3FC;\n",
              "      }\n",
              "\n",
              "      [theme=dark] .colab-df-generate:hover {\n",
              "        background-color: #434B5C;\n",
              "        box-shadow: 0px 1px 3px 1px rgba(0, 0, 0, 0.15);\n",
              "        filter: drop-shadow(0px 1px 2px rgba(0, 0, 0, 0.3));\n",
              "        fill: #FFFFFF;\n",
              "      }\n",
              "    </style>\n",
              "    <button class=\"colab-df-generate\" onclick=\"generateWithVariable('df')\"\n",
              "            title=\"Generate code using this dataframe.\"\n",
              "            style=\"display:none;\">\n",
              "\n",
              "  <svg xmlns=\"http://www.w3.org/2000/svg\" height=\"24px\"viewBox=\"0 0 24 24\"\n",
              "       width=\"24px\">\n",
              "    <path d=\"M7,19H8.4L18.45,9,17,7.55,7,17.6ZM5,21V16.75L18.45,3.32a2,2,0,0,1,2.83,0l1.4,1.43a1.91,1.91,0,0,1,.58,1.4,1.91,1.91,0,0,1-.58,1.4L9.25,21ZM18.45,9,17,7.55Zm-12,3A5.31,5.31,0,0,0,4.9,8.1,5.31,5.31,0,0,0,1,6.5,5.31,5.31,0,0,0,4.9,4.9,5.31,5.31,0,0,0,6.5,1,5.31,5.31,0,0,0,8.1,4.9,5.31,5.31,0,0,0,12,6.5,5.46,5.46,0,0,0,6.5,12Z\"/>\n",
              "  </svg>\n",
              "    </button>\n",
              "    <script>\n",
              "      (() => {\n",
              "      const buttonEl =\n",
              "        document.querySelector('#id_8a956755-6ed5-465d-ae8a-af4e461af2b7 button.colab-df-generate');\n",
              "      buttonEl.style.display =\n",
              "        google.colab.kernel.accessAllowed ? 'block' : 'none';\n",
              "\n",
              "      buttonEl.onclick = () => {\n",
              "        google.colab.notebook.generateWithVariable('df');\n",
              "      }\n",
              "      })();\n",
              "    </script>\n",
              "  </div>\n",
              "\n",
              "    </div>\n",
              "  </div>\n"
            ]
          },
          "metadata": {},
          "execution_count": 135
        }
      ],
      "source": [
        "df = pd.DataFrame([[1,2],[3,4],[5,6]], columns=['a','b'])\n",
        "df['c']='[1,2],[2,3],[3,4]'   #add new column c and fill with 2\n",
        "df"
      ]
    },
    {
      "cell_type": "markdown",
      "metadata": {
        "id": "pk21yXydyOmC"
      },
      "source": [
        "### 11.7 Indexing / seletion"
      ]
    },
    {
      "cell_type": "markdown",
      "metadata": {
        "id": "aaVddQqFyOmC"
      },
      "source": [
        "- Row selection, for example, returns a Series whose index is the columns of the DataFrame:\n",
        "- Pandas now supports three types of Multi-axes indexing; the three types are:\n",
        "    - .loc()  (label based)\n",
        "    - .iloc()  (integer based)\n",
        "    - .ix()    (both label and integer based)\n",
        "- loc takes two single/list/range operator separated by ','. The first one indicates the row and the second one indicates columns.\n",
        "- iloc(): Pandas provide various methods in order to get purely integer based indexing. Like python and numpy, these are 0-based indexing.\n",
        "- ix(): Besides pure label based and integer based, Pandas provides a hybrid method for selections and subsetting the object using the .ix() operator."
      ]
    },
    {
      "cell_type": "markdown",
      "metadata": {
        "id": "ypNBeFFDyOmC"
      },
      "source": [
        "#### .loc()"
      ]
    },
    {
      "cell_type": "code",
      "execution_count": null,
      "metadata": {
        "id": "qIGTGettyOmC",
        "outputId": "6c980b60-4ffd-4e48-8384-0b7bc216b228",
        "colab": {
          "base_uri": "https://localhost:8080/"
        }
      },
      "outputs": [
        {
          "output_type": "stream",
          "name": "stdout",
          "text": [
            "a    1.321654\n",
            "b   -1.783218\n",
            "c    0.668890\n",
            "d   -0.237060\n",
            "e   -1.196817\n",
            "f    0.053193\n",
            "g    1.157720\n",
            "h    0.401158\n",
            "Name: A, dtype: float64\n"
          ]
        }
      ],
      "source": [
        "df = pd.DataFrame(np.random.randn(8, 4),\n",
        "index = ['a','b','c','d','e','f','g','h'], columns = ['A', 'B', 'C', 'D'])\n",
        "\n",
        "#select all rows for a specific column\n",
        "print (df.loc[:,'A'])"
      ]
    },
    {
      "cell_type": "code",
      "execution_count": null,
      "metadata": {
        "id": "D7YYjRx2yOmD"
      },
      "outputs": [],
      "source": [
        "import pandas as pd\n",
        "import numpy as np"
      ]
    },
    {
      "cell_type": "code",
      "execution_count": null,
      "metadata": {
        "id": "7fjCxkX8yOmD",
        "colab": {
          "base_uri": "https://localhost:8080/"
        },
        "outputId": "c92bff91-62be-4a09-dc05-a2d8996fc997"
      },
      "outputs": [
        {
          "output_type": "stream",
          "name": "stdout",
          "text": [
            "          A         C\n",
            "a -0.910659  1.276514\n",
            "b -0.468947 -0.910606\n",
            "c -0.157312 -0.537170\n",
            "d -0.007519 -1.385282\n",
            "e -0.098529  0.736504\n",
            "f  1.533687  0.898801\n",
            "g  2.678996 -0.595331\n",
            "h -0.584064  1.095155\n"
          ]
        }
      ],
      "source": [
        "df = pd.DataFrame(np.random.randn(8, 4),\n",
        "index = ['a','b','c','d','e','f','g','h'], columns = ['A', 'B', 'C', 'D'])\n",
        "\n",
        "# Select all rows for multiple columns, say list[]\n",
        "print (df.loc[:,['A','C']])"
      ]
    },
    {
      "cell_type": "code",
      "execution_count": null,
      "metadata": {
        "id": "UvYUW23dyOmD",
        "outputId": "f9613ce6-a3e0-4965-e6b5-e44bc79b7755",
        "colab": {
          "base_uri": "https://localhost:8080/"
        }
      },
      "outputs": [
        {
          "output_type": "stream",
          "name": "stdout",
          "text": [
            "          A         B         C         D\n",
            "a -1.842342 -0.784574 -0.133171 -1.342029\n",
            "b -0.510551  0.238732  1.244819  1.192280\n",
            "c -0.900917 -0.263444 -0.594973 -1.345747\n",
            "d  0.112282 -0.903270  1.225495  1.553347\n",
            "e -0.936734  1.145464  2.788242  1.389920\n",
            "f -1.902779  0.839950  0.172794  0.621758\n",
            "g  0.263597 -1.790287  0.209287  0.859269\n"
          ]
        }
      ],
      "source": [
        "df = pd.DataFrame(np.random.randn(8, 4),\n",
        "index = ['a','b','c','d','e','f','g','h'], columns = ['A', 'B', 'C', 'D'])\n",
        "\n",
        "# Select range of rows for all columns\n",
        "print (df.loc['a':'g'])"
      ]
    },
    {
      "cell_type": "markdown",
      "metadata": {
        "id": "BiEEkZpNyOmE"
      },
      "source": [
        "#### .iloc()"
      ]
    },
    {
      "cell_type": "code",
      "execution_count": null,
      "metadata": {
        "id": "1cPhYOKcyOmE",
        "outputId": "48d77d91-101d-457d-cf8c-d4e110bfd954"
      },
      "outputs": [
        {
          "name": "stdout",
          "output_type": "stream",
          "text": [
            "          A         B         C         D\n",
            "0  0.885934  0.448261  0.584728  0.074509\n",
            "1  0.670950  1.247670 -1.150118  0.769580\n",
            "2  0.220727 -0.372701  0.232594  0.188892\n",
            "3 -0.141555  0.356357  0.119643  0.125009\n"
          ]
        }
      ],
      "source": [
        "df = pd.DataFrame(np.random.randn(8, 4), columns = ['A', 'B', 'C', 'D'])\n",
        "\n",
        "# select all rows for a specific column\n",
        "print (df.iloc[:4])"
      ]
    },
    {
      "cell_type": "code",
      "execution_count": null,
      "metadata": {
        "id": "sZ_dtzidyOmE",
        "outputId": "f4c54946-2012-44b5-913f-dc542e211f36"
      },
      "outputs": [
        {
          "name": "stdout",
          "output_type": "stream",
          "text": [
            "          C         D\n",
            "1 -0.600980  2.148089\n",
            "2  0.622637  0.357187\n",
            "3 -0.038853 -0.265465\n",
            "4  0.049228 -0.269615\n"
          ]
        }
      ],
      "source": [
        "df = pd.DataFrame(np.random.randn(8, 4), columns = ['A', 'B', 'C', 'D'])\n",
        "\n",
        "# Integer slicing\n",
        "\n",
        "print (df.iloc[1:5, 2:4])"
      ]
    },
    {
      "cell_type": "markdown",
      "metadata": {
        "id": "O_UkGrVgyOmF"
      },
      "source": [
        "#### .ix()"
      ]
    },
    {
      "cell_type": "code",
      "execution_count": null,
      "metadata": {
        "id": "F5EjLeeKyOmF",
        "outputId": "44dc3214-de76-41e6-b9ae-c6c5536ec8c8"
      },
      "outputs": [
        {
          "name": "stdout",
          "output_type": "stream",
          "text": [
            "          A         B         C         D\n",
            "0 -1.518915 -0.496256 -1.905349  0.325399\n",
            "1 -1.321410 -0.853576  1.436926 -1.057146\n",
            "2  0.092644  1.201601 -0.994798 -2.017163\n",
            "3 -0.045991 -2.069596  0.011527  0.426753\n",
            "4 -1.180576 -0.290050  0.678418 -1.086825\n"
          ]
        },
        {
          "name": "stderr",
          "output_type": "stream",
          "text": [
            "D:\\python\\lib\\site-packages\\ipykernel_launcher.py:4: DeprecationWarning: \n",
            ".ix is deprecated. Please use\n",
            ".loc for label based indexing or\n",
            ".iloc for positional indexing\n",
            "\n",
            "See the documentation here:\n",
            "http://pandas.pydata.org/pandas-docs/stable/indexing.html#ix-indexer-is-deprecated\n",
            "  after removing the cwd from sys.path.\n"
          ]
        }
      ],
      "source": [
        "df = pd.DataFrame(np.random.randn(8, 4), columns = ['A', 'B', 'C', 'D'])\n",
        "\n",
        "# Integer slicing\n",
        "print (df.ix[:4])"
      ]
    },
    {
      "cell_type": "code",
      "execution_count": null,
      "metadata": {
        "id": "ZoczAWFWyOmF",
        "outputId": "18a37a9b-d6d4-47a6-fd3e-77b1616688ae"
      },
      "outputs": [
        {
          "name": "stdout",
          "output_type": "stream",
          "text": [
            "0   -0.470479\n",
            "1    0.185088\n",
            "2   -1.624392\n",
            "3   -0.549156\n",
            "4    0.494236\n",
            "5    0.147245\n",
            "6   -1.273751\n",
            "7   -0.981244\n",
            "Name: A, dtype: float64\n"
          ]
        },
        {
          "name": "stderr",
          "output_type": "stream",
          "text": [
            "D:\\python\\lib\\site-packages\\ipykernel_launcher.py:3: DeprecationWarning: \n",
            ".ix is deprecated. Please use\n",
            ".loc for label based indexing or\n",
            ".iloc for positional indexing\n",
            "\n",
            "See the documentation here:\n",
            "http://pandas.pydata.org/pandas-docs/stable/indexing.html#ix-indexer-is-deprecated\n",
            "  This is separate from the ipykernel package so we can avoid doing imports until\n"
          ]
        }
      ],
      "source": [
        "df = pd.DataFrame(np.random.randn(8, 4), columns = ['A', 'B', 'C', 'D'])\n",
        "# Index slicing\n",
        "print (df.ix[:,'A'])"
      ]
    },
    {
      "cell_type": "markdown",
      "metadata": {
        "id": "oC4sXKiYyOmG"
      },
      "source": [
        "## 11.8 Data alignment and arithmetic"
      ]
    },
    {
      "cell_type": "markdown",
      "metadata": {
        "id": "1TCrIVTDyOmG"
      },
      "source": [
        " - Data alignment between DataFrame objects automatically align on both the columns and the index (row labels).\n",
        " - Again, the resulting object will have the union of the column and row labels."
      ]
    },
    {
      "cell_type": "code",
      "execution_count": null,
      "metadata": {
        "id": "8IAj1A0HyOmG",
        "outputId": "4bd3c607-9c45-4daa-e953-18ddc44a0204",
        "colab": {
          "base_uri": "https://localhost:8080/",
          "height": 394
        }
      },
      "outputs": [
        {
          "output_type": "execute_result",
          "data": {
            "text/plain": [
              "           A         B         C         D         e\n",
              "0   0.638490  0.197069  0.105821 -0.340858 -1.270217\n",
              "1  -0.678361 -2.051797  0.173855 -0.413255 -0.179677\n",
              "2  -0.339678  0.456084  0.102586  0.369598  1.172175\n",
              "3   0.444897 -1.810309  1.590203  1.068054  0.468262\n",
              "4  -0.842756  1.065453 -1.725401 -0.437198 -0.619332\n",
              "5   0.681592  1.493806  0.230632  0.035697  0.151708\n",
              "6   0.328107 -0.418472 -3.109147  0.799178  1.696444\n",
              "7   0.011232  0.514811  2.987933 -1.189693  0.113275\n",
              "8   2.631791 -0.001867  1.117155  0.796605 -0.066918\n",
              "9   0.408660 -1.593091  0.044466  0.054806  0.773165\n",
              "10  0.919994 -0.583779  0.145173 -1.800659 -0.036050"
            ],
            "text/html": [
              "\n",
              "  <div id=\"df-4122568d-b594-4337-8cc4-a540b37cdbf9\" class=\"colab-df-container\">\n",
              "    <div>\n",
              "<style scoped>\n",
              "    .dataframe tbody tr th:only-of-type {\n",
              "        vertical-align: middle;\n",
              "    }\n",
              "\n",
              "    .dataframe tbody tr th {\n",
              "        vertical-align: top;\n",
              "    }\n",
              "\n",
              "    .dataframe thead th {\n",
              "        text-align: right;\n",
              "    }\n",
              "</style>\n",
              "<table border=\"1\" class=\"dataframe\">\n",
              "  <thead>\n",
              "    <tr style=\"text-align: right;\">\n",
              "      <th></th>\n",
              "      <th>A</th>\n",
              "      <th>B</th>\n",
              "      <th>C</th>\n",
              "      <th>D</th>\n",
              "      <th>e</th>\n",
              "    </tr>\n",
              "  </thead>\n",
              "  <tbody>\n",
              "    <tr>\n",
              "      <th>0</th>\n",
              "      <td>0.638490</td>\n",
              "      <td>0.197069</td>\n",
              "      <td>0.105821</td>\n",
              "      <td>-0.340858</td>\n",
              "      <td>-1.270217</td>\n",
              "    </tr>\n",
              "    <tr>\n",
              "      <th>1</th>\n",
              "      <td>-0.678361</td>\n",
              "      <td>-2.051797</td>\n",
              "      <td>0.173855</td>\n",
              "      <td>-0.413255</td>\n",
              "      <td>-0.179677</td>\n",
              "    </tr>\n",
              "    <tr>\n",
              "      <th>2</th>\n",
              "      <td>-0.339678</td>\n",
              "      <td>0.456084</td>\n",
              "      <td>0.102586</td>\n",
              "      <td>0.369598</td>\n",
              "      <td>1.172175</td>\n",
              "    </tr>\n",
              "    <tr>\n",
              "      <th>3</th>\n",
              "      <td>0.444897</td>\n",
              "      <td>-1.810309</td>\n",
              "      <td>1.590203</td>\n",
              "      <td>1.068054</td>\n",
              "      <td>0.468262</td>\n",
              "    </tr>\n",
              "    <tr>\n",
              "      <th>4</th>\n",
              "      <td>-0.842756</td>\n",
              "      <td>1.065453</td>\n",
              "      <td>-1.725401</td>\n",
              "      <td>-0.437198</td>\n",
              "      <td>-0.619332</td>\n",
              "    </tr>\n",
              "    <tr>\n",
              "      <th>5</th>\n",
              "      <td>0.681592</td>\n",
              "      <td>1.493806</td>\n",
              "      <td>0.230632</td>\n",
              "      <td>0.035697</td>\n",
              "      <td>0.151708</td>\n",
              "    </tr>\n",
              "    <tr>\n",
              "      <th>6</th>\n",
              "      <td>0.328107</td>\n",
              "      <td>-0.418472</td>\n",
              "      <td>-3.109147</td>\n",
              "      <td>0.799178</td>\n",
              "      <td>1.696444</td>\n",
              "    </tr>\n",
              "    <tr>\n",
              "      <th>7</th>\n",
              "      <td>0.011232</td>\n",
              "      <td>0.514811</td>\n",
              "      <td>2.987933</td>\n",
              "      <td>-1.189693</td>\n",
              "      <td>0.113275</td>\n",
              "    </tr>\n",
              "    <tr>\n",
              "      <th>8</th>\n",
              "      <td>2.631791</td>\n",
              "      <td>-0.001867</td>\n",
              "      <td>1.117155</td>\n",
              "      <td>0.796605</td>\n",
              "      <td>-0.066918</td>\n",
              "    </tr>\n",
              "    <tr>\n",
              "      <th>9</th>\n",
              "      <td>0.408660</td>\n",
              "      <td>-1.593091</td>\n",
              "      <td>0.044466</td>\n",
              "      <td>0.054806</td>\n",
              "      <td>0.773165</td>\n",
              "    </tr>\n",
              "    <tr>\n",
              "      <th>10</th>\n",
              "      <td>0.919994</td>\n",
              "      <td>-0.583779</td>\n",
              "      <td>0.145173</td>\n",
              "      <td>-1.800659</td>\n",
              "      <td>-0.036050</td>\n",
              "    </tr>\n",
              "  </tbody>\n",
              "</table>\n",
              "</div>\n",
              "    <div class=\"colab-df-buttons\">\n",
              "\n",
              "  <div class=\"colab-df-container\">\n",
              "    <button class=\"colab-df-convert\" onclick=\"convertToInteractive('df-4122568d-b594-4337-8cc4-a540b37cdbf9')\"\n",
              "            title=\"Convert this dataframe to an interactive table.\"\n",
              "            style=\"display:none;\">\n",
              "\n",
              "  <svg xmlns=\"http://www.w3.org/2000/svg\" height=\"24px\" viewBox=\"0 -960 960 960\">\n",
              "    <path d=\"M120-120v-720h720v720H120Zm60-500h600v-160H180v160Zm220 220h160v-160H400v160Zm0 220h160v-160H400v160ZM180-400h160v-160H180v160Zm440 0h160v-160H620v160ZM180-180h160v-160H180v160Zm440 0h160v-160H620v160Z\"/>\n",
              "  </svg>\n",
              "    </button>\n",
              "\n",
              "  <style>\n",
              "    .colab-df-container {\n",
              "      display:flex;\n",
              "      gap: 12px;\n",
              "    }\n",
              "\n",
              "    .colab-df-convert {\n",
              "      background-color: #E8F0FE;\n",
              "      border: none;\n",
              "      border-radius: 50%;\n",
              "      cursor: pointer;\n",
              "      display: none;\n",
              "      fill: #1967D2;\n",
              "      height: 32px;\n",
              "      padding: 0 0 0 0;\n",
              "      width: 32px;\n",
              "    }\n",
              "\n",
              "    .colab-df-convert:hover {\n",
              "      background-color: #E2EBFA;\n",
              "      box-shadow: 0px 1px 2px rgba(60, 64, 67, 0.3), 0px 1px 3px 1px rgba(60, 64, 67, 0.15);\n",
              "      fill: #174EA6;\n",
              "    }\n",
              "\n",
              "    .colab-df-buttons div {\n",
              "      margin-bottom: 4px;\n",
              "    }\n",
              "\n",
              "    [theme=dark] .colab-df-convert {\n",
              "      background-color: #3B4455;\n",
              "      fill: #D2E3FC;\n",
              "    }\n",
              "\n",
              "    [theme=dark] .colab-df-convert:hover {\n",
              "      background-color: #434B5C;\n",
              "      box-shadow: 0px 1px 3px 1px rgba(0, 0, 0, 0.15);\n",
              "      filter: drop-shadow(0px 1px 2px rgba(0, 0, 0, 0.3));\n",
              "      fill: #FFFFFF;\n",
              "    }\n",
              "  </style>\n",
              "\n",
              "    <script>\n",
              "      const buttonEl =\n",
              "        document.querySelector('#df-4122568d-b594-4337-8cc4-a540b37cdbf9 button.colab-df-convert');\n",
              "      buttonEl.style.display =\n",
              "        google.colab.kernel.accessAllowed ? 'block' : 'none';\n",
              "\n",
              "      async function convertToInteractive(key) {\n",
              "        const element = document.querySelector('#df-4122568d-b594-4337-8cc4-a540b37cdbf9');\n",
              "        const dataTable =\n",
              "          await google.colab.kernel.invokeFunction('convertToInteractive',\n",
              "                                                    [key], {});\n",
              "        if (!dataTable) return;\n",
              "\n",
              "        const docLinkHtml = 'Like what you see? Visit the ' +\n",
              "          '<a target=\"_blank\" href=https://colab.research.google.com/notebooks/data_table.ipynb>data table notebook</a>'\n",
              "          + ' to learn more about interactive tables.';\n",
              "        element.innerHTML = '';\n",
              "        dataTable['output_type'] = 'display_data';\n",
              "        await google.colab.output.renderOutput(dataTable, element);\n",
              "        const docLink = document.createElement('div');\n",
              "        docLink.innerHTML = docLinkHtml;\n",
              "        element.appendChild(docLink);\n",
              "      }\n",
              "    </script>\n",
              "  </div>\n",
              "\n",
              "\n",
              "<div id=\"df-610c1090-92a1-49c4-b9a0-946647c084dd\">\n",
              "  <button class=\"colab-df-quickchart\" onclick=\"quickchart('df-610c1090-92a1-49c4-b9a0-946647c084dd')\"\n",
              "            title=\"Suggest charts\"\n",
              "            style=\"display:none;\">\n",
              "\n",
              "<svg xmlns=\"http://www.w3.org/2000/svg\" height=\"24px\"viewBox=\"0 0 24 24\"\n",
              "     width=\"24px\">\n",
              "    <g>\n",
              "        <path d=\"M19 3H5c-1.1 0-2 .9-2 2v14c0 1.1.9 2 2 2h14c1.1 0 2-.9 2-2V5c0-1.1-.9-2-2-2zM9 17H7v-7h2v7zm4 0h-2V7h2v10zm4 0h-2v-4h2v4z\"/>\n",
              "    </g>\n",
              "</svg>\n",
              "  </button>\n",
              "\n",
              "<style>\n",
              "  .colab-df-quickchart {\n",
              "      --bg-color: #E8F0FE;\n",
              "      --fill-color: #1967D2;\n",
              "      --hover-bg-color: #E2EBFA;\n",
              "      --hover-fill-color: #174EA6;\n",
              "      --disabled-fill-color: #AAA;\n",
              "      --disabled-bg-color: #DDD;\n",
              "  }\n",
              "\n",
              "  [theme=dark] .colab-df-quickchart {\n",
              "      --bg-color: #3B4455;\n",
              "      --fill-color: #D2E3FC;\n",
              "      --hover-bg-color: #434B5C;\n",
              "      --hover-fill-color: #FFFFFF;\n",
              "      --disabled-bg-color: #3B4455;\n",
              "      --disabled-fill-color: #666;\n",
              "  }\n",
              "\n",
              "  .colab-df-quickchart {\n",
              "    background-color: var(--bg-color);\n",
              "    border: none;\n",
              "    border-radius: 50%;\n",
              "    cursor: pointer;\n",
              "    display: none;\n",
              "    fill: var(--fill-color);\n",
              "    height: 32px;\n",
              "    padding: 0;\n",
              "    width: 32px;\n",
              "  }\n",
              "\n",
              "  .colab-df-quickchart:hover {\n",
              "    background-color: var(--hover-bg-color);\n",
              "    box-shadow: 0 1px 2px rgba(60, 64, 67, 0.3), 0 1px 3px 1px rgba(60, 64, 67, 0.15);\n",
              "    fill: var(--button-hover-fill-color);\n",
              "  }\n",
              "\n",
              "  .colab-df-quickchart-complete:disabled,\n",
              "  .colab-df-quickchart-complete:disabled:hover {\n",
              "    background-color: var(--disabled-bg-color);\n",
              "    fill: var(--disabled-fill-color);\n",
              "    box-shadow: none;\n",
              "  }\n",
              "\n",
              "  .colab-df-spinner {\n",
              "    border: 2px solid var(--fill-color);\n",
              "    border-color: transparent;\n",
              "    border-bottom-color: var(--fill-color);\n",
              "    animation:\n",
              "      spin 1s steps(1) infinite;\n",
              "  }\n",
              "\n",
              "  @keyframes spin {\n",
              "    0% {\n",
              "      border-color: transparent;\n",
              "      border-bottom-color: var(--fill-color);\n",
              "      border-left-color: var(--fill-color);\n",
              "    }\n",
              "    20% {\n",
              "      border-color: transparent;\n",
              "      border-left-color: var(--fill-color);\n",
              "      border-top-color: var(--fill-color);\n",
              "    }\n",
              "    30% {\n",
              "      border-color: transparent;\n",
              "      border-left-color: var(--fill-color);\n",
              "      border-top-color: var(--fill-color);\n",
              "      border-right-color: var(--fill-color);\n",
              "    }\n",
              "    40% {\n",
              "      border-color: transparent;\n",
              "      border-right-color: var(--fill-color);\n",
              "      border-top-color: var(--fill-color);\n",
              "    }\n",
              "    60% {\n",
              "      border-color: transparent;\n",
              "      border-right-color: var(--fill-color);\n",
              "    }\n",
              "    80% {\n",
              "      border-color: transparent;\n",
              "      border-right-color: var(--fill-color);\n",
              "      border-bottom-color: var(--fill-color);\n",
              "    }\n",
              "    90% {\n",
              "      border-color: transparent;\n",
              "      border-bottom-color: var(--fill-color);\n",
              "    }\n",
              "  }\n",
              "</style>\n",
              "\n",
              "  <script>\n",
              "    async function quickchart(key) {\n",
              "      const quickchartButtonEl =\n",
              "        document.querySelector('#' + key + ' button');\n",
              "      quickchartButtonEl.disabled = true;  // To prevent multiple clicks.\n",
              "      quickchartButtonEl.classList.add('colab-df-spinner');\n",
              "      try {\n",
              "        const charts = await google.colab.kernel.invokeFunction(\n",
              "            'suggestCharts', [key], {});\n",
              "      } catch (error) {\n",
              "        console.error('Error during call to suggestCharts:', error);\n",
              "      }\n",
              "      quickchartButtonEl.classList.remove('colab-df-spinner');\n",
              "      quickchartButtonEl.classList.add('colab-df-quickchart-complete');\n",
              "    }\n",
              "    (() => {\n",
              "      let quickchartButtonEl =\n",
              "        document.querySelector('#df-610c1090-92a1-49c4-b9a0-946647c084dd button');\n",
              "      quickchartButtonEl.style.display =\n",
              "        google.colab.kernel.accessAllowed ? 'block' : 'none';\n",
              "    })();\n",
              "  </script>\n",
              "</div>\n",
              "\n",
              "  <div id=\"id_400c23e6-9a7b-42c3-8c18-d5440dcfa7b9\">\n",
              "    <style>\n",
              "      .colab-df-generate {\n",
              "        background-color: #E8F0FE;\n",
              "        border: none;\n",
              "        border-radius: 50%;\n",
              "        cursor: pointer;\n",
              "        display: none;\n",
              "        fill: #1967D2;\n",
              "        height: 32px;\n",
              "        padding: 0 0 0 0;\n",
              "        width: 32px;\n",
              "      }\n",
              "\n",
              "      .colab-df-generate:hover {\n",
              "        background-color: #E2EBFA;\n",
              "        box-shadow: 0px 1px 2px rgba(60, 64, 67, 0.3), 0px 1px 3px 1px rgba(60, 64, 67, 0.15);\n",
              "        fill: #174EA6;\n",
              "      }\n",
              "\n",
              "      [theme=dark] .colab-df-generate {\n",
              "        background-color: #3B4455;\n",
              "        fill: #D2E3FC;\n",
              "      }\n",
              "\n",
              "      [theme=dark] .colab-df-generate:hover {\n",
              "        background-color: #434B5C;\n",
              "        box-shadow: 0px 1px 3px 1px rgba(0, 0, 0, 0.15);\n",
              "        filter: drop-shadow(0px 1px 2px rgba(0, 0, 0, 0.3));\n",
              "        fill: #FFFFFF;\n",
              "      }\n",
              "    </style>\n",
              "    <button class=\"colab-df-generate\" onclick=\"generateWithVariable('df1')\"\n",
              "            title=\"Generate code using this dataframe.\"\n",
              "            style=\"display:none;\">\n",
              "\n",
              "  <svg xmlns=\"http://www.w3.org/2000/svg\" height=\"24px\"viewBox=\"0 0 24 24\"\n",
              "       width=\"24px\">\n",
              "    <path d=\"M7,19H8.4L18.45,9,17,7.55,7,17.6ZM5,21V16.75L18.45,3.32a2,2,0,0,1,2.83,0l1.4,1.43a1.91,1.91,0,0,1,.58,1.4,1.91,1.91,0,0,1-.58,1.4L9.25,21ZM18.45,9,17,7.55Zm-12,3A5.31,5.31,0,0,0,4.9,8.1,5.31,5.31,0,0,0,1,6.5,5.31,5.31,0,0,0,4.9,4.9,5.31,5.31,0,0,0,6.5,1,5.31,5.31,0,0,0,8.1,4.9,5.31,5.31,0,0,0,12,6.5,5.46,5.46,0,0,0,6.5,12Z\"/>\n",
              "  </svg>\n",
              "    </button>\n",
              "    <script>\n",
              "      (() => {\n",
              "      const buttonEl =\n",
              "        document.querySelector('#id_400c23e6-9a7b-42c3-8c18-d5440dcfa7b9 button.colab-df-generate');\n",
              "      buttonEl.style.display =\n",
              "        google.colab.kernel.accessAllowed ? 'block' : 'none';\n",
              "\n",
              "      buttonEl.onclick = () => {\n",
              "        google.colab.notebook.generateWithVariable('df1');\n",
              "      }\n",
              "      })();\n",
              "    </script>\n",
              "  </div>\n",
              "\n",
              "    </div>\n",
              "  </div>\n"
            ]
          },
          "metadata": {},
          "execution_count": 142
        }
      ],
      "source": [
        "df1 = pd.DataFrame(np.random.randn(11, 5), columns=['A', 'B', 'C', 'D','e'])\n",
        "df1"
      ]
    },
    {
      "cell_type": "code",
      "execution_count": null,
      "metadata": {
        "id": "vJd4RFzFyOmG",
        "outputId": "3d69a50d-9128-45b1-9359-a9f9501f6874"
      },
      "outputs": [
        {
          "data": {
            "text/html": [
              "<div>\n",
              "<style scoped>\n",
              "    .dataframe tbody tr th:only-of-type {\n",
              "        vertical-align: middle;\n",
              "    }\n",
              "\n",
              "    .dataframe tbody tr th {\n",
              "        vertical-align: top;\n",
              "    }\n",
              "\n",
              "    .dataframe thead th {\n",
              "        text-align: right;\n",
              "    }\n",
              "</style>\n",
              "<table border=\"1\" class=\"dataframe\">\n",
              "  <thead>\n",
              "    <tr style=\"text-align: right;\">\n",
              "      <th></th>\n",
              "      <th>A</th>\n",
              "      <th>B</th>\n",
              "      <th>C</th>\n",
              "    </tr>\n",
              "  </thead>\n",
              "  <tbody>\n",
              "    <tr>\n",
              "      <th>0</th>\n",
              "      <td>-1.676725</td>\n",
              "      <td>-1.169031</td>\n",
              "      <td>-0.619940</td>\n",
              "    </tr>\n",
              "    <tr>\n",
              "      <th>1</th>\n",
              "      <td>-0.710089</td>\n",
              "      <td>1.834536</td>\n",
              "      <td>-1.118924</td>\n",
              "    </tr>\n",
              "    <tr>\n",
              "      <th>2</th>\n",
              "      <td>-1.306510</td>\n",
              "      <td>-1.427194</td>\n",
              "      <td>1.891368</td>\n",
              "    </tr>\n",
              "    <tr>\n",
              "      <th>3</th>\n",
              "      <td>0.707823</td>\n",
              "      <td>1.638324</td>\n",
              "      <td>-1.007516</td>\n",
              "    </tr>\n",
              "    <tr>\n",
              "      <th>4</th>\n",
              "      <td>0.552295</td>\n",
              "      <td>-2.373425</td>\n",
              "      <td>-1.137115</td>\n",
              "    </tr>\n",
              "    <tr>\n",
              "      <th>5</th>\n",
              "      <td>0.080897</td>\n",
              "      <td>-0.467685</td>\n",
              "      <td>0.484710</td>\n",
              "    </tr>\n",
              "    <tr>\n",
              "      <th>6</th>\n",
              "      <td>-0.478739</td>\n",
              "      <td>-0.519066</td>\n",
              "      <td>0.058221</td>\n",
              "    </tr>\n",
              "  </tbody>\n",
              "</table>\n",
              "</div>"
            ],
            "text/plain": [
              "          A         B         C\n",
              "0 -1.676725 -1.169031 -0.619940\n",
              "1 -0.710089  1.834536 -1.118924\n",
              "2 -1.306510 -1.427194  1.891368\n",
              "3  0.707823  1.638324 -1.007516\n",
              "4  0.552295 -2.373425 -1.137115\n",
              "5  0.080897 -0.467685  0.484710\n",
              "6 -0.478739 -0.519066  0.058221"
            ]
          },
          "execution_count": 45,
          "metadata": {},
          "output_type": "execute_result"
        }
      ],
      "source": [
        "\n",
        "df2 = pd.DataFrame(np.random.randn(7, 3), columns=['A', 'B', 'C'])\n",
        "df2"
      ]
    },
    {
      "cell_type": "code",
      "execution_count": null,
      "metadata": {
        "id": "H4AR1qdbyOmG",
        "outputId": "720caa1d-0491-45ff-9cd9-bddaa930b29c"
      },
      "outputs": [
        {
          "data": {
            "text/html": [
              "<div>\n",
              "<style scoped>\n",
              "    .dataframe tbody tr th:only-of-type {\n",
              "        vertical-align: middle;\n",
              "    }\n",
              "\n",
              "    .dataframe tbody tr th {\n",
              "        vertical-align: top;\n",
              "    }\n",
              "\n",
              "    .dataframe thead th {\n",
              "        text-align: right;\n",
              "    }\n",
              "</style>\n",
              "<table border=\"1\" class=\"dataframe\">\n",
              "  <thead>\n",
              "    <tr style=\"text-align: right;\">\n",
              "      <th></th>\n",
              "      <th>A</th>\n",
              "      <th>B</th>\n",
              "      <th>C</th>\n",
              "      <th>D</th>\n",
              "    </tr>\n",
              "  </thead>\n",
              "  <tbody>\n",
              "    <tr>\n",
              "      <th>0</th>\n",
              "      <td>-1.794426</td>\n",
              "      <td>-0.380882</td>\n",
              "      <td>0.157008</td>\n",
              "      <td>NaN</td>\n",
              "    </tr>\n",
              "    <tr>\n",
              "      <th>1</th>\n",
              "      <td>-0.105636</td>\n",
              "      <td>1.346731</td>\n",
              "      <td>0.238002</td>\n",
              "      <td>NaN</td>\n",
              "    </tr>\n",
              "    <tr>\n",
              "      <th>2</th>\n",
              "      <td>-2.193027</td>\n",
              "      <td>-1.382245</td>\n",
              "      <td>1.915186</td>\n",
              "      <td>NaN</td>\n",
              "    </tr>\n",
              "    <tr>\n",
              "      <th>3</th>\n",
              "      <td>1.275037</td>\n",
              "      <td>2.540692</td>\n",
              "      <td>-0.872054</td>\n",
              "      <td>NaN</td>\n",
              "    </tr>\n",
              "    <tr>\n",
              "      <th>4</th>\n",
              "      <td>-0.022608</td>\n",
              "      <td>-1.817870</td>\n",
              "      <td>-1.231789</td>\n",
              "      <td>NaN</td>\n",
              "    </tr>\n",
              "    <tr>\n",
              "      <th>5</th>\n",
              "      <td>-0.006301</td>\n",
              "      <td>-1.253170</td>\n",
              "      <td>1.012196</td>\n",
              "      <td>NaN</td>\n",
              "    </tr>\n",
              "    <tr>\n",
              "      <th>6</th>\n",
              "      <td>-0.591600</td>\n",
              "      <td>0.601538</td>\n",
              "      <td>-0.875449</td>\n",
              "      <td>NaN</td>\n",
              "    </tr>\n",
              "    <tr>\n",
              "      <th>7</th>\n",
              "      <td>NaN</td>\n",
              "      <td>NaN</td>\n",
              "      <td>NaN</td>\n",
              "      <td>NaN</td>\n",
              "    </tr>\n",
              "    <tr>\n",
              "      <th>8</th>\n",
              "      <td>NaN</td>\n",
              "      <td>NaN</td>\n",
              "      <td>NaN</td>\n",
              "      <td>NaN</td>\n",
              "    </tr>\n",
              "    <tr>\n",
              "      <th>9</th>\n",
              "      <td>NaN</td>\n",
              "      <td>NaN</td>\n",
              "      <td>NaN</td>\n",
              "      <td>NaN</td>\n",
              "    </tr>\n",
              "  </tbody>\n",
              "</table>\n",
              "</div>"
            ],
            "text/plain": [
              "          A         B         C   D\n",
              "0 -1.794426 -0.380882  0.157008 NaN\n",
              "1 -0.105636  1.346731  0.238002 NaN\n",
              "2 -2.193027 -1.382245  1.915186 NaN\n",
              "3  1.275037  2.540692 -0.872054 NaN\n",
              "4 -0.022608 -1.817870 -1.231789 NaN\n",
              "5 -0.006301 -1.253170  1.012196 NaN\n",
              "6 -0.591600  0.601538 -0.875449 NaN\n",
              "7       NaN       NaN       NaN NaN\n",
              "8       NaN       NaN       NaN NaN\n",
              "9       NaN       NaN       NaN NaN"
            ]
          },
          "execution_count": 46,
          "metadata": {},
          "output_type": "execute_result"
        }
      ],
      "source": [
        "df1+df2"
      ]
    },
    {
      "cell_type": "markdown",
      "metadata": {
        "id": "z84yEseoyOmH"
      },
      "source": [
        "- When doing an operation between DataFrame and Series, the default behavior is to align the Series index on the DataFrame columns, thus broadcasting row-wise. For example:"
      ]
    },
    {
      "cell_type": "code",
      "execution_count": null,
      "metadata": {
        "id": "YVUldOLDyOmH",
        "outputId": "007cfd70-ca72-4677-860c-df9423cc87fb"
      },
      "outputs": [
        {
          "data": {
            "text/html": [
              "<div>\n",
              "<style scoped>\n",
              "    .dataframe tbody tr th:only-of-type {\n",
              "        vertical-align: middle;\n",
              "    }\n",
              "\n",
              "    .dataframe tbody tr th {\n",
              "        vertical-align: top;\n",
              "    }\n",
              "\n",
              "    .dataframe thead th {\n",
              "        text-align: right;\n",
              "    }\n",
              "</style>\n",
              "<table border=\"1\" class=\"dataframe\">\n",
              "  <thead>\n",
              "    <tr style=\"text-align: right;\">\n",
              "      <th></th>\n",
              "      <th>A</th>\n",
              "      <th>B</th>\n",
              "      <th>C</th>\n",
              "      <th>D</th>\n",
              "    </tr>\n",
              "  </thead>\n",
              "  <tbody>\n",
              "    <tr>\n",
              "      <th>0</th>\n",
              "      <td>0.000000</td>\n",
              "      <td>0.000000</td>\n",
              "      <td>0.000000</td>\n",
              "      <td>0.000000</td>\n",
              "    </tr>\n",
              "    <tr>\n",
              "      <th>1</th>\n",
              "      <td>0.722153</td>\n",
              "      <td>-1.275955</td>\n",
              "      <td>0.579979</td>\n",
              "      <td>1.168068</td>\n",
              "    </tr>\n",
              "    <tr>\n",
              "      <th>2</th>\n",
              "      <td>-0.768817</td>\n",
              "      <td>-0.743200</td>\n",
              "      <td>-0.753129</td>\n",
              "      <td>3.333801</td>\n",
              "    </tr>\n",
              "    <tr>\n",
              "      <th>3</th>\n",
              "      <td>0.684915</td>\n",
              "      <td>0.114219</td>\n",
              "      <td>-0.641486</td>\n",
              "      <td>1.107699</td>\n",
              "    </tr>\n",
              "    <tr>\n",
              "      <th>4</th>\n",
              "      <td>-0.457204</td>\n",
              "      <td>-0.232595</td>\n",
              "      <td>-0.871622</td>\n",
              "      <td>1.034753</td>\n",
              "    </tr>\n",
              "    <tr>\n",
              "      <th>5</th>\n",
              "      <td>0.030502</td>\n",
              "      <td>-1.573633</td>\n",
              "      <td>-0.249461</td>\n",
              "      <td>1.452675</td>\n",
              "    </tr>\n",
              "    <tr>\n",
              "      <th>6</th>\n",
              "      <td>0.004839</td>\n",
              "      <td>0.332455</td>\n",
              "      <td>-1.710617</td>\n",
              "      <td>0.926712</td>\n",
              "    </tr>\n",
              "    <tr>\n",
              "      <th>7</th>\n",
              "      <td>0.454640</td>\n",
              "      <td>-0.679244</td>\n",
              "      <td>-1.072280</td>\n",
              "      <td>-1.831968</td>\n",
              "    </tr>\n",
              "    <tr>\n",
              "      <th>8</th>\n",
              "      <td>-1.914198</td>\n",
              "      <td>0.502551</td>\n",
              "      <td>0.236857</td>\n",
              "      <td>1.494064</td>\n",
              "    </tr>\n",
              "    <tr>\n",
              "      <th>9</th>\n",
              "      <td>0.096250</td>\n",
              "      <td>-3.020167</td>\n",
              "      <td>-2.132890</td>\n",
              "      <td>1.015062</td>\n",
              "    </tr>\n",
              "  </tbody>\n",
              "</table>\n",
              "</div>"
            ],
            "text/plain": [
              "          A         B         C         D\n",
              "0  0.000000  0.000000  0.000000  0.000000\n",
              "1  0.722153 -1.275955  0.579979  1.168068\n",
              "2 -0.768817 -0.743200 -0.753129  3.333801\n",
              "3  0.684915  0.114219 -0.641486  1.107699\n",
              "4 -0.457204 -0.232595 -0.871622  1.034753\n",
              "5  0.030502 -1.573633 -0.249461  1.452675\n",
              "6  0.004839  0.332455 -1.710617  0.926712\n",
              "7  0.454640 -0.679244 -1.072280 -1.831968\n",
              "8 -1.914198  0.502551  0.236857  1.494064\n",
              "9  0.096250 -3.020167 -2.132890  1.015062"
            ]
          },
          "execution_count": 47,
          "metadata": {},
          "output_type": "execute_result"
        }
      ],
      "source": [
        "df1 - df1.iloc[0]"
      ]
    },
    {
      "cell_type": "markdown",
      "metadata": {
        "id": "DZDx8VO6yOmH"
      },
      "source": [
        " - In the special case of working with time series data, and the DataFrame index also contains dates, the broadcasting will be column-wise:"
      ]
    },
    {
      "cell_type": "code",
      "execution_count": null,
      "metadata": {
        "id": "nOgQMCdyyOmH",
        "outputId": "2bb7b5f6-b38a-4296-c00f-2b06396a9e0d"
      },
      "outputs": [
        {
          "data": {
            "text/html": [
              "<div>\n",
              "<style scoped>\n",
              "    .dataframe tbody tr th:only-of-type {\n",
              "        vertical-align: middle;\n",
              "    }\n",
              "\n",
              "    .dataframe tbody tr th {\n",
              "        vertical-align: top;\n",
              "    }\n",
              "\n",
              "    .dataframe thead th {\n",
              "        text-align: right;\n",
              "    }\n",
              "</style>\n",
              "<table border=\"1\" class=\"dataframe\">\n",
              "  <thead>\n",
              "    <tr style=\"text-align: right;\">\n",
              "      <th></th>\n",
              "      <th>A</th>\n",
              "      <th>B</th>\n",
              "      <th>C</th>\n",
              "    </tr>\n",
              "  </thead>\n",
              "  <tbody>\n",
              "    <tr>\n",
              "      <th>2000-01-01</th>\n",
              "      <td>0.146072</td>\n",
              "      <td>0.966939</td>\n",
              "      <td>-0.483866</td>\n",
              "    </tr>\n",
              "    <tr>\n",
              "      <th>2000-01-02</th>\n",
              "      <td>-0.301393</td>\n",
              "      <td>-0.235599</td>\n",
              "      <td>-0.291576</td>\n",
              "    </tr>\n",
              "    <tr>\n",
              "      <th>2000-01-03</th>\n",
              "      <td>0.763213</td>\n",
              "      <td>0.086616</td>\n",
              "      <td>0.607997</td>\n",
              "    </tr>\n",
              "    <tr>\n",
              "      <th>2000-01-04</th>\n",
              "      <td>-0.164010</td>\n",
              "      <td>-0.422640</td>\n",
              "      <td>-0.338078</td>\n",
              "    </tr>\n",
              "    <tr>\n",
              "      <th>2000-01-05</th>\n",
              "      <td>1.414892</td>\n",
              "      <td>-1.146976</td>\n",
              "      <td>0.355322</td>\n",
              "    </tr>\n",
              "    <tr>\n",
              "      <th>2000-01-06</th>\n",
              "      <td>0.448006</td>\n",
              "      <td>0.826819</td>\n",
              "      <td>-0.320917</td>\n",
              "    </tr>\n",
              "    <tr>\n",
              "      <th>2000-01-07</th>\n",
              "      <td>-1.299619</td>\n",
              "      <td>-1.786811</td>\n",
              "      <td>-2.381874</td>\n",
              "    </tr>\n",
              "    <tr>\n",
              "      <th>2000-01-08</th>\n",
              "      <td>0.172000</td>\n",
              "      <td>0.008814</td>\n",
              "      <td>0.241587</td>\n",
              "    </tr>\n",
              "  </tbody>\n",
              "</table>\n",
              "</div>"
            ],
            "text/plain": [
              "                   A         B         C\n",
              "2000-01-01  0.146072  0.966939 -0.483866\n",
              "2000-01-02 -0.301393 -0.235599 -0.291576\n",
              "2000-01-03  0.763213  0.086616  0.607997\n",
              "2000-01-04 -0.164010 -0.422640 -0.338078\n",
              "2000-01-05  1.414892 -1.146976  0.355322\n",
              "2000-01-06  0.448006  0.826819 -0.320917\n",
              "2000-01-07 -1.299619 -1.786811 -2.381874\n",
              "2000-01-08  0.172000  0.008814  0.241587"
            ]
          },
          "execution_count": 48,
          "metadata": {},
          "output_type": "execute_result"
        }
      ],
      "source": [
        "index = pd.date_range('1/1/2000', periods=8)\n",
        "df = pd.DataFrame(np.random.randn(8, 3), index=index, columns=list('ABC'))\n",
        "df"
      ]
    },
    {
      "cell_type": "code",
      "execution_count": null,
      "metadata": {
        "id": "kZCFFOz-yOmI",
        "outputId": "b8ccd2d1-c220-490e-d234-3edc96fd38d0"
      },
      "outputs": [
        {
          "data": {
            "text/html": [
              "<div>\n",
              "<style scoped>\n",
              "    .dataframe tbody tr th:only-of-type {\n",
              "        vertical-align: middle;\n",
              "    }\n",
              "\n",
              "    .dataframe tbody tr th {\n",
              "        vertical-align: top;\n",
              "    }\n",
              "\n",
              "    .dataframe thead th {\n",
              "        text-align: right;\n",
              "    }\n",
              "</style>\n",
              "<table border=\"1\" class=\"dataframe\">\n",
              "  <thead>\n",
              "    <tr style=\"text-align: right;\">\n",
              "      <th></th>\n",
              "      <th>A</th>\n",
              "      <th>B</th>\n",
              "      <th>C</th>\n",
              "      <th>D</th>\n",
              "    </tr>\n",
              "  </thead>\n",
              "  <tbody>\n",
              "    <tr>\n",
              "      <th>0</th>\n",
              "      <td>0.822999</td>\n",
              "      <td>9.881489</td>\n",
              "      <td>9.769477</td>\n",
              "      <td>-9.596196</td>\n",
              "    </tr>\n",
              "    <tr>\n",
              "      <th>1</th>\n",
              "      <td>8.044527</td>\n",
              "      <td>-2.878058</td>\n",
              "      <td>15.569265</td>\n",
              "      <td>2.084481</td>\n",
              "    </tr>\n",
              "    <tr>\n",
              "      <th>2</th>\n",
              "      <td>-6.865170</td>\n",
              "      <td>2.449487</td>\n",
              "      <td>2.238184</td>\n",
              "      <td>23.741809</td>\n",
              "    </tr>\n",
              "    <tr>\n",
              "      <th>3</th>\n",
              "      <td>7.672145</td>\n",
              "      <td>11.023680</td>\n",
              "      <td>3.354615</td>\n",
              "      <td>1.480795</td>\n",
              "    </tr>\n",
              "    <tr>\n",
              "      <th>4</th>\n",
              "      <td>-3.749036</td>\n",
              "      <td>7.555543</td>\n",
              "      <td>1.053260</td>\n",
              "      <td>0.751332</td>\n",
              "    </tr>\n",
              "    <tr>\n",
              "      <th>5</th>\n",
              "      <td>1.128016</td>\n",
              "      <td>-5.854845</td>\n",
              "      <td>7.274863</td>\n",
              "      <td>4.930555</td>\n",
              "    </tr>\n",
              "    <tr>\n",
              "      <th>6</th>\n",
              "      <td>0.871390</td>\n",
              "      <td>13.206037</td>\n",
              "      <td>-7.336697</td>\n",
              "      <td>-0.329076</td>\n",
              "    </tr>\n",
              "    <tr>\n",
              "      <th>7</th>\n",
              "      <td>5.369398</td>\n",
              "      <td>3.089045</td>\n",
              "      <td>-0.953321</td>\n",
              "      <td>-27.915874</td>\n",
              "    </tr>\n",
              "    <tr>\n",
              "      <th>8</th>\n",
              "      <td>-18.318978</td>\n",
              "      <td>14.906997</td>\n",
              "      <td>12.138047</td>\n",
              "      <td>5.344443</td>\n",
              "    </tr>\n",
              "    <tr>\n",
              "      <th>9</th>\n",
              "      <td>1.785502</td>\n",
              "      <td>-20.320177</td>\n",
              "      <td>-11.559426</td>\n",
              "      <td>0.554421</td>\n",
              "    </tr>\n",
              "  </tbody>\n",
              "</table>\n",
              "</div>"
            ],
            "text/plain": [
              "           A          B          C          D\n",
              "0   0.822999   9.881489   9.769477  -9.596196\n",
              "1   8.044527  -2.878058  15.569265   2.084481\n",
              "2  -6.865170   2.449487   2.238184  23.741809\n",
              "3   7.672145  11.023680   3.354615   1.480795\n",
              "4  -3.749036   7.555543   1.053260   0.751332\n",
              "5   1.128016  -5.854845   7.274863   4.930555\n",
              "6   0.871390  13.206037  -7.336697  -0.329076\n",
              "7   5.369398   3.089045  -0.953321 -27.915874\n",
              "8 -18.318978  14.906997  12.138047   5.344443\n",
              "9   1.785502 -20.320177 -11.559426   0.554421"
            ]
          },
          "execution_count": 49,
          "metadata": {},
          "output_type": "execute_result"
        }
      ],
      "source": [
        "df1* 10 + 2"
      ]
    },
    {
      "cell_type": "code",
      "execution_count": null,
      "metadata": {
        "id": "C7pwByw1yOmI"
      },
      "outputs": [],
      "source": [
        "1/df1"
      ]
    },
    {
      "cell_type": "code",
      "execution_count": null,
      "metadata": {
        "id": "E2kKs3AWyOmI"
      },
      "outputs": [],
      "source": [
        "df1**5"
      ]
    },
    {
      "cell_type": "markdown",
      "metadata": {
        "id": "rEuTHoK_yOmI"
      },
      "source": [
        "- Boolean operators work as well:"
      ]
    },
    {
      "cell_type": "code",
      "execution_count": null,
      "metadata": {
        "id": "en_O5wR7yOmJ",
        "outputId": "723e02fb-a76d-4eed-d02f-2a774b56d562"
      },
      "outputs": [
        {
          "data": {
            "text/html": [
              "<div>\n",
              "<style scoped>\n",
              "    .dataframe tbody tr th:only-of-type {\n",
              "        vertical-align: middle;\n",
              "    }\n",
              "\n",
              "    .dataframe tbody tr th {\n",
              "        vertical-align: top;\n",
              "    }\n",
              "\n",
              "    .dataframe thead th {\n",
              "        text-align: right;\n",
              "    }\n",
              "</style>\n",
              "<table border=\"1\" class=\"dataframe\">\n",
              "  <thead>\n",
              "    <tr style=\"text-align: right;\">\n",
              "      <th></th>\n",
              "      <th>a</th>\n",
              "      <th>b</th>\n",
              "    </tr>\n",
              "  </thead>\n",
              "  <tbody>\n",
              "    <tr>\n",
              "      <th>0</th>\n",
              "      <td>True</td>\n",
              "      <td>False</td>\n",
              "    </tr>\n",
              "    <tr>\n",
              "      <th>1</th>\n",
              "      <td>False</td>\n",
              "      <td>True</td>\n",
              "    </tr>\n",
              "    <tr>\n",
              "      <th>2</th>\n",
              "      <td>True</td>\n",
              "      <td>True</td>\n",
              "    </tr>\n",
              "  </tbody>\n",
              "</table>\n",
              "</div>"
            ],
            "text/plain": [
              "       a      b\n",
              "0   True  False\n",
              "1  False   True\n",
              "2   True   True"
            ]
          },
          "execution_count": 50,
          "metadata": {},
          "output_type": "execute_result"
        }
      ],
      "source": [
        "df1 = pd.DataFrame({'a' : [1, 0, 1], 'b' : [0, 1, 1] }, dtype=bool)\n",
        "df1"
      ]
    },
    {
      "cell_type": "code",
      "execution_count": null,
      "metadata": {
        "id": "IMPs8bQwyOmJ",
        "outputId": "73c59382-d61d-4769-e41f-7ee34dcf368d"
      },
      "outputs": [
        {
          "data": {
            "text/html": [
              "<div>\n",
              "<style scoped>\n",
              "    .dataframe tbody tr th:only-of-type {\n",
              "        vertical-align: middle;\n",
              "    }\n",
              "\n",
              "    .dataframe tbody tr th {\n",
              "        vertical-align: top;\n",
              "    }\n",
              "\n",
              "    .dataframe thead th {\n",
              "        text-align: right;\n",
              "    }\n",
              "</style>\n",
              "<table border=\"1\" class=\"dataframe\">\n",
              "  <thead>\n",
              "    <tr style=\"text-align: right;\">\n",
              "      <th></th>\n",
              "      <th>a</th>\n",
              "      <th>b</th>\n",
              "    </tr>\n",
              "  </thead>\n",
              "  <tbody>\n",
              "    <tr>\n",
              "      <th>0</th>\n",
              "      <td>False</td>\n",
              "      <td>True</td>\n",
              "    </tr>\n",
              "    <tr>\n",
              "      <th>1</th>\n",
              "      <td>True</td>\n",
              "      <td>True</td>\n",
              "    </tr>\n",
              "    <tr>\n",
              "      <th>2</th>\n",
              "      <td>True</td>\n",
              "      <td>False</td>\n",
              "    </tr>\n",
              "  </tbody>\n",
              "</table>\n",
              "</div>"
            ],
            "text/plain": [
              "       a      b\n",
              "0  False   True\n",
              "1   True   True\n",
              "2   True  False"
            ]
          },
          "execution_count": 51,
          "metadata": {},
          "output_type": "execute_result"
        }
      ],
      "source": [
        "df2 = pd.DataFrame({'a' : [0, 1, 1], 'b' : [1, 1, 0] }, dtype=bool)\n",
        "df2"
      ]
    },
    {
      "cell_type": "code",
      "execution_count": null,
      "metadata": {
        "id": "kx6CeG7LyOmJ",
        "outputId": "54b09edd-7bff-40ac-bdb0-67b28bce3472"
      },
      "outputs": [
        {
          "data": {
            "text/html": [
              "<div>\n",
              "<style scoped>\n",
              "    .dataframe tbody tr th:only-of-type {\n",
              "        vertical-align: middle;\n",
              "    }\n",
              "\n",
              "    .dataframe tbody tr th {\n",
              "        vertical-align: top;\n",
              "    }\n",
              "\n",
              "    .dataframe thead th {\n",
              "        text-align: right;\n",
              "    }\n",
              "</style>\n",
              "<table border=\"1\" class=\"dataframe\">\n",
              "  <thead>\n",
              "    <tr style=\"text-align: right;\">\n",
              "      <th></th>\n",
              "      <th>a</th>\n",
              "      <th>b</th>\n",
              "    </tr>\n",
              "  </thead>\n",
              "  <tbody>\n",
              "    <tr>\n",
              "      <th>0</th>\n",
              "      <td>False</td>\n",
              "      <td>False</td>\n",
              "    </tr>\n",
              "    <tr>\n",
              "      <th>1</th>\n",
              "      <td>False</td>\n",
              "      <td>True</td>\n",
              "    </tr>\n",
              "    <tr>\n",
              "      <th>2</th>\n",
              "      <td>True</td>\n",
              "      <td>False</td>\n",
              "    </tr>\n",
              "  </tbody>\n",
              "</table>\n",
              "</div>"
            ],
            "text/plain": [
              "       a      b\n",
              "0  False  False\n",
              "1  False   True\n",
              "2   True  False"
            ]
          },
          "execution_count": 52,
          "metadata": {},
          "output_type": "execute_result"
        }
      ],
      "source": [
        "df1&df2"
      ]
    },
    {
      "cell_type": "code",
      "execution_count": null,
      "metadata": {
        "id": "H4U31oCSyOmJ",
        "outputId": "c9578c09-0141-47f6-dd8d-1e1213eac388"
      },
      "outputs": [
        {
          "data": {
            "text/html": [
              "<div>\n",
              "<style scoped>\n",
              "    .dataframe tbody tr th:only-of-type {\n",
              "        vertical-align: middle;\n",
              "    }\n",
              "\n",
              "    .dataframe tbody tr th {\n",
              "        vertical-align: top;\n",
              "    }\n",
              "\n",
              "    .dataframe thead th {\n",
              "        text-align: right;\n",
              "    }\n",
              "</style>\n",
              "<table border=\"1\" class=\"dataframe\">\n",
              "  <thead>\n",
              "    <tr style=\"text-align: right;\">\n",
              "      <th></th>\n",
              "      <th>a</th>\n",
              "      <th>b</th>\n",
              "    </tr>\n",
              "  </thead>\n",
              "  <tbody>\n",
              "    <tr>\n",
              "      <th>0</th>\n",
              "      <td>True</td>\n",
              "      <td>True</td>\n",
              "    </tr>\n",
              "    <tr>\n",
              "      <th>1</th>\n",
              "      <td>True</td>\n",
              "      <td>True</td>\n",
              "    </tr>\n",
              "    <tr>\n",
              "      <th>2</th>\n",
              "      <td>True</td>\n",
              "      <td>True</td>\n",
              "    </tr>\n",
              "  </tbody>\n",
              "</table>\n",
              "</div>"
            ],
            "text/plain": [
              "      a     b\n",
              "0  True  True\n",
              "1  True  True\n",
              "2  True  True"
            ]
          },
          "execution_count": 53,
          "metadata": {},
          "output_type": "execute_result"
        }
      ],
      "source": [
        "df1 | df2"
      ]
    },
    {
      "cell_type": "code",
      "execution_count": null,
      "metadata": {
        "id": "Bx-strBXyOmK",
        "outputId": "c8c4b6e8-7a9f-4a03-f853-3d13506316dc",
        "colab": {
          "base_uri": "https://localhost:8080/",
          "height": 394
        }
      },
      "outputs": [
        {
          "output_type": "execute_result",
          "data": {
            "text/plain": [
              "           A         B         C         D         e\n",
              "0  -0.638490 -0.197069 -0.105821  0.340858  1.270217\n",
              "1   0.678361  2.051797 -0.173855  0.413255  0.179677\n",
              "2   0.339678 -0.456084 -0.102586 -0.369598 -1.172175\n",
              "3  -0.444897  1.810309 -1.590203 -1.068054 -0.468262\n",
              "4   0.842756 -1.065453  1.725401  0.437198  0.619332\n",
              "5  -0.681592 -1.493806 -0.230632 -0.035697 -0.151708\n",
              "6  -0.328107  0.418472  3.109147 -0.799178 -1.696444\n",
              "7  -0.011232 -0.514811 -2.987933  1.189693 -0.113275\n",
              "8  -2.631791  0.001867 -1.117155 -0.796605  0.066918\n",
              "9  -0.408660  1.593091 -0.044466 -0.054806 -0.773165\n",
              "10 -0.919994  0.583779 -0.145173  1.800659  0.036050"
            ],
            "text/html": [
              "\n",
              "  <div id=\"df-cceb40f8-fe39-4728-bd70-f13d1d66b9f9\" class=\"colab-df-container\">\n",
              "    <div>\n",
              "<style scoped>\n",
              "    .dataframe tbody tr th:only-of-type {\n",
              "        vertical-align: middle;\n",
              "    }\n",
              "\n",
              "    .dataframe tbody tr th {\n",
              "        vertical-align: top;\n",
              "    }\n",
              "\n",
              "    .dataframe thead th {\n",
              "        text-align: right;\n",
              "    }\n",
              "</style>\n",
              "<table border=\"1\" class=\"dataframe\">\n",
              "  <thead>\n",
              "    <tr style=\"text-align: right;\">\n",
              "      <th></th>\n",
              "      <th>A</th>\n",
              "      <th>B</th>\n",
              "      <th>C</th>\n",
              "      <th>D</th>\n",
              "      <th>e</th>\n",
              "    </tr>\n",
              "  </thead>\n",
              "  <tbody>\n",
              "    <tr>\n",
              "      <th>0</th>\n",
              "      <td>-0.638490</td>\n",
              "      <td>-0.197069</td>\n",
              "      <td>-0.105821</td>\n",
              "      <td>0.340858</td>\n",
              "      <td>1.270217</td>\n",
              "    </tr>\n",
              "    <tr>\n",
              "      <th>1</th>\n",
              "      <td>0.678361</td>\n",
              "      <td>2.051797</td>\n",
              "      <td>-0.173855</td>\n",
              "      <td>0.413255</td>\n",
              "      <td>0.179677</td>\n",
              "    </tr>\n",
              "    <tr>\n",
              "      <th>2</th>\n",
              "      <td>0.339678</td>\n",
              "      <td>-0.456084</td>\n",
              "      <td>-0.102586</td>\n",
              "      <td>-0.369598</td>\n",
              "      <td>-1.172175</td>\n",
              "    </tr>\n",
              "    <tr>\n",
              "      <th>3</th>\n",
              "      <td>-0.444897</td>\n",
              "      <td>1.810309</td>\n",
              "      <td>-1.590203</td>\n",
              "      <td>-1.068054</td>\n",
              "      <td>-0.468262</td>\n",
              "    </tr>\n",
              "    <tr>\n",
              "      <th>4</th>\n",
              "      <td>0.842756</td>\n",
              "      <td>-1.065453</td>\n",
              "      <td>1.725401</td>\n",
              "      <td>0.437198</td>\n",
              "      <td>0.619332</td>\n",
              "    </tr>\n",
              "    <tr>\n",
              "      <th>5</th>\n",
              "      <td>-0.681592</td>\n",
              "      <td>-1.493806</td>\n",
              "      <td>-0.230632</td>\n",
              "      <td>-0.035697</td>\n",
              "      <td>-0.151708</td>\n",
              "    </tr>\n",
              "    <tr>\n",
              "      <th>6</th>\n",
              "      <td>-0.328107</td>\n",
              "      <td>0.418472</td>\n",
              "      <td>3.109147</td>\n",
              "      <td>-0.799178</td>\n",
              "      <td>-1.696444</td>\n",
              "    </tr>\n",
              "    <tr>\n",
              "      <th>7</th>\n",
              "      <td>-0.011232</td>\n",
              "      <td>-0.514811</td>\n",
              "      <td>-2.987933</td>\n",
              "      <td>1.189693</td>\n",
              "      <td>-0.113275</td>\n",
              "    </tr>\n",
              "    <tr>\n",
              "      <th>8</th>\n",
              "      <td>-2.631791</td>\n",
              "      <td>0.001867</td>\n",
              "      <td>-1.117155</td>\n",
              "      <td>-0.796605</td>\n",
              "      <td>0.066918</td>\n",
              "    </tr>\n",
              "    <tr>\n",
              "      <th>9</th>\n",
              "      <td>-0.408660</td>\n",
              "      <td>1.593091</td>\n",
              "      <td>-0.044466</td>\n",
              "      <td>-0.054806</td>\n",
              "      <td>-0.773165</td>\n",
              "    </tr>\n",
              "    <tr>\n",
              "      <th>10</th>\n",
              "      <td>-0.919994</td>\n",
              "      <td>0.583779</td>\n",
              "      <td>-0.145173</td>\n",
              "      <td>1.800659</td>\n",
              "      <td>0.036050</td>\n",
              "    </tr>\n",
              "  </tbody>\n",
              "</table>\n",
              "</div>\n",
              "    <div class=\"colab-df-buttons\">\n",
              "\n",
              "  <div class=\"colab-df-container\">\n",
              "    <button class=\"colab-df-convert\" onclick=\"convertToInteractive('df-cceb40f8-fe39-4728-bd70-f13d1d66b9f9')\"\n",
              "            title=\"Convert this dataframe to an interactive table.\"\n",
              "            style=\"display:none;\">\n",
              "\n",
              "  <svg xmlns=\"http://www.w3.org/2000/svg\" height=\"24px\" viewBox=\"0 -960 960 960\">\n",
              "    <path d=\"M120-120v-720h720v720H120Zm60-500h600v-160H180v160Zm220 220h160v-160H400v160Zm0 220h160v-160H400v160ZM180-400h160v-160H180v160Zm440 0h160v-160H620v160ZM180-180h160v-160H180v160Zm440 0h160v-160H620v160Z\"/>\n",
              "  </svg>\n",
              "    </button>\n",
              "\n",
              "  <style>\n",
              "    .colab-df-container {\n",
              "      display:flex;\n",
              "      gap: 12px;\n",
              "    }\n",
              "\n",
              "    .colab-df-convert {\n",
              "      background-color: #E8F0FE;\n",
              "      border: none;\n",
              "      border-radius: 50%;\n",
              "      cursor: pointer;\n",
              "      display: none;\n",
              "      fill: #1967D2;\n",
              "      height: 32px;\n",
              "      padding: 0 0 0 0;\n",
              "      width: 32px;\n",
              "    }\n",
              "\n",
              "    .colab-df-convert:hover {\n",
              "      background-color: #E2EBFA;\n",
              "      box-shadow: 0px 1px 2px rgba(60, 64, 67, 0.3), 0px 1px 3px 1px rgba(60, 64, 67, 0.15);\n",
              "      fill: #174EA6;\n",
              "    }\n",
              "\n",
              "    .colab-df-buttons div {\n",
              "      margin-bottom: 4px;\n",
              "    }\n",
              "\n",
              "    [theme=dark] .colab-df-convert {\n",
              "      background-color: #3B4455;\n",
              "      fill: #D2E3FC;\n",
              "    }\n",
              "\n",
              "    [theme=dark] .colab-df-convert:hover {\n",
              "      background-color: #434B5C;\n",
              "      box-shadow: 0px 1px 3px 1px rgba(0, 0, 0, 0.15);\n",
              "      filter: drop-shadow(0px 1px 2px rgba(0, 0, 0, 0.3));\n",
              "      fill: #FFFFFF;\n",
              "    }\n",
              "  </style>\n",
              "\n",
              "    <script>\n",
              "      const buttonEl =\n",
              "        document.querySelector('#df-cceb40f8-fe39-4728-bd70-f13d1d66b9f9 button.colab-df-convert');\n",
              "      buttonEl.style.display =\n",
              "        google.colab.kernel.accessAllowed ? 'block' : 'none';\n",
              "\n",
              "      async function convertToInteractive(key) {\n",
              "        const element = document.querySelector('#df-cceb40f8-fe39-4728-bd70-f13d1d66b9f9');\n",
              "        const dataTable =\n",
              "          await google.colab.kernel.invokeFunction('convertToInteractive',\n",
              "                                                    [key], {});\n",
              "        if (!dataTable) return;\n",
              "\n",
              "        const docLinkHtml = 'Like what you see? Visit the ' +\n",
              "          '<a target=\"_blank\" href=https://colab.research.google.com/notebooks/data_table.ipynb>data table notebook</a>'\n",
              "          + ' to learn more about interactive tables.';\n",
              "        element.innerHTML = '';\n",
              "        dataTable['output_type'] = 'display_data';\n",
              "        await google.colab.output.renderOutput(dataTable, element);\n",
              "        const docLink = document.createElement('div');\n",
              "        docLink.innerHTML = docLinkHtml;\n",
              "        element.appendChild(docLink);\n",
              "      }\n",
              "    </script>\n",
              "  </div>\n",
              "\n",
              "\n",
              "<div id=\"df-98b65dd1-b121-41f1-8edf-74367342cb90\">\n",
              "  <button class=\"colab-df-quickchart\" onclick=\"quickchart('df-98b65dd1-b121-41f1-8edf-74367342cb90')\"\n",
              "            title=\"Suggest charts\"\n",
              "            style=\"display:none;\">\n",
              "\n",
              "<svg xmlns=\"http://www.w3.org/2000/svg\" height=\"24px\"viewBox=\"0 0 24 24\"\n",
              "     width=\"24px\">\n",
              "    <g>\n",
              "        <path d=\"M19 3H5c-1.1 0-2 .9-2 2v14c0 1.1.9 2 2 2h14c1.1 0 2-.9 2-2V5c0-1.1-.9-2-2-2zM9 17H7v-7h2v7zm4 0h-2V7h2v10zm4 0h-2v-4h2v4z\"/>\n",
              "    </g>\n",
              "</svg>\n",
              "  </button>\n",
              "\n",
              "<style>\n",
              "  .colab-df-quickchart {\n",
              "      --bg-color: #E8F0FE;\n",
              "      --fill-color: #1967D2;\n",
              "      --hover-bg-color: #E2EBFA;\n",
              "      --hover-fill-color: #174EA6;\n",
              "      --disabled-fill-color: #AAA;\n",
              "      --disabled-bg-color: #DDD;\n",
              "  }\n",
              "\n",
              "  [theme=dark] .colab-df-quickchart {\n",
              "      --bg-color: #3B4455;\n",
              "      --fill-color: #D2E3FC;\n",
              "      --hover-bg-color: #434B5C;\n",
              "      --hover-fill-color: #FFFFFF;\n",
              "      --disabled-bg-color: #3B4455;\n",
              "      --disabled-fill-color: #666;\n",
              "  }\n",
              "\n",
              "  .colab-df-quickchart {\n",
              "    background-color: var(--bg-color);\n",
              "    border: none;\n",
              "    border-radius: 50%;\n",
              "    cursor: pointer;\n",
              "    display: none;\n",
              "    fill: var(--fill-color);\n",
              "    height: 32px;\n",
              "    padding: 0;\n",
              "    width: 32px;\n",
              "  }\n",
              "\n",
              "  .colab-df-quickchart:hover {\n",
              "    background-color: var(--hover-bg-color);\n",
              "    box-shadow: 0 1px 2px rgba(60, 64, 67, 0.3), 0 1px 3px 1px rgba(60, 64, 67, 0.15);\n",
              "    fill: var(--button-hover-fill-color);\n",
              "  }\n",
              "\n",
              "  .colab-df-quickchart-complete:disabled,\n",
              "  .colab-df-quickchart-complete:disabled:hover {\n",
              "    background-color: var(--disabled-bg-color);\n",
              "    fill: var(--disabled-fill-color);\n",
              "    box-shadow: none;\n",
              "  }\n",
              "\n",
              "  .colab-df-spinner {\n",
              "    border: 2px solid var(--fill-color);\n",
              "    border-color: transparent;\n",
              "    border-bottom-color: var(--fill-color);\n",
              "    animation:\n",
              "      spin 1s steps(1) infinite;\n",
              "  }\n",
              "\n",
              "  @keyframes spin {\n",
              "    0% {\n",
              "      border-color: transparent;\n",
              "      border-bottom-color: var(--fill-color);\n",
              "      border-left-color: var(--fill-color);\n",
              "    }\n",
              "    20% {\n",
              "      border-color: transparent;\n",
              "      border-left-color: var(--fill-color);\n",
              "      border-top-color: var(--fill-color);\n",
              "    }\n",
              "    30% {\n",
              "      border-color: transparent;\n",
              "      border-left-color: var(--fill-color);\n",
              "      border-top-color: var(--fill-color);\n",
              "      border-right-color: var(--fill-color);\n",
              "    }\n",
              "    40% {\n",
              "      border-color: transparent;\n",
              "      border-right-color: var(--fill-color);\n",
              "      border-top-color: var(--fill-color);\n",
              "    }\n",
              "    60% {\n",
              "      border-color: transparent;\n",
              "      border-right-color: var(--fill-color);\n",
              "    }\n",
              "    80% {\n",
              "      border-color: transparent;\n",
              "      border-right-color: var(--fill-color);\n",
              "      border-bottom-color: var(--fill-color);\n",
              "    }\n",
              "    90% {\n",
              "      border-color: transparent;\n",
              "      border-bottom-color: var(--fill-color);\n",
              "    }\n",
              "  }\n",
              "</style>\n",
              "\n",
              "  <script>\n",
              "    async function quickchart(key) {\n",
              "      const quickchartButtonEl =\n",
              "        document.querySelector('#' + key + ' button');\n",
              "      quickchartButtonEl.disabled = true;  // To prevent multiple clicks.\n",
              "      quickchartButtonEl.classList.add('colab-df-spinner');\n",
              "      try {\n",
              "        const charts = await google.colab.kernel.invokeFunction(\n",
              "            'suggestCharts', [key], {});\n",
              "      } catch (error) {\n",
              "        console.error('Error during call to suggestCharts:', error);\n",
              "      }\n",
              "      quickchartButtonEl.classList.remove('colab-df-spinner');\n",
              "      quickchartButtonEl.classList.add('colab-df-quickchart-complete');\n",
              "    }\n",
              "    (() => {\n",
              "      let quickchartButtonEl =\n",
              "        document.querySelector('#df-98b65dd1-b121-41f1-8edf-74367342cb90 button');\n",
              "      quickchartButtonEl.style.display =\n",
              "        google.colab.kernel.accessAllowed ? 'block' : 'none';\n",
              "    })();\n",
              "  </script>\n",
              "</div>\n",
              "\n",
              "    </div>\n",
              "  </div>\n"
            ]
          },
          "metadata": {},
          "execution_count": 144
        }
      ],
      "source": [
        "-df1"
      ]
    },
    {
      "cell_type": "markdown",
      "metadata": {
        "id": "btLO3wScyOmK"
      },
      "source": [
        "## 11.9 transposing"
      ]
    },
    {
      "cell_type": "markdown",
      "metadata": {
        "id": "z_d58lm0yOmK"
      },
      "source": [
        "- To transpose, access the T attribute (also the transpose function), similar to an ndarray:"
      ]
    },
    {
      "cell_type": "code",
      "execution_count": null,
      "metadata": {
        "id": "JvDT_HYNyOmK",
        "colab": {
          "base_uri": "https://localhost:8080/",
          "height": 300
        },
        "outputId": "32c929ee-1da5-457e-de2b-0fceab560d04"
      },
      "outputs": [
        {
          "output_type": "execute_result",
          "data": {
            "text/plain": [
              "          A         B         C         D\n",
              "a -1.842342 -0.784574 -0.133171 -1.342029\n",
              "b -0.510551  0.238732  1.244819  1.192280\n",
              "c -0.900917 -0.263444 -0.594973 -1.345747\n",
              "d  0.112282 -0.903270  1.225495  1.553347\n",
              "e -0.936734  1.145464  2.788242  1.389920\n",
              "f -1.902779  0.839950  0.172794  0.621758\n",
              "g  0.263597 -1.790287  0.209287  0.859269\n",
              "h -2.402698 -0.178911  0.174107 -0.398885"
            ],
            "text/html": [
              "\n",
              "  <div id=\"df-a729ea5b-d80f-438a-af10-5341d4ce4728\" class=\"colab-df-container\">\n",
              "    <div>\n",
              "<style scoped>\n",
              "    .dataframe tbody tr th:only-of-type {\n",
              "        vertical-align: middle;\n",
              "    }\n",
              "\n",
              "    .dataframe tbody tr th {\n",
              "        vertical-align: top;\n",
              "    }\n",
              "\n",
              "    .dataframe thead th {\n",
              "        text-align: right;\n",
              "    }\n",
              "</style>\n",
              "<table border=\"1\" class=\"dataframe\">\n",
              "  <thead>\n",
              "    <tr style=\"text-align: right;\">\n",
              "      <th></th>\n",
              "      <th>A</th>\n",
              "      <th>B</th>\n",
              "      <th>C</th>\n",
              "      <th>D</th>\n",
              "    </tr>\n",
              "  </thead>\n",
              "  <tbody>\n",
              "    <tr>\n",
              "      <th>a</th>\n",
              "      <td>-1.842342</td>\n",
              "      <td>-0.784574</td>\n",
              "      <td>-0.133171</td>\n",
              "      <td>-1.342029</td>\n",
              "    </tr>\n",
              "    <tr>\n",
              "      <th>b</th>\n",
              "      <td>-0.510551</td>\n",
              "      <td>0.238732</td>\n",
              "      <td>1.244819</td>\n",
              "      <td>1.192280</td>\n",
              "    </tr>\n",
              "    <tr>\n",
              "      <th>c</th>\n",
              "      <td>-0.900917</td>\n",
              "      <td>-0.263444</td>\n",
              "      <td>-0.594973</td>\n",
              "      <td>-1.345747</td>\n",
              "    </tr>\n",
              "    <tr>\n",
              "      <th>d</th>\n",
              "      <td>0.112282</td>\n",
              "      <td>-0.903270</td>\n",
              "      <td>1.225495</td>\n",
              "      <td>1.553347</td>\n",
              "    </tr>\n",
              "    <tr>\n",
              "      <th>e</th>\n",
              "      <td>-0.936734</td>\n",
              "      <td>1.145464</td>\n",
              "      <td>2.788242</td>\n",
              "      <td>1.389920</td>\n",
              "    </tr>\n",
              "    <tr>\n",
              "      <th>f</th>\n",
              "      <td>-1.902779</td>\n",
              "      <td>0.839950</td>\n",
              "      <td>0.172794</td>\n",
              "      <td>0.621758</td>\n",
              "    </tr>\n",
              "    <tr>\n",
              "      <th>g</th>\n",
              "      <td>0.263597</td>\n",
              "      <td>-1.790287</td>\n",
              "      <td>0.209287</td>\n",
              "      <td>0.859269</td>\n",
              "    </tr>\n",
              "    <tr>\n",
              "      <th>h</th>\n",
              "      <td>-2.402698</td>\n",
              "      <td>-0.178911</td>\n",
              "      <td>0.174107</td>\n",
              "      <td>-0.398885</td>\n",
              "    </tr>\n",
              "  </tbody>\n",
              "</table>\n",
              "</div>\n",
              "    <div class=\"colab-df-buttons\">\n",
              "\n",
              "  <div class=\"colab-df-container\">\n",
              "    <button class=\"colab-df-convert\" onclick=\"convertToInteractive('df-a729ea5b-d80f-438a-af10-5341d4ce4728')\"\n",
              "            title=\"Convert this dataframe to an interactive table.\"\n",
              "            style=\"display:none;\">\n",
              "\n",
              "  <svg xmlns=\"http://www.w3.org/2000/svg\" height=\"24px\" viewBox=\"0 -960 960 960\">\n",
              "    <path d=\"M120-120v-720h720v720H120Zm60-500h600v-160H180v160Zm220 220h160v-160H400v160Zm0 220h160v-160H400v160ZM180-400h160v-160H180v160Zm440 0h160v-160H620v160ZM180-180h160v-160H180v160Zm440 0h160v-160H620v160Z\"/>\n",
              "  </svg>\n",
              "    </button>\n",
              "\n",
              "  <style>\n",
              "    .colab-df-container {\n",
              "      display:flex;\n",
              "      gap: 12px;\n",
              "    }\n",
              "\n",
              "    .colab-df-convert {\n",
              "      background-color: #E8F0FE;\n",
              "      border: none;\n",
              "      border-radius: 50%;\n",
              "      cursor: pointer;\n",
              "      display: none;\n",
              "      fill: #1967D2;\n",
              "      height: 32px;\n",
              "      padding: 0 0 0 0;\n",
              "      width: 32px;\n",
              "    }\n",
              "\n",
              "    .colab-df-convert:hover {\n",
              "      background-color: #E2EBFA;\n",
              "      box-shadow: 0px 1px 2px rgba(60, 64, 67, 0.3), 0px 1px 3px 1px rgba(60, 64, 67, 0.15);\n",
              "      fill: #174EA6;\n",
              "    }\n",
              "\n",
              "    .colab-df-buttons div {\n",
              "      margin-bottom: 4px;\n",
              "    }\n",
              "\n",
              "    [theme=dark] .colab-df-convert {\n",
              "      background-color: #3B4455;\n",
              "      fill: #D2E3FC;\n",
              "    }\n",
              "\n",
              "    [theme=dark] .colab-df-convert:hover {\n",
              "      background-color: #434B5C;\n",
              "      box-shadow: 0px 1px 3px 1px rgba(0, 0, 0, 0.15);\n",
              "      filter: drop-shadow(0px 1px 2px rgba(0, 0, 0, 0.3));\n",
              "      fill: #FFFFFF;\n",
              "    }\n",
              "  </style>\n",
              "\n",
              "    <script>\n",
              "      const buttonEl =\n",
              "        document.querySelector('#df-a729ea5b-d80f-438a-af10-5341d4ce4728 button.colab-df-convert');\n",
              "      buttonEl.style.display =\n",
              "        google.colab.kernel.accessAllowed ? 'block' : 'none';\n",
              "\n",
              "      async function convertToInteractive(key) {\n",
              "        const element = document.querySelector('#df-a729ea5b-d80f-438a-af10-5341d4ce4728');\n",
              "        const dataTable =\n",
              "          await google.colab.kernel.invokeFunction('convertToInteractive',\n",
              "                                                    [key], {});\n",
              "        if (!dataTable) return;\n",
              "\n",
              "        const docLinkHtml = 'Like what you see? Visit the ' +\n",
              "          '<a target=\"_blank\" href=https://colab.research.google.com/notebooks/data_table.ipynb>data table notebook</a>'\n",
              "          + ' to learn more about interactive tables.';\n",
              "        element.innerHTML = '';\n",
              "        dataTable['output_type'] = 'display_data';\n",
              "        await google.colab.output.renderOutput(dataTable, element);\n",
              "        const docLink = document.createElement('div');\n",
              "        docLink.innerHTML = docLinkHtml;\n",
              "        element.appendChild(docLink);\n",
              "      }\n",
              "    </script>\n",
              "  </div>\n",
              "\n",
              "\n",
              "<div id=\"df-1c6d50aa-1941-4a63-ad4a-a3a59417a90f\">\n",
              "  <button class=\"colab-df-quickchart\" onclick=\"quickchart('df-1c6d50aa-1941-4a63-ad4a-a3a59417a90f')\"\n",
              "            title=\"Suggest charts\"\n",
              "            style=\"display:none;\">\n",
              "\n",
              "<svg xmlns=\"http://www.w3.org/2000/svg\" height=\"24px\"viewBox=\"0 0 24 24\"\n",
              "     width=\"24px\">\n",
              "    <g>\n",
              "        <path d=\"M19 3H5c-1.1 0-2 .9-2 2v14c0 1.1.9 2 2 2h14c1.1 0 2-.9 2-2V5c0-1.1-.9-2-2-2zM9 17H7v-7h2v7zm4 0h-2V7h2v10zm4 0h-2v-4h2v4z\"/>\n",
              "    </g>\n",
              "</svg>\n",
              "  </button>\n",
              "\n",
              "<style>\n",
              "  .colab-df-quickchart {\n",
              "      --bg-color: #E8F0FE;\n",
              "      --fill-color: #1967D2;\n",
              "      --hover-bg-color: #E2EBFA;\n",
              "      --hover-fill-color: #174EA6;\n",
              "      --disabled-fill-color: #AAA;\n",
              "      --disabled-bg-color: #DDD;\n",
              "  }\n",
              "\n",
              "  [theme=dark] .colab-df-quickchart {\n",
              "      --bg-color: #3B4455;\n",
              "      --fill-color: #D2E3FC;\n",
              "      --hover-bg-color: #434B5C;\n",
              "      --hover-fill-color: #FFFFFF;\n",
              "      --disabled-bg-color: #3B4455;\n",
              "      --disabled-fill-color: #666;\n",
              "  }\n",
              "\n",
              "  .colab-df-quickchart {\n",
              "    background-color: var(--bg-color);\n",
              "    border: none;\n",
              "    border-radius: 50%;\n",
              "    cursor: pointer;\n",
              "    display: none;\n",
              "    fill: var(--fill-color);\n",
              "    height: 32px;\n",
              "    padding: 0;\n",
              "    width: 32px;\n",
              "  }\n",
              "\n",
              "  .colab-df-quickchart:hover {\n",
              "    background-color: var(--hover-bg-color);\n",
              "    box-shadow: 0 1px 2px rgba(60, 64, 67, 0.3), 0 1px 3px 1px rgba(60, 64, 67, 0.15);\n",
              "    fill: var(--button-hover-fill-color);\n",
              "  }\n",
              "\n",
              "  .colab-df-quickchart-complete:disabled,\n",
              "  .colab-df-quickchart-complete:disabled:hover {\n",
              "    background-color: var(--disabled-bg-color);\n",
              "    fill: var(--disabled-fill-color);\n",
              "    box-shadow: none;\n",
              "  }\n",
              "\n",
              "  .colab-df-spinner {\n",
              "    border: 2px solid var(--fill-color);\n",
              "    border-color: transparent;\n",
              "    border-bottom-color: var(--fill-color);\n",
              "    animation:\n",
              "      spin 1s steps(1) infinite;\n",
              "  }\n",
              "\n",
              "  @keyframes spin {\n",
              "    0% {\n",
              "      border-color: transparent;\n",
              "      border-bottom-color: var(--fill-color);\n",
              "      border-left-color: var(--fill-color);\n",
              "    }\n",
              "    20% {\n",
              "      border-color: transparent;\n",
              "      border-left-color: var(--fill-color);\n",
              "      border-top-color: var(--fill-color);\n",
              "    }\n",
              "    30% {\n",
              "      border-color: transparent;\n",
              "      border-left-color: var(--fill-color);\n",
              "      border-top-color: var(--fill-color);\n",
              "      border-right-color: var(--fill-color);\n",
              "    }\n",
              "    40% {\n",
              "      border-color: transparent;\n",
              "      border-right-color: var(--fill-color);\n",
              "      border-top-color: var(--fill-color);\n",
              "    }\n",
              "    60% {\n",
              "      border-color: transparent;\n",
              "      border-right-color: var(--fill-color);\n",
              "    }\n",
              "    80% {\n",
              "      border-color: transparent;\n",
              "      border-right-color: var(--fill-color);\n",
              "      border-bottom-color: var(--fill-color);\n",
              "    }\n",
              "    90% {\n",
              "      border-color: transparent;\n",
              "      border-bottom-color: var(--fill-color);\n",
              "    }\n",
              "  }\n",
              "</style>\n",
              "\n",
              "  <script>\n",
              "    async function quickchart(key) {\n",
              "      const quickchartButtonEl =\n",
              "        document.querySelector('#' + key + ' button');\n",
              "      quickchartButtonEl.disabled = true;  // To prevent multiple clicks.\n",
              "      quickchartButtonEl.classList.add('colab-df-spinner');\n",
              "      try {\n",
              "        const charts = await google.colab.kernel.invokeFunction(\n",
              "            'suggestCharts', [key], {});\n",
              "      } catch (error) {\n",
              "        console.error('Error during call to suggestCharts:', error);\n",
              "      }\n",
              "      quickchartButtonEl.classList.remove('colab-df-spinner');\n",
              "      quickchartButtonEl.classList.add('colab-df-quickchart-complete');\n",
              "    }\n",
              "    (() => {\n",
              "      let quickchartButtonEl =\n",
              "        document.querySelector('#df-1c6d50aa-1941-4a63-ad4a-a3a59417a90f button');\n",
              "      quickchartButtonEl.style.display =\n",
              "        google.colab.kernel.accessAllowed ? 'block' : 'none';\n",
              "    })();\n",
              "  </script>\n",
              "</div>\n",
              "\n",
              "    </div>\n",
              "  </div>\n"
            ]
          },
          "metadata": {},
          "execution_count": 148
        }
      ],
      "source": [
        "# only show the first 5 rows\n",
        "df[:55]"
      ]
    }
  ],
  "metadata": {
    "kernelspec": {
      "display_name": "Python 3",
      "language": "python",
      "name": "python3"
    },
    "language_info": {
      "codemirror_mode": {
        "name": "ipython",
        "version": 3
      },
      "file_extension": ".py",
      "mimetype": "text/x-python",
      "name": "python",
      "nbconvert_exporter": "python",
      "pygments_lexer": "ipython3",
      "version": "3.8.3"
    },
    "colab": {
      "provenance": [],
      "include_colab_link": true
    }
  },
  "nbformat": 4,
  "nbformat_minor": 0
}